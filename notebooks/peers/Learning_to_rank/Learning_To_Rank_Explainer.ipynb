{
 "cells": [
  {
   "cell_type": "markdown",
   "metadata": {},
   "source": [
    "### The setup\n",
    "\n",
    "Let's assume we have a number of companies, and that we have certain information about these companies, such as their description, financials etc.\n",
    "\n",
    "\n",
    "We can then define a mapping $\\delta: C\\times C \\mapsto \\mathbf{R}^D$ that, for a pair of companies, takes the above information and transforms it into a machine-understandable format. For example, if we have financials time series and\n",
    "descriptions for each company, this function can go from the pair of companies to a two-dimensional space comprising\n",
    "the cosine similarity between their description and the average difference between their financials.\n",
    "\n",
    "Further, assume we have a distance function \n",
    "$d_{\\theta}: \\mathbf{R}^D \\mapsto \\mathbf{R}_+$. This distance function is parametrised by a set\n",
    "$\\theta: [\\theta_1, \\theta_2, \\dots , \\theta_D]$ of parameters as follows ($\\theta$ a $1\\times D$ vector):\n",
    "\n",
    "$d(c_1, c_2) = \\delta(c_1, c_2)\\theta^T$. We can therefore interpret the values in $\\theta$ as the weight each observed difference has in telling companies appart.\n",
    "\n",
    "On the above model we can define the following loss function (called triplet loss):\n",
    "\n",
    "$$\\mathcal{L}(\\theta) = \\sum_{i}^N \\sum_{j\\in pos_i}\\sum_{k\\in neg_i}max(0, d_{\\theta}(\\delta(c_i, c_j))-d_{\\theta}(\\delta(c_i, c_k)) + m)$$, with $m$ a hyperparameter controlling how loose we want this distance to be, and $pos_i$ is\n",
    "a set of companies that are close (peers of) $i$, and $neg_i$ are a set of company that are not peers of $i$ (as indicated by annotations).\n",
    "\n",
    "\n",
    "The above loss function is called triplet loss, and intuitively it aims to learn a set of parameters that minimises the distance between real peers while maximising the distance between false peers."
   ]
  },
  {
   "cell_type": "code",
   "execution_count": null,
   "metadata": {},
   "outputs": [],
   "source": []
  }
 ],
 "metadata": {
  "kernelspec": {
   "display_name": "Python 3",
   "language": "python",
   "name": "python3"
  },
  "language_info": {
   "codemirror_mode": {
    "name": "ipython",
    "version": 3
   },
   "file_extension": ".py",
   "mimetype": "text/x-python",
   "name": "python",
   "nbconvert_exporter": "python",
   "pygments_lexer": "ipython3",
   "version": "3.7.4"
  }
 },
 "nbformat": 4,
 "nbformat_minor": 2
}
