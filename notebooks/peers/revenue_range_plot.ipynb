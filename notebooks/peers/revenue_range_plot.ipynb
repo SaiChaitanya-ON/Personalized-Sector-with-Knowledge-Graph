{
 "cells": [
  {
   "cell_type": "code",
   "execution_count": 1,
   "metadata": {},
   "outputs": [],
   "source": [
    "def get_aws_credentials():\n",
    "    \"\"\"\n",
    "        Loads AWS credentials from credentials file and sets env variables\n",
    "    \"\"\"\n",
    "    credentials_file = os.getenv(\"HOME\") + '/.aws/credentials'\n",
    "\n",
    "    try:\n",
    "        with open(credentials_file, 'r') as f:\n",
    "            lines = f.read()\n",
    "        config = dict([tuple([kv.strip() for kv in line.split('=')]) for line in lines.split('\\n') if '=' in line])\n",
    "    except FileNotFoundError:\n",
    "        config = dict()\n",
    "    if \"aws_access_key_id\" in config and \"aws_secret_access_key\" in config:\n",
    "        return config[\"aws_access_key_id\"], config[\"aws_secret_access_key\"]\n",
    "    elif \"AWS_ACCESS_KEY_ID\" in os.environ and \"AWS_SECRET_ACCESS_KEY\" in os.environ:\n",
    "        return os.environ[\"AWS_ACCESS_KEY_ID\"], os.environ[\"AWS_SECRET_ACCESS_KEY\"]\n",
    "    return None, None"
   ]
  },
  {
   "cell_type": "code",
   "execution_count": 2,
   "metadata": {},
   "outputs": [
    {
     "data": {
      "text/html": [
       "\n",
       "            <div>\n",
       "                <p><b>SparkSession - in-memory</b></p>\n",
       "                \n",
       "        <div>\n",
       "            <p><b>SparkContext</b></p>\n",
       "\n",
       "            <p><a href=\"http://127.0.0.1:4040\">Spark UI</a></p>\n",
       "\n",
       "            <dl>\n",
       "              <dt>Version</dt>\n",
       "                <dd><code>v2.4.3</code></dd>\n",
       "              <dt>Master</dt>\n",
       "                <dd><code>local[*]</code></dd>\n",
       "              <dt>AppName</dt>\n",
       "                <dd><code>SparkTest</code></dd>\n",
       "            </dl>\n",
       "        </div>\n",
       "        \n",
       "            </div>\n",
       "        "
      ],
      "text/plain": [
       "<pyspark.sql.session.SparkSession at 0x10851c668>"
      ]
     },
     "execution_count": 2,
     "metadata": {},
     "output_type": "execute_result"
    }
   ],
   "source": [
    "import os\n",
    "from pyspark.sql import SparkSession\n",
    "\n",
    "# Set Spark Home\n",
    "os.environ[\"SPARK_HOME\"] = \"/Users/weikun.wang/dev/spark-2.4.3-bin-hadoop2.7\"\n",
    "\n",
    "# Get AWS credentials\n",
    "aws_access_key_id, aws_secret_access_key = get_aws_credentials()\n",
    "\n",
    "# Create Spark Session\n",
    "spark = SparkSession.builder \\\n",
    "    .master(\"local[*]\") \\\n",
    "    .appName(\"SparkTest\") \\\n",
    "    .config(\"spark.driver.host\", '127.0.0.1') \\\n",
    "    .config(\"spark.sql.warehouse.dir\", \"/tmp/spark-warehouse\") \\\n",
    "    .config(\"spark.hadoop.fs.AbstractFileSystem.s3.impl\", \"org.apache.hadoop.fs.s3a.S3A\") \\\n",
    "    .config(\"spark.hadoop.fs.AbstractFileSystem.s3a.impl\", \"org.apache.hadoop.fs.s3a.S3A\") \\\n",
    "    .config(\"spark.hadoop.fs.s3.impl\", \"org.apache.hadoop.fs.s3a.S3AFileSystem\") \\\n",
    "    .config(\"spark.hadoop.fs.s3a.impl\", \"org.apache.hadoop.fs.s3a.S3AFileSystem\") \\\n",
    "    .config(\"spark.hadoop.fs.s3a.endpoint\", \"s3.amazonaws.com\") \\\n",
    "    .config(\"spark.hadoop.fs.s3.endpoint\", \"s3.amazonaws.com\") \\\n",
    "    .config(\"spark.executor.extraJavaOptions\", \"-Dcom.amazonaws.services.s3.enableV4=true\") \\\n",
    "    .config(\"spark.driver.extraJavaOptions\", \"-Dcom.amazonaws.services.s3.enableV4=true\") \\\n",
    "    .config(\"spark.serializer\", \"org.apache.spark.serializer.KryoSerializer\") \\\n",
    "    .config(\"spark.driver.memory\", \"6g\") \\\n",
    "    .config(\"spark.hadoop.fs.s3.access.key\", aws_access_key_id) \\\n",
    "    .config(\"spark.hadoop.fs.s3.secret.key\", aws_secret_access_key) \\\n",
    "    .config(\"spark.hadoop.fs.s3a.access.key\", aws_access_key_id) \\\n",
    "    .config(\"spark.hadoop.fs.s3a.secret.key\", aws_secret_access_key) \\\n",
    "    .getOrCreate()\n",
    "spark"
   ]
  },
  {
   "cell_type": "code",
   "execution_count": 38,
   "metadata": {},
   "outputs": [],
   "source": [
    "import pandas as pd\n",
    "\n",
    "import math\n",
    "import pickle\n",
    "import gensim\n",
    "import random\n",
    "import seaborn as sns\n",
    "import numpy as np\n",
    "from gensim.utils import tokenize\n",
    "import string\n",
    "from unidecode import unidecode\n",
    "from langdetect import detect\n",
    "import matplotlib.pyplot as plt\n",
    "from pyspark.sql.functions import udf\n",
    "from pyspark.sql.types import StringType, IntegerType, ArrayType, DoubleType, MapType, BooleanType\n",
    "from pyspark.ml.feature import HashingTF, IDF, Tokenizer, StopWordsRemover, CountVectorizer\n",
    "from pyspark.sql.window import Window\n",
    "\n",
    "from pyspark.sql import SparkSession\n",
    "import pyspark.sql.functions as F\n",
    "import pyspark.sql.types as T"
   ]
  },
  {
   "cell_type": "code",
   "execution_count": 4,
   "metadata": {},
   "outputs": [],
   "source": [
    "df = spark.read.load(\"s3://ai-data-lake-dev-eu-west-1/business/company_data_denormalized\")"
   ]
  },
  {
   "cell_type": "code",
   "execution_count": 5,
   "metadata": {},
   "outputs": [],
   "source": [
    "revenue = df[df['total_revenue'] > 1].select('total_revenue').collect()\n",
    "revenue_log = np.log(revenue)\n",
    "revenue_percentile = np.percentile(revenue, list(range(5, 100, 10)))"
   ]
  },
  {
   "cell_type": "code",
   "execution_count": 6,
   "metadata": {},
   "outputs": [
    {
     "data": {
      "text/plain": [
       "3065007"
      ]
     },
     "execution_count": 6,
     "metadata": {},
     "output_type": "execute_result"
    }
   ],
   "source": [
    "len(revenue)"
   ]
  },
  {
   "cell_type": "code",
   "execution_count": 7,
   "metadata": {},
   "outputs": [
    {
     "data": {
      "text/plain": [
       "<matplotlib.axes._subplots.AxesSubplot at 0x103b55d30>"
      ]
     },
     "execution_count": 7,
     "metadata": {},
     "output_type": "execute_result"
    },
    {
     "data": {
      "image/png": "[encoded data removed]",
      "text/plain": [
       "<Figure size 432x288 with 1 Axes>"
      ]
     },
     "metadata": {
      "needs_background": "light"
     },
     "output_type": "display_data"
    }
   ],
   "source": [
    "sns.distplot(revenue)"
   ]
  },
  {
   "cell_type": "code",
   "execution_count": 8,
   "metadata": {},
   "outputs": [
    {
     "data": {
      "text/plain": [
       "<matplotlib.axes._subplots.AxesSubplot at 0x14a1dedd8>"
      ]
     },
     "execution_count": 8,
     "metadata": {},
     "output_type": "execute_result"
    },
    {
     "data": {
      "image/png": "[encoded data removed]",
      "text/plain": [
       "<Figure size 432x288 with 1 Axes>"
      ]
     },
     "metadata": {
      "needs_background": "light"
     },
     "output_type": "display_data"
    }
   ],
   "source": [
    "sns.distplot(revenue_log)"
   ]
  },
  {
   "cell_type": "code",
   "execution_count": 68,
   "metadata": {
    "scrolled": true
   },
   "outputs": [
    {
     "name": "stderr",
     "output_type": "stream",
     "text": [
      "/Users/weikun.wang/.pyenv/versions/3.7.2/lib/python3.7/site-packages/ipykernel_launcher.py:2: VisibleDeprecationWarning: Passing `normed=True` on non-uniform bins has always been broken, and computes neither the probability density function nor the probability mass function. The result is only correct if the bins are uniform, when density=True will produce the same result anyway. The argument will be removed in a future version of numpy.\n",
      "  \n"
     ]
    }
   ],
   "source": [
    "num_bins = 100\n",
    "counts, bin_edges_log = np.histogram(revenue_log, bins=num_bins, normed=True)\n",
    "bin_edges = np.exp(bin_edges_log)\n",
    "cdf = np.cumsum(counts)\n",
    "\n",
    "with open(f\"/Users/weikun.wang/Downloads/range_bins_{num_bins}.pickle\", \"wb\") as f:\n",
    "    pickle.dump(bin_edges, f)"
   ]
  },
  {
   "cell_type": "code",
   "execution_count": 61,
   "metadata": {},
   "outputs": [
    {
     "data": {
      "image/png": "[encoded data removed]",
      "text/plain": [
       "<Figure size 432x288 with 1 Axes>"
      ]
     },
     "metadata": {
      "needs_background": "light"
     },
     "output_type": "display_data"
    }
   ],
   "source": [
    "plt.plot(bin_edges_log[1:], cdf/cdf[-1])\n",
    "plt.show()"
   ]
  },
  {
   "cell_type": "code",
   "execution_count": 70,
   "metadata": {},
   "outputs": [],
   "source": [
    "def get_range(vals):\n",
    "    indices = np.searchsorted(bin_edges, vals)\n",
    "    result = []\n",
    "    for idx in indices:\n",
    "        result.append([bin_edges[idx-3], bin_edges[idx+1]])\n",
    "    return result"
   ]
  },
  {
   "cell_type": "code",
   "execution_count": 71,
   "metadata": {
    "scrolled": true
   },
   "outputs": [
    {
     "name": "stdout",
     "output_type": "stream",
     "text": [
      "Value: 84,786, Range: 43,498 - 127,357\n",
      "Value: 467,469, Range: 217,921 - 638,045\n",
      "Value: 1,048,693, Range: 487,768 - 1,428,120\n",
      "Value: 1,361,287, Range: 638,045 - 1,868,110\n",
      "Value: 1,826,998, Range: 834,620 - 2,443,657\n",
      "Value: 2,573,823, Range: 1,428,120 - 4,181,344\n",
      "Value: 3,906,526, Range: 1,868,110 - 5,469,577\n",
      "Value: 6,724,302, Range: 3,196,525 - 9,358,996\n",
      "Value: 15,026,437, Range: 7,154,701 - 20,948,004\n",
      "Value: 85,543,629, Range: 46,887,383 - 137,279,952\n"
     ]
    }
   ],
   "source": [
    "ranges = get_range(revenue_percentile)\n",
    "\n",
    "for rev_per, rev_range in zip(revenue_percentile, ranges):\n",
    "    print(\"Value: %s, Range: %s - %s\" % ((format(int(rev_per), \",\")), (format(int(rev_range[0]), \",\")), (format(int(rev_range[1]), \",\"))))"
   ]
  },
  {
   "cell_type": "code",
   "execution_count": 31,
   "metadata": {},
   "outputs": [
    {
     "name": "stdout",
     "output_type": "stream",
     "text": [
      "number if items in the range: 183900.41999999998\n"
     ]
    }
   ],
   "source": [
    "print(\"number if items in the range: \" + str(len(revenue)/num_bins*3))"
   ]
  },
  {
   "cell_type": "code",
   "execution_count": null,
   "metadata": {},
   "outputs": [],
   "source": []
  },
  {
   "cell_type": "code",
   "execution_count": 36,
   "metadata": {},
   "outputs": [
    {
     "data": {
      "text/plain": [
       "array([1.22913672e+00, 3.00879637e+00, 7.36521454e+00, 1.80292644e+01,\n",
       "       4.41337278e+01, 1.08034687e+02, 2.64457460e+02, 6.47363827e+02,\n",
       "       1.58467802e+03, 3.87912379e+03, 9.49568379e+03, 2.32444272e+04,\n",
       "       5.68998936e+04, 1.39284907e+05, 3.40954687e+05, 8.34620928e+05,\n",
       "       2.04306355e+06, 5.00120297e+06, 1.22424147e+07, 2.99681333e+07,\n",
       "       7.33588132e+07, 1.79574598e+08, 4.39579577e+08, 1.07604420e+09,\n",
       "       2.63404213e+09, 6.44785590e+09, 1.57836677e+10, 3.86367451e+10,\n",
       "       9.45786561e+10, 2.31518523e+11, 5.66732801e+11])"
      ]
     },
     "execution_count": 36,
     "metadata": {},
     "output_type": "execute_result"
    }
   ],
   "source": [
    "bin_edges"
   ]
  },
  {
   "cell_type": "code",
   "execution_count": null,
   "metadata": {},
   "outputs": [],
   "source": []
  }
 ],
 "metadata": {
  "kernelspec": {
   "display_name": "Python 3",
   "language": "python",
   "name": "python3"
  },
  "language_info": {
   "codemirror_mode": {
    "name": "ipython",
    "version": 3
   },
   "file_extension": ".py",
   "mimetype": "text/x-python",
   "name": "python",
   "nbconvert_exporter": "python",
   "pygments_lexer": "ipython3",
   "version": "3.7.2"
  }
 },
 "nbformat": 4,
 "nbformat_minor": 2
}
