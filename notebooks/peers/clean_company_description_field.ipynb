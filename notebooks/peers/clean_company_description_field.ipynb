{
 "cells": [
  {
   "cell_type": "code",
   "execution_count": 1,
   "metadata": {},
   "outputs": [
    {
     "data": {
      "text/html": [
       "Current session configs: <tt>{'executorCores': 4, 'executorMemory': '32768M', 'conf': {'spark.default.parallelism': 1000}, 'kind': 'pyspark'}</tt><br>"
      ],
      "text/plain": [
       "<IPython.core.display.HTML object>"
      ]
     },
     "metadata": {},
     "output_type": "display_data"
    },
    {
     "data": {
      "text/html": [
       "No active sessions."
      ],
      "text/plain": [
       "<IPython.core.display.HTML object>"
      ]
     },
     "metadata": {},
     "output_type": "display_data"
    }
   ],
   "source": [
    "%%configure -f\n",
    "{\"executorCores\": 4, \"executorMemory\": \"32768M\", \"conf\": {\"spark.default.parallelism\": 1000}}"
   ]
  },
  {
   "cell_type": "code",
   "execution_count": 2,
   "metadata": {},
   "outputs": [
    {
     "name": "stdout",
     "output_type": "stream",
     "text": [
      "Starting Spark application\n"
     ]
    },
    {
     "data": {
      "text/html": [
       "<table>\n",
       "<tr><th>ID</th><th>YARN Application ID</th><th>Kind</th><th>State</th><th>Spark UI</th><th>Driver log</th><th>Current session?</th></tr><tr><td>0</td><td>application_1568887420903_0001</td><td>pyspark</td><td>idle</td><td></td><td></td><td>✔</td></tr></table>"
      ],
      "text/plain": [
       "<IPython.core.display.HTML object>"
      ]
     },
     "metadata": {},
     "output_type": "display_data"
    },
    {
     "data": {
      "application/vnd.jupyter.widget-view+json": {
       "model_id": "",
       "version_major": 2,
       "version_minor": 0
      },
      "text/plain": [
       "FloatProgress(value=0.0, bar_style='info', description='Progress:', layout=Layout(height='25px', width='50%'),…"
      ]
     },
     "metadata": {},
     "output_type": "display_data"
    },
    {
     "name": "stdout",
     "output_type": "stream",
     "text": [
      "SparkSession available as 'spark'.\n"
     ]
    },
    {
     "data": {
      "application/vnd.jupyter.widget-view+json": {
       "model_id": "",
       "version_major": 2,
       "version_minor": 0
      },
      "text/plain": [
       "FloatProgress(value=0.0, bar_style='info', description='Progress:', layout=Layout(height='25px', width='50%'),…"
      ]
     },
     "metadata": {},
     "output_type": "display_data"
    }
   ],
   "source": [
    "import pandas as pd\n",
    "\n",
    "import math\n",
    "import gensim\n",
    "import random\n",
    "from gensim.utils import tokenize\n",
    "from gensim.parsing.preprocessing import remove_stopwords\n",
    "import string\n",
    "import spacy\n",
    "from langdetect import detect\n",
    "from pyspark.sql.functions import udf\n",
    "from pyspark.sql.types import StringType, IntegerType, ArrayType, DoubleType, MapType, BooleanType\n",
    "from pyspark.ml.feature import HashingTF, IDF, Tokenizer, StopWordsRemover, CountVectorizer\n",
    "from pyspark.sql.window import Window\n",
    "\n",
    "from pyspark.sql import SparkSession\n",
    "import pyspark.sql.functions as F\n",
    "import pyspark.sql.types as T"
   ]
  },
  {
   "cell_type": "code",
   "execution_count": 3,
   "metadata": {},
   "outputs": [
    {
     "data": {
      "application/vnd.jupyter.widget-view+json": {
       "model_id": "",
       "version_major": 2,
       "version_minor": 0
      },
      "text/plain": [
       "FloatProgress(value=0.0, bar_style='info', description='Progress:', layout=Layout(height='25px', width='50%'),…"
      ]
     },
     "metadata": {},
     "output_type": "display_data"
    },
    {
     "name": "stdout",
     "output_type": "stream",
     "text": [
      "root\n",
      " |-- one_id: string (nullable = true)\n",
      " |-- company_id: integer (nullable = true)\n",
      " |-- company_name: string (nullable = true)\n",
      " |-- street_address: string (nullable = true)\n",
      " |-- zip_code: string (nullable = true)\n",
      " |-- city: string (nullable = true)\n",
      " |-- country: string (nullable = true)\n",
      " |-- region: string (nullable = true)\n",
      " |-- region_code: string (nullable = true)\n",
      " |-- company_type: string (nullable = true)\n",
      " |-- number_of_employees: integer (nullable = true)\n",
      " |-- latest_revenue: double (nullable = true)\n",
      " |-- latest_revenue_growth: double (nullable = true)\n",
      " |-- latest_ebitda: double (nullable = true)\n",
      " |-- latest_ebitda_margin: double (nullable = true)\n",
      " |-- competitor_ids: array (nullable = true)\n",
      " |    |-- element: string (containsNull = true)\n",
      " |-- simple_industry_id: string (nullable = true)\n",
      " |-- simple_industry: string (nullable = true)\n",
      " |-- sic_code: string (nullable = true)\n",
      " |-- sic_code_desc: string (nullable = true)\n",
      " |-- naics_code: string (nullable = true)\n",
      " |-- naics_code_desc: string (nullable = true)\n",
      " |-- website: string (nullable = true)\n",
      " |-- website_keywords: array (nullable = true)\n",
      " |    |-- element: string (containsNull = true)\n",
      " |-- website_description: string (nullable = true)\n",
      " |-- website_long_description: string (nullable = true)\n",
      " |-- company_description: string (nullable = true)\n",
      " |-- company_long_description: string (nullable = true)\n",
      " |-- _udate: integer (nullable = true)"
     ]
    }
   ],
   "source": [
    "df = spark.read.load(\"s3://ai-data-lake-dev-eu-west-1/business/capiq/company_denormalized\")\n",
    "df.printSchema()"
   ]
  },
  {
   "cell_type": "code",
   "execution_count": 4,
   "metadata": {},
   "outputs": [
    {
     "data": {
      "application/vnd.jupyter.widget-view+json": {
       "model_id": "",
       "version_major": 2,
       "version_minor": 0
      },
      "text/plain": [
       "FloatProgress(value=0.0, bar_style='info', description='Progress:', layout=Layout(height='25px', width='50%'),…"
      ]
     },
     "metadata": {},
     "output_type": "display_data"
    }
   ],
   "source": [
    "nlp = spacy.load(\"en_core_web_sm\")"
   ]
  },
  {
   "cell_type": "code",
   "execution_count": 5,
   "metadata": {},
   "outputs": [
    {
     "data": {
      "application/vnd.jupyter.widget-view+json": {
       "model_id": "",
       "version_major": 2,
       "version_minor": 0
      },
      "text/plain": [
       "FloatProgress(value=0.0, bar_style='info', description='Progress:', layout=Layout(height='25px', width='50%'),…"
      ]
     },
     "metadata": {},
     "output_type": "display_data"
    }
   ],
   "source": [
    "def filter_words(sent, company_name):\n",
    "    if company_name in sent.string:\n",
    "        sent = sent.string.replace(company_name, \"\")\n",
    "        sent = nlp(sent)\n",
    "\n",
    "    for word in sent:\n",
    "        if word.is_stop or word.is_punct or not word.is_alpha or len(word.text) <= 1:\n",
    "            continue\n",
    "        yield word.lemma_.lower()\n",
    "\n",
    "\n",
    "def process_text(text, company_name):\n",
    "    doc = nlp(text)\n",
    "    words = []\n",
    "    for sent in doc.sents:\n",
    "        if \"was founded in\" in sent.string or \"a subsidiary of\" in sent.string or \"was formerly known as\" in sent.string or \"is based in\" in sent.string:\n",
    "            continue\n",
    "        words.extend(filter_words(sent, company_name))\n",
    "\n",
    "    return \" \".join(words)\n",
    "\n",
    "process_text_udf = udf(process_text, StringType())"
   ]
  },
  {
   "cell_type": "code",
   "execution_count": 6,
   "metadata": {},
   "outputs": [
    {
     "data": {
      "application/vnd.jupyter.widget-view+json": {
       "model_id": "",
       "version_major": 2,
       "version_minor": 0
      },
      "text/plain": [
       "FloatProgress(value=0.0, bar_style='info', description='Progress:', layout=Layout(height='25px', width='50%'),…"
      ]
     },
     "metadata": {},
     "output_type": "display_data"
    }
   ],
   "source": [
    "df = df.withColumn(\"clean_company_description\", process_text_udf(\"company_description\", \"company_name\"))"
   ]
  },
  {
   "cell_type": "code",
   "execution_count": 7,
   "metadata": {},
   "outputs": [
    {
     "data": {
      "application/vnd.jupyter.widget-view+json": {
       "model_id": "",
       "version_major": 2,
       "version_minor": 0
      },
      "text/plain": [
       "FloatProgress(value=0.0, bar_style='info', description='Progress:', layout=Layout(height='25px', width='50%'),…"
      ]
     },
     "metadata": {},
     "output_type": "display_data"
    },
    {
     "name": "stdout",
     "output_type": "stream",
     "text": [
      "+----------+-------------------------+\n",
      "|company_id|clean_company_description|\n",
      "+----------+-------------------------+\n",
      "| 130217190|     joint venture bei...|\n",
      "| 130909560|     chemical preparat...|\n",
      "| 131112350|                         |\n",
      "| 131231870|     biological produc...|\n",
      "| 131258800|                         |\n",
      "| 131341840|                         |\n",
      "| 131342850|     electronic compon...|\n",
      "| 131344640|     household applian...|\n",
      "| 532079910|                         |\n",
      "| 532259970|     private company e...|\n",
      "| 303150120|                         |\n",
      "|    908900|     acquire growth en...|\n",
      "| 289482650|                         |\n",
      "| 289498400|                         |\n",
      "| 289539770|                         |\n",
      "| 289632200|                         |\n",
      "| 289635230|                         |\n",
      "| 289676210|                         |\n",
      "| 289677840|                         |\n",
      "| 289678460|                         |\n",
      "| 432741600|                         |\n",
      "| 432780330|                         |\n",
      "| 432781500|                         |\n",
      "| 432782420|                         |\n",
      "| 432888900|                         |\n",
      "| 432931510|                         |\n",
      "| 432938260|                         |\n",
      "| 432944550|                         |\n",
      "| 432957360|     operate commercia...|\n",
      "| 433104270|     operate real esta...|\n",
      "| 433133450|                         |\n",
      "| 433172340|                         |\n",
      "| 433220920|                         |\n",
      "| 433221240|                         |\n",
      "| 433237840|                         |\n",
      "| 433247090|                         |\n",
      "| 433255770|                         |\n",
      "| 433261900|                         |\n",
      "| 129071580|                         |\n",
      "| 434833060|                         |\n",
      "| 434835930|                         |\n",
      "| 434959630|                         |\n",
      "| 434961970|                         |\n",
      "| 434980520|                         |\n",
      "| 435106630|                         |\n",
      "| 435130850|                         |\n",
      "| 435131930|                         |\n",
      "| 435185330|                         |\n",
      "| 435254870|                         |\n",
      "| 435301200|                         |\n",
      "| 435368650|                         |\n",
      "| 528414670|     design develop be...|\n",
      "| 528423510|                         |\n",
      "| 528423670|                         |\n",
      "| 528510130|                         |\n",
      "| 528524020|                         |\n",
      "| 528536280|                         |\n",
      "| 528539080|                         |\n",
      "| 528659840|                         |\n",
      "| 528661310|                         |\n",
      "| 528664730|                         |\n",
      "| 528665510|                         |\n",
      "| 528732640|                         |\n",
      "| 528753280|                         |\n",
      "| 528753440|                         |\n",
      "| 528760650|                         |\n",
      "| 528761820|                         |\n",
      "|    749730|                         |\n",
      "| 292055910|                         |\n",
      "| 292111700|                         |\n",
      "| 292201740|                         |\n",
      "| 292348030|                         |\n",
      "| 292661660|                         |\n",
      "| 530018180|                         |\n",
      "| 530035490|                         |\n",
      "| 530132420|                         |\n",
      "| 530221680|                         |\n",
      "| 530224550|                         |\n",
      "| 530234010|                         |\n",
      "| 530235180|                         |\n",
      "|     33690|     brew sell craft b...|\n",
      "|     30820|     biopharmaceutical...|\n",
      "|    888420|     inguma company sp...|\n",
      "|    965720|     september acquire...|\n",
      "| 129363080|                         |\n",
      "| 435136980|     incorporate headq...|\n",
      "|    732260|     lalaweb company p...|\n",
      "| 292827510|                         |\n",
      "| 529686870|                         |\n",
      "| 529949100|                         |\n",
      "| 298044650|                         |\n",
      "| 298214380|                         |\n",
      "| 300948850|                         |\n",
      "| 302727760|                         |\n",
      "| 303305250|                         |\n",
      "| 303698430|                         |\n",
      "| 132957240|                         |\n",
      "| 534382610|                         |\n",
      "| 306476890|                         |\n",
      "| 306477210|                         |\n",
      "+----------+-------------------------+\n",
      "only showing top 100 rows"
     ]
    }
   ],
   "source": [
    "df.select(\"company_id\",\"clean_company_description\").show(100)"
   ]
  },
  {
   "cell_type": "code",
   "execution_count": 8,
   "metadata": {},
   "outputs": [
    {
     "data": {
      "application/vnd.jupyter.widget-view+json": {
       "model_id": "",
       "version_major": 2,
       "version_minor": 0
      },
      "text/plain": [
       "FloatProgress(value=0.0, bar_style='info', description='Progress:', layout=Layout(height='25px', width='50%'),…"
      ]
     },
     "metadata": {},
     "output_type": "display_data"
    }
   ],
   "source": [
    "(df\n",
    " .write\n",
    " .parquet(\"s3://ai-data-lake-dev-eu-west-1/staging/peer/company_denormalized_extra_field\", mode=\"overwrite\")\n",
    ")"
   ]
  },
  {
   "cell_type": "code",
   "execution_count": null,
   "metadata": {},
   "outputs": [],
   "source": []
  },
  {
   "cell_type": "code",
   "execution_count": null,
   "metadata": {},
   "outputs": [],
   "source": []
  },
  {
   "cell_type": "code",
   "execution_count": null,
   "metadata": {},
   "outputs": [],
   "source": []
  },
  {
   "cell_type": "code",
   "execution_count": 5,
   "metadata": {},
   "outputs": [
    {
     "data": {
      "application/vnd.jupyter.widget-view+json": {
       "model_id": "",
       "version_major": 2,
       "version_minor": 0
      },
      "text/plain": [
       "FloatProgress(value=0.0, bar_style='info', description='Progress:', layout=Layout(height='25px', width='50%'),…"
      ]
     },
     "metadata": {},
     "output_type": "display_data"
    },
    {
     "name": "stdout",
     "output_type": "stream",
     "text": [
      "root\n",
      " |-- one_id: string (nullable = true)\n",
      " |-- company_id: integer (nullable = true)\n",
      " |-- company_name: string (nullable = true)\n",
      " |-- street_address: string (nullable = true)\n",
      " |-- zip_code: string (nullable = true)\n",
      " |-- city: string (nullable = true)\n",
      " |-- country: string (nullable = true)\n",
      " |-- region: string (nullable = true)\n",
      " |-- region_code: string (nullable = true)\n",
      " |-- company_type: string (nullable = true)\n",
      " |-- number_of_employees: integer (nullable = true)\n",
      " |-- latest_revenue: double (nullable = true)\n",
      " |-- latest_revenue_growth: double (nullable = true)\n",
      " |-- latest_ebitda: double (nullable = true)\n",
      " |-- latest_ebitda_margin: double (nullable = true)\n",
      " |-- competitor_ids: array (nullable = true)\n",
      " |    |-- element: string (containsNull = true)\n",
      " |-- simple_industry_id: string (nullable = true)\n",
      " |-- simple_industry: string (nullable = true)\n",
      " |-- sic_code: string (nullable = true)\n",
      " |-- sic_code_desc: string (nullable = true)\n",
      " |-- naics_code: string (nullable = true)\n",
      " |-- naics_code_desc: string (nullable = true)\n",
      " |-- website: string (nullable = true)\n",
      " |-- website_keywords: array (nullable = true)\n",
      " |    |-- element: string (containsNull = true)\n",
      " |-- website_description: string (nullable = true)\n",
      " |-- website_long_description: string (nullable = true)\n",
      " |-- company_description: string (nullable = true)\n",
      " |-- company_long_description: string (nullable = true)\n",
      " |-- _udate: integer (nullable = true)\n",
      " |-- clean_company_description: string (nullable = true)"
     ]
    }
   ],
   "source": [
    "df = spark.read.load(\"s3://ai-data-lake-dev-eu-west-1/staging/peer/company_denormalized_extra_field\")\n",
    "df.printSchema()"
   ]
  },
  {
   "cell_type": "code",
   "execution_count": 6,
   "metadata": {},
   "outputs": [
    {
     "data": {
      "application/vnd.jupyter.widget-view+json": {
       "model_id": "",
       "version_major": 2,
       "version_minor": 0
      },
      "text/plain": [
       "FloatProgress(value=0.0, bar_style='info', description='Progress:', layout=Layout(height='25px', width='50%'),…"
      ]
     },
     "metadata": {},
     "output_type": "display_data"
    }
   ],
   "source": [
    "df = df.select('company_id', 'clean_company_description')"
   ]
  },
  {
   "cell_type": "code",
   "execution_count": 7,
   "metadata": {},
   "outputs": [
    {
     "data": {
      "application/vnd.jupyter.widget-view+json": {
       "model_id": "",
       "version_major": 2,
       "version_minor": 0
      },
      "text/plain": [
       "FloatProgress(value=0.0, bar_style='info', description='Progress:', layout=Layout(height='25px', width='50%'),…"
      ]
     },
     "metadata": {},
     "output_type": "display_data"
    }
   ],
   "source": [
    "(df\n",
    " .write\n",
    " .parquet(\"s3://ai-data-lake-dev-eu-west-1/staging/peer/company_clean_description\", mode=\"overwrite\")\n",
    ")"
   ]
  },
  {
   "cell_type": "code",
   "execution_count": 8,
   "metadata": {},
   "outputs": [
    {
     "data": {
      "application/vnd.jupyter.widget-view+json": {
       "model_id": "",
       "version_major": 2,
       "version_minor": 0
      },
      "text/plain": [
       "FloatProgress(value=0.0, bar_style='info', description='Progress:', layout=Layout(height='25px', width='50%'),…"
      ]
     },
     "metadata": {},
     "output_type": "display_data"
    },
    {
     "name": "stdout",
     "output_type": "stream",
     "text": [
      "+----------+-------------------------+\n",
      "|company_id|clean_company_description|\n",
      "+----------+-------------------------+\n",
      "| 130217190|     joint venture bei...|\n",
      "| 130909560|     chemical preparat...|\n",
      "| 131112350|                         |\n",
      "| 131231870|     biological produc...|\n",
      "| 131258800|                         |\n",
      "| 131341840|                         |\n",
      "| 131342850|     electronic compon...|\n",
      "| 131344640|     household applian...|\n",
      "| 532079910|                         |\n",
      "| 532259970|     private company e...|\n",
      "| 303150120|                         |\n",
      "|    908900|     acquire growth en...|\n",
      "| 289482650|                         |\n",
      "| 289498400|                         |\n",
      "| 289539770|                         |\n",
      "| 289632200|                         |\n",
      "| 289635230|                         |\n",
      "| 289676210|                         |\n",
      "| 289677840|                         |\n",
      "| 289678460|                         |\n",
      "| 432741600|                         |\n",
      "| 432780330|                         |\n",
      "| 432781500|                         |\n",
      "| 432782420|                         |\n",
      "| 432888900|                         |\n",
      "| 432931510|                         |\n",
      "| 432938260|                         |\n",
      "| 432944550|                         |\n",
      "| 432957360|     operate commercia...|\n",
      "| 433104270|     operate real esta...|\n",
      "| 433133450|                         |\n",
      "| 433172340|                         |\n",
      "| 433220920|                         |\n",
      "| 433221240|                         |\n",
      "| 433237840|                         |\n",
      "| 433247090|                         |\n",
      "| 433255770|                         |\n",
      "| 433261900|                         |\n",
      "| 129071580|                         |\n",
      "| 434833060|                         |\n",
      "| 434835930|                         |\n",
      "| 434959630|                         |\n",
      "| 434961970|                         |\n",
      "| 434980520|                         |\n",
      "| 435106630|                         |\n",
      "| 435130850|                         |\n",
      "| 435131930|                         |\n",
      "| 435185330|                         |\n",
      "| 435254870|                         |\n",
      "| 435301200|                         |\n",
      "| 435368650|                         |\n",
      "| 528414670|     design develop be...|\n",
      "| 528423510|                         |\n",
      "| 528423670|                         |\n",
      "| 528510130|                         |\n",
      "| 528524020|                         |\n",
      "| 528536280|                         |\n",
      "| 528539080|                         |\n",
      "| 528659840|                         |\n",
      "| 528661310|                         |\n",
      "| 528664730|                         |\n",
      "| 528665510|                         |\n",
      "| 528732640|                         |\n",
      "| 528753280|                         |\n",
      "| 528753440|                         |\n",
      "| 528760650|                         |\n",
      "| 528761820|                         |\n",
      "|    749730|                         |\n",
      "| 292055910|                         |\n",
      "| 292111700|                         |\n",
      "| 292201740|                         |\n",
      "| 292348030|                         |\n",
      "| 292661660|                         |\n",
      "| 530018180|                         |\n",
      "| 530035490|                         |\n",
      "| 530132420|                         |\n",
      "| 530221680|                         |\n",
      "| 530224550|                         |\n",
      "| 530234010|                         |\n",
      "| 530235180|                         |\n",
      "|     33690|     brew sell craft b...|\n",
      "|     30820|     biopharmaceutical...|\n",
      "|    888420|     inguma company sp...|\n",
      "|    965720|     september acquire...|\n",
      "| 129363080|                         |\n",
      "| 435136980|     incorporate headq...|\n",
      "|    732260|     lalaweb company p...|\n",
      "| 292827510|                         |\n",
      "| 529686870|                         |\n",
      "| 529949100|                         |\n",
      "| 298044650|                         |\n",
      "| 298214380|                         |\n",
      "| 300948850|                         |\n",
      "| 302727760|                         |\n",
      "| 303305250|                         |\n",
      "| 303698430|                         |\n",
      "| 132957240|                         |\n",
      "| 534382610|                         |\n",
      "| 306476890|                         |\n",
      "| 306477210|                         |\n",
      "+----------+-------------------------+\n",
      "only showing top 100 rows"
     ]
    }
   ],
   "source": [
    "df.show(100)"
   ]
  },
  {
   "cell_type": "code",
   "execution_count": null,
   "metadata": {},
   "outputs": [],
   "source": []
  }
 ],
 "metadata": {
  "kernelspec": {
   "display_name": "PySpark",
   "language": "",
   "name": "pysparkkernel"
  },
  "language_info": {
   "codemirror_mode": {
    "name": "python",
    "version": 2
   },
   "mimetype": "text/x-python",
   "name": "pyspark",
   "pygments_lexer": "python2"
  }
 },
 "nbformat": 4,
 "nbformat_minor": 2
}
