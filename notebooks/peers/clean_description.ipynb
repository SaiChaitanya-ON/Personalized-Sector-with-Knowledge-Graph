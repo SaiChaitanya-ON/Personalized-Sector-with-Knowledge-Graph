{
 "cells": [
  {
   "cell_type": "code",
   "execution_count": 7,
   "metadata": {},
   "outputs": [
    {
     "name": "stdout",
     "output_type": "stream",
     "text": [
      "Starting Spark application\n"
     ]
    },
    {
     "data": {
      "text/html": [
       "<table>\n",
       "<tr><th>ID</th><th>YARN Application ID</th><th>Kind</th><th>State</th><th>Spark UI</th><th>Driver log</th><th>Current session?</th></tr><tr><td>1</td><td>application_1572950834699_0002</td><td>pyspark</td><td>idle</td><td><a target=\"_blank\" href=\"http://ip-10-0-3-119.eu-west-2.compute.internal:20888/proxy/application_1572950834699_0002/\">Link</a></td><td><a target=\"_blank\" href=\"http://ip-10-0-3-83.eu-west-2.compute.internal:8042/node/containerlogs/container_1572950834699_0002_01_000001/livy\">Link</a></td><td>✔</td></tr></table>"
      ],
      "text/plain": [
       "<IPython.core.display.HTML object>"
      ]
     },
     "metadata": {},
     "output_type": "display_data"
    },
    {
     "data": {
      "application/vnd.jupyter.widget-view+json": {
       "model_id": "",
       "version_major": 2,
       "version_minor": 0
      },
      "text/plain": [
       "FloatProgress(value=0.0, bar_style='info', description='Progress:', layout=Layout(height='25px', width='50%'),…"
      ]
     },
     "metadata": {},
     "output_type": "display_data"
    },
    {
     "name": "stdout",
     "output_type": "stream",
     "text": [
      "SparkSession available as 'spark'.\n"
     ]
    },
    {
     "data": {
      "text/html": [
       "Current session configs: <tt>{'executorCores': 4, 'executorMemory': '8096M', 'conf': {'spark.default.parallelism': 1000}, 'kind': 'pyspark'}</tt><br>"
      ],
      "text/plain": [
       "<IPython.core.display.HTML object>"
      ]
     },
     "metadata": {},
     "output_type": "display_data"
    },
    {
     "data": {
      "text/html": [
       "<table>\n",
       "<tr><th>ID</th><th>YARN Application ID</th><th>Kind</th><th>State</th><th>Spark UI</th><th>Driver log</th><th>Current session?</th></tr><tr><td>1</td><td>application_1572950834699_0002</td><td>pyspark</td><td>idle</td><td><a target=\"_blank\" href=\"http://ip-10-0-3-119.eu-west-2.compute.internal:20888/proxy/application_1572950834699_0002/\">Link</a></td><td><a target=\"_blank\" href=\"http://ip-10-0-3-83.eu-west-2.compute.internal:8042/node/containerlogs/container_1572950834699_0002_01_000001/livy\">Link</a></td><td>✔</td></tr></table>"
      ],
      "text/plain": [
       "<IPython.core.display.HTML object>"
      ]
     },
     "metadata": {},
     "output_type": "display_data"
    }
   ],
   "source": [
    "%%configure -f\n",
    "{\"executorCores\": 4, \"executorMemory\": \"8096M\", \"conf\": {\"spark.default.parallelism\": 1000}}"
   ]
  },
  {
   "cell_type": "code",
   "execution_count": 8,
   "metadata": {},
   "outputs": [
    {
     "data": {
      "application/vnd.jupyter.widget-view+json": {
       "model_id": "",
       "version_major": 2,
       "version_minor": 0
      },
      "text/plain": [
       "FloatProgress(value=0.0, bar_style='info', description='Progress:', layout=Layout(height='25px', width='50%'),…"
      ]
     },
     "metadata": {},
     "output_type": "display_data"
    }
   ],
   "source": [
    "import pandas as pd\n",
    "\n",
    "import gensim\n",
    "from gensim.utils import tokenize\n",
    "from gensim.parsing.preprocessing import remove_stopwords\n",
    "import string\n",
    "import numpy as np\n",
    "from langdetect import detect\n",
    "from pyspark.sql.functions import udf\n",
    "from pyspark.sql.types import StringType, IntegerType, ArrayType, DoubleType, MapType\n",
    "from pyspark.ml.feature import HashingTF, IDF, Tokenizer, StopWordsRemover, CountVectorizer\n",
    "from pyspark.ml import Pipeline\n",
    "import spacy\n",
    "\n",
    "from pyspark.sql import SparkSession\n",
    "import pyspark.sql.functions as F\n",
    "import pyspark.sql.types as T"
   ]
  },
  {
   "cell_type": "code",
   "execution_count": 9,
   "metadata": {},
   "outputs": [
    {
     "data": {
      "application/vnd.jupyter.widget-view+json": {
       "model_id": "",
       "version_major": 2,
       "version_minor": 0
      },
      "text/plain": [
       "FloatProgress(value=0.0, bar_style='info', description='Progress:', layout=Layout(height='25px', width='50%'),…"
      ]
     },
     "metadata": {},
     "output_type": "display_data"
    },
    {
     "name": "stdout",
     "output_type": "stream",
     "text": [
      "root\n",
      " |-- entity_id: string (nullable = true)\n",
      " |-- vendor: string (nullable = true)\n",
      " |-- status: string (nullable = true)\n",
      " |-- id_capiq: integer (nullable = true)\n",
      " |-- id_bvd: string (nullable = true)\n",
      " |-- primary_bvd_node: string (nullable = true)\n",
      " |-- name: string (nullable = true)\n",
      " |-- business_description: string (nullable = true)\n",
      " |-- primary_sic_node: string (nullable = true)\n",
      " |-- primary_naics_node: string (nullable = true)\n",
      " |-- primary_nace_node: string (nullable = true)\n",
      " |-- has_listed_equity: string (nullable = true)\n",
      " |-- country_of_incorporation: string (nullable = true)\n",
      " |-- country_of_incorporation_iso: string (nullable = true)\n",
      " |-- operating_countries: string (nullable = true)\n",
      " |-- number_employees: integer (nullable = true)\n",
      " |-- ccc: double (nullable = true)\n",
      " |-- revenue: double (nullable = true)\n",
      " |-- total_revenue: double (nullable = true)\n",
      " |-- net_inc_incl_xo: double (nullable = true)\n",
      " |-- total_debt_repaid: double (nullable = true)\n",
      " |-- ebitda: double (nullable = true)\n",
      " |-- total_assets: double (nullable = true)\n",
      " |-- ebit: double (nullable = true)\n",
      " |-- earn_cont_ops: double (nullable = true)\n",
      " |-- net_inc: double (nullable = true)\n",
      " |-- capex: double (nullable = true)\n",
      " |-- cfo: double (nullable = true)\n",
      " |-- cfi: double (nullable = true)\n",
      " |-- st_debt_issued: double (nullable = true)\n",
      " |-- long_term_debt_issued: double (nullable = true)\n",
      " |-- total_debt_issued: double (nullable = true)\n",
      " |-- st_debt_repaid: double (nullable = true)\n",
      " |-- long_term_debt_repaid: double (nullable = true)\n",
      " |-- cff: double (nullable = true)\n",
      " |-- cash_and_equiv: double (nullable = true)\n",
      " |-- total_equity: double (nullable = true)\n",
      " |-- fcf: double (nullable = true)\n",
      " |-- gross_profit: double (nullable = true)\n",
      " |-- oper_inc: double (nullable = true)\n",
      " |-- ebt_incl_xo: double (nullable = true)\n",
      " |-- total_liab: double (nullable = true)\n",
      " |-- ebitda_marg: double (nullable = true)\n",
      " |-- icr_ebit: double (nullable = true)\n",
      " |-- region: string (nullable = true)\n",
      " |-- company_type_name: string (nullable = true)\n",
      " |-- primary_sic_node_desc: string (nullable = true)\n",
      " |-- primary_naics_node_desc: string (nullable = true)\n",
      " |-- short_description: string (nullable = true)"
     ]
    }
   ],
   "source": [
    "df = spark.read.load(\"s3://ai-data-lake-dev-eu-west-1/business/company_data_denormalized\")\n",
    "df = df.distinct()\n",
    "df.printSchema()"
   ]
  },
  {
   "cell_type": "code",
   "execution_count": 10,
   "metadata": {},
   "outputs": [
    {
     "data": {
      "application/vnd.jupyter.widget-view+json": {
       "model_id": "",
       "version_major": 2,
       "version_minor": 0
      },
      "text/plain": [
       "FloatProgress(value=0.0, bar_style='info', description='Progress:', layout=Layout(height='25px', width='50%'),…"
      ]
     },
     "metadata": {},
     "output_type": "display_data"
    }
   ],
   "source": [
    "nlp = spacy.load(\"en_core_web_sm\")\n",
    "\n",
    "def process_text(text, company_names):\n",
    "    company_names = company_names.split(\", \")\n",
    "    if not text:\n",
    "        return \"\"\n",
    "    doc = nlp(text)\n",
    "    result = []\n",
    "    for sent in doc.sents:\n",
    "        sent_string = sent.string\n",
    "        if \"was founded in\" in sent_string or \"a subsidiary of\" in sent_string or \"based in\" in sent_string or \"was formerly known as\" in sent_string:\n",
    "            continue\n",
    "            \n",
    "        if \"[source\" in sent_string:\n",
    "            start_index = sent_string.find('[source')\n",
    "            end_index = sent_string.find(']', start_index)\n",
    "            sent_string = sent_string[:start_index] + sent_string[end_index+1:]\n",
    "            \n",
    "        for company_name in company_names:\n",
    "            if company_name in sent_string:\n",
    "                sent_string = sent_string.replace(company_name, \"\")\n",
    "                \n",
    "        result.append(sent_string)\n",
    "    return \" \".join(result)\n",
    "\n",
    "process_text_udf = udf(process_text, StringType())\n",
    "df = df.withColumn(\"clean_description\", process_text_udf('short_description', 'name')) "
   ]
  },
  {
   "cell_type": "code",
   "execution_count": 11,
   "metadata": {},
   "outputs": [
    {
     "data": {
      "application/vnd.jupyter.widget-view+json": {
       "model_id": "",
       "version_major": 2,
       "version_minor": 0
      },
      "text/plain": [
       "FloatProgress(value=0.0, bar_style='info', description='Progress:', layout=Layout(height='25px', width='50%'),…"
      ]
     },
     "metadata": {},
     "output_type": "display_data"
    }
   ],
   "source": [
    "(df\n",
    " .write\n",
    " .parquet(\"s3://ai-data-lake-dev-eu-west-1/staging/peer/company_data_denormalized_clean\", mode=\"overwrite\")\n",
    ")"
   ]
  },
  {
   "cell_type": "code",
   "execution_count": null,
   "metadata": {},
   "outputs": [],
   "source": []
  },
  {
   "cell_type": "code",
   "execution_count": 12,
   "metadata": {},
   "outputs": [
    {
     "data": {
      "application/vnd.jupyter.widget-view+json": {
       "model_id": "",
       "version_major": 2,
       "version_minor": 0
      },
      "text/plain": [
       "FloatProgress(value=0.0, bar_style='info', description='Progress:', layout=Layout(height='25px', width='50%'),…"
      ]
     },
     "metadata": {},
     "output_type": "display_data"
    }
   ],
   "source": [
    "# df_new = spark.read.load(\"s3://ai-data-lake-dev-eu-west-1/staging/peer/company_data_denormalized_deduped\")"
   ]
  },
  {
   "cell_type": "code",
   "execution_count": null,
   "metadata": {},
   "outputs": [],
   "source": []
  }
 ],
 "metadata": {
  "kernelspec": {
   "display_name": "PySpark",
   "language": "",
   "name": "pysparkkernel"
  },
  "language_info": {
   "codemirror_mode": {
    "name": "python",
    "version": 2
   },
   "mimetype": "text/x-python",
   "name": "pyspark",
   "pygments_lexer": "python2"
  }
 },
 "nbformat": 4,
 "nbformat_minor": 2
}
