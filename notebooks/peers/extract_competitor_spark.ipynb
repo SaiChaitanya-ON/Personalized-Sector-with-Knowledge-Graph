{
 "cells": [
  {
   "cell_type": "code",
   "execution_count": 44,
   "metadata": {},
   "outputs": [
    {
     "name": "stdout",
     "output_type": "stream",
     "text": [
      "Starting Spark application\n"
     ]
    },
    {
     "data": {
      "text/html": [
       "<table>\n",
       "<tr><th>ID</th><th>YARN Application ID</th><th>Kind</th><th>State</th><th>Spark UI</th><th>Driver log</th><th>Current session?</th></tr><tr><td>6</td><td>application_1567158732142_0007</td><td>pyspark</td><td>idle</td><td><a target=\"_blank\" href=\"http://ip-10-0-3-200.eu-west-2.compute.internal:20888/proxy/application_1567158732142_0007/\">Link</a></td><td><a target=\"_blank\" href=\"http://ip-10-0-3-130.eu-west-2.compute.internal:8042/node/containerlogs/container_1567158732142_0007_01_000001/livy\">Link</a></td><td>✔</td></tr></table>"
      ],
      "text/plain": [
       "<IPython.core.display.HTML object>"
      ]
     },
     "metadata": {},
     "output_type": "display_data"
    },
    {
     "data": {
      "application/vnd.jupyter.widget-view+json": {
       "model_id": "",
       "version_major": 2,
       "version_minor": 0
      },
      "text/plain": [
       "FloatProgress(value=0.0, bar_style='info', description='Progress:', layout=Layout(height='25px', width='50%'),…"
      ]
     },
     "metadata": {},
     "output_type": "display_data"
    },
    {
     "name": "stdout",
     "output_type": "stream",
     "text": [
      "SparkSession available as 'spark'.\n"
     ]
    },
    {
     "data": {
      "text/html": [
       "Current session configs: <tt>{'executorCores': 4, 'executorMemory': '32768M', 'conf': {'spark.default.parallelism': 1000}, 'kind': 'pyspark'}</tt><br>"
      ],
      "text/plain": [
       "<IPython.core.display.HTML object>"
      ]
     },
     "metadata": {},
     "output_type": "display_data"
    },
    {
     "data": {
      "text/html": [
       "<table>\n",
       "<tr><th>ID</th><th>YARN Application ID</th><th>Kind</th><th>State</th><th>Spark UI</th><th>Driver log</th><th>Current session?</th></tr><tr><td>6</td><td>application_1567158732142_0007</td><td>pyspark</td><td>idle</td><td><a target=\"_blank\" href=\"http://ip-10-0-3-200.eu-west-2.compute.internal:20888/proxy/application_1567158732142_0007/\">Link</a></td><td><a target=\"_blank\" href=\"http://ip-10-0-3-130.eu-west-2.compute.internal:8042/node/containerlogs/container_1567158732142_0007_01_000001/livy\">Link</a></td><td>✔</td></tr></table>"
      ],
      "text/plain": [
       "<IPython.core.display.HTML object>"
      ]
     },
     "metadata": {},
     "output_type": "display_data"
    }
   ],
   "source": [
    "%%configure -f\n",
    "{\"executorCores\": 4, \"executorMemory\": \"32768M\", \"conf\": {\"spark.default.parallelism\": 1000}}"
   ]
  },
  {
   "cell_type": "code",
   "execution_count": 45,
   "metadata": {},
   "outputs": [
    {
     "data": {
      "application/vnd.jupyter.widget-view+json": {
       "model_id": "",
       "version_major": 2,
       "version_minor": 0
      },
      "text/plain": [
       "FloatProgress(value=0.0, bar_style='info', description='Progress:', layout=Layout(height='25px', width='50%'),…"
      ]
     },
     "metadata": {},
     "output_type": "display_data"
    }
   ],
   "source": [
    "import pandas as pd\n",
    "\n",
    "import math\n",
    "import gensim\n",
    "import random\n",
    "from gensim.utils import tokenize\n",
    "from gensim.parsing.preprocessing import remove_stopwords\n",
    "import string\n",
    "import spacy\n",
    "from langdetect import detect\n",
    "from pyspark.sql.functions import udf\n",
    "from pyspark.sql.types import StringType, IntegerType, ArrayType, DoubleType, MapType, BooleanType\n",
    "from pyspark.ml.feature import HashingTF, IDF, Tokenizer, StopWordsRemover, CountVectorizer\n",
    "from pyspark.sql.window import Window\n",
    "\n",
    "from pyspark.sql import SparkSession\n",
    "import pyspark.sql.functions as F\n",
    "import pyspark.sql.types as T"
   ]
  },
  {
   "cell_type": "code",
   "execution_count": 46,
   "metadata": {},
   "outputs": [
    {
     "data": {
      "application/vnd.jupyter.widget-view+json": {
       "model_id": "",
       "version_major": 2,
       "version_minor": 0
      },
      "text/plain": [
       "FloatProgress(value=0.0, bar_style='info', description='Progress:', layout=Layout(height='25px', width='50%'),…"
      ]
     },
     "metadata": {},
     "output_type": "display_data"
    },
    {
     "name": "stdout",
     "output_type": "stream",
     "text": [
      "root\n",
      " |-- one_id: string (nullable = true)\n",
      " |-- company_id: integer (nullable = true)\n",
      " |-- company_name: string (nullable = true)\n",
      " |-- street_address: string (nullable = true)\n",
      " |-- zip_code: string (nullable = true)\n",
      " |-- city: string (nullable = true)\n",
      " |-- country: string (nullable = true)\n",
      " |-- region: string (nullable = true)\n",
      " |-- region_code: string (nullable = true)\n",
      " |-- company_type: string (nullable = true)\n",
      " |-- number_of_employees: integer (nullable = true)\n",
      " |-- latest_revenue: double (nullable = true)\n",
      " |-- latest_revenue_growth: double (nullable = true)\n",
      " |-- latest_ebitda: double (nullable = true)\n",
      " |-- latest_ebitda_margin: double (nullable = true)\n",
      " |-- competitor_ids: array (nullable = true)\n",
      " |    |-- element: string (containsNull = true)\n",
      " |-- simple_industry_id: string (nullable = true)\n",
      " |-- simple_industry: string (nullable = true)\n",
      " |-- sic_code: string (nullable = true)\n",
      " |-- sic_code_desc: string (nullable = true)\n",
      " |-- naics_code: string (nullable = true)\n",
      " |-- naics_code_desc: string (nullable = true)\n",
      " |-- website: string (nullable = true)\n",
      " |-- website_keywords: array (nullable = true)\n",
      " |    |-- element: string (containsNull = true)\n",
      " |-- website_description: string (nullable = true)\n",
      " |-- website_long_description: string (nullable = true)\n",
      " |-- company_description: string (nullable = true)\n",
      " |-- company_long_description: string (nullable = true)\n",
      " |-- _udate: integer (nullable = true)\n",
      " |-- operating_locations: array (nullable = true)\n",
      " |    |-- element: string (containsNull = true)"
     ]
    }
   ],
   "source": [
    "df = spark.read.load(\"s3://ai-data-lake-dev-eu-west-1/staging/peer/company_denormalized_extra_field\")\n",
    "df.count()\n",
    "df.printSchema()"
   ]
  },
  {
   "cell_type": "code",
   "execution_count": 47,
   "metadata": {},
   "outputs": [
    {
     "data": {
      "application/vnd.jupyter.widget-view+json": {
       "model_id": "",
       "version_major": 2,
       "version_minor": 0
      },
      "text/plain": [
       "FloatProgress(value=0.0, bar_style='info', description='Progress:', layout=Layout(height='25px', width='50%'),…"
      ]
     },
     "metadata": {},
     "output_type": "display_data"
    }
   ],
   "source": [
    "df_filtered = (df.filter((F.length('country') > 0) & \n",
    "                         (F.length('region') > 0) & \n",
    "                         (F.length('company_description') > 10))\n",
    "              )\n",
    "# df_filtered.count()"
   ]
  },
  {
   "cell_type": "code",
   "execution_count": 48,
   "metadata": {},
   "outputs": [
    {
     "data": {
      "application/vnd.jupyter.widget-view+json": {
       "model_id": "",
       "version_major": 2,
       "version_minor": 0
      },
      "text/plain": [
       "FloatProgress(value=0.0, bar_style='info', description='Progress:', layout=Layout(height='25px', width='50%'),…"
      ]
     },
     "metadata": {},
     "output_type": "display_data"
    },
    {
     "name": "stdout",
     "output_type": "stream",
     "text": [
      "45756"
     ]
    }
   ],
   "source": [
    "df_competitor = df_filtered.filter(F.size('competitor_ids') > 0)\n",
    "df_competitor.count()"
   ]
  },
  {
   "cell_type": "code",
   "execution_count": 49,
   "metadata": {},
   "outputs": [
    {
     "data": {
      "application/vnd.jupyter.widget-view+json": {
       "model_id": "",
       "version_major": 2,
       "version_minor": 0
      },
      "text/plain": [
       "FloatProgress(value=0.0, bar_style='info', description='Progress:', layout=Layout(height='25px', width='50%'),…"
      ]
     },
     "metadata": {},
     "output_type": "display_data"
    },
    {
     "name": "stdout",
     "output_type": "stream",
     "text": [
      "706152"
     ]
    }
   ],
   "source": [
    "df_positive = df_competitor.withColumn('competitor_company_id', F.explode('competitor_ids'))\n",
    "df_positive.count()"
   ]
  },
  {
   "cell_type": "code",
   "execution_count": 50,
   "metadata": {},
   "outputs": [
    {
     "data": {
      "application/vnd.jupyter.widget-view+json": {
       "model_id": "",
       "version_major": 2,
       "version_minor": 0
      },
      "text/plain": [
       "FloatProgress(value=0.0, bar_style='info', description='Progress:', layout=Layout(height='25px', width='50%'),…"
      ]
     },
     "metadata": {},
     "output_type": "display_data"
    }
   ],
   "source": [
    "df_competitor_renamed = df_filtered.toDF(*('competitor_'+c for c in df.columns))"
   ]
  },
  {
   "cell_type": "code",
   "execution_count": 51,
   "metadata": {},
   "outputs": [
    {
     "data": {
      "application/vnd.jupyter.widget-view+json": {
       "model_id": "",
       "version_major": 2,
       "version_minor": 0
      },
      "text/plain": [
       "FloatProgress(value=0.0, bar_style='info', description='Progress:', layout=Layout(height='25px', width='50%'),…"
      ]
     },
     "metadata": {},
     "output_type": "display_data"
    },
    {
     "name": "stdout",
     "output_type": "stream",
     "text": [
      "664511"
     ]
    }
   ],
   "source": [
    "df_positive = df_positive.join(df_competitor_renamed, 'competitor_company_id')\n",
    "df_positive = df_positive.withColumn(\"label\", F.lit(1))\n",
    "df_positive.count()"
   ]
  },
  {
   "cell_type": "code",
   "execution_count": 52,
   "metadata": {},
   "outputs": [
    {
     "data": {
      "application/vnd.jupyter.widget-view+json": {
       "model_id": "",
       "version_major": 2,
       "version_minor": 0
      },
      "text/plain": [
       "FloatProgress(value=0.0, bar_style='info', description='Progress:', layout=Layout(height='25px', width='50%'),…"
      ]
     },
     "metadata": {},
     "output_type": "display_data"
    },
    {
     "name": "stdout",
     "output_type": "stream",
     "text": [
      "383071"
     ]
    }
   ],
   "source": [
    "df_positive_filtered_pre=(df_positive.filter(\n",
    "                                         (F.col('simple_industry_id')==F.col('competitor_simple_industry_id'))\n",
    "                                        ))\n",
    "df_positive_filtered_pre.count()"
   ]
  },
  {
   "cell_type": "code",
   "execution_count": 53,
   "metadata": {},
   "outputs": [
    {
     "data": {
      "application/vnd.jupyter.widget-view+json": {
       "model_id": "",
       "version_major": 2,
       "version_minor": 0
      },
      "text/plain": [
       "FloatProgress(value=0.0, bar_style='info', description='Progress:', layout=Layout(height='25px', width='50%'),…"
      ]
     },
     "metadata": {},
     "output_type": "display_data"
    }
   ],
   "source": [
    "def jaccard_similarity(list1, list2):\n",
    "    s1 = set(list1)\n",
    "    s2 = set(list2)\n",
    "    return len(s1.intersection(s2)) / len(s1.union(s2))\n",
    "\n",
    "jaccard_similarity_udf = udf(jaccard_similarity, DoubleType())\n",
    "\n",
    "df_positive_filtered_pre = df_positive_filtered_pre.withColumn(\"jaccard_location\", jaccard_similarity_udf(\"operating_locations\", \"competitor_operating_locations\"))"
   ]
  },
  {
   "cell_type": "code",
   "execution_count": 54,
   "metadata": {},
   "outputs": [
    {
     "data": {
      "application/vnd.jupyter.widget-view+json": {
       "model_id": "",
       "version_major": 2,
       "version_minor": 0
      },
      "text/plain": [
       "FloatProgress(value=0.0, bar_style='info', description='Progress:', layout=Layout(height='25px', width='50%'),…"
      ]
     },
     "metadata": {},
     "output_type": "display_data"
    },
    {
     "name": "stdout",
     "output_type": "stream",
     "text": [
      "88681"
     ]
    }
   ],
   "source": [
    "df_positive_filtered=(df_positive_filtered_pre.filter(\n",
    "                                         (F.col('jaccard_location')>0) \n",
    "                                        & (F.col('latest_revenue') > 0) & (F.col('competitor_latest_revenue') > 0)\n",
    "                                        )).drop('jaccard_location')\n",
    "df_positive_filtered.count()"
   ]
  },
  {
   "cell_type": "code",
   "execution_count": null,
   "metadata": {},
   "outputs": [],
   "source": []
  },
  {
   "cell_type": "code",
   "execution_count": 55,
   "metadata": {},
   "outputs": [
    {
     "data": {
      "application/vnd.jupyter.widget-view+json": {
       "model_id": "",
       "version_major": 2,
       "version_minor": 0
      },
      "text/plain": [
       "FloatProgress(value=0.0, bar_style='info', description='Progress:', layout=Layout(height='25px', width='50%'),…"
      ]
     },
     "metadata": {},
     "output_type": "display_data"
    },
    {
     "name": "stdout",
     "output_type": "stream",
     "text": [
      "61781"
     ]
    }
   ],
   "source": [
    "company_ids = (df_filtered.filter(F.col('company_type')==\"Public Company\").select('company_id', 'simple_industry_id'))\n",
    "company_ids.count()"
   ]
  },
  {
   "cell_type": "code",
   "execution_count": 56,
   "metadata": {},
   "outputs": [
    {
     "data": {
      "application/vnd.jupyter.widget-view+json": {
       "model_id": "",
       "version_major": 2,
       "version_minor": 0
      },
      "text/plain": [
       "FloatProgress(value=0.0, bar_style='info', description='Progress:', layout=Layout(height='25px', width='50%'),…"
      ]
     },
     "metadata": {},
     "output_type": "display_data"
    }
   ],
   "source": [
    "company_ids = company_ids.withColumn(\"new_column\",F.lit(\"ABC\"))\n",
    "w = Window().partitionBy('new_column').orderBy(F.lit('A'))\n",
    "company_ids = company_ids.withColumn(\"idx\", F.row_number().over(w)).drop(\"new_column\").withColumnRenamed('company_id','competitor_company_id')\n",
    "nb_company = company_ids.count()\n",
    "# nb_company"
   ]
  },
  {
   "cell_type": "code",
   "execution_count": 57,
   "metadata": {},
   "outputs": [
    {
     "data": {
      "application/vnd.jupyter.widget-view+json": {
       "model_id": "",
       "version_major": 2,
       "version_minor": 0
      },
      "text/plain": [
       "FloatProgress(value=0.0, bar_style='info', description='Progress:', layout=Layout(height='25px', width='50%'),…"
      ]
     },
     "metadata": {},
     "output_type": "display_data"
    },
    {
     "name": "stdout",
     "output_type": "stream",
     "text": [
      "root\n",
      " |-- simple_industry_id: string (nullable = true)\n",
      " |-- per_industry_ids: array (nullable = true)\n",
      " |    |-- element: integer (containsNull = true)"
     ]
    }
   ],
   "source": [
    "industry_id_map = company_ids.groupBy('simple_industry_id').agg(F.collect_list(\"idx\").alias(\"per_industry_ids\"))\n",
    "industry_id_map.printSchema()"
   ]
  },
  {
   "cell_type": "code",
   "execution_count": 58,
   "metadata": {},
   "outputs": [
    {
     "data": {
      "application/vnd.jupyter.widget-view+json": {
       "model_id": "",
       "version_major": 2,
       "version_minor": 0
      },
      "text/plain": [
       "FloatProgress(value=0.0, bar_style='info', description='Progress:', layout=Layout(height='25px', width='50%'),…"
      ]
     },
     "metadata": {},
     "output_type": "display_data"
    }
   ],
   "source": [
    "def get_random(nb_company, k=25):\n",
    "    return random.sample(range(1,1+nb_company), k)\n",
    "\n",
    "get_random_udf = udf(get_random, ArrayType(IntegerType()))\n",
    "\n",
    "def get_random_from_index(index, k=25):\n",
    "    if len(index) < k:\n",
    "        return []\n",
    "    idx = random.sample(range(0, len(index)), k)\n",
    "    return [index[i] for i in idx]\n",
    "\n",
    "get_random_from_index_udf = udf(get_random_from_index, ArrayType(IntegerType()))"
   ]
  },
  {
   "cell_type": "code",
   "execution_count": 59,
   "metadata": {},
   "outputs": [
    {
     "data": {
      "application/vnd.jupyter.widget-view+json": {
       "model_id": "",
       "version_major": 2,
       "version_minor": 0
      },
      "text/plain": [
       "FloatProgress(value=0.0, bar_style='info', description='Progress:', layout=Layout(height='25px', width='50%'),…"
      ]
     },
     "metadata": {},
     "output_type": "display_data"
    }
   ],
   "source": [
    "company_ids = company_ids.drop('simple_industry_id')"
   ]
  },
  {
   "cell_type": "code",
   "execution_count": 60,
   "metadata": {},
   "outputs": [
    {
     "data": {
      "application/vnd.jupyter.widget-view+json": {
       "model_id": "",
       "version_major": 2,
       "version_minor": 0
      },
      "text/plain": [
       "FloatProgress(value=0.0, bar_style='info', description='Progress:', layout=Layout(height='25px', width='50%'),…"
      ]
     },
     "metadata": {},
     "output_type": "display_data"
    }
   ],
   "source": [
    "df_competitor_negatives = (df_competitor\n",
    " .join(industry_id_map, 'simple_industry_id')\n",
    " .withColumn('idx_all', get_random_udf(F.lit(nb_company)))\n",
    " .withColumn('idx_same_industry', get_random_from_index_udf('per_industry_ids'))\n",
    " .withColumn('idx', F.concat(F.col('idx_all'), F.col('idx_same_industry')))\n",
    " .drop('idx_all', 'idx_same_industry', 'per_industry_ids')\n",
    " .withColumn('idx', F.explode('idx'))\n",
    " .join(company_ids, 'idx')\n",
    " .drop('idx')\n",
    ")\n",
    "# df_competitor_negatives.count()"
   ]
  },
  {
   "cell_type": "code",
   "execution_count": 61,
   "metadata": {},
   "outputs": [
    {
     "data": {
      "application/vnd.jupyter.widget-view+json": {
       "model_id": "",
       "version_major": 2,
       "version_minor": 0
      },
      "text/plain": [
       "FloatProgress(value=0.0, bar_style='info', description='Progress:', layout=Layout(height='25px', width='50%'),…"
      ]
     },
     "metadata": {},
     "output_type": "display_data"
    }
   ],
   "source": [
    "df_negative = df_competitor_negatives.join(df_competitor_renamed, 'competitor_company_id')\n",
    "df_negative = df_negative.withColumn(\"label\", F.lit(0))\n",
    "# df_negative.count()"
   ]
  },
  {
   "cell_type": "code",
   "execution_count": 62,
   "metadata": {},
   "outputs": [
    {
     "data": {
      "application/vnd.jupyter.widget-view+json": {
       "model_id": "",
       "version_major": 2,
       "version_minor": 0
      },
      "text/plain": [
       "FloatProgress(value=0.0, bar_style='info', description='Progress:', layout=Layout(height='25px', width='50%'),…"
      ]
     },
     "metadata": {},
     "output_type": "display_data"
    }
   ],
   "source": [
    "def filter_negative(negative_company_id, positive_company_ids):\n",
    "    if negative_company_id in positive_company_ids:\n",
    "        return False\n",
    "    return True\n",
    "\n",
    "filter_negative_udf = udf(filter_negative, BooleanType())\n",
    "df_negative_filtered = df_negative.filter(filter_negative_udf(\"competitor_company_id\", \"competitor_ids\"))\n",
    "# df_negative_filtered.count()"
   ]
  },
  {
   "cell_type": "code",
   "execution_count": 63,
   "metadata": {},
   "outputs": [
    {
     "data": {
      "application/vnd.jupyter.widget-view+json": {
       "model_id": "",
       "version_major": 2,
       "version_minor": 0
      },
      "text/plain": [
       "FloatProgress(value=0.0, bar_style='info', description='Progress:', layout=Layout(height='25px', width='50%'),…"
      ]
     },
     "metadata": {},
     "output_type": "display_data"
    }
   ],
   "source": [
    "df_negative_filtered = df_negative_filtered.select(list(df_positive_filtered.columns))"
   ]
  },
  {
   "cell_type": "code",
   "execution_count": 64,
   "metadata": {},
   "outputs": [
    {
     "data": {
      "application/vnd.jupyter.widget-view+json": {
       "model_id": "",
       "version_major": 2,
       "version_minor": 0
      },
      "text/plain": [
       "FloatProgress(value=0.0, bar_style='info', description='Progress:', layout=Layout(height='25px', width='50%'),…"
      ]
     },
     "metadata": {},
     "output_type": "display_data"
    }
   ],
   "source": [
    "df_all = df_positive_filtered.union(df_negative_filtered).withColumn(\"idx\", F.monotonically_increasing_id())\n",
    "df_all = df_all.cache()\n",
    "# df_all.count()"
   ]
  },
  {
   "cell_type": "code",
   "execution_count": null,
   "metadata": {},
   "outputs": [],
   "source": []
  },
  {
   "cell_type": "code",
   "execution_count": 65,
   "metadata": {},
   "outputs": [
    {
     "data": {
      "application/vnd.jupyter.widget-view+json": {
       "model_id": "",
       "version_major": 2,
       "version_minor": 0
      },
      "text/plain": [
       "FloatProgress(value=0.0, bar_style='info', description='Progress:', layout=Layout(height='25px', width='50%'),…"
      ]
     },
     "metadata": {},
     "output_type": "display_data"
    },
    {
     "name": "stdout",
     "output_type": "stream",
     "text": [
      "3343215"
     ]
    }
   ],
   "source": [
    "nlp = spacy.load(\"en_core_web_sm\")\n",
    "\n",
    "def process_text(text):\n",
    "    doc = nlp(text)\n",
    "    words = []\n",
    "    count = 0\n",
    "    for sent in doc.sents:\n",
    "        if \"was founded in\" in sent.string or \"a subsidiary of\" in sent.string:\n",
    "            continue\n",
    "        for word in sent:\n",
    "            if word.is_stop or word.is_punct or not word.is_alpha or len(word.text) <= 1:\n",
    "                continue\n",
    "            words.append(word.lemma_.lower())\n",
    "    return words\n",
    "\n",
    "process_text_udf = udf(process_text, ArrayType(StringType()))\n",
    "\n",
    "df_preprocess = (df_filtered.withColumn(\"tokenized_text\", process_text_udf(\"company_description\"))\n",
    "                 .withColumn(\"idx\", F.monotonically_increasing_id())\n",
    "                 .withColumn('token', F.explode('tokenized_text'))\n",
    "                )\n",
    "\n",
    "df_tokens = (df_preprocess.groupBy(\"token\")\n",
    "             .agg(F.countDistinct(\"idx\").alias('df'))\n",
    "            )\n",
    "\n",
    "nb_docs = df_filtered.count()\n",
    "nb_docs"
   ]
  },
  {
   "cell_type": "code",
   "execution_count": 66,
   "metadata": {},
   "outputs": [
    {
     "data": {
      "application/vnd.jupyter.widget-view+json": {
       "model_id": "",
       "version_major": 2,
       "version_minor": 0
      },
      "text/plain": [
       "FloatProgress(value=0.0, bar_style='info', description='Progress:', layout=Layout(height='25px', width='50%'),…"
      ]
     },
     "metadata": {},
     "output_type": "display_data"
    }
   ],
   "source": [
    "def calcIdf(doc_count, df):\n",
    "    return math.log((doc_count+1)/(df+1))\n",
    "\n",
    "calIdf_udf = udf(calcIdf, DoubleType())\n",
    "\n",
    "df_idf = df_tokens.withColumn(\"idf\", calIdf_udf(F.lit(nb_docs), 'df'))"
   ]
  },
  {
   "cell_type": "code",
   "execution_count": 67,
   "metadata": {},
   "outputs": [
    {
     "data": {
      "application/vnd.jupyter.widget-view+json": {
       "model_id": "",
       "version_major": 2,
       "version_minor": 0
      },
      "text/plain": [
       "FloatProgress(value=0.0, bar_style='info', description='Progress:', layout=Layout(height='25px', width='50%'),…"
      ]
     },
     "metadata": {},
     "output_type": "display_data"
    }
   ],
   "source": [
    "# (df_idf\n",
    "#  .write\n",
    "#  .parquet(\"s3://ai-data-lake-dev-eu-west-1/staging/peer/idf\", mode=\"overwrite\")\n",
    "# )"
   ]
  },
  {
   "cell_type": "code",
   "execution_count": 68,
   "metadata": {},
   "outputs": [
    {
     "data": {
      "application/vnd.jupyter.widget-view+json": {
       "model_id": "",
       "version_major": 2,
       "version_minor": 0
      },
      "text/plain": [
       "FloatProgress(value=0.0, bar_style='info', description='Progress:', layout=Layout(height='25px', width='50%'),…"
      ]
     },
     "metadata": {},
     "output_type": "display_data"
    }
   ],
   "source": [
    "# from io import StringIO\n",
    "# import boto3\n",
    "\n",
    "df_idf = df_idf.select('token', 'idf')\n",
    "\n",
    "# csv_buffer = StringIO()\n",
    "# df_idf.toPandas().to_csv(csv_buffer)\n",
    "# s3_resource = boto3.resource('s3')\n",
    "# s3_resource.Object('ai-data-lake-dev-eu-west-1', 'staging/peer/idf.csv').put(Body=csv_buffer.getvalue())"
   ]
  },
  {
   "cell_type": "code",
   "execution_count": 69,
   "metadata": {},
   "outputs": [
    {
     "data": {
      "application/vnd.jupyter.widget-view+json": {
       "model_id": "",
       "version_major": 2,
       "version_minor": 0
      },
      "text/plain": [
       "FloatProgress(value=0.0, bar_style='info', description='Progress:', layout=Layout(height='25px', width='50%'),…"
      ]
     },
     "metadata": {},
     "output_type": "display_data"
    }
   ],
   "source": [
    "df_idf = df_idf.cache();"
   ]
  },
  {
   "cell_type": "code",
   "execution_count": 70,
   "metadata": {},
   "outputs": [
    {
     "data": {
      "application/vnd.jupyter.widget-view+json": {
       "model_id": "",
       "version_major": 2,
       "version_minor": 0
      },
      "text/plain": [
       "FloatProgress(value=0.0, bar_style='info', description='Progress:', layout=Layout(height='25px', width='50%'),…"
      ]
     },
     "metadata": {},
     "output_type": "display_data"
    }
   ],
   "source": [
    "# df_idf = spark.read.format(\"csv\").option(\"header\", \"true\").load(\"s3://ai-data-lake-dev-eu-west-1/staging/peer/idf.csv\").drop(\"_c0\")"
   ]
  },
  {
   "cell_type": "code",
   "execution_count": 71,
   "metadata": {},
   "outputs": [
    {
     "data": {
      "application/vnd.jupyter.widget-view+json": {
       "model_id": "",
       "version_major": 2,
       "version_minor": 0
      },
      "text/plain": [
       "FloatProgress(value=0.0, bar_style='info', description='Progress:', layout=Layout(height='25px', width='50%'),…"
      ]
     },
     "metadata": {},
     "output_type": "display_data"
    },
    {
     "name": "stdout",
     "output_type": "stream",
     "text": [
      "root\n",
      " |-- token: string (nullable = true)\n",
      " |-- idf: double (nullable = true)"
     ]
    }
   ],
   "source": [
    "df_idf.printSchema()"
   ]
  },
  {
   "cell_type": "code",
   "execution_count": 72,
   "metadata": {},
   "outputs": [
    {
     "data": {
      "application/vnd.jupyter.widget-view+json": {
       "model_id": "",
       "version_major": 2,
       "version_minor": 0
      },
      "text/plain": [
       "FloatProgress(value=0.0, bar_style='info', description='Progress:', layout=Layout(height='25px', width='50%'),…"
      ]
     },
     "metadata": {},
     "output_type": "display_data"
    }
   ],
   "source": [
    "df_all = (df_all.withColumn(\"tokenized_text\", process_text_udf(\"company_description\"))\n",
    "          .withColumn(\"description_length\", F.size(\"tokenized_text\"))\n",
    "          .withColumn(\"competitor_tokenized_text\", process_text_udf(\"competitor_company_description\"))\n",
    "          .withColumn(\"competitor_description_length\", F.size(\"competitor_tokenized_text\"))\n",
    "         )"
   ]
  },
  {
   "cell_type": "code",
   "execution_count": 73,
   "metadata": {},
   "outputs": [
    {
     "data": {
      "application/vnd.jupyter.widget-view+json": {
       "model_id": "",
       "version_major": 2,
       "version_minor": 0
      },
      "text/plain": [
       "FloatProgress(value=0.0, bar_style='info', description='Progress:', layout=Layout(height='25px', width='50%'),…"
      ]
     },
     "metadata": {},
     "output_type": "display_data"
    }
   ],
   "source": [
    "df_all_preprocess = df_all.withColumn('token', F.explode('tokenized_text'))\n",
    "df_all_preprocess_tf = df_all_preprocess.groupBy(\"idx\", \"token\").agg(F.count(\"tokenized_text\").alias(\"tf\"))"
   ]
  },
  {
   "cell_type": "code",
   "execution_count": 74,
   "metadata": {},
   "outputs": [
    {
     "data": {
      "application/vnd.jupyter.widget-view+json": {
       "model_id": "",
       "version_major": 2,
       "version_minor": 0
      },
      "text/plain": [
       "FloatProgress(value=0.0, bar_style='info', description='Progress:', layout=Layout(height='25px', width='50%'),…"
      ]
     },
     "metadata": {},
     "output_type": "display_data"
    },
    {
     "name": "stdout",
     "output_type": "stream",
     "text": [
      "root\n",
      " |-- idx: long (nullable = false)\n",
      " |-- tf_idf_map: map (nullable = true)\n",
      " |    |-- key: string\n",
      " |    |-- value: array (valueContainsNull = true)\n",
      " |    |    |-- element: double (containsNull = true)"
     ]
    }
   ],
   "source": [
    "combineMap = udf(lambda maps: {key:f[key] for f in maps for key in f}, MapType(StringType(),ArrayType(DoubleType())))    \n",
    "\n",
    "df_all_preprocess_tf_idf = (df_all_preprocess_tf\n",
    "      .join(df_idf, \"token\", \"left\")\n",
    "      .withColumn(\"tf_idf\", F.array(\"tf\",\"idf\"))\n",
    "      .withColumn(\"tf_idf_token\", F.create_map(\"token\",\"tf_idf\"))\n",
    "      .groupBy(\"idx\")\n",
    "      .agg(F.collect_list(\"tf_idf_token\").alias(\"tf_idf_text_list\"))\n",
    "      .withColumn(\"tf_idf_map\", combineMap(\"tf_idf_text_list\"))\n",
    "      .drop(\"tf_idf_text_list\", \"idf\", \"tf\", \"token\")\n",
    ")\n",
    "\n",
    "df_all_preprocess_tf_idf.printSchema()"
   ]
  },
  {
   "cell_type": "code",
   "execution_count": 75,
   "metadata": {},
   "outputs": [
    {
     "data": {
      "application/vnd.jupyter.widget-view+json": {
       "model_id": "",
       "version_major": 2,
       "version_minor": 0
      },
      "text/plain": [
       "FloatProgress(value=0.0, bar_style='info', description='Progress:', layout=Layout(height='25px', width='50%'),…"
      ]
     },
     "metadata": {},
     "output_type": "display_data"
    }
   ],
   "source": [
    "df_train = df_all.join(df_all_preprocess_tf_idf, \"idx\")\n",
    "# df_train.count()"
   ]
  },
  {
   "cell_type": "code",
   "execution_count": 76,
   "metadata": {},
   "outputs": [
    {
     "data": {
      "application/vnd.jupyter.widget-view+json": {
       "model_id": "",
       "version_major": 2,
       "version_minor": 0
      },
      "text/plain": [
       "FloatProgress(value=0.0, bar_style='info', description='Progress:', layout=Layout(height='25px', width='50%'),…"
      ]
     },
     "metadata": {},
     "output_type": "display_data"
    },
    {
     "name": "stdout",
     "output_type": "stream",
     "text": [
      "root\n",
      " |-- idx: long (nullable = false)\n",
      " |-- token: string (nullable = true)\n",
      " |-- tf: long (nullable = false)\n",
      "\n",
      "root\n",
      " |-- token: string (nullable = true)\n",
      " |-- idf: double (nullable = true)"
     ]
    }
   ],
   "source": [
    "df_all_negative_preprocess = df_all.withColumn('token', F.explode('competitor_tokenized_text'))\n",
    "df_all_preprocess_competitor_tf = df_all_negative_preprocess.groupBy(\"idx\", \"token\").agg(F.count(\"competitor_tokenized_text\").alias(\"tf\"))\n",
    "df_all_preprocess_competitor_tf.printSchema()\n",
    "df_idf.printSchema()"
   ]
  },
  {
   "cell_type": "code",
   "execution_count": 77,
   "metadata": {},
   "outputs": [
    {
     "data": {
      "application/vnd.jupyter.widget-view+json": {
       "model_id": "",
       "version_major": 2,
       "version_minor": 0
      },
      "text/plain": [
       "FloatProgress(value=0.0, bar_style='info', description='Progress:', layout=Layout(height='25px', width='50%'),…"
      ]
     },
     "metadata": {},
     "output_type": "display_data"
    },
    {
     "name": "stdout",
     "output_type": "stream",
     "text": [
      "root\n",
      " |-- idx: long (nullable = false)\n",
      " |-- competitor_tf_idf_map: map (nullable = true)\n",
      " |    |-- key: string\n",
      " |    |-- value: array (valueContainsNull = true)\n",
      " |    |    |-- element: double (containsNull = true)"
     ]
    }
   ],
   "source": [
    "df_all_preprocess_competitor_tf_idf = (df_all_preprocess_competitor_tf\n",
    "      .join(df_idf, \"token\", \"left\")\n",
    "      .withColumn(\"tf_idf\", F.array(\"tf\",\"idf\")) #F.col(\"tf\") * F.col(\"idf\"))\n",
    "      .withColumn(\"tf_idf_token\", F.create_map(\"token\",\"tf_idf\"))\n",
    "      .groupBy(\"idx\")\n",
    "      .agg(F.collect_list(\"tf_idf_token\").alias(\"tf_idf_text_list\"))\n",
    "      .withColumn(\"competitor_tf_idf_map\", combineMap(\"tf_idf_text_list\"))\n",
    "      .drop(\"tf_idf_text_list\", \"idf\", \"tf\", \"competitor_token\")\n",
    ")\n",
    "\n",
    "df_all_preprocess_competitor_tf_idf.printSchema()"
   ]
  },
  {
   "cell_type": "code",
   "execution_count": 78,
   "metadata": {},
   "outputs": [
    {
     "data": {
      "application/vnd.jupyter.widget-view+json": {
       "model_id": "",
       "version_major": 2,
       "version_minor": 0
      },
      "text/plain": [
       "FloatProgress(value=0.0, bar_style='info', description='Progress:', layout=Layout(height='25px', width='50%'),…"
      ]
     },
     "metadata": {},
     "output_type": "display_data"
    }
   ],
   "source": [
    "df_train = df_train.join(df_all_preprocess_competitor_tf_idf, \"idx\").drop('tokenized_text', 'competitor_tokenized_text')\n",
    "# df_train.count()"
   ]
  },
  {
   "cell_type": "code",
   "execution_count": 79,
   "metadata": {},
   "outputs": [
    {
     "data": {
      "application/vnd.jupyter.widget-view+json": {
       "model_id": "",
       "version_major": 2,
       "version_minor": 0
      },
      "text/plain": [
       "FloatProgress(value=0.0, bar_style='info', description='Progress:', layout=Layout(height='25px', width='50%'),…"
      ]
     },
     "metadata": {},
     "output_type": "display_data"
    },
    {
     "name": "stdout",
     "output_type": "stream",
     "text": [
      "root\n",
      " |-- idx: long (nullable = false)\n",
      " |-- competitor_company_id: string (nullable = true)\n",
      " |-- one_id: string (nullable = true)\n",
      " |-- company_id: integer (nullable = true)\n",
      " |-- company_name: string (nullable = true)\n",
      " |-- street_address: string (nullable = true)\n",
      " |-- zip_code: string (nullable = true)\n",
      " |-- city: string (nullable = true)\n",
      " |-- country: string (nullable = true)\n",
      " |-- region: string (nullable = true)\n",
      " |-- region_code: string (nullable = true)\n",
      " |-- company_type: string (nullable = true)\n",
      " |-- number_of_employees: integer (nullable = true)\n",
      " |-- latest_revenue: double (nullable = true)\n",
      " |-- latest_revenue_growth: double (nullable = true)\n",
      " |-- latest_ebitda: double (nullable = true)\n",
      " |-- latest_ebitda_margin: double (nullable = true)\n",
      " |-- competitor_ids: array (nullable = true)\n",
      " |    |-- element: string (containsNull = true)\n",
      " |-- simple_industry_id: string (nullable = true)\n",
      " |-- simple_industry: string (nullable = true)\n",
      " |-- sic_code: string (nullable = true)\n",
      " |-- sic_code_desc: string (nullable = true)\n",
      " |-- naics_code: string (nullable = true)\n",
      " |-- naics_code_desc: string (nullable = true)\n",
      " |-- website: string (nullable = true)\n",
      " |-- website_keywords: array (nullable = true)\n",
      " |    |-- element: string (containsNull = true)\n",
      " |-- website_description: string (nullable = true)\n",
      " |-- website_long_description: string (nullable = true)\n",
      " |-- company_description: string (nullable = true)\n",
      " |-- company_long_description: string (nullable = true)\n",
      " |-- _udate: integer (nullable = true)\n",
      " |-- operating_locations: array (nullable = true)\n",
      " |    |-- element: string (containsNull = true)\n",
      " |-- competitor_one_id: string (nullable = true)\n",
      " |-- competitor_company_name: string (nullable = true)\n",
      " |-- competitor_street_address: string (nullable = true)\n",
      " |-- competitor_zip_code: string (nullable = true)\n",
      " |-- competitor_city: string (nullable = true)\n",
      " |-- competitor_country: string (nullable = true)\n",
      " |-- competitor_region: string (nullable = true)\n",
      " |-- competitor_region_code: string (nullable = true)\n",
      " |-- competitor_company_type: string (nullable = true)\n",
      " |-- competitor_number_of_employees: integer (nullable = true)\n",
      " |-- competitor_latest_revenue: double (nullable = true)\n",
      " |-- competitor_latest_revenue_growth: double (nullable = true)\n",
      " |-- competitor_latest_ebitda: double (nullable = true)\n",
      " |-- competitor_latest_ebitda_margin: double (nullable = true)\n",
      " |-- competitor_competitor_ids: array (nullable = true)\n",
      " |    |-- element: string (containsNull = true)\n",
      " |-- competitor_simple_industry_id: string (nullable = true)\n",
      " |-- competitor_simple_industry: string (nullable = true)\n",
      " |-- competitor_sic_code: string (nullable = true)\n",
      " |-- competitor_sic_code_desc: string (nullable = true)\n",
      " |-- competitor_naics_code: string (nullable = true)\n",
      " |-- competitor_naics_code_desc: string (nullable = true)\n",
      " |-- competitor_website: string (nullable = true)\n",
      " |-- competitor_website_keywords: array (nullable = true)\n",
      " |    |-- element: string (containsNull = true)\n",
      " |-- competitor_website_description: string (nullable = true)\n",
      " |-- competitor_website_long_description: string (nullable = true)\n",
      " |-- competitor_company_description: string (nullable = true)\n",
      " |-- competitor_company_long_description: string (nullable = true)\n",
      " |-- competitor__udate: integer (nullable = true)\n",
      " |-- competitor_operating_locations: array (nullable = true)\n",
      " |    |-- element: string (containsNull = true)\n",
      " |-- label: integer (nullable = false)\n",
      " |-- description_length: integer (nullable = false)\n",
      " |-- competitor_description_length: integer (nullable = false)\n",
      " |-- tf_idf_map: map (nullable = true)\n",
      " |    |-- key: string\n",
      " |    |-- value: array (valueContainsNull = true)\n",
      " |    |    |-- element: double (containsNull = true)\n",
      " |-- competitor_tf_idf_map: map (nullable = true)\n",
      " |    |-- key: string\n",
      " |    |-- value: array (valueContainsNull = true)\n",
      " |    |    |-- element: double (containsNull = true)"
     ]
    }
   ],
   "source": [
    "df_train.printSchema()"
   ]
  },
  {
   "cell_type": "code",
   "execution_count": 80,
   "metadata": {},
   "outputs": [
    {
     "data": {
      "application/vnd.jupyter.widget-view+json": {
       "model_id": "",
       "version_major": 2,
       "version_minor": 0
      },
      "text/plain": [
       "FloatProgress(value=0.0, bar_style='info', description='Progress:', layout=Layout(height='25px', width='50%'),…"
      ]
     },
     "metadata": {},
     "output_type": "display_data"
    }
   ],
   "source": [
    "def dot(A,B, use_tf=False):\n",
    "    total = 0\n",
    "    for key, val in A.items(): # val[0] = tf, val[1] = idf\n",
    "        if key in B and val[1] and B[key][1]:\n",
    "            tmp = val[1]*B[key][1]\n",
    "            if use_tf:\n",
    "                tmp *= math.log(val[0]+1)*math.log(B[key][0]+1)\n",
    "            total += tmp\n",
    "    return total\n",
    "\n",
    "def compute_cosine_similarity(tf_idf_a, tf_idf_b, use_tf=False):\n",
    "    if not tf_idf_a or not tf_idf_b:\n",
    "        return 0\n",
    "    return dot(tf_idf_a,tf_idf_b, use_tf) / ( (dot(tf_idf_a,tf_idf_a, use_tf) **.5) * (dot(tf_idf_b,tf_idf_b, use_tf) ** .5) )\n",
    "\n",
    "compute_cosine_similarity_udf = udf(compute_cosine_similarity, DoubleType())\n",
    "\n",
    "df_train = df_train.withColumn(\"cosine_similarity\", compute_cosine_similarity_udf('tf_idf_map', 'competitor_tf_idf_map', F.lit(False)))\n",
    "df_train = df_train.withColumn(\"cosine_similarity_tf\", compute_cosine_similarity_udf('tf_idf_map', 'competitor_tf_idf_map', F.lit(True)))"
   ]
  },
  {
   "cell_type": "code",
   "execution_count": 81,
   "metadata": {},
   "outputs": [
    {
     "data": {
      "application/vnd.jupyter.widget-view+json": {
       "model_id": "",
       "version_major": 2,
       "version_minor": 0
      },
      "text/plain": [
       "FloatProgress(value=0.0, bar_style='info', description='Progress:', layout=Layout(height='25px', width='50%'),…"
      ]
     },
     "metadata": {},
     "output_type": "display_data"
    }
   ],
   "source": [
    "match_same_field_udf = udf(lambda x,y: int(x == y))\n",
    "\n",
    "df_train = df_train.withColumn(\"match_country\", match_same_field_udf('country', 'competitor_country'))\n",
    "df_train = df_train.withColumn(\"match_region\", match_same_field_udf('region', 'competitor_region'))\n",
    "df_train = df_train.withColumn(\"match_company_type\", match_same_field_udf('company_type', 'competitor_company_type'))"
   ]
  },
  {
   "cell_type": "code",
   "execution_count": 82,
   "metadata": {},
   "outputs": [
    {
     "data": {
      "application/vnd.jupyter.widget-view+json": {
       "model_id": "",
       "version_major": 2,
       "version_minor": 0
      },
      "text/plain": [
       "FloatProgress(value=0.0, bar_style='info', description='Progress:', layout=Layout(height='25px', width='50%'),…"
      ]
     },
     "metadata": {},
     "output_type": "display_data"
    }
   ],
   "source": [
    "df_train = df_train.withColumn(\"jaccard_location\", jaccard_similarity_udf(\"operating_locations\", \"competitor_operating_locations\"))"
   ]
  },
  {
   "cell_type": "code",
   "execution_count": 83,
   "metadata": {},
   "outputs": [
    {
     "data": {
      "application/vnd.jupyter.widget-view+json": {
       "model_id": "",
       "version_major": 2,
       "version_minor": 0
      },
      "text/plain": [
       "FloatProgress(value=0.0, bar_style='info', description='Progress:', layout=Layout(height='25px', width='50%'),…"
      ]
     },
     "metadata": {},
     "output_type": "display_data"
    }
   ],
   "source": [
    "def numerical_distance(v1, v2):\n",
    "    if not v1 or not v2 or v1 == 0 or v2 == 0:\n",
    "        return 0\n",
    "\n",
    "    if v1 < v2:\n",
    "        return v1/v2\n",
    "    else:\n",
    "        return v2/v1\n",
    "\n",
    "numerical_distance_udf = udf(numerical_distance, DoubleType())\n",
    "\n",
    "df_train = df_train.withColumn(\"revenue_distance\", numerical_distance_udf(\"latest_revenue\", \"competitor_latest_revenue\"))\n",
    "df_train = df_train.withColumn(\"ebitda_distance\", numerical_distance_udf(\"latest_ebitda\", \"competitor_latest_ebitda\"))"
   ]
  },
  {
   "cell_type": "code",
   "execution_count": 84,
   "metadata": {},
   "outputs": [
    {
     "data": {
      "application/vnd.jupyter.widget-view+json": {
       "model_id": "",
       "version_major": 2,
       "version_minor": 0
      },
      "text/plain": [
       "FloatProgress(value=0.0, bar_style='info', description='Progress:', layout=Layout(height='25px', width='50%'),…"
      ]
     },
     "metadata": {},
     "output_type": "display_data"
    },
    {
     "name": "stdout",
     "output_type": "stream",
     "text": [
      "root\n",
      " |-- idx: long (nullable = false)\n",
      " |-- competitor_company_id: string (nullable = true)\n",
      " |-- one_id: string (nullable = true)\n",
      " |-- company_id: integer (nullable = true)\n",
      " |-- company_name: string (nullable = true)\n",
      " |-- street_address: string (nullable = true)\n",
      " |-- zip_code: string (nullable = true)\n",
      " |-- city: string (nullable = true)\n",
      " |-- country: string (nullable = true)\n",
      " |-- region: string (nullable = true)\n",
      " |-- region_code: string (nullable = true)\n",
      " |-- company_type: string (nullable = true)\n",
      " |-- number_of_employees: integer (nullable = true)\n",
      " |-- latest_revenue: double (nullable = true)\n",
      " |-- latest_revenue_growth: double (nullable = true)\n",
      " |-- latest_ebitda: double (nullable = true)\n",
      " |-- latest_ebitda_margin: double (nullable = true)\n",
      " |-- competitor_ids: array (nullable = true)\n",
      " |    |-- element: string (containsNull = true)\n",
      " |-- simple_industry_id: string (nullable = true)\n",
      " |-- simple_industry: string (nullable = true)\n",
      " |-- sic_code: string (nullable = true)\n",
      " |-- sic_code_desc: string (nullable = true)\n",
      " |-- naics_code: string (nullable = true)\n",
      " |-- naics_code_desc: string (nullable = true)\n",
      " |-- website: string (nullable = true)\n",
      " |-- website_keywords: array (nullable = true)\n",
      " |    |-- element: string (containsNull = true)\n",
      " |-- website_description: string (nullable = true)\n",
      " |-- website_long_description: string (nullable = true)\n",
      " |-- company_description: string (nullable = true)\n",
      " |-- company_long_description: string (nullable = true)\n",
      " |-- _udate: integer (nullable = true)\n",
      " |-- operating_locations: array (nullable = true)\n",
      " |    |-- element: string (containsNull = true)\n",
      " |-- competitor_one_id: string (nullable = true)\n",
      " |-- competitor_company_name: string (nullable = true)\n",
      " |-- competitor_street_address: string (nullable = true)\n",
      " |-- competitor_zip_code: string (nullable = true)\n",
      " |-- competitor_city: string (nullable = true)\n",
      " |-- competitor_country: string (nullable = true)\n",
      " |-- competitor_region: string (nullable = true)\n",
      " |-- competitor_region_code: string (nullable = true)\n",
      " |-- competitor_company_type: string (nullable = true)\n",
      " |-- competitor_number_of_employees: integer (nullable = true)\n",
      " |-- competitor_latest_revenue: double (nullable = true)\n",
      " |-- competitor_latest_revenue_growth: double (nullable = true)\n",
      " |-- competitor_latest_ebitda: double (nullable = true)\n",
      " |-- competitor_latest_ebitda_margin: double (nullable = true)\n",
      " |-- competitor_competitor_ids: array (nullable = true)\n",
      " |    |-- element: string (containsNull = true)\n",
      " |-- competitor_simple_industry_id: string (nullable = true)\n",
      " |-- competitor_simple_industry: string (nullable = true)\n",
      " |-- competitor_sic_code: string (nullable = true)\n",
      " |-- competitor_sic_code_desc: string (nullable = true)\n",
      " |-- competitor_naics_code: string (nullable = true)\n",
      " |-- competitor_naics_code_desc: string (nullable = true)\n",
      " |-- competitor_website: string (nullable = true)\n",
      " |-- competitor_website_keywords: array (nullable = true)\n",
      " |    |-- element: string (containsNull = true)\n",
      " |-- competitor_website_description: string (nullable = true)\n",
      " |-- competitor_website_long_description: string (nullable = true)\n",
      " |-- competitor_company_description: string (nullable = true)\n",
      " |-- competitor_company_long_description: string (nullable = true)\n",
      " |-- competitor__udate: integer (nullable = true)\n",
      " |-- competitor_operating_locations: array (nullable = true)\n",
      " |    |-- element: string (containsNull = true)\n",
      " |-- label: integer (nullable = false)\n",
      " |-- description_length: integer (nullable = false)\n",
      " |-- competitor_description_length: integer (nullable = false)\n",
      " |-- tf_idf_map: map (nullable = true)\n",
      " |    |-- key: string\n",
      " |    |-- value: array (valueContainsNull = true)\n",
      " |    |    |-- element: double (containsNull = true)\n",
      " |-- competitor_tf_idf_map: map (nullable = true)\n",
      " |    |-- key: string\n",
      " |    |-- value: array (valueContainsNull = true)\n",
      " |    |    |-- element: double (containsNull = true)\n",
      " |-- cosine_similarity: double (nullable = true)\n",
      " |-- cosine_similarity_tf: double (nullable = true)\n",
      " |-- match_country: string (nullable = true)\n",
      " |-- match_region: string (nullable = true)\n",
      " |-- match_company_type: string (nullable = true)\n",
      " |-- jaccard_location: double (nullable = true)\n",
      " |-- revenue_distance: double (nullable = true)\n",
      " |-- ebitda_distance: double (nullable = true)"
     ]
    }
   ],
   "source": [
    "df_train.printSchema()"
   ]
  },
  {
   "cell_type": "code",
   "execution_count": 85,
   "metadata": {},
   "outputs": [
    {
     "data": {
      "application/vnd.jupyter.widget-view+json": {
       "model_id": "",
       "version_major": 2,
       "version_minor": 0
      },
      "text/plain": [
       "FloatProgress(value=0.0, bar_style='info', description='Progress:', layout=Layout(height='25px', width='50%'),…"
      ]
     },
     "metadata": {},
     "output_type": "display_data"
    }
   ],
   "source": [
    "# features = (df_train.select(['idx', 'company_id','competitor_company_id', 'cosine_similarity', 'cosine_similarity_tf',\n",
    "#                             'match_country', 'match_region', 'match_company_type', \n",
    "#                             'description_length', 'competitor_description_length',\n",
    "#                             'jaccard_location', 'revenue_distance', 'ebitda_distance', 'label']))"
   ]
  },
  {
   "cell_type": "code",
   "execution_count": 86,
   "metadata": {},
   "outputs": [
    {
     "data": {
      "application/vnd.jupyter.widget-view+json": {
       "model_id": "",
       "version_major": 2,
       "version_minor": 0
      },
      "text/plain": [
       "FloatProgress(value=0.0, bar_style='info', description='Progress:', layout=Layout(height='25px', width='50%'),…"
      ]
     },
     "metadata": {},
     "output_type": "display_data"
    }
   ],
   "source": [
    "(df_train\n",
    " .write\n",
    " .parquet(\"s3://ai-data-lake-dev-eu-west-1/staging/peer/features_sic_code\", mode=\"overwrite\")\n",
    ")"
   ]
  },
  {
   "cell_type": "code",
   "execution_count": null,
   "metadata": {},
   "outputs": [],
   "source": []
  },
  {
   "cell_type": "code",
   "execution_count": null,
   "metadata": {},
   "outputs": [],
   "source": [
    "df_train = spark.read.load(\"s3://ai-data-lake-dev-eu-west-1/staging/peer/features_sic_code\")"
   ]
  },
  {
   "cell_type": "code",
   "execution_count": null,
   "metadata": {},
   "outputs": [],
   "source": [
    "def sic_code_distance(sic_code1, sic_code2):\n",
    "    return abs(sic_code1 - sic_code2)\n",
    "\n",
    "sic_code_distance_udf = udf(sic_code_distance, IntegerType())\n",
    "\n",
    "\n",
    "df_train = df_train.withColumn(\"sic_code_distance\", sic_code_id_distance_udf(\"sic_code\", \"competitor_sic_code\"))"
   ]
  }
 ],
 "metadata": {
  "kernelspec": {
   "display_name": "Python 3",
   "language": "python",
   "name": "python3"
  },
  "language_info": {
   "codemirror_mode": {
    "name": "ipython",
    "version": 3
   },
   "file_extension": ".py",
   "mimetype": "text/x-python",
   "name": "python",
   "nbconvert_exporter": "python",
   "pygments_lexer": "ipython3",
   "version": "3.7.4"
  }
 },
 "nbformat": 4,
 "nbformat_minor": 2
}
