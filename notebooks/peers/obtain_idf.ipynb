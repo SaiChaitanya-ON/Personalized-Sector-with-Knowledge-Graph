{
 "cells": [
  {
   "cell_type": "code",
   "execution_count": 20,
   "metadata": {},
   "outputs": [
    {
     "name": "stdout",
     "output_type": "stream",
     "text": [
      "Starting Spark application\n"
     ]
    },
    {
     "data": {
      "text/html": [
       "<table>\n",
       "<tr><th>ID</th><th>YARN Application ID</th><th>Kind</th><th>State</th><th>Spark UI</th><th>Driver log</th><th>Current session?</th></tr><tr><td>2</td><td>application_1573663397043_0003</td><td>pyspark</td><td>idle</td><td></td><td></td><td>✔</td></tr></table>"
      ],
      "text/plain": [
       "<IPython.core.display.HTML object>"
      ]
     },
     "metadata": {},
     "output_type": "display_data"
    },
    {
     "data": {
      "application/vnd.jupyter.widget-view+json": {
       "model_id": "",
       "version_major": 2,
       "version_minor": 0
      },
      "text/plain": [
       "FloatProgress(value=0.0, bar_style='info', description='Progress:', layout=Layout(height='25px', width='50%'),…"
      ]
     },
     "metadata": {},
     "output_type": "display_data"
    },
    {
     "name": "stdout",
     "output_type": "stream",
     "text": [
      "SparkSession available as 'spark'.\n"
     ]
    },
    {
     "data": {
      "text/html": [
       "Current session configs: <tt>{'executorCores': 4, 'executorMemory': '8096M', 'conf': {'spark.default.parallelism': 1000}, 'kind': 'pyspark'}</tt><br>"
      ],
      "text/plain": [
       "<IPython.core.display.HTML object>"
      ]
     },
     "metadata": {},
     "output_type": "display_data"
    },
    {
     "data": {
      "text/html": [
       "<table>\n",
       "<tr><th>ID</th><th>YARN Application ID</th><th>Kind</th><th>State</th><th>Spark UI</th><th>Driver log</th><th>Current session?</th></tr><tr><td>2</td><td>application_1573663397043_0003</td><td>pyspark</td><td>idle</td><td><a target=\"_blank\" href=\"http://ip-10-0-3-49.eu-west-2.compute.internal:20888/proxy/application_1573663397043_0003/\">Link</a></td><td><a target=\"_blank\" href=\"http://ip-10-0-3-131.eu-west-2.compute.internal:8042/node/containerlogs/container_1573663397043_0003_01_000001/livy\">Link</a></td><td>✔</td></tr></table>"
      ],
      "text/plain": [
       "<IPython.core.display.HTML object>"
      ]
     },
     "metadata": {},
     "output_type": "display_data"
    }
   ],
   "source": [
    "%%configure -f\n",
    "{\"executorCores\": 4, \"executorMemory\": \"8096M\", \"conf\": {\"spark.default.parallelism\": 1000}}"
   ]
  },
  {
   "cell_type": "code",
   "execution_count": 21,
   "metadata": {},
   "outputs": [
    {
     "data": {
      "application/vnd.jupyter.widget-view+json": {
       "model_id": "",
       "version_major": 2,
       "version_minor": 0
      },
      "text/plain": [
       "FloatProgress(value=0.0, bar_style='info', description='Progress:', layout=Layout(height='25px', width='50%'),…"
      ]
     },
     "metadata": {},
     "output_type": "display_data"
    }
   ],
   "source": [
    "import pandas as pd\n",
    "\n",
    "import gensim\n",
    "import math\n",
    "from gensim.utils import tokenize\n",
    "from gensim.parsing.preprocessing import remove_stopwords\n",
    "import string\n",
    "from string import punctuation\n",
    "import numpy as np\n",
    "from langdetect import detect\n",
    "from pyspark.sql.functions import udf\n",
    "from pyspark.sql.types import StringType, IntegerType, ArrayType, DoubleType, MapType\n",
    "from pyspark.ml.feature import HashingTF, IDF, Tokenizer, StopWordsRemover, CountVectorizer\n",
    "from pyspark.ml import Pipeline\n",
    "import spacy\n",
    "\n",
    "from pyspark.sql import SparkSession\n",
    "import pyspark.sql.functions as F\n",
    "import pyspark.sql.types as T"
   ]
  },
  {
   "cell_type": "code",
   "execution_count": 22,
   "metadata": {},
   "outputs": [
    {
     "data": {
      "application/vnd.jupyter.widget-view+json": {
       "model_id": "",
       "version_major": 2,
       "version_minor": 0
      },
      "text/plain": [
       "FloatProgress(value=0.0, bar_style='info', description='Progress:', layout=Layout(height='25px', width='50%'),…"
      ]
     },
     "metadata": {},
     "output_type": "display_data"
    }
   ],
   "source": [
    "df = spark.read.load(\"s3://ai-data-lake-dev-eu-west-1/business/company_data_denormalized\")\n",
    "# df = df.distinct()\n",
    "#df.printSchema()"
   ]
  },
  {
   "cell_type": "code",
   "execution_count": 23,
   "metadata": {},
   "outputs": [
    {
     "data": {
      "application/vnd.jupyter.widget-view+json": {
       "model_id": "",
       "version_major": 2,
       "version_minor": 0
      },
      "text/plain": [
       "FloatProgress(value=0.0, bar_style='info', description='Progress:', layout=Layout(height='25px', width='50%'),…"
      ]
     },
     "metadata": {},
     "output_type": "display_data"
    }
   ],
   "source": [
    "df_orbis = df.filter(F.col('vendor')=='CapitalIQ').cache()\n",
    "df_capiq = df.filter(F.col('vendor')=='Orbis').cache()"
   ]
  },
  {
   "cell_type": "code",
   "execution_count": 24,
   "metadata": {},
   "outputs": [
    {
     "data": {
      "application/vnd.jupyter.widget-view+json": {
       "model_id": "",
       "version_major": 2,
       "version_minor": 0
      },
      "text/plain": [
       "FloatProgress(value=0.0, bar_style='info', description='Progress:', layout=Layout(height='25px', width='50%'),…"
      ]
     },
     "metadata": {},
     "output_type": "display_data"
    },
    {
     "name": "stdout",
     "output_type": "stream",
     "text": [
      "7993468"
     ]
    }
   ],
   "source": [
    "df_orbis.count()"
   ]
  },
  {
   "cell_type": "code",
   "execution_count": 25,
   "metadata": {},
   "outputs": [
    {
     "data": {
      "application/vnd.jupyter.widget-view+json": {
       "model_id": "",
       "version_major": 2,
       "version_minor": 0
      },
      "text/plain": [
       "FloatProgress(value=0.0, bar_style='info', description='Progress:', layout=Layout(height='25px', width='50%'),…"
      ]
     },
     "metadata": {},
     "output_type": "display_data"
    },
    {
     "name": "stdout",
     "output_type": "stream",
     "text": [
      "3106630"
     ]
    }
   ],
   "source": [
    "df_capiq.count()"
   ]
  },
  {
   "cell_type": "code",
   "execution_count": 26,
   "metadata": {},
   "outputs": [
    {
     "data": {
      "application/vnd.jupyter.widget-view+json": {
       "model_id": "",
       "version_major": 2,
       "version_minor": 0
      },
      "text/plain": [
       "FloatProgress(value=0.0, bar_style='info', description='Progress:', layout=Layout(height='25px', width='50%'),…"
      ]
     },
     "metadata": {},
     "output_type": "display_data"
    }
   ],
   "source": [
    "def process_text(text):\n",
    "    if text:\n",
    "        return [x.strip(punctuation) for x in text.lower().split()]\n",
    "    else:\n",
    "        return \"\"\n",
    "\n",
    "process_text_udf = udf(process_text, ArrayType(StringType()))\n",
    "\n",
    "def calcIdf(doc_count, df):\n",
    "    return math.log((doc_count+1)/(df+1))\n",
    "\n",
    "calIdf_udf = udf(calcIdf, DoubleType())"
   ]
  },
  {
   "cell_type": "code",
   "execution_count": 27,
   "metadata": {},
   "outputs": [
    {
     "data": {
      "application/vnd.jupyter.widget-view+json": {
       "model_id": "",
       "version_major": 2,
       "version_minor": 0
      },
      "text/plain": [
       "FloatProgress(value=0.0, bar_style='info', description='Progress:', layout=Layout(height='25px', width='50%'),…"
      ]
     },
     "metadata": {},
     "output_type": "display_data"
    },
    {
     "name": "stdout",
     "output_type": "stream",
     "text": [
      "1469374"
     ]
    }
   ],
   "source": [
    "df_preprocess = (df.withColumn(\"tokenized_text\", process_text_udf(\"short_description\"))\n",
    "                 .withColumn(\"idx\", F.monotonically_increasing_id())\n",
    "                 .withColumn('token', F.explode('tokenized_text'))\n",
    "                )\n",
    "\n",
    "df_tokens = (df_preprocess.groupBy(\"token\")\n",
    "             .agg(F.countDistinct(\"idx\").alias('df'))\n",
    "            )\n",
    "\n",
    "nb_docs = df_tokens.count()\n",
    "\n",
    "df_idf = df_tokens.withColumn(\"idf\", calIdf_udf(F.lit(nb_docs), 'df')).select('token', 'idf').sort(F.col(\"idf\"))\n",
    "\n",
    "idf = df_idf.toPandas()\n",
    "\n",
    "idf_dict = dict(zip(idf.token, idf.idf))\n",
    "\n",
    "print(len(idf_dict))"
   ]
  },
  {
   "cell_type": "code",
   "execution_count": 28,
   "metadata": {},
   "outputs": [
    {
     "data": {
      "application/vnd.jupyter.widget-view+json": {
       "model_id": "",
       "version_major": 2,
       "version_minor": 0
      },
      "text/plain": [
       "FloatProgress(value=0.0, bar_style='info', description='Progress:', layout=Layout(height='25px', width='50%'),…"
      ]
     },
     "metadata": {},
     "output_type": "display_data"
    },
    {
     "name": "stdout",
     "output_type": "stream",
     "text": [
      "1400564"
     ]
    }
   ],
   "source": [
    "df_orbis_preprocess = (df_orbis.withColumn(\"tokenized_text\", process_text_udf(\"short_description\"))\n",
    "                 .withColumn(\"idx\", F.monotonically_increasing_id())\n",
    "                 .withColumn('token', F.explode('tokenized_text'))\n",
    "                )\n",
    "\n",
    "df_orbis_tokens = (df_orbis_preprocess.groupBy(\"token\")\n",
    "             .agg(F.countDistinct(\"idx\").alias('df'))\n",
    "            )\n",
    "\n",
    "nb_docs = df_orbis_tokens.count()\n",
    "\n",
    "df_orbis_idf = df_orbis_tokens.withColumn(\"idf\", calIdf_udf(F.lit(nb_docs), 'df')).select('token', 'idf').sort(F.col(\"idf\"))\n",
    "\n",
    "orbis_idf = df_orbis_idf.toPandas()\n",
    "\n",
    "orbis_dict = dict(zip(orbis_idf.token, orbis_idf.idf))\n",
    "\n",
    "print(len(orbis_dict))"
   ]
  },
  {
   "cell_type": "code",
   "execution_count": 29,
   "metadata": {},
   "outputs": [
    {
     "data": {
      "application/vnd.jupyter.widget-view+json": {
       "model_id": "",
       "version_major": 2,
       "version_minor": 0
      },
      "text/plain": [
       "FloatProgress(value=0.0, bar_style='info', description='Progress:', layout=Layout(height='25px', width='50%'),…"
      ]
     },
     "metadata": {},
     "output_type": "display_data"
    },
    {
     "name": "stdout",
     "output_type": "stream",
     "text": [
      "4.1355700467578815"
     ]
    }
   ],
   "source": [
    "orbis_dict['brand']"
   ]
  },
  {
   "cell_type": "code",
   "execution_count": null,
   "metadata": {},
   "outputs": [],
   "source": []
  },
  {
   "cell_type": "code",
   "execution_count": 30,
   "metadata": {},
   "outputs": [
    {
     "data": {
      "application/vnd.jupyter.widget-view+json": {
       "model_id": "",
       "version_major": 2,
       "version_minor": 0
      },
      "text/plain": [
       "FloatProgress(value=0.0, bar_style='info', description='Progress:', layout=Layout(height='25px', width='50%'),…"
      ]
     },
     "metadata": {},
     "output_type": "display_data"
    },
    {
     "name": "stdout",
     "output_type": "stream",
     "text": [
      "131950"
     ]
    }
   ],
   "source": [
    "df_capiq_preprocess = (df_capiq.withColumn(\"tokenized_text\", process_text_udf(\"short_description\"))\n",
    "                 .withColumn(\"idx\", F.monotonically_increasing_id())\n",
    "                 .withColumn('token', F.explode('tokenized_text'))\n",
    "                )\n",
    "\n",
    "df_capiq_tokens = (df_capiq_preprocess.groupBy(\"token\")\n",
    "             .agg(F.countDistinct(\"idx\").alias('df'))\n",
    "            )\n",
    "\n",
    "nb_docs = df_capiq_tokens.count()\n",
    "\n",
    "df_capiq_idf = df_capiq_tokens.withColumn(\"idf\", calIdf_udf(F.lit(nb_docs), 'df')).select('token', 'idf').sort(F.col(\"idf\"))\n",
    "\n",
    "capiq_idf = df_capiq_idf.toPandas()\n",
    "capiq_dict = dict(zip(capiq_idf.token, capiq_idf.idf))\n",
    "\n",
    "print(len(capiq_dict))"
   ]
  },
  {
   "cell_type": "code",
   "execution_count": 31,
   "metadata": {},
   "outputs": [
    {
     "data": {
      "application/vnd.jupyter.widget-view+json": {
       "model_id": "",
       "version_major": 2,
       "version_minor": 0
      },
      "text/plain": [
       "FloatProgress(value=0.0, bar_style='info', description='Progress:', layout=Layout(height='25px', width='50%'),…"
      ]
     },
     "metadata": {},
     "output_type": "display_data"
    },
    {
     "name": "stdout",
     "output_type": "stream",
     "text": [
      "4.330271154289916"
     ]
    }
   ],
   "source": [
    "capiq_dict['brand']"
   ]
  },
  {
   "cell_type": "code",
   "execution_count": null,
   "metadata": {},
   "outputs": [],
   "source": []
  },
  {
   "cell_type": "code",
   "execution_count": 32,
   "metadata": {},
   "outputs": [
    {
     "data": {
      "application/vnd.jupyter.widget-view+json": {
       "model_id": "",
       "version_major": 2,
       "version_minor": 0
      },
      "text/plain": [
       "FloatProgress(value=0.0, bar_style='info', description='Progress:', layout=Layout(height='25px', width='50%'),…"
      ]
     },
     "metadata": {},
     "output_type": "display_data"
    }
   ],
   "source": [
    "diff_word = []\n",
    "diff_idf = []\n",
    "for word_orbis, idf_orbis in orbis_dict.items():\n",
    "    if word_orbis in idf_dict:\n",
    "        diff_word.append(word_orbis)\n",
    "        diff_idf.append(abs(idf_orbis - idf_dict[word_orbis]))\n",
    "#         if abs(idf_cap - orbis_dict[word_cap]) > 4:\n",
    "#             print(word_cap)\n",
    "\n",
    "idx = sorted(range(len(diff_idf)), key=lambda k: diff_idf[k], reverse=True)\n",
    "diff_word = [diff_word[x] for x in idx]\n",
    "diff_id = [diff_idf[x] for x in idx]"
   ]
  },
  {
   "cell_type": "code",
   "execution_count": 33,
   "metadata": {},
   "outputs": [
    {
     "data": {
      "application/vnd.jupyter.widget-view+json": {
       "model_id": "",
       "version_major": 2,
       "version_minor": 0
      },
      "text/plain": [
       "FloatProgress(value=0.0, bar_style='info', description='Progress:', layout=Layout(height='25px', width='50%'),…"
      ]
     },
     "metadata": {},
     "output_type": "display_data"
    },
    {
     "name": "stdout",
     "output_type": "stream",
     "text": [
      "['dijk', 'installatio', 'stipulated', 'n.e.c', 'wor', 'self-run', 'stipulations', 'mimeographing', \"subject's\", 'subdividing', 'excluding', 'excl', 'shall', 'bureau', 'produ', 'suport', \"state's\", 'non-specialized', 'prohibited', 'steel-frame', 'fabri', 'predominating', 'non-specialised', 'laminboard', 'polywood', 'equipmen', 'thiss', 'plaiting', 'constru', 'unclassified', 'self-produced', 'grouped', 'non-cast', 'made-up', 'junkets', 'forbidden', 'van', 'monopolized', 'manufact', 'chss', 'papier-mache', 'source', 'doanh', 'above-mentioned', 'termek', 'discretion', 'food-stuffs', 'chuy', 'elelmiszer', 'bumboats', 'trad', 'trong', 'video-tape', 'genaral', 'bank/financial', 'imitative', 'low-alcoholic', 'cons', 'accessaries', 'vechicles', 'manufac', 'roll-forming', 'nondepository', 'crocheted', 'ugynoki', 'prohibit', 'termekek', 'light-vehicle', 'laws', 'paper-producing', 'berendezesek', 'giss', 'actvities', 'telecommunication-related', 'handphones', 'subject', '3,5', '9001', 'elsewhere', 'wraping', 'wujinjiaodian', 'husking', 'berbeadasa', 'dominant', 'frei', 'passanger', 'ionizing', 'mccs', 'personnal', 'manuf', 'commenced', 'ranked', 'a+o', 'adat', 'technicals', 'silviculture', 'farinaceous', 'nonupholstered', 'machine-tools', 'kho', 'molluscs', 'over-all', 'prohibitions', 'hoss', 'contruction', 'non-perennial', 'sawmilling', 'self-controlled', 'approved', 'uzletviteli', '14001', 'priduction', 'masseuses', 'vetomag', 'anatolian', 'gabona', 'unanimously', '2021', 'event/concert', 'non-quota', 'e.g', 'unlaminated', 'petroleum-related', 'insureance', 'foreign-invested', 'kerteszet', 'importer,exporter', 'bookeeping', 'non-refractory', 'epitoanyag', 'engaged', 'entrepot', 'fish-paste', 'italy-based', 'quota', 'epulet', 'tnhh', 'principal', 'being', 'exception', 'kinh', 'cimen', 'brokage', 'nadzor', 'ervice', 'petr', 'metal-forming', 'unanimous', 'sss', 'preserving', 'mezogazdasagi', 'precursor', 'tiss', 'coachwork', 'bathhouses', 'unmanufactured', 'non-depository', '2022', 'craftmanship', 'muanyag', 'valid', 'sharp-edged', 'lss', 'xss', 'approval', 'metal-working', 'non-hotel', 'electrothermic', 'unh', 'incidental', 'asset/portfolio', 'specialised', 'none', 'parfumes', 'procelain', 'butor', 'cooked-food', 'crustaceans', 'face-amount', 'household-type', 'classifiable', 'muszaki', 'machine-made', 'whatsoever', 'stearing', 'jud', 'examined', 'indicate', 'occupation', 'mobiltelefon', 'petofi', 'gaseous', 'firecrackers', 'stopped', 'fenti', 'non-residental', 'xay', 'wearing', 'provision', 'nhss', 'manufa', 'equiment', '161st', 'cotton-type', 'nem', 'buffaloes', 'vss', 'upholster', '50.10', 'cargo-specific', '6828', 'gardening', 'jewelery', 'artware', 'kossuth', 'luss', 'aqua-marine', 'includ', 'activity', 'manu', \"ass'y\", 'tangible', 'iroda', 'accordance', 'organisers', 'distributon', 'industrial-type', 'currying', 'pulb', 'konyv', 'classified', 'exported', 'accouting', '189th', 'apparatuses', '9001:2000', '89th', '225th', '239th', '66th', 'longer', 'plaything', 'leguminous', 'refusal', 'popularization', 'n.e', '25,000,000', '2023', '164th', 'water/heat', '207th', '145th', '58th', '149th', '153rd', 'software/applications', '191st', 'gazdasagi', 'bread-type', 'szamitastechnikai', 'medicaments', 'only', 'sinh', 'conta', 'hydrometeorology', 'bamboo', 'photoelectronic', 'wholesale', 'appraising', 'relevant', 'centralised', 'building-cleaning', 'vidio', 'stipulate', 'szarazfoldi', 'malomipari', '15.71', 'ruha', 'furskins', '154th', 'sheet-metal', 'instructive', 'pre-approval', 'disadvantage', 'refuse-disposal', 'cinematograph', 'activites', 'bu', 'cement-related', 'alcohol-containing', 'realised', '151st', 'minimotor', '155th', '120th', '100th', '181st', 'self-used', 'utca', 'prohibition', 'wich', 'prodaja', 'ass', 'guilt', 'nagy', '0.02', 'joins', 'ornamentations', 'saddlery', 'reused', 'ngss', 'manufature', '137th', 'organising', 'restrictions', 'tua', '167th', 'sustava', 'renting', '9001:2008', 'oceangoing', 'non-metals', 'wine-cellars', 'amounting', 'headquarted', 'tarolo', '160th', 'rendszerek', '22.22', '192nd', 'vaci', 'products(excluding', 'dollars', 'fee', 'surface-active', 'perfuming', 'scope', 'khoa', 'reexport', '205th', 'othe', 'szerviz', 'newsvendors', 'prohibiting', '76th', 'self-research', '6807', '88th', 'prejudice', 'norway-based', '60th', 'gasfield', 'non-store', 'furtherance', 'untill', 'swedish-based', 'law-firms', 'seaweeds', 'uninhabitable', 'tgk', 'realized', 'specialising', 'marker', 'projektiranje', 'postrojenja', '150th', 'finfishes', 'eduction', 'piac', '73rd', 'mashines', '122nd', '72nd', 'smaralind', 'sutoipari', 'own-account', '127th', 'telep', 'electrowelding', '138th', '20.30', 'sanitary-technical', 'thereof', 'data-processing', 'non-residential', '0.05', 'elec', 'grem', '64th', 'proizvoda', \"hairdresser's\", 'mernoki', 'fishes', 'automaker', 'acupuncturists', 'sweden-based', 'nondairy', 'concrete-related', 'airtight', 'post-licensing', 'obavljanje', 'inthe', 'putnika', 'retial', 'optikai', '262nd', 'ivica', 'utazasi', '111th', 'restricted', 'manufacture', \"lloyd's\", 'usluga', 'haberdashery', 'accusation', '135th', 'gepjarmu', 'kringlan', '2040', '125th', 'metal-roll', 'pruzanje', 'non-power', 'straw', 'xe', 'quarrying', 'lyceum', 'gyogyszer', '99th', 'microgaming', \"city's\", 'hand-knitting', 'scaffolding', 'photoengraving', '94th', 'micropiling', '93rd', 'ironware', 'interisland', 'cegled', 'hajo', '67th', 'federation-based', 'outerwears', 'finnacial', 'gaziemir', '50.50', 'whosale', 'torokbalint', 'unblocked', 'nestlings', 'repuloter', 'radovi', 'chinaware', 'necessities', 'relics', 'principally', 'second-class', 'signpost', 'cutleries', 'equi', 'gepi', 'szoftver', 'treatement', 'zil', 'druggists', 'woodenware', 'elektromos', '204th', 'fast-frozen', 'nyomdaipari', '91st', '104th', 'convention/conference', 'methylbenzene', 'arpad', 'pue', 'electro-diagnostic', 'intermediation', 'prov', 'plywoods', '14001:2004', 'priting', 'szent', 'electrial', 'horticulturist', 'electricty', 'non-distilled', '1037', 'altalanos', '405th', '2-propanol', 'houshold', 'mfsa', '107th', 'arany', '267th', 'affilate', 'tejtermek', 'tehnicke', 'restrict', 'respectively', 'ty', 'wooden', 'mastics', 'commission', 'departments', 'thereto', 'hastanesi', 'odrzavanje', 'loggias', 'flocafe', 'ataturk', 'acitivities', 'strojeva', 'sideline', 'else', 'ingatlan', 'finish', 'vanish', '49th', 'stereotypes', 'manufacure', 'ventillation', 'provisions', 'potassic', 'transporta', 'manometer', 'after', 'cho', 'banned', 'non-building', '71st', '6810', '87th', 'prijevoz', '92nd', 'nemzetkozi', 'self-running', '144th', '61st', '126th', 'orphanages', '114th', 'steelware', '1135', 'restaurant-cafe', 'commercialise', '291st', 'commercial-type', 'sub-contraction', 'kadikoy', 'travellators', 'austria-based', 'elektricnih', 'tereta', 'marginalised', 'magas', 'rjesenja', '202nd', 'anabolic', 'cafe-bar', 'rectifying', 'iso', 'decoratives', 'inflammable', 'dispatching', 'undertake', 'psychotropic', 'khai', 'recognised', 'imported', 'specializes', 'organise', 'economist', 'sew', 'letting', 'adornment', 'orvosi', 'ipar', 'carrying-out', 'designated', 'resemble', 'non-physical', 'honoured', '79th', 'netent', 'poslovi', 'importe', '70th', 'china-based', 'similar', 'sub-contracting', 'representations', 'foodstuff', 'irregular', 'thb', 'epitoipari', 'linh', 'cabarets', 'begining', 'wholsale', '53rd', '28.75', 'hydrometeorological', 'reconnaisance', 'zrinyi', 'cremating', 'basaksehir', 'moter', 'electing', 'koz', 'cotton-blend', 'construcion', 'reheated', 'trichloromethane', 'stereotyped', 'beylikduzu', 'beruhazas', 'fioktelep', 'jarmu', 'transporation', 'bijouterie', 'wirings', 'obtaining', 'nhi', 'above', '82nd', 'plate-making', 'feedstuff', 'non-domestic', 'legality', 'fireworks', 'fresh-keeping', '69th', '37th', 'italian-based', '244th', 'n-pentane', '5.000', '97th', 'autopalya', 'profils', 'equip', 'mss', 'modernisation', '3,000,000', 'plaster', 'self-support', 'bekescsaba', \"council's\", 'thu', 'inpatients', 'beneficiating', 'krt', 'gen', 'moulding', 'from/to', 'authorised', 'poverty', 'jul', 'moulds', 'licence', 'landscape', 'until', 'tss', 'handicrafts', 'joinery', 'stewed', 'nyiregyhaza', 'manufactur', '59th', 'istvan', '75th', \"municipality's\", '63rd', 'foreseeable', 'tranmission', 'knitgoods', 'dutch-based', 'tanya', \"thailand's\", 'iron-cast', 'instalations', 'acel', 'consultacy', '18001:2007', 'saw-mill', 'factorage', 'tupras', 'man-hole', 'celu', 'dulo', 'kirklareli', \"play'n\", \"component's\", 'halkali', '11-16', 'atakoy', 'digitalisation', 'maloprodaja', '1,3', 'injure', '74th', '55th', 'montaza', 'non-metal', 'relate', 'polling', 'm/c', 'distilling', 'kh', 'qua', 'motion-picture', 'organiser', 'entrustment', 'sorted', 'coloration', 'allowed', 'ozel', 'sub-district', 'telecomunication', 'zonguldak', 'therewith', 'biss', 'granting', 'aforementioned', 'import', \"region's\", 'motocycles', '62nd', '77th', '65th', 'malatya', \"company's\", 'adjusted', 'inretail', 'leatherware', 'wholesale-retail', 'maintance', '1062', 'affliate', 'saucepan', 'constrcution', 'adiyaman', 'janos', '9400', 'ceg', 'wind-driven', 'either', 'separately', 'must', 'nonelectric', 'colouring', 'evi', '95th', 'maintenace', '80th', 'nonchocolate', 'diyarbakir', '6801', 'tarmacadam', 'kaposvar', 'pre-primary', 'residental', 'iz', 'sub-contractors', 'maltese', 'gearwheels', 'pre-packaged', 'tobaccos', 'computer-related', 'furnitures', 'navigating', 'thao', 'luggages', 'zastupanje', 'oilseed', 'airfields', 'monopolization', 'tthe', '7400', 'micro-motor', 'bank-eligible', 'mateszalka', 'kiskereskedelmi', 'prometu', 'inaugurated', 'bejegyzett', 'gas-welding', '51.56', 'agencie', 'elelmiszeripari', 'sabiha', 'yesilkoy', 'hakkari', 'vizi', '1121', '3526', 'transfered', 'becsi', 'cankiri', 'plant-care', 'dimethylbenzene', 'vezer', 'sawlog', 'foodboard', 'difluoromethane', 'distirbution', 'nevsehir', 'bingol', 'saler', 'unless', 'wolesale', 'telemechanics', 'eszkoz', 'valve,butterfly', '2537', 'buldings', 'synod', '12345', 'szarvas', 'gokcen', 'budakalasz', 'exporte', 'uditoital', 'subsidised', 'purifying', 'haccp', 'quan', 'pachinko', 'bss', 'hand-operated', 'rubble', 'actresses', 'sevice', 'djelatnosti', 'homefurnishing', 'paper-plastic', 'deepfreeze', 'stylistic', '46th', 'agro-chemical', 'shellac', 'telefon', 'fertilisers', 'hrk', 'hrane', '2-butanone', 'patp', 'box-springs', 'bartok', 'transmitting/receiving', 'machiner', 'autoelectric', 'entrusting', 'canakkale', 'authorisation', 'ordinary', 'manufactu', 'own', 'trade', 'tapestry', 'brined', 'pinball', '4400', 'special-purpose', 'reproducing', 'uaz', '56th', 'bolu', 'restaurateur', 'russian-based', 'assimilation', 'agglomeration', 'couscous', 'sale', 'eqipment', '105th', 'distribucija', 'parlors', 'tenement', 'plasticware', 'consumer-type', 'tuber', 'relic', 'freezing', 'regulations', 'requisites', 'non-metallic', 'non-electric', 'unspecified', 'opreme', 'validity', 'be', 'hardship', 'articles', 'non-wood', 'lacquer', 'fastfood', 'activities', 'flammable', 'semi-processed', 'gasworks', 'fishmeals', 'dich', 'putovanja', 'ment', 'tsipouro', 'phim', 'sheji', 'adverstising', 'bahcesehir', 'broadcast/television', 'saling', 'intruments', 'brkt', 'iy', 'hercegovina', 'n-butane', 'spareparts', 'silkworm', 'leasin', 'local/international', 'kartal', 'inreal', 'medical-care', 'posredovanje', 'elazig', 'engeneering', 'friss', '32nd', 'materijala', '4032', 'pannels', 'konstrukcija', 'nghiep', 'stained-glass', 'etterem', 'trien', '55.11', '1139', 'phenylethylene', 'protein-vitamin-mineral', 'ization', '1138', 'semi-wholesale', 'materails', 'inductrial', 'manufcture', 'tesisat', 'humax-cd4', 'robom', '5900', 'mutfak', 'investicijskih', 'novenytermesztesi', '1191', 'valve,check', 'sawmillers', '1051', 'kapu', 'javito', 'non-free', 'enemalta', 'customer-developer', '3-11', 'authorisations', 'instalacija', '31.62', 'consturction', 'kontrola', 'zanolimumab', 'non-western', 'saw-timbers', 'parfume', 'technopolymers', 'bayburt', 'buying-up', 'live-stock', 'stock-rearing', '1077', '1173', 'polystrene', 'suject', 'antracite', 'dangerous', 'kss', 'clothings', 'kis', 'shoyu', 'anadolu', 'erzurum', 'non-urban', 'uo', 'ferro-alloys', 'sfas', 'ouzo', 'post-harvest', 'involved']"
     ]
    }
   ],
   "source": [
    "diff_word[0:1000]"
   ]
  },
  {
   "cell_type": "code",
   "execution_count": null,
   "metadata": {},
   "outputs": [],
   "source": []
  },
  {
   "cell_type": "code",
   "execution_count": 34,
   "metadata": {},
   "outputs": [
    {
     "data": {
      "application/vnd.jupyter.widget-view+json": {
       "model_id": "",
       "version_major": 2,
       "version_minor": 0
      },
      "text/plain": [
       "FloatProgress(value=0.0, bar_style='info', description='Progress:', layout=Layout(height='25px', width='50%'),…"
      ]
     },
     "metadata": {},
     "output_type": "display_data"
    }
   ],
   "source": [
    "diff_word = []\n",
    "diff_idf = []\n",
    "for word_cap, idf_cap in capiq_dict.items():\n",
    "    if word_cap in orbis_dict:\n",
    "        diff_word.append(word_cap)\n",
    "        diff_idf.append(abs(idf_cap - orbis_dict[word_cap]))\n",
    "#         if abs(idf_cap - orbis_dict[word_cap]) > 4:\n",
    "#             print(word_cap)\n",
    "\n",
    "idx = sorted(range(len(diff_idf)), key=lambda k: diff_idf[k], reverse=True)\n",
    "diff_word = [diff_word[x] for x in idx]\n",
    "diff_id = [diff_idf[x] for x in idx]"
   ]
  },
  {
   "cell_type": "code",
   "execution_count": 35,
   "metadata": {},
   "outputs": [
    {
     "data": {
      "application/vnd.jupyter.widget-view+json": {
       "model_id": "",
       "version_major": 2,
       "version_minor": 0
      },
      "text/plain": [
       "FloatProgress(value=0.0, bar_style='info', description='Progress:', layout=Layout(height='25px', width='50%'),…"
      ]
     },
     "metadata": {},
     "output_type": "display_data"
    },
    {
     "name": "stdout",
     "output_type": "stream",
     "text": [
      "['dijk', 'nsk', 'installatio', 'stipulated', 'n.e.c', 'wor', 'self-run', 'stipulations', 'mimeographing', \"subject's\", 'subdividing', 'excluding', 'excl', 'shall', 'bureau', 'produ', 'suport', \"state's\", 'non-specialized', 'prohibited', 'steel-frame', 'fabri', 'predominating', 'non-specialised', 'laminboard', 'polywood', 'equipmen', 'thiss', 'plaiting', 'constru', 'unclassified', 'self-produced', 'grouped', 'non-cast', 'made-up', 'junkets', 'forbidden', 'van', 'monopolized', 'manufact', 'chss', 'papier-mache', 'source', 'doanh', 'above-mentioned', 'termek', 'discretion', 'food-stuffs', 'chuy', 'elelmiszer', 'bumboats', 'trad', 'trong', 'video-tape', 'genaral', 'bank/financial', 'imitative', 'tokyo', 'low-alcoholic', 'vechicles', 'manufac', 'cons', 'accessaries', 'nondepository', 'roll-forming', 'ugynoki', 'crocheted', 'prohibit', 'nec', 'termekek', 'massachusetts', 'formerly', 's.l', 'light-vehicle', 'laws', 'paper-producing', 'pty', 'berendezesek', 'california', 'toronto', 'giss', 'actvities', 'handphones', 'telecommunication-related', 'subject', '3,5', 'michigan', '9001', 'wraping', 'wujinjiaodian', 'elsewhere', 'osaka', 'husking', 'berbeadasa', 'passanger', 'frei', 'dominant', 'pvt', 'ionizing', 'petition']"
     ]
    }
   ],
   "source": [
    "diff_word[0:100]"
   ]
  },
  {
   "cell_type": "code",
   "execution_count": null,
   "metadata": {},
   "outputs": [],
   "source": []
  },
  {
   "cell_type": "code",
   "execution_count": 36,
   "metadata": {},
   "outputs": [
    {
     "data": {
      "application/vnd.jupyter.widget-view+json": {
       "model_id": "",
       "version_major": 2,
       "version_minor": 0
      },
      "text/plain": [
       "FloatProgress(value=0.0, bar_style='info', description='Progress:', layout=Layout(height='25px', width='50%'),…"
      ]
     },
     "metadata": {},
     "output_type": "display_data"
    }
   ],
   "source": [
    "from pyspark.ml.feature import NGram\n",
    "df_orbis = df_orbis.withColumn(\"short_description_tokens\", F.split(\"short_description\", \" \"))\n",
    "ngram = NGram(n=2, inputCol=\"short_description_tokens\", outputCol=\"bigrams\")\n",
    "df_orbis_ngram = ngram.transform(df_orbis)"
   ]
  },
  {
   "cell_type": "code",
   "execution_count": 37,
   "metadata": {},
   "outputs": [
    {
     "data": {
      "application/vnd.jupyter.widget-view+json": {
       "model_id": "",
       "version_major": 2,
       "version_minor": 0
      },
      "text/plain": [
       "FloatProgress(value=0.0, bar_style='info', description='Progress:', layout=Layout(height='25px', width='50%'),…"
      ]
     },
     "metadata": {},
     "output_type": "display_data"
    }
   ],
   "source": [
    "df_orbis_ngram_count = (\n",
    "  df_orbis_ngram.withColumn(\"bigrams_explode\", F.explode(F.col(\"bigrams\")))\n",
    "  .groupBy(\"bigrams_explode\")\n",
    "  .agg(F.count(\"*\").alias('count'))\n",
    "  .sort(F.col(\"count\").desc())\n",
    ")"
   ]
  },
  {
   "cell_type": "code",
   "execution_count": 42,
   "metadata": {},
   "outputs": [
    {
     "data": {
      "application/vnd.jupyter.widget-view+json": {
       "model_id": "",
       "version_major": 2,
       "version_minor": 0
      },
      "text/plain": [
       "FloatProgress(value=0.0, bar_style='info', description='Progress:', layout=Layout(height='25px', width='50%'),…"
      ]
     },
     "metadata": {},
     "output_type": "display_data"
    }
   ],
   "source": [
    "# df_orbis_ngram_count.where(df_orbis_ngram_count.bigrams_explode == \"brand name\").show()"
   ]
  },
  {
   "cell_type": "code",
   "execution_count": null,
   "metadata": {},
   "outputs": [],
   "source": []
  },
  {
   "cell_type": "code",
   "execution_count": 65,
   "metadata": {},
   "outputs": [
    {
     "data": {
      "application/vnd.jupyter.widget-view+json": {
       "model_id": "",
       "version_major": 2,
       "version_minor": 0
      },
      "text/plain": [
       "FloatProgress(value=0.0, bar_style='info', description='Progress:', layout=Layout(height='25px', width='50%'),…"
      ]
     },
     "metadata": {},
     "output_type": "display_data"
    }
   ],
   "source": [
    "word = 'operator'"
   ]
  },
  {
   "cell_type": "code",
   "execution_count": 66,
   "metadata": {},
   "outputs": [
    {
     "data": {
      "application/vnd.jupyter.widget-view+json": {
       "model_id": "",
       "version_major": 2,
       "version_minor": 0
      },
      "text/plain": [
       "FloatProgress(value=0.0, bar_style='info', description='Progress:', layout=Layout(height='25px', width='50%'),…"
      ]
     },
     "metadata": {},
     "output_type": "display_data"
    },
    {
     "name": "stdout",
     "output_type": "stream",
     "text": [
      "5.715319137664061"
     ]
    }
   ],
   "source": [
    "orbis_dict[word]"
   ]
  },
  {
   "cell_type": "code",
   "execution_count": 67,
   "metadata": {},
   "outputs": [
    {
     "data": {
      "application/vnd.jupyter.widget-view+json": {
       "model_id": "",
       "version_major": 2,
       "version_minor": 0
      },
      "text/plain": [
       "FloatProgress(value=0.0, bar_style='info', description='Progress:', layout=Layout(height='25px', width='50%'),…"
      ]
     },
     "metadata": {},
     "output_type": "display_data"
    },
    {
     "name": "stdout",
     "output_type": "stream",
     "text": [
      "2.8086299797591336"
     ]
    }
   ],
   "source": [
    "capiq_dict[word]"
   ]
  },
  {
   "cell_type": "code",
   "execution_count": null,
   "metadata": {},
   "outputs": [],
   "source": []
  }
 ],
 "metadata": {
  "kernelspec": {
   "display_name": "PySpark",
   "language": "",
   "name": "pysparkkernel"
  },
  "language_info": {
   "codemirror_mode": {
    "name": "python",
    "version": 2
   },
   "mimetype": "text/x-python",
   "name": "pyspark",
   "pygments_lexer": "python2"
  }
 },
 "nbformat": 4,
 "nbformat_minor": 2
}
