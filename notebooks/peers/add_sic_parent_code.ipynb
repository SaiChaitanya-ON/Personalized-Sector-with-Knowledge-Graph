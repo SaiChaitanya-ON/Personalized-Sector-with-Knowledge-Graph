{
 "cells": [
  {
   "cell_type": "code",
   "execution_count": 1,
   "metadata": {},
   "outputs": [
    {
     "data": {
      "text/html": [
       "Current session configs: <tt>{'executorCores': 4, 'executorMemory': '8096M', 'conf': {'spark.default.parallelism': 1000}, 'kind': 'pyspark'}</tt><br>"
      ],
      "text/plain": [
       "<IPython.core.display.HTML object>"
      ]
     },
     "metadata": {},
     "output_type": "display_data"
    },
    {
     "data": {
      "text/html": [
       "No active sessions."
      ],
      "text/plain": [
       "<IPython.core.display.HTML object>"
      ]
     },
     "metadata": {},
     "output_type": "display_data"
    }
   ],
   "source": [
    "%%configure -f\n",
    "{\"executorCores\": 4, \"executorMemory\": \"8096M\", \"conf\": {\"spark.default.parallelism\": 1000}}"
   ]
  },
  {
   "cell_type": "code",
   "execution_count": 2,
   "metadata": {},
   "outputs": [
    {
     "name": "stdout",
     "output_type": "stream",
     "text": [
      "Starting Spark application\n"
     ]
    },
    {
     "data": {
      "text/html": [
       "<table>\n",
       "<tr><th>ID</th><th>YARN Application ID</th><th>Kind</th><th>State</th><th>Spark UI</th><th>Driver log</th><th>Current session?</th></tr><tr><td>2</td><td>application_1573125328205_0003</td><td>pyspark</td><td>idle</td><td></td><td></td><td>✔</td></tr></table>"
      ],
      "text/plain": [
       "<IPython.core.display.HTML object>"
      ]
     },
     "metadata": {},
     "output_type": "display_data"
    },
    {
     "data": {
      "application/vnd.jupyter.widget-view+json": {
       "model_id": "",
       "version_major": 2,
       "version_minor": 0
      },
      "text/plain": [
       "FloatProgress(value=0.0, bar_style='info', description='Progress:', layout=Layout(height='25px', width='50%'),…"
      ]
     },
     "metadata": {},
     "output_type": "display_data"
    },
    {
     "name": "stdout",
     "output_type": "stream",
     "text": [
      "SparkSession available as 'spark'.\n"
     ]
    },
    {
     "data": {
      "application/vnd.jupyter.widget-view+json": {
       "model_id": "",
       "version_major": 2,
       "version_minor": 0
      },
      "text/plain": [
       "FloatProgress(value=0.0, bar_style='info', description='Progress:', layout=Layout(height='25px', width='50%'),…"
      ]
     },
     "metadata": {},
     "output_type": "display_data"
    }
   ],
   "source": [
    "import pandas as pd\n",
    "\n",
    "import gensim\n",
    "from gensim.utils import tokenize\n",
    "from gensim.parsing.preprocessing import remove_stopwords\n",
    "import string\n",
    "import numpy as np\n",
    "from langdetect import detect\n",
    "from pyspark.sql.functions import udf\n",
    "from pyspark.sql.types import StringType, IntegerType, ArrayType, DoubleType, MapType\n",
    "from pyspark.ml.feature import HashingTF, IDF, Tokenizer, StopWordsRemover, CountVectorizer\n",
    "from pyspark.ml import Pipeline\n",
    "import smart_open\n",
    "\n",
    "from pyspark.sql import SparkSession\n",
    "import pyspark.sql.functions as F\n",
    "import pyspark.sql.types as T"
   ]
  },
  {
   "cell_type": "code",
   "execution_count": 3,
   "metadata": {},
   "outputs": [
    {
     "data": {
      "application/vnd.jupyter.widget-view+json": {
       "model_id": "",
       "version_major": 2,
       "version_minor": 0
      },
      "text/plain": [
       "FloatProgress(value=0.0, bar_style='info', description='Progress:', layout=Layout(height='25px', width='50%'),…"
      ]
     },
     "metadata": {},
     "output_type": "display_data"
    }
   ],
   "source": [
    "df_csv = pd.read_csv(smart_open.open(\"s3://ai-data-lake-dev-eu-west-1/staging/peer/SIC_REV3.txt\"))"
   ]
  },
  {
   "cell_type": "code",
   "execution_count": 4,
   "metadata": {},
   "outputs": [
    {
     "data": {
      "application/vnd.jupyter.widget-view+json": {
       "model_id": "",
       "version_major": 2,
       "version_minor": 0
      },
      "text/plain": [
       "FloatProgress(value=0.0, bar_style='info', description='Progress:', layout=Layout(height='25px', width='50%'),…"
      ]
     },
     "metadata": {},
     "output_type": "display_data"
    }
   ],
   "source": [
    "code2desc = dict(zip(df_csv.Code, df_csv.Description))\n",
    "code2parent = dict(zip(df_csv.Code, df_csv.Parent))"
   ]
  },
  {
   "cell_type": "code",
   "execution_count": 5,
   "metadata": {},
   "outputs": [
    {
     "data": {
      "application/vnd.jupyter.widget-view+json": {
       "model_id": "",
       "version_major": 2,
       "version_minor": 0
      },
      "text/plain": [
       "FloatProgress(value=0.0, bar_style='info', description='Progress:', layout=Layout(height='25px', width='50%'),…"
      ]
     },
     "metadata": {},
     "output_type": "display_data"
    },
    {
     "name": "stdout",
     "output_type": "stream",
     "text": [
      "root\n",
      " |-- entity_id: string (nullable = true)\n",
      " |-- vendor: string (nullable = true)\n",
      " |-- status: string (nullable = true)\n",
      " |-- id_capiq: integer (nullable = true)\n",
      " |-- id_bvd: string (nullable = true)\n",
      " |-- primary_bvd_node: string (nullable = true)\n",
      " |-- name: string (nullable = true)\n",
      " |-- business_description: string (nullable = true)\n",
      " |-- primary_sic_node: string (nullable = true)\n",
      " |-- primary_naics_node: string (nullable = true)\n",
      " |-- primary_nace_node: string (nullable = true)\n",
      " |-- has_listed_equity: string (nullable = true)\n",
      " |-- country_of_incorporation: string (nullable = true)\n",
      " |-- country_of_incorporation_iso: string (nullable = true)\n",
      " |-- operating_countries: string (nullable = true)\n",
      " |-- number_employees: integer (nullable = true)\n",
      " |-- ccc: double (nullable = true)\n",
      " |-- revenue: double (nullable = true)\n",
      " |-- total_revenue: double (nullable = true)\n",
      " |-- net_inc_incl_xo: double (nullable = true)\n",
      " |-- total_debt_repaid: double (nullable = true)\n",
      " |-- ebitda: double (nullable = true)\n",
      " |-- total_assets: double (nullable = true)\n",
      " |-- ebit: double (nullable = true)\n",
      " |-- earn_cont_ops: double (nullable = true)\n",
      " |-- net_inc: double (nullable = true)\n",
      " |-- capex: double (nullable = true)\n",
      " |-- cfo: double (nullable = true)\n",
      " |-- cfi: double (nullable = true)\n",
      " |-- st_debt_issued: double (nullable = true)\n",
      " |-- long_term_debt_issued: double (nullable = true)\n",
      " |-- total_debt_issued: double (nullable = true)\n",
      " |-- st_debt_repaid: double (nullable = true)\n",
      " |-- long_term_debt_repaid: double (nullable = true)\n",
      " |-- cff: double (nullable = true)\n",
      " |-- cash_and_equiv: double (nullable = true)\n",
      " |-- total_equity: double (nullable = true)\n",
      " |-- fcf: double (nullable = true)\n",
      " |-- gross_profit: double (nullable = true)\n",
      " |-- oper_inc: double (nullable = true)\n",
      " |-- ebt_incl_xo: double (nullable = true)\n",
      " |-- total_liab: double (nullable = true)\n",
      " |-- ebitda_marg: double (nullable = true)\n",
      " |-- icr_ebit: double (nullable = true)\n",
      " |-- region: string (nullable = true)\n",
      " |-- company_type_name: string (nullable = true)\n",
      " |-- primary_sic_node_desc: string (nullable = true)\n",
      " |-- primary_naics_node_desc: string (nullable = true)\n",
      " |-- short_description: string (nullable = true)\n",
      " |-- clean_description: string (nullable = true)"
     ]
    }
   ],
   "source": [
    "df = spark.read.load(\"s3://ai-data-lake-dev-eu-west-1/staging/peer/company_data_denormalized_clean\")\n",
    "df.printSchema()"
   ]
  },
  {
   "cell_type": "code",
   "execution_count": 6,
   "metadata": {},
   "outputs": [
    {
     "data": {
      "application/vnd.jupyter.widget-view+json": {
       "model_id": "",
       "version_major": 2,
       "version_minor": 0
      },
      "text/plain": [
       "FloatProgress(value=0.0, bar_style='info', description='Progress:', layout=Layout(height='25px', width='50%'),…"
      ]
     },
     "metadata": {},
     "output_type": "display_data"
    }
   ],
   "source": [
    "def add_parent_code_desc(sic_code):\n",
    "    if not sic_code or sic_code not in code2desc:\n",
    "        return \"\"\n",
    "    desc = code2desc[sic_code]\n",
    "    id_parent = code2parent[sic_code]\n",
    "    parent_desc = code2desc[id_parent]\n",
    "    if desc != parent_desc:\n",
    "        desc += \" \" + parent_desc\n",
    "    return desc\n",
    "\n",
    "add_parent_code_desc_udf = udf(add_parent_code_desc, StringType())\n",
    "df = df.withColumn(\"enhanced_sic_desc\", add_parent_code_desc_udf('primary_sic_node')) "
   ]
  },
  {
   "cell_type": "code",
   "execution_count": 7,
   "metadata": {},
   "outputs": [
    {
     "data": {
      "application/vnd.jupyter.widget-view+json": {
       "model_id": "",
       "version_major": 2,
       "version_minor": 0
      },
      "text/plain": [
       "FloatProgress(value=0.0, bar_style='info', description='Progress:', layout=Layout(height='25px', width='50%'),…"
      ]
     },
     "metadata": {},
     "output_type": "display_data"
    }
   ],
   "source": [
    "(df\n",
    " .write\n",
    " .parquet(\"s3://ai-data-lake-dev-eu-west-1/staging/peer/company_data_denormalized_clean_extra_sic_code\", mode=\"overwrite\")\n",
    ")"
   ]
  },
  {
   "cell_type": "code",
   "execution_count": null,
   "metadata": {},
   "outputs": [],
   "source": []
  },
  {
   "cell_type": "code",
   "execution_count": 8,
   "metadata": {},
   "outputs": [
    {
     "data": {
      "application/vnd.jupyter.widget-view+json": {
       "model_id": "",
       "version_major": 2,
       "version_minor": 0
      },
      "text/plain": [
       "FloatProgress(value=0.0, bar_style='info', description='Progress:', layout=Layout(height='25px', width='50%'),…"
      ]
     },
     "metadata": {},
     "output_type": "display_data"
    }
   ],
   "source": [
    "# df_new = spark.read.load(\"s3://ai-data-lake-dev-eu-west-1/staging/peer/company_data_denormalized_deduped\")"
   ]
  },
  {
   "cell_type": "code",
   "execution_count": null,
   "metadata": {},
   "outputs": [],
   "source": []
  }
 ],
 "metadata": {
  "kernelspec": {
   "display_name": "PySpark",
   "language": "",
   "name": "pysparkkernel"
  },
  "language_info": {
   "codemirror_mode": {
    "name": "python",
    "version": 2
   },
   "mimetype": "text/x-python",
   "name": "pyspark",
   "pygments_lexer": "python2"
  }
 },
 "nbformat": 4,
 "nbformat_minor": 2
}
