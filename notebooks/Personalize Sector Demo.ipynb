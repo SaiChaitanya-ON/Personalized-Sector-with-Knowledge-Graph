{
 "cells": [
  {
   "cell_type": "code",
   "execution_count": 7,
   "id": "11925b96",
   "metadata": {},
   "outputs": [],
   "source": [
    "%store -r Data_Set_N\n",
    "\n",
    "import dgl\n",
    "import numpy as np\n",
    "import networkx as nx\n",
    "import torch as T\n",
    "import torch.nn as nn\n",
    "import torch.nn.functional as F\n",
    "\n",
    "import dgl.nn\n",
    "from dgl.nn.pytorch import GraphConv\n",
    "from dgl.nn import SAGEConv\n",
    "\n",
    "import itertools\n",
    "import matplotlib.pyplot as plt\n",
    "from sklearn.cluster import KMeans\n",
    "from torch.autograd import Variable\n",
    "from ipykernel import kernelapp as app\n",
    "import scipy.stats as stats\n",
    "import pylab as pl\n",
    "from scipy.stats import norm\n",
    "import statistics\n",
    "import numpy.linalg as LA\n",
    "\n",
    "from sklearn.cluster import KMeans\n",
    "from sklearn.manifold import TSNE\n",
    "import time\n",
    "import seaborn as sns\n",
    "import matplotlib.patheffects as PathEffects\n",
    "sns.set_style('darkgrid')\n",
    "sns.set_palette('muted')\n",
    "sns.set_context(\"notebook\", font_scale=1.5,rc={\"lines.linewidth\": 2.5})\n",
    "\n",
    "import nbimporter\n",
    "from NDE_Time_Series_Problem import fashion_scatter\n",
    "from Proof_of_Concept_KG import build_borrower_sector_graph,Loss_Function,my_agg_func"
   ]
  },
  {
   "cell_type": "code",
   "execution_count": 2,
   "id": "3e239b87",
   "metadata": {},
   "outputs": [
    {
     "name": "stdout",
     "output_type": "stream",
     "text": [
      "('9b1eabd9-e4e6-536f-b170-eb5fac7a78a0', {'Sector': '\"33361\"', 'Revenue': [0.1, 0.1, 0.1, 0.1, 0.1], 'EBITDA': [0, 0, 0, 0, 0], 'NDE': [1.0, 1.0, 1.0, 0, 0], 'TDE': [0, 0.39, 0.5, 0.67, 0]}) \n",
      "\n",
      "('f81f33f3-33e0-5ae0-b38d-45b320123515', {'Sector': '\"311612\"', 'Revenue': [0.1, 0.1, 0.1, 0.1, 0.1], 'EBITDA': [0, 0, 0, 0, 0], 'NDE': [0, 0, 0, 0, 0], 'TDE': [0, 0, 0, 0, 0]}) \n",
      "\n",
      "('9aed89eb-57c5-5d27-898d-2ecceda9b165', {'Sector': '\"5241\"', 'Revenue': [0.9, 0.9, 0.9, 0.9, 0.9], 'EBITDA': [0.7, 0.7, 0.7, 0.7, 0.7], 'NDE': [1.0, 0, 0.3, 0, 0], 'TDE': [0.66, 0.66, 0.61, 0.6, 0.63]}) \n",
      "\n",
      "7440\n"
     ]
    }
   ],
   "source": [
    "n = 0\n",
    "for i in Data_Set_N.items():\n",
    "    print(i,\"\\n\")\n",
    "    n += 1\n",
    "    if n == 3:\n",
    "        break\n",
    "        \n",
    "print(len(Data_Set_N))"
   ]
  },
  {
   "cell_type": "code",
   "execution_count": null,
   "id": "f8455be2",
   "metadata": {},
   "outputs": [],
   "source": []
  },
  {
   "cell_type": "code",
   "execution_count": 3,
   "id": "7438e704",
   "metadata": {},
   "outputs": [
    {
     "name": "stdout",
     "output_type": "stream",
     "text": [
      "['511210', '325414', '339112', '324110', '213112', '2111', '54151', '722511', '524126', '517312', '325412', '518210', '334413', '519130', '221210', '325', '722513', '517911', '541512', '334118', '2211', '515210', '524113', '517311', '541810', '334220', '721110', '3363', '334519', '334419', '531110', '486210', '22111', '221122', '334290', '33911', '334510', '339113', '512110', '515120']\n",
      "40\n",
      "2111\n",
      "('2918d60e-55d2-514f-8263-060119f0e052', {'Sector': '\"2111\"', 'Revenue': [0.3, 0.3, 0.3, 0.3, 0.3], 'EBITDA': [0.3, 0.3, 0.3, 0.2, 0.3], 'NDE': [0, 0, 0, 0, 0], 'TDE': [0, 0, 0, 0, 0]}) \n",
      "\n",
      "('f6c7cd56-c439-5d40-8d65-9839caa40b2b', {'Sector': '\"2111\"', 'Revenue': [0.6, 0.6, 0.6, 0.6, 0.6], 'EBITDA': [0.5, 0.5, 0.5, 0.5, 0.5], 'NDE': [0.0, 0, 0, 0, 0.0], 'TDE': [0.2, 0, 0, 0, 0.26]}) \n",
      "\n",
      "('f80c7cf4-bf79-5124-a7f4-722eba9aea84', {'Sector': '\"2111\"', 'Revenue': [0.1, 0.1, 0.1, 0.1, 0.1], 'EBITDA': [0, 0, 0, 0.1, 0], 'NDE': [0, 0, 1.0, 0, 0.9], 'TDE': [0, 0.15, 0.71, 0.93, 0.93]}) \n",
      "\n",
      "236\n"
     ]
    }
   ],
   "source": [
    "S = {}\n",
    "for i in Data_Set_N.values():\n",
    "    if i['Sector'][1:-1] in S.keys():\n",
    "        S[i['Sector'][1:-1]] += 1\n",
    "    else:\n",
    "        S[i['Sector'][1:-1]] = 1\n",
    "\n",
    "    \n",
    "l = []\n",
    "for i in S.items():\n",
    "    sec,n = i\n",
    "    if n > 30:\n",
    "        l.append(sec)\n",
    "        \n",
    "print(l)\n",
    "print(len(l))\n",
    "\n",
    "sector_name = input()\n",
    "\n",
    "if S[str(sector_name)] > 30:\n",
    "    pass\n",
    "else:\n",
    "    print(\"Not enough entities, select other sector\")\n",
    "\n",
    "\n",
    "New_Data_Set = {}\n",
    "for i in Data_Set_N.items():\n",
    "    ID,data = i\n",
    "    \n",
    "    if data['Sector'][1:-1] == sector_name:\n",
    "        New_Data_Set[ID] = data\n",
    "        \n",
    "    \n",
    "n = 0\n",
    "for i in New_Data_Set.items():\n",
    "    print(i,\"\\n\")\n",
    "    n += 1\n",
    "    if n == 3:\n",
    "        break\n",
    "        \n",
    "print(len(New_Data_Set))"
   ]
  },
  {
   "cell_type": "code",
   "execution_count": 6,
   "id": "615b6d91",
   "metadata": {},
   "outputs": [
    {
     "name": "stdout",
     "output_type": "stream",
     "text": [
      "{'\"2111\"'}\n",
      "No.of Borrowers  236  No.of Sectors  1\n"
     ]
    }
   ],
   "source": [
    "G, n_borrowers, n_sectors, sector_list = build_borrower_sector_graph(New_Data_Set)\n",
    "print(\"No.of Borrowers \", n_borrowers, \" No.of Sectors \", n_sectors)"
   ]
  },
  {
   "cell_type": "code",
   "execution_count": 8,
   "id": "6807b437",
   "metadata": {},
   "outputs": [],
   "source": [
    "class RGCN(nn.Module):\n",
    "    def __init__(self, in_RE, out_RE, in_NT, out_NT, in_Des, out_Des, in_sector, out_sector, in_borrower, out_borrower, L1_names, L2_names, L3_names, L4_names, L5_names):\n",
    "        super().__init__()\n",
    "\n",
    "        self.conv2 = dgl.nn.HeteroGraphConv({rel: GraphConv(in_RE, out_RE, 'none',False, activation = None, bias = False) for rel in L2_names}, aggregate='mean')\n",
    "        self.conv3 = dgl.nn.HeteroGraphConv({rel: GraphConv(in_NT, out_NT, 'none',False, activation = None, bias = False) for rel in L3_names}, aggregate='mean')\n",
    "        self.conv5 = dgl.nn.HeteroGraphConv({rel: GraphConv(in_borrower, out_borrower,'none', activation = None,bias = False) for rel in L5_names},aggregate = 'sum')\n",
    "\n",
    "    def forward(self, graph, inputs):\n",
    "        \n",
    "        RE_inputs = {'R' : inputs['R'], 'E' : inputs['E'], 'R&E' : inputs['R&E'], 'borrower' : inputs['borrower']}\n",
    "        h_RE = self.conv2(graph, RE_inputs)\n",
    "        #h_RE = {k: F.leaky_relu(v) for k, v in h_RE.items()}\n",
    "        #print(\"R\", inputs['R'], \"E\", inputs['E'],\"R&E \", h_RE['R&E'].dtype)\n",
    "        \n",
    "        NT_inputs = {'NDE' : inputs['NDE'], 'TDE' : inputs['TDE'], 'NDE&TDE' : inputs['NDE&TDE'], 'borrower' : inputs['borrower']}\n",
    "        h_NT = self.conv3(graph, NT_inputs)\n",
    "        #h_NT = {k: F.relu(v) for k, v in h_NT.items()}\n",
    "        #print(\"NDE\", inputs['NDE'], \"TDE\", inputs['TDE'],\"NDE&TDE \", h_NT['NDE&TDE'])\n",
    "        \n",
    "        \n",
    "        E = my_agg_func([h_RE['R&E'],h_NT['NDE&TDE']],15,'borrower')\n",
    "        #E = my_conc_func(h_RE['R&E'],h_NT['NDE&TDE'])\n",
    "        \n",
    "        borrower_inputs = {'borrower' : inputs['dummy_borrower'], 'R&E' : E}#,'sector' : h_sector['sector'], 'Description' : h_Des['Description']}\n",
    "        \n",
    "        h_borrower = self.conv5(graph, borrower_inputs)\n",
    "        #h_borrower = {k: T.relu(v) for k, v in h_borrower.items()}\n",
    "        #print(\"Borrower Embeddings \", h_borrower)\n",
    "        \n",
    "        return h_borrower\n",
    "    "
   ]
  },
  {
   "cell_type": "code",
   "execution_count": 9,
   "id": "de00934f",
   "metadata": {},
   "outputs": [],
   "source": [
    "model = RGCN(5,5,5,5,768,768,768,768,15,15, ['belongs to','effect'],['R_att','E_att','fin1'],['NDE_att','TDE_att','fin2'],['text_att','text'],['belongs to','text','fin1','fin2'])\n",
    "\n",
    "for i in New_Data_Set.items():\n",
    "    ID,data = i\n",
    "    R_Att = T.tensor([data['Revenue']])\n",
    "    E_Att = T.tensor([data['EBITDA']])\n",
    "    NDE_Att = T.tensor([data['NDE']])\n",
    "    TDE_Att = T.tensor([data['TDE']])\n",
    "    break\n",
    "    \n",
    "for i in New_Data_Set.items():\n",
    "    ID,data = i\n",
    "    R_Att = T.cat((R_Att,T.tensor([data['Revenue']])),0)\n",
    "    E_Att = T.cat((E_Att,T.tensor([data['EBITDA']])),0)\n",
    "    NDE_Att = T.cat((NDE_Att,T.tensor([data['NDE']])),0)\n",
    "    TDE_Att = T.cat((TDE_Att,T.tensor([data['TDE']])),0)\n",
    "    \n",
    "    \n",
    "    \n",
    "G.nodes['borrower'].data['f'] = T.ones(n_borrowers,5)\n",
    "G.nodes['R'].data['f'] = R_Att[1:]\n",
    "G.nodes['E'].data['f'] = E_Att[1:]\n",
    "G.nodes['R&E'].data['f'] = T.ones(n_borrowers,5)\n",
    "G.nodes['NDE'].data['f'] = NDE_Att[1:]\n",
    "G.nodes['TDE'].data['f'] = TDE_Att[1:]\n",
    "G.nodes['NDE&TDE'].data['f'] = T.ones(n_borrowers,5)\n",
    "# G.nodes['Att_Description'].data['f'] = T.ones(n_borrowers,768)\n",
    "# G.nodes['Description'].data['f'] = T.ones(n_borrowers,768)\n",
    "# G.nodes['Factor'].data['f'] = T.ones(n_sectors,768)\n",
    "# G.nodes['sector'].data['f'] = T.ones(n_sectors,768)"
   ]
  },
  {
   "cell_type": "code",
   "execution_count": 10,
   "id": "b7d68601",
   "metadata": {},
   "outputs": [],
   "source": [
    "borrower_feats = G.nodes['borrower'].data['f']\n",
    "# sector_feats = G.nodes['sector'].data['f']\n",
    "R_feats = G.nodes['R'].data['f']\n",
    "E_feats = G.nodes['E'].data['f']\n",
    "RE_feats = G.nodes['R&E'].data['f']\n",
    "NDE_feats = G.nodes['NDE'].data['f']\n",
    "TDE_feats = G.nodes['TDE'].data['f']\n",
    "NT_feats = G.nodes['NDE&TDE'].data['f']\n",
    "# Des_feats = G.nodes['Description'].data['f']\n",
    "# Des_att_feats = G.nodes['Att_Description'].data['f']\n",
    "# factor_feats = G.nodes['Factor'].data['f']\n",
    "dummy_borrower_feats = T.ones(n_borrowers,15)\n",
    "\n",
    "node_features = {'borrower':borrower_feats,'R':R_feats,'E':E_feats,'R&E':RE_feats,'NDE':NDE_feats,\n",
    "                 'TDE':TDE_feats,'NDE&TDE': NT_feats,\n",
    "                 'dummy_borrower' : dummy_borrower_feats}\n",
    "opt = T.optim.Adam(model.parameters(),lr=0.01)\n",
    "\n",
    "clusters = 4\n",
    "Loss = []\n",
    "epochs = 101\n",
    "\n",
    "    \n",
    "for epoch in range(epochs):\n",
    "        \n",
    "    model.train()                              # Forward Propogation\n",
    "    logits = model(G, node_features)\n",
    "    Borrower_Emb = logits['borrower'].detach().numpy()\n",
    "\n",
    "    \n",
    "    if epoch%25 == 0: \n",
    "        \n",
    "        training_kmeans = KMeans(n_clusters=clusters, random_state=0).fit(Borrower_Emb)    # K_Means Clustering\n",
    "        centers = training_kmeans.cluster_centers_\n",
    "        \n",
    "        #TSNE before training\n",
    "#         if epoch == 0:\n",
    "#             fashion_tsne = TSNE(random_state=0).fit_transform(Borrower_Emb)\n",
    "#             fashion_scatter(fashion_tsne, training_kmeans.labels_)\n",
    "        \n",
    "        \n",
    "        target_centers = []\n",
    "        for i in Borrower_Emb:\n",
    "            l = []\n",
    "            for j in centers:\n",
    "                mse = np.square(i - j).mean()\n",
    "                l.append(mse)\n",
    "\n",
    "            target_centers.append(l.index(min(l)))\n",
    "\n",
    "\n",
    "        centers = T.tensor(centers)\n",
    "        target_centers = centers[T.tensor(target_centers)]\n",
    "    \n",
    "\n",
    "    loss = Loss_Function(logits['borrower'], target_centers, centers, training_kmeans.labels_)     # Loss Calculation\n",
    "    Loss.append(loss.tolist())\n",
    "\n",
    "    \n",
    "    opt.zero_grad()             # Back Propogation\n",
    "    loss.backward()\n",
    "    opt.step()\n",
    "    \n",
    "\n",
    "\n",
    "# training_labels = training_kmeans.labels_\n",
    "# %store training_labels"
   ]
  },
  {
   "cell_type": "code",
   "execution_count": 11,
   "id": "034ec278",
   "metadata": {},
   "outputs": [
    {
     "data": {
      "image/png": "[encoded data removed]",
      "text/plain": [
       "<Figure size 432x288 with 1 Axes>"
      ]
     },
     "metadata": {},
     "output_type": "display_data"
    }
   ],
   "source": [
    "plt.scatter(list(range(len(Loss))),Loss)\n",
    "plt.title(\"Loss\")\n",
    "plt.xlabel(\"No.of Iterations\")\n",
    "plt.show()\n",
    "\n",
    "# fashion_tsne = TSNE(random_state=0).fit_transform(Borrower_Emb)\n",
    "# fashion_scatter(fashion_tsne, training_kmeans.labels_)"
   ]
  },
  {
   "cell_type": "code",
   "execution_count": 12,
   "id": "d95aae0c",
   "metadata": {},
   "outputs": [
    {
     "name": "stdout",
     "output_type": "stream",
     "text": [
      "[ 0.0878858   0.04239262 -0.04877112 -0.01713539  0.09781418 -0.01226786\n",
      " -0.06968946 -0.08390062  0.00109323 -0.00900131  0.08725873 -0.02250268\n",
      "  0.09260736  0.09409042 -0.04146211] \n",
      "\n",
      "[ 0.18073304  0.08715848 -0.10024682 -0.03522829  0.2011304  -0.02522811\n",
      " -0.14331284 -0.17249492  0.00223909 -0.01851276  0.17943877 -0.04625347\n",
      "  0.19043376  0.19346899 -0.08522482] \n",
      "\n",
      "[ 0.07948542  0.03853095 -0.04437843 -0.01555079  0.08805142 -0.01112707\n",
      " -0.06353818 -0.07616884  0.00143769 -0.00819798  0.0789794  -0.0203124\n",
      "  0.08373723  0.08510765 -0.03756404] \n",
      "\n"
     ]
    }
   ],
   "source": [
    "n = 0\n",
    "for i in Borrower_Emb:\n",
    "    print(i,\"\\n\")\n",
    "    n += 1\n",
    "    if n == 3:\n",
    "        break"
   ]
  },
  {
   "cell_type": "code",
   "execution_count": 13,
   "id": "02403401",
   "metadata": {},
   "outputs": [
    {
     "data": {
      "image/png": "[encoded data removed]",
      "text/plain": [
       "<Figure size 576x576 with 1 Axes>"
      ]
     },
     "metadata": {},
     "output_type": "display_data"
    }
   ],
   "source": [
    "d = 1\n",
    "\n",
    "Rev = my_agg_func([R_Att[1:],E_Att[1:]],d,'borrower')[np.where(training_kmeans.labels_ == 0)[0]]\n",
    "Net = my_agg_func([NDE_Att[1:],TDE_Att[1:]],d,'borrower')[np.where(training_kmeans.labels_ == 0)[0]]\n",
    "\n",
    "\n",
    "Rev2 = my_agg_func([R_Att[1:],E_Att[1:]],d,'borrower')[np.where(training_kmeans.labels_ == 1)[0]]\n",
    "Net2 = my_agg_func([NDE_Att[1:],TDE_Att[1:]],d,'borrower')[np.where(training_kmeans.labels_ == 1)[0]]\n",
    "\n",
    "\n",
    "Rev3 = my_agg_func([R_Att[1:],E_Att[1:]],d,'borrower')[np.where(training_kmeans.labels_ == 2)[0]]\n",
    "Net3 = my_agg_func([NDE_Att[1:],TDE_Att[1:]],d,'borrower')[np.where(training_kmeans.labels_ == 2)[0]]\n",
    "\n",
    "\n",
    "Rev4 = my_agg_func([R_Att[1:],E_Att[1:]],d,'borrower')[np.where(training_kmeans.labels_ == 3)[0]]\n",
    "Net4 = my_agg_func([NDE_Att[1:],TDE_Att[1:]],d,'borrower')[np.where(training_kmeans.labels_ == 3)[0]]\n",
    "\n",
    "plt.figure(figsize = (8,8))\n",
    "plt.scatter(-Rev,Net,s = 2,c = np.array(['blue']))\n",
    "plt.scatter(-Rev2,Net2, s= 2, c = np.array(['red']))\n",
    "plt.scatter(-Rev3,Net3, s = 2, c = np.array(['green']))\n",
    "plt.scatter(-Rev4,Net4, s = 2, c= np.array(['black']))\n",
    "plt.xlim(-2,2)\n",
    "plt.ylim(-2,2)\n",
    "plt.ylabel(\"Aggregated Ratio's\")\n",
    "plt.xlabel(\"Aggregated R&E\")\n",
    "plt.show()"
   ]
  },
  {
   "cell_type": "code",
   "execution_count": 14,
   "id": "9c892d9a",
   "metadata": {},
   "outputs": [
    {
     "ename": "NameError",
     "evalue": "name 'NearestNeighbors' is not defined",
     "output_type": "error",
     "traceback": [
      "\u001b[0;31m---------------------------------------------------------------------------\u001b[0m",
      "\u001b[0;31mNameError\u001b[0m                                 Traceback (most recent call last)",
      "\u001b[0;32m<ipython-input-14-7d93cffa46c0>\u001b[0m in \u001b[0;36m<module>\u001b[0;34m\u001b[0m\n\u001b[1;32m      3\u001b[0m     \u001b[0;32mif\u001b[0m \u001b[0mh\u001b[0m \u001b[0;34m<\u001b[0m \u001b[0mn_borrowers\u001b[0m\u001b[0;34m:\u001b[0m\u001b[0;34m\u001b[0m\u001b[0;34m\u001b[0m\u001b[0m\n\u001b[1;32m      4\u001b[0m         \u001b[0mH\u001b[0m \u001b[0;34m=\u001b[0m \u001b[0;34m[\u001b[0m\u001b[0;34m]\u001b[0m\u001b[0;34m\u001b[0m\u001b[0;34m\u001b[0m\u001b[0m\n\u001b[0;32m----> 5\u001b[0;31m         \u001b[0mKNN\u001b[0m \u001b[0;34m=\u001b[0m \u001b[0mNearestNeighbors\u001b[0m\u001b[0;34m(\u001b[0m\u001b[0mn_neighbors\u001b[0m\u001b[0;34m=\u001b[0m\u001b[0mh\u001b[0m\u001b[0;34m)\u001b[0m\u001b[0;34m.\u001b[0m\u001b[0mfit\u001b[0m\u001b[0;34m(\u001b[0m\u001b[0mBorrower_Emb\u001b[0m\u001b[0;34m)\u001b[0m\u001b[0;34m\u001b[0m\u001b[0;34m\u001b[0m\u001b[0m\n\u001b[0m\u001b[1;32m      6\u001b[0m \u001b[0;34m\u001b[0m\u001b[0m\n\u001b[1;32m      7\u001b[0m         \u001b[0;32mfor\u001b[0m \u001b[0mp\u001b[0m \u001b[0;32min\u001b[0m \u001b[0mrange\u001b[0m\u001b[0;34m(\u001b[0m\u001b[0mn_borrowers\u001b[0m\u001b[0;34m)\u001b[0m\u001b[0;34m:\u001b[0m\u001b[0;34m\u001b[0m\u001b[0;34m\u001b[0m\u001b[0m\n",
      "\u001b[0;31mNameError\u001b[0m: name 'NearestNeighbors' is not defined"
     ]
    }
   ],
   "source": [
    "M = []\n",
    "for h in range(10,50):\n",
    "    if h < n_borrowers:\n",
    "        H = []\n",
    "        KNN = NearestNeighbors(n_neighbors=h).fit(Borrower_Emb)\n",
    "\n",
    "        for p in range(n_borrowers):\n",
    "            distances, indices = KNN.kneighbors([Borrower_Emb[p]])\n",
    "\n",
    "            indices[0].sort()\n",
    "            #print(\"Borrower \",p,\" neighbors \",indices[0])\n",
    "\n",
    "            n = 0\n",
    "            l = []\n",
    "            for i in New_Data_Set.items():\n",
    "                ID,data = i\n",
    "\n",
    "                if n in indices[0]:\n",
    "                    for j in range(3):\n",
    "                        if n in np.where(training_kmeans.labels_ == j)[0]:\n",
    "                            l.append(j)                   \n",
    "                n += 1\n",
    "\n",
    "            if all(element == l[0] for element in l):\n",
    "                pass\n",
    "            else:\n",
    "                H.append(p)\n",
    "            \n",
    "        M.append(len(H)*100/n_borrowers)\n",
    "    \n",
    "    else:\n",
    "        break"
   ]
  },
  {
   "cell_type": "code",
   "execution_count": null,
   "id": "60d70411",
   "metadata": {},
   "outputs": [],
   "source": [
    "plt.plot(np.arange(10,len(M)+10),M)\n",
    "plt.xlabel(\"No.of Neighbors\")\n",
    "plt.ylabel(\"% Borrowers in mixed clusters \")\n",
    "plt.show()"
   ]
  },
  {
   "cell_type": "code",
   "execution_count": 15,
   "id": "d20aa6cd",
   "metadata": {},
   "outputs": [
    {
     "name": "stdout",
     "output_type": "stream",
     "text": [
      "[0, 2, 6, 14, 15, 22, 32, 44, 47, 51, 54, 61, 63, 64, 65, 73, 78, 88, 90, 91, 92, 95, 99, 104, 106, 107, 114, 116, 118, 119, 121, 123, 129, 131, 134, 142, 151, 153, 165, 167, 168, 174, 178, 179, 182, 187, 194, 195, 196, 197, 205, 209, 210, 219, 226, 227, 232] [1, 4, 5, 8, 9, 11, 12, 16, 17, 20, 21, 25, 26, 27, 28, 29, 30, 31, 33, 34, 37, 40, 41, 43, 45, 46, 49, 50, 52, 53, 56, 57, 59, 60, 62, 66, 70, 71, 74, 77, 79, 82, 83, 84, 86, 89, 96, 97, 98, 100, 101, 102, 103, 108, 109, 110, 113, 115, 117, 120, 122, 124, 126, 128, 132, 135, 136, 138, 139, 140, 141, 145, 146, 147, 148, 149, 150, 154, 155, 157, 158, 159, 164, 166, 170, 171, 172, 173, 177, 180, 183, 184, 186, 188, 193, 198, 199, 200, 201, 203, 206, 213, 214, 217, 218, 220, 223, 224, 228, 229, 231, 234, 235] [3, 7, 10, 13, 18, 19, 23, 24, 35, 36, 38, 39, 42, 48, 55, 58, 67, 68, 69, 72, 75, 76, 80, 81, 85, 87, 93, 94, 105, 111, 112, 125, 127, 130, 133, 137, 143, 144, 152, 156, 160, 161, 162, 163, 169, 175, 176, 181, 185, 189, 190, 191, 192, 202, 204, 207, 208, 211, 212, 215, 216, 221, 222, 225, 230, 233]\n",
      "57 113 66\n"
     ]
    },
    {
     "data": {
      "image/png": "[encoded data removed]",
      "text/plain": [
       "<Figure size 432x432 with 1 Axes>"
      ]
     },
     "metadata": {},
     "output_type": "display_data"
    }
   ],
   "source": [
    "X_1 = logits['borrower'].detach().numpy()\n",
    "kmeans_1 = KMeans(n_clusters=3, random_state=0).fit(X_1)\n",
    "\n",
    "PS1_1 = []\n",
    "PS2_1 = []\n",
    "PS3_1 = []\n",
    "\n",
    "for i in range(len(kmeans_1.labels_)):\n",
    "    if kmeans_1.labels_[i] == 0:\n",
    "        PS1_1.append(i)\n",
    "    elif kmeans_1.labels_[i] == 1:\n",
    "        PS2_1.append(i)\n",
    "    elif kmeans_1.labels_[i] == 2:\n",
    "        PS3_1.append(i)\n",
    "    \n",
    "print(PS1_1,PS2_1,PS3_1)\n",
    "        \n",
    "Psector1_rev_1 = np.array([0.,0.,0.,0.,0.])\n",
    "Psector2_rev_1 = np.array([0.,0.,0.,0.,0.])\n",
    "Psector3_rev_1 = np.array([0.,0.,0.,0.,0.])\n",
    "sector_rev = np.array([0.,0.,0.,0.,0.])\n",
    "n = 0\n",
    "m = 0\n",
    "p = 0\n",
    "q = 0\n",
    "for i in New_Data_Set.items():\n",
    "    ID,data = i\n",
    "    if n in PS1_1:\n",
    "        #print(data['Sector'],data['Revenue'],data['EBITDA'],data['NDE'],data['TDE'])\n",
    "        Psector1_rev_1 += np.array(data['Revenue'])\n",
    "        m += 1\n",
    "    if n in PS2_1:\n",
    "        #print(data['Sector'],data['Revenue'],data['EBITDA'],data['NDE'],data['TDE'])\n",
    "        Psector2_rev_1 += np.array(data['Revenue'])\n",
    "        p += 1\n",
    "    if n in PS3_1:\n",
    "        #print(data['Sector'],data['Revenue'],data['EBITDA'],data['NDE'],data['TDE'])\n",
    "        Psector3_rev_1 += np.array(data['Revenue'])\n",
    "        q += 1\n",
    "    \n",
    "    sector_rev += np.array(data['Revenue'])\n",
    "           \n",
    "    n += 1\n",
    "    \n",
    "Psector1_rev_1 = Psector1_rev_1/m\n",
    "Psector2_rev_1 = Psector2_rev_1/p\n",
    "Psector3_rev_1 = Psector3_rev_1/q\n",
    "print(m,p,q)\n",
    "sector_rev = sector_rev/n\n",
    "\n",
    "plt.figure(figsize = (6,6))\n",
    "S, = plt.plot(range(len(sector_rev)),sector_rev,'k')\n",
    "ps1, = plt.plot(range(len(Psector1_rev_1)),Psector1_rev_1)\n",
    "ps2, = plt.plot(range(len(Psector2_rev_1)),Psector2_rev_1)\n",
    "ps3, = plt.plot(range(len(Psector3_rev_1)),Psector3_rev_1)\n",
    "plt.legend([S,ps1,ps2,ps3],[ 'Sector '+str(n_borrowers), 'PS1', 'PS2', 'PS3'])\n",
    "plt.title(sector_name + \" Sector Revenue for last 5 Years\")\n",
    "plt.xlabel(\"Years\")\n",
    "plt.ylabel(\"Normalized Revenue\")\n",
    "plt.show()"
   ]
  },
  {
   "cell_type": "code",
   "execution_count": null,
   "id": "e2f001c6",
   "metadata": {},
   "outputs": [],
   "source": []
  },
  {
   "cell_type": "code",
   "execution_count": null,
   "id": "bcd7fe08",
   "metadata": {},
   "outputs": [],
   "source": []
  }
 ],
 "metadata": {
  "kernelspec": {
   "display_name": "Python 3",
   "language": "python",
   "name": "python3"
  },
  "language_info": {
   "codemirror_mode": {
    "name": "ipython",
    "version": 3
   },
   "file_extension": ".py",
   "mimetype": "text/x-python",
   "name": "python",
   "nbconvert_exporter": "python",
   "pygments_lexer": "ipython3",
   "version": "3.7.4"
  }
 },
 "nbformat": 4,
 "nbformat_minor": 5
}
