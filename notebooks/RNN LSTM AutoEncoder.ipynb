{
 "cells": [
  {
   "cell_type": "code",
   "execution_count": 1,
   "id": "01158838",
   "metadata": {},
   "outputs": [],
   "source": [
    "!pip install tensorflow"
   ]
  },
  {
   "cell_type": "code",
   "execution_count": 92,
   "id": "8bb78f7c",
   "metadata": {},
   "outputs": [],
   "source": [
    "import os\n",
    "import torch \n",
    "import numpy as np\n",
    "import torchvision\n",
    "import torch.nn as nn\n",
    "import torchvision.transforms as transforms\n",
    "import torch.optim as optim\n",
    "import matplotlib.pyplot as plt\n",
    "import torch.nn.functional as F\n",
    "from sklearn.metrics.pairwise import cosine_similarity"
   ]
  },
  {
   "cell_type": "code",
   "execution_count": 93,
   "id": "555097be",
   "metadata": {},
   "outputs": [],
   "source": [
    "from tensorflow.keras.models import Sequential\n",
    "\n",
    "from keras.models import Model,Sequential, load_model\n",
    "from keras.layers import LSTM, Input\n",
    "from keras.layers import Dense\n",
    "from keras.layers import RepeatVector\n",
    "from keras.layers import TimeDistributed"
   ]
  },
  {
   "cell_type": "code",
   "execution_count": 94,
   "id": "85a6b7c5",
   "metadata": {},
   "outputs": [
    {
     "data": {
      "image/png": "[encoded data removed]",
      "text/plain": [
       "<Figure size 432x288 with 1 Axes>"
      ]
     },
     "metadata": {
      "needs_background": "light"
     },
     "output_type": "display_data"
    }
   ],
   "source": [
    "a = np.linspace(-np.pi, np.pi, num=100, endpoint=False)\n",
    "X = np.sin(a)\n",
    "Y = np.cos(a - 1.5*np.pi)\n",
    "plt.plot(range(len(X)),X)\n",
    "plt.plot(range(len(Y)),Y)\n",
    "X = X.reshape(100,1,1)\n",
    "Y = Y.reshape(100,1,1)\n",
    "#print(X)\n"
   ]
  },
  {
   "cell_type": "code",
   "execution_count": 91,
   "id": "896f85a6",
   "metadata": {},
   "outputs": [
    {
     "data": {
      "text/plain": [
       "127.03139734796724"
      ]
     },
     "execution_count": 91,
     "metadata": {},
     "output_type": "execute_result"
    }
   ],
   "source": [
    "dtw(X,Y,4)[-1][-1]"
   ]
  },
  {
   "cell_type": "code",
   "execution_count": 79,
   "id": "10612121",
   "metadata": {},
   "outputs": [
    {
     "name": "stdout",
     "output_type": "stream",
     "text": [
      "Predicted--- [[0.002]] ---Actual--- [[-0.]]\n",
      "Predicted--- [[0.002]] ---Actual--- [[-0.063]]\n",
      "Predicted--- [[0.002]] ---Actual--- [[-0.125]]\n",
      "Predicted--- [[0.002]] ---Actual--- [[-0.187]]\n",
      "Predicted--- [[0.002]] ---Actual--- [[-0.249]]\n",
      "Predicted--- [[0.002]] ---Actual--- [[-0.309]]\n",
      "Predicted--- [[0.002]] ---Actual--- [[-0.368]]\n",
      "Predicted--- [[0.002]] ---Actual--- [[-0.426]]\n",
      "Predicted--- [[0.002]] ---Actual--- [[-0.482]]\n",
      "Predicted--- [[0.002]] ---Actual--- [[-0.536]]\n",
      "Model: \"sequential_17\"\n",
      "_________________________________________________________________\n",
      "Layer (type)                 Output Shape              Param #   \n",
      "=================================================================\n",
      "lstm_54 (LSTM)               (None, 1, 64)             16896     \n",
      "_________________________________________________________________\n",
      "lstm_55 (LSTM)               (None, 1, 10)             3000      \n",
      "=================================================================\n",
      "Total params: 19,896\n",
      "Trainable params: 19,896\n",
      "Non-trainable params: 0\n",
      "_________________________________________________________________\n"
     ]
    }
   ],
   "source": [
    "# define model\n",
    "Sine = Sequential()\n",
    "Sine.add(LSTM(64, activation='relu', input_shape=(1,1), return_sequences=True))\n",
    "Sine.add(LSTM(10, activation='relu', return_sequences=True))\n",
    "Sine.add(LSTM(10, activation='relu', return_sequences=True))\n",
    "Sine.add(LSTM(64, activation='relu', return_sequences=True))\n",
    "Sine.add(TimeDistributed(Dense(1)))\n",
    "Sine.compile(optimizer='adam', loss='mse')\n",
    "#Sine.summary()\n",
    "\n",
    "# fit model\n",
    "Sine.fit(X, X, epochs=300, batch_size=1, verbose=0)\n",
    "# demonstrate reconstruction\n",
    "yhat = Sine.predict(X, verbose=0)\n",
    "for i in range(len(yhat)-90):\n",
    "    print('Predicted---', np.round(yhat[i],3),'---Actual---',np.round(X[i], 3))\n",
    "    \n",
    "\n",
    "\n",
    "new_model = Sequential()\n",
    "new_model.add(Sine.layers[0])\n",
    "new_model.add(Sine.layers[1])\n",
    "new_model.summary()\n",
    "\n",
    "i = 0\n",
    "for layer in new_model.layers:\n",
    "    layer.set_weights(Sine.layers[i].get_weights())\n",
    "    i += 1\n",
    "\n"
   ]
  },
  {
   "cell_type": "code",
   "execution_count": 80,
   "id": "fcdf45c9",
   "metadata": {},
   "outputs": [
    {
     "name": "stdout",
     "output_type": "stream",
     "text": [
      "Predicted--- [[-0.001]] ---Actual--- [[0.]]\n",
      "Predicted--- [[0.061]] ---Actual--- [[0.063]]\n",
      "Predicted--- [[0.124]] ---Actual--- [[0.125]]\n",
      "Predicted--- [[0.186]] ---Actual--- [[0.187]]\n",
      "Predicted--- [[0.249]] ---Actual--- [[0.249]]\n",
      "Predicted--- [[0.308]] ---Actual--- [[0.309]]\n",
      "Predicted--- [[0.366]] ---Actual--- [[0.368]]\n",
      "Predicted--- [[0.424]] ---Actual--- [[0.426]]\n",
      "Predicted--- [[0.481]] ---Actual--- [[0.482]]\n",
      "Predicted--- [[0.534]] ---Actual--- [[0.536]]\n",
      "Model: \"sequential_19\"\n",
      "_________________________________________________________________\n",
      "Layer (type)                 Output Shape              Param #   \n",
      "=================================================================\n",
      "lstm_58 (LSTM)               (None, 1, 64)             16896     \n",
      "_________________________________________________________________\n",
      "lstm_59 (LSTM)               (None, 1, 10)             3000      \n",
      "=================================================================\n",
      "Total params: 19,896\n",
      "Trainable params: 19,896\n",
      "Non-trainable params: 0\n",
      "_________________________________________________________________\n"
     ]
    }
   ],
   "source": [
    "CoSine = Sequential()\n",
    "CoSine.add(LSTM(64, activation='relu', input_shape=(1,1), return_sequences=True))\n",
    "CoSine.add(LSTM(10, activation='relu', return_sequences=True))\n",
    "CoSine.add(LSTM(10, activation='relu', return_sequences=True))\n",
    "CoSine.add(LSTM(64, activation='relu', return_sequences=True))\n",
    "CoSine.add(TimeDistributed(Dense(1)))\n",
    "CoSine.compile(optimizer='adam', loss='mse')\n",
    "#CoSine.summary()\n",
    "\n",
    "CoSine.fit(Y, Y, epochs=300, batch_size=1, verbose=0)\n",
    "# demonstrate reconstruction\n",
    "yhat = CoSine.predict(Y, verbose=0)\n",
    "for i in range(len(yhat)-90):\n",
    "    print('Predicted---', np.round(yhat[i],3),'---Actual---',np.round(Y[i], 3))\n",
    "    \n",
    "\n",
    "\n",
    "new_model2 = Sequential()\n",
    "new_model2.add(CoSine.layers[0])\n",
    "new_model2.add(CoSine.layers[1])\n",
    "new_model2.summary()\n",
    "\n",
    "i = 0\n",
    "for layer in new_model2.layers:\n",
    "    layer.set_weights(model.layers[i].get_weights())\n",
    "    i += 1"
   ]
  },
  {
   "cell_type": "code",
   "execution_count": 81,
   "id": "d469787a",
   "metadata": {},
   "outputs": [
    {
     "name": "stdout",
     "output_type": "stream",
     "text": [
      "[[[0.00331686 0.         0.00012646 0.00180636 0.00083846 0.0033508\n",
      "   0.0021417  0.00098294 0.         0.        ]]]\n",
      "[[[0.         0.09425826 0.10069322 0.         0.13770501 0.02205095\n",
      "   0.2539579  0.         0.17063768 0.        ]]]\n"
     ]
    }
   ],
   "source": [
    "shat = new_model.predict(X[:1], verbose=0)\n",
    "print(shat)\n",
    "chat = new_model2.predict(Y[:1], verbose=0)\n",
    "print(chat)"
   ]
  },
  {
   "cell_type": "code",
   "execution_count": 82,
   "id": "d6f9c8c2",
   "metadata": {},
   "outputs": [
    {
     "data": {
      "text/plain": [
       "array([[0.364194]], dtype=float32)"
      ]
     },
     "execution_count": 82,
     "metadata": {},
     "output_type": "execute_result"
    }
   ],
   "source": [
    "cosine_similarity(shat[0], chat[0])"
   ]
  },
  {
   "cell_type": "code",
   "execution_count": 83,
   "id": "170b70e3",
   "metadata": {},
   "outputs": [],
   "source": [
    "def dtw(s, t, window):\n",
    "    n, m = len(s), len(t)\n",
    "    w = np.max([window, abs(n-m)])\n",
    "    dtw_matrix = np.zeros((n+1, m+1))\n",
    "    \n",
    "    for i in range(n+1):\n",
    "        for j in range(m+1):\n",
    "            dtw_matrix[i, j] = np.inf\n",
    "    dtw_matrix[0, 0] = 0\n",
    "    \n",
    "    for i in range(1, n+1):\n",
    "        for j in range(np.max([1, i-w]), np.min([m, i+w])+1):\n",
    "            dtw_matrix[i, j] = 0\n",
    "    \n",
    "    for i in range(1, n+1):\n",
    "        for j in range(np.max([1, i-w]), np.min([m, i+w])+1):\n",
    "            cost = abs(s[i-1] - t[j-1])\n",
    "            # take last min from a square box\n",
    "            last_min = np.min([dtw_matrix[i-1, j], dtw_matrix[i, j-1], dtw_matrix[i-1, j-1]])\n",
    "            dtw_matrix[i, j] = cost + last_min\n",
    "    return dtw_matrix"
   ]
  },
  {
   "cell_type": "code",
   "execution_count": null,
   "id": "f116e015",
   "metadata": {},
   "outputs": [],
   "source": []
  }
 ],
 "metadata": {
  "kernelspec": {
   "display_name": "Python 3",
   "language": "python",
   "name": "python3"
  },
  "language_info": {
   "codemirror_mode": {
    "name": "ipython",
    "version": 3
   },
   "file_extension": ".py",
   "mimetype": "text/x-python",
   "name": "python",
   "nbconvert_exporter": "python",
   "pygments_lexer": "ipython3",
   "version": "3.7.4"
  }
 },
 "nbformat": 4,
 "nbformat_minor": 5
}
