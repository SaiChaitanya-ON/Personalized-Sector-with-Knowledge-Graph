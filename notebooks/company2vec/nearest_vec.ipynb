{
 "cells": [
  {
   "cell_type": "code",
   "execution_count": 1,
   "metadata": {},
   "outputs": [
    {
     "name": "stdout",
     "output_type": "stream",
     "text": [
      "Starting Spark application\n"
     ]
    },
    {
     "data": {
      "text/html": [
       "<table>\n",
       "<tr><th>ID</th><th>YARN Application ID</th><th>Kind</th><th>State</th><th>Spark UI</th><th>Driver log</th><th>Current session?</th></tr><tr><td>7</td><td>application_1566899959131_0008</td><td>pyspark</td><td>idle</td><td></td><td></td><td>✔</td></tr></table>"
      ],
      "text/plain": [
       "<IPython.core.display.HTML object>"
      ]
     },
     "metadata": {},
     "output_type": "display_data"
    },
    {
     "data": {
      "application/vnd.jupyter.widget-view+json": {
       "model_id": "",
       "version_major": 2,
       "version_minor": 0
      },
      "text/plain": [
       "FloatProgress(value=0.0, bar_style='info', description='Progress:', layout=Layout(height='25px', width='50%'),…"
      ]
     },
     "metadata": {},
     "output_type": "display_data"
    },
    {
     "name": "stdout",
     "output_type": "stream",
     "text": [
      "SparkSession available as 'spark'.\n"
     ]
    },
    {
     "data": {
      "application/vnd.jupyter.widget-view+json": {
       "model_id": "",
       "version_major": 2,
       "version_minor": 0
      },
      "text/plain": [
       "FloatProgress(value=0.0, bar_style='info', description='Progress:', layout=Layout(height='25px', width='50%'),…"
      ]
     },
     "metadata": {},
     "output_type": "display_data"
    }
   ],
   "source": [
    "from gensim.utils import tokenize\n",
    "from langdetect import detect\n",
    "import string\n",
    "from itertools import islice\n",
    "import numpy as np\n",
    "from scipy.sparse import csr_matrix\n",
    "import smart_open\n",
    "import faiss\n",
    "\n",
    "import pyspark.sql.functions as F\n",
    "import pyspark.sql.types as T\n",
    "\n",
    "from pyspark.ml.linalg import Vectors, VectorUDT\n",
    "\n",
    "import pickle"
   ]
  },
  {
   "cell_type": "code",
   "execution_count": 2,
   "metadata": {},
   "outputs": [
    {
     "data": {
      "application/vnd.jupyter.widget-view+json": {
       "model_id": "",
       "version_major": 2,
       "version_minor": 0
      },
      "text/plain": [
       "FloatProgress(value=0.0, bar_style='info', description='Progress:', layout=Layout(height='25px', width='50%'),…"
      ]
     },
     "metadata": {},
     "output_type": "display_data"
    }
   ],
   "source": [
    "model_path = \"s3://onai-ml-dev-eu-west-1/company2vec/model/svd\"\n",
    "word2id_path = \"s3://onai-ml-dev-eu-west-1/company2vec/common\"\n",
    "data_path = \"s3://onai-ml-dev-eu-west-1/company2vec/data\""
   ]
  },
  {
   "cell_type": "code",
   "execution_count": 3,
   "metadata": {},
   "outputs": [
    {
     "data": {
      "application/vnd.jupyter.widget-view+json": {
       "model_id": "",
       "version_major": 2,
       "version_minor": 0
      },
      "text/plain": [
       "FloatProgress(value=0.0, bar_style='info', description='Progress:', layout=Layout(height='25px', width='50%'),…"
      ]
     },
     "metadata": {},
     "output_type": "display_data"
    }
   ],
   "source": [
    "word2id = {}\n",
    "id2word = {}\n",
    "with smart_open.open(f\"{word2id_path}/bow/word2id.csv\", \"r\") as f:\n",
    "    for line in f:\n",
    "        word,idd = line.strip().split(\",\")\n",
    "        word2id[word] = int(idd)\n",
    "        id2word[int(idd)] = word"
   ]
  },
  {
   "cell_type": "code",
   "execution_count": 4,
   "metadata": {},
   "outputs": [
    {
     "data": {
      "application/vnd.jupyter.widget-view+json": {
       "model_id": "",
       "version_major": 2,
       "version_minor": 0
      },
      "text/plain": [
       "FloatProgress(value=0.0, bar_style='info', description='Progress:', layout=Layout(height='25px', width='50%'),…"
      ]
     },
     "metadata": {},
     "output_type": "display_data"
    }
   ],
   "source": [
    "with smart_open.open(f\"{model_path}/V/mat.np\", \"rb\") as f:\n",
    "    V = np.load(f)"
   ]
  },
  {
   "cell_type": "code",
   "execution_count": 5,
   "metadata": {},
   "outputs": [
    {
     "data": {
      "application/vnd.jupyter.widget-view+json": {
       "model_id": "",
       "version_major": 2,
       "version_minor": 0
      },
      "text/plain": [
       "FloatProgress(value=0.0, bar_style='info', description='Progress:', layout=Layout(height='25px', width='50%'),…"
      ]
     },
     "metadata": {},
     "output_type": "display_data"
    },
    {
     "name": "stdout",
     "output_type": "stream",
     "text": [
      "42829"
     ]
    }
   ],
   "source": [
    "len(word2id)"
   ]
  },
  {
   "cell_type": "code",
   "execution_count": 6,
   "metadata": {},
   "outputs": [
    {
     "data": {
      "application/vnd.jupyter.widget-view+json": {
       "model_id": "",
       "version_major": 2,
       "version_minor": 0
      },
      "text/plain": [
       "FloatProgress(value=0.0, bar_style='info', description='Progress:', layout=Layout(height='25px', width='50%'),…"
      ]
     },
     "metadata": {},
     "output_type": "display_data"
    }
   ],
   "source": [
    "with smart_open.open(f\"{model_path}/X/X_pca.np\", \"rb\") as f:\n",
    "    X_pca = np.load(f)"
   ]
  },
  {
   "cell_type": "code",
   "execution_count": 7,
   "metadata": {},
   "outputs": [
    {
     "data": {
      "application/vnd.jupyter.widget-view+json": {
       "model_id": "",
       "version_major": 2,
       "version_minor": 0
      },
      "text/plain": [
       "FloatProgress(value=0.0, bar_style='info', description='Progress:', layout=Layout(height='25px', width='50%'),…"
      ]
     },
     "metadata": {},
     "output_type": "display_data"
    }
   ],
   "source": [
    "with smart_open.open(f\"{model_path}/X/company_info.np\", \"rb\") as f:\n",
    "    description = np.load(f, allow_pickle=True)"
   ]
  },
  {
   "cell_type": "code",
   "execution_count": 8,
   "metadata": {},
   "outputs": [
    {
     "data": {
      "application/vnd.jupyter.widget-view+json": {
       "model_id": "",
       "version_major": 2,
       "version_minor": 0
      },
      "text/plain": [
       "FloatProgress(value=0.0, bar_style='info', description='Progress:', layout=Layout(height='25px', width='50%'),…"
      ]
     },
     "metadata": {},
     "output_type": "display_data"
    }
   ],
   "source": [
    "n,d = X_pca.shape"
   ]
  },
  {
   "cell_type": "code",
   "execution_count": 9,
   "metadata": {},
   "outputs": [
    {
     "data": {
      "application/vnd.jupyter.widget-view+json": {
       "model_id": "",
       "version_major": 2,
       "version_minor": 0
      },
      "text/plain": [
       "FloatProgress(value=0.0, bar_style='info', description='Progress:', layout=Layout(height='25px', width='50%'),…"
      ]
     },
     "metadata": {},
     "output_type": "display_data"
    },
    {
     "name": "stdout",
     "output_type": "stream",
     "text": [
      "3381364"
     ]
    }
   ],
   "source": [
    "index = faiss.IndexFlatL2(d)\n",
    "index.add(X_pca)\n",
    "print(index.ntotal)"
   ]
  },
  {
   "cell_type": "code",
   "execution_count": 10,
   "metadata": {},
   "outputs": [
    {
     "data": {
      "application/vnd.jupyter.widget-view+json": {
       "model_id": "",
       "version_major": 2,
       "version_minor": 0
      },
      "text/plain": [
       "FloatProgress(value=0.0, bar_style='info', description='Progress:', layout=Layout(height='25px', width='50%'),…"
      ]
     },
     "metadata": {},
     "output_type": "display_data"
    }
   ],
   "source": [
    "company2id = {}\n",
    "for i,desc in enumerate(description):\n",
    "    company2id[desc[0]] = i"
   ]
  },
  {
   "cell_type": "code",
   "execution_count": 18,
   "metadata": {},
   "outputs": [
    {
     "data": {
      "application/vnd.jupyter.widget-view+json": {
       "model_id": "",
       "version_major": 2,
       "version_minor": 0
      },
      "text/plain": [
       "FloatProgress(value=0.0, bar_style='info', description='Progress:', layout=Layout(height='25px', width='50%'),…"
      ]
     },
     "metadata": {},
     "output_type": "display_data"
    }
   ],
   "source": [
    "def query_peers(query_company, result_size=100):\n",
    "    query_vector = X_pca[np.newaxis, company2id[query_company]]\n",
    "    \n",
    "    desc_info = description[company2id[query_company]]\n",
    "    industry = desc_info[-2]\n",
    "    country = desc_info[-3]\n",
    "    \n",
    "    D, I = index.search(query_vector, result_size)\n",
    "    \n",
    "    ret = []\n",
    "    added = set()\n",
    "\n",
    "    for i,el in enumerate(I[0]):\n",
    "        if description[el,-2] == industry and description[el,-3] == country:\n",
    "            el = (D[0, i], description[el])\n",
    "            if repr(el) not in added:\n",
    "                ret.append(el)\n",
    "                added.add(repr(el))\n",
    "        if len(ret) >= result_size:\n",
    "            break\n",
    "\n",
    "    # TODO: once we have country embeddings, order by them\n",
    "    if len(ret) < result_size:\n",
    "        for i,el in enumerate(I[0]):\n",
    "            if description[el,-2] == industry:\n",
    "                el = (D[0, i], description[el])\n",
    "                if repr(el) not in added:\n",
    "                    ret.append(el)\n",
    "                    added.add(repr(el))\n",
    "            if len(ret) >= result_size:\n",
    "                break\n",
    "\n",
    "    # TODO: once we have industry class embeddings, order by them\n",
    "    if len(ret) < result_size:\n",
    "        for i,el in enumerate(I[0]):\n",
    "            if description[el,-3] == country:\n",
    "                el = (D[0, i], description[el])\n",
    "                if repr(el) not in added:\n",
    "                    ret.append(el)\n",
    "                    added.add(repr(el))\n",
    "            if len(ret) >= result_size:\n",
    "                break\n",
    "\n",
    "    if len(ret) < result_size:\n",
    "        for i,el in enumerate(I[0]):\n",
    "            el = (D[0, i], description[el])\n",
    "            if repr(el) not in added:\n",
    "                ret.append(el)\n",
    "                added.add(repr(el))\n",
    "            if len(ret) >= result_size:\n",
    "                break\n",
    "                \n",
    "    return ret\n",
    "\n",
    "\n",
    "def find_peer_in_result(results, peer):\n",
    "    for i, company in enumerate(results):\n",
    "        if peer == company:\n",
    "            return i+1\n",
    "\n",
    "    return -1\n",
    "\n",
    "\n",
    "def add_ranks_in_tops(ranks, counts):\n",
    "    for rank in ranks:\n",
    "        if 0 < rank <= 10:\n",
    "            counts[0] += 1\n",
    "        elif 10 < rank <= 20:\n",
    "            counts[1] += 1\n",
    "        elif 20 < rank <= 50:\n",
    "            counts[2] += 1\n",
    "        elif 50 < rank <= 100:\n",
    "            counts[3] += 1\n",
    "        elif 100 < rank:\n",
    "            counts[4] += 1\n",
    "        else:\n",
    "            counts[5] += 1\n",
    "    return counts\n",
    "\n",
    "tops = [0] * 6 # top 10, 20, 50, 100, >100, -1\n",
    "\n",
    "mrr = 0\n",
    "count = 0"
   ]
  },
  {
   "cell_type": "code",
   "execution_count": 13,
   "metadata": {
    "scrolled": true
   },
   "outputs": [
    {
     "data": {
      "application/vnd.jupyter.widget-view+json": {
       "model_id": "",
       "version_major": 2,
       "version_minor": 0
      },
      "text/plain": [
       "FloatProgress(value=0.0, bar_style='info', description='Progress:', layout=Layout(height='25px', width='50%'),…"
      ]
     },
     "metadata": {},
     "output_type": "display_data"
    },
    {
     "name": "stdout",
     "output_type": "stream",
     "text": [
      "(0.0, array([106335, 'Ford Motor Company',\n",
      "       'Ford Motor Company designs, manufactures, markets, and services a range of Ford cars, trucks, sport utility vehicles, and electrified vehicles worldwide. It operates through three segments: Automotive, Mobility, and Ford Credit. The Automotive segment sells Ford and Lincoln vehicles, service parts, and accessories through distributors and dealers, as well as through dealerships to commercial fleet customers, daily rental car companies, and governments. The Mobility segment designs and builds mobility services; and provides self-driving systems development and vehicle integration, autonomous vehicle research and engineering, and autonomous vehicle transportation-as-a-service network development services. The Ford Credit segment primarily engages in vehicle-related financing and leasing activities to and through automotive dealers. It provides retail installment sale contracts for new and used vehicles; and direct financing leases for new vehicles to retail and commercial customers, such',\n",
      "       'United States', '', 160338.0], dtype=object))\n",
      "(987.80524, array([61206100, 'General Motors Company',\n",
      "       'General Motors Company designs, builds, and sells cars, trucks, crossovers, and automobile parts worldwide. The company operates through GM North America, GM International, GM Cruise, and GM Financial. It markets its vehicles primarily under the Buick, Cadillac, Chevrolet, GMC, Holden, Baojun, Jiefang, and Wuling brand names. The company also sells trucks, crossovers, and cars to dealers for consumer retail sales, as well as to fleet customers, including daily rental car companies, commercial fleet customers, leasing companies, and governments. In addition, it offers connected safety, security, and mobility solutions for retail and fleet customers, including automatic crash response, stolen vehicle assistance, roadside assistance, dealer maintenance notifications, remote door unlock, turn-by-turn navigation, vehicle location services, hands-free calling, smart driver, and marketplace, as well as connectivity packages comprising remote vehicle access through a mobile application, on-dem',\n",
      "       'United States', '', 147049.0], dtype=object))\n",
      "(3196.2646, array([92817, 'Costco Wholesale Corporation',\n",
      "       'Costco Wholesale Corporation, together with its subsidiaries, operates membership warehouses. It offers branded and private-label products in a range of merchandise categories. The company provides dry and packaged foods, and groceries; snack foods, candies, alcoholic and nonalcoholic beverages, and cleaning supplies; appliances, electronics, health and beauty aids, hardware, and garden and patio products; meat, bakery, deli, and produces; and apparel and small appliances. It also operates gas stations, pharmacies, optical dispensing centers, food courts, and hearing-aid centers; and offers business delivery, travel, and various other services online in various countries. As of June 05, 2019, the company operated 773 membership warehouses, including 536 warehouses in the United States and Puerto Rico, 100 in Canada, 39 in Mexico, 28 in the United Kingdom, 26 in Japan, 16 in Korea, 13 in Taiwan, 11 in Australia, 2 in Spain, 1 in Iceland, and 1 in France. It also operates e-commerce site',\n",
      "       'United States', '', 141576.0], dtype=object))\n",
      "(4552.252, array([93624, 'Walgreens Boots Alliance, Inc.',\n",
      "       'Walgreens Boots Alliance, Inc. operates as a pharmacy-led health and wellbeing company. It operates through three segments: Retail Pharmacy USA, Retail Pharmacy International, and Pharmaceutical Wholesale. The Retail Pharmacy USA segment sells prescription drugs and an assortment of retail products, including health, beauty, personal care, consumable, and general merchandise products through its retail drugstores and convenient care clinics. It also provides specialty pharmacy services and mail services; and manages in-store clinics. As of August 31, 2018, this segment operated 9,560 retail stores under the Walgreens and Duane Reade brands in the United States; and 7 specialty pharmacies, as well as approximately 400 in-store clinic locations. The Retail Pharmacy International segment sells prescription drugs; and health, beauty, personal care, and other consumer products through its pharmacy-led health and beauty stores and optical practices, as well as through boots.com and an integr',\n",
      "       'United States', '', 131537.0], dtype=object))\n",
      "(5368.299, array([29096, 'Alphabet Inc.',\n",
      "       'Alphabet Inc. provides online advertising services in the United States, Europe, the Middle East, Africa, the Asia-Pacific, Canada, and Latin America. It offers performance and brand advertising services. The company operates through Google and Other Bets segments. The Google segment offers products, such as Ads, Android, Chrome, Google Cloud, Google Maps, Google Play, Hardware, Search, and YouTube, as well as technical infrastructure. This segment also offers digital content, cloud services, hardware devices, and other miscellaneous products and services. The Other Bets segment includes businesses, including Access, Calico, CapitalG, GV, Verily, Waymo, and X, as well as Internet and television services. Alphabet Inc. was founded in 1998 and is headquartered in Mountain View, California.',\n",
      "       'United States', '', 136819.0], dtype=object))\n",
      "(5951.932, array([172207, 'Cardinal Health, Inc.',\n",
      "       'Cardinal Health, Inc. operates as an integrated healthcare services and products company in the United States and internationally. It provides customized solutions for hospitals, healthcare systems, pharmacies, ambulatory surgery centers, clinical laboratories, and physician offices. The company operates through two segments, Pharmaceutical and Medical. The Pharmaceutical segment distributes branded and generic pharmaceutical, specialty pharmaceutical, and over-the-counter healthcare and consumer products. It also provides services to pharmaceutical manufacturers and healthcare providers for specialty pharmaceutical products; operates nuclear pharmacies and radiopharmaceutical manufacturing facilities; and offers pharmacy management services to hospitals, as well as medication therapy management and patient outcomes services to hospitals, other healthcare providers, and payers. In addition, this segment repackages generic pharmaceuticals and over-the-counter healthcare products. The Me',\n",
      "       'United States', '', 136809.0], dtype=object))\n",
      "(6076.177, array([24809, 'AmerisourceBergen Corporation',\n",
      "       'AmerisourceBergen Corporation sources and distributes pharmaceutical products in the United States and internationally. Its Pharmaceutical Distribution segment distributes brand-name and generic pharmaceuticals, over-the-counter healthcare products, home healthcare supplies and equipment, outsourced compounded sterile preparations, and related services to various healthcare providers, including acute care hospitals and health systems, independent and chain retail pharmacies, mail order pharmacies, medical clinics, long-term care and other alternate site pharmacies, and other customers. It also provides pharmacy management, staffing, and other consulting services; supply management software to retail and institutional healthcare providers; and packaging solutions to various institutional and retail healthcare providers. In addition, this segment distributes plasma and other blood products, injectable pharmaceuticals, vaccines, and other specialty products; provides other services primar',\n",
      "       'United States', '', 167939.635], dtype=object))\n",
      "(6455.085, array([370857, 'The Boeing Company',\n",
      "       'The Boeing Company, together with its subsidiaries, designs, develops, manufactures, sales, services, and supports commercial jetliners, military aircraft, satellites, missile defense, human space flight and launch systems, and services worldwide. The company operates in four segments: Commercial Airplanes; Defense, Space & Security; Global Services; and Boeing Capital. The Commercial Airplanes segment provides commercial jet aircraft for passenger and cargo requirements, as well as fleet support services, principally. The Defense, Space & Security segment engages in the research, development, production, and modification of manned and unmanned military aircraft and weapons systems; strategic defense and intelligence systems, which include strategic missile and defense systems, command, control, communications, computers, intelligence, surveillance and reconnaissance, cyber and information solutions, and intelligence systems; and satellite systems, such as government and commercial sat',\n",
      "       'United States', '', 101127.0], dtype=object))\n",
      "(7302.505, array([278679, 'The Home Depot, Inc.',\n",
      "       'The Home Depot, Inc. operates as a home improvement retailer. It operates The Home Depot stores that sell various building materials, home improvement products, lawn and garden products, and décor products, as well as provide installation, home maintenance, and professional service programs to do-it-yourself and professional customers. The company also offers installation programs that include flooring, cabinets and cabinet makeovers, countertops, furnaces and central air systems, and windows; and professional installation in various categories sold through its stores and in-home sales programs, as well as acts as a contractor to provide installation services to its do-it-for-me customers through third-party installers. In addition, it provides tool and equipment rental services. The company primarily serves home owners; and professional renovators/remodelers, general contractors, handymen, property managers, building service contractors, and specialty tradesmen, such as electricians, ',\n",
      "       'United States', '', 108203.0], dtype=object))\n",
      "(7716.2, array([284342, 'The Kroger Co.',\n",
      "       'The Kroger Co. operates as a retailer in the United States. The company operates supermarkets, multi-department stores, marketplace stores, and price impact warehouse stores. Its combination food and drug stores offer natural food and organic sections, pharmacies, general merchandise, pet centers, fresh seafood, and organic produce; and multi-department stores provide apparel, home fashion and furnishings, outdoor living, electronics, automotive products, and toys. The company\\x92s marketplace stores offer full-service grocery, pharmacy, health and beauty care departments, and perishable goods, as well as general merchandise, including apparel, home goods, and toys; and price impact warehouse stores provides grocery, and health and beauty care items, as well as meat, dairy, baked goods, and fresh produce items. It also manufactures and processes food products for sale in its supermarkets; and sells fuel through 1,537 fuel centers. As of March 7, 2019, the company operated 2,764 retail foo',\n",
      "       'United States', '', 121162.0], dtype=object))\n",
      "(8140.434, array([266017, 'Dell Technologies Inc.',\n",
      "       'Dell Technologies Inc. designs, develops, manufactures, markets, sells, and supports information technology (IT) products and services worldwide. It operates through three segments: Infrastructure Solutions Group (ISG), Client Solutions Group (CSG), and VMware. The ISG segment provides traditional and next-generation storage solutions; and rack, blade, tower, and hyperscale servers. It also offers networking products and services that help its business customers to transform and modernize their infrastructure, mobilize and enrich end-user experiences, and accelerate business applications and processes; and attached software, and peripherals, as well as support and deployment, configuration, and extended warranty services. The CSG segment offers desktops, notebooks, and workstations; displays and projectors; third-party software and peripherals; and support and deployment, configuration, and extended warranty services. The VMware segment offers compute, cloud management, and networking,',\n",
      "       'United States', '', 90621.0], dtype=object))\n",
      "(8481.545, array([3711604, 'JPMorgan Chase Bank, National Association',\n",
      "       'JPMorgan Chase Bank, National Association provides various banking products and services to corporate, institutional, and government clients in the United States and internationally. The company offers noninterest-bearing and interest-bearing time deposits. It also provides consumer loans, such as residential mortgages, home equity loans and lines of credit, auto loans, and consumer and business banking loans; and home equity loans secured by junior liens and prime mortgage loans. In addition, the company offers credit card loans; and wholesale loans to various customers, such as corporate and institutional clients, and high-net-worth individuals, as well as provides investment banking, financial transactions processing, and asset management services under the J.P. Morgan and Chase brands. It has retail branches in 27 states and the District of Columbia, the United States. The company is based in Columbus, Ohio. JPMorgan Chase Bank, National Association operates as a subsidiary of JPMo',\n",
      "       'United States', '', 95012.0], dtype=object))\n",
      "(8930.656, array([288195, 'McKesson Corporation',\n",
      "       'McKesson Corporation provides pharmaceuticals and medical supplies in the United States and internationally. It operates in three segments: U.S. Pharmaceutical and Specialty Solutions, European Pharmaceutical Solutions, and Medical-Surgical Solutions. The company distributes branded, generic, specialty, biosimilar, and over-the-counter pharmaceutical drugs, as well as other healthcare-related products; and offers practice management, technology, clinical support, and business solutions to community-based oncology and other specialty practices. It also provides distribution and services to wholesale, institutional, and retail customers and serves patients and consumers in 13 European countries through approximately 2,000 own pharmacies and 6,900 participating pharmacies; and medical-surgical supply distribution, logistics, and other services to healthcare providers. In addition, the company provides software and analytics, network solutions, and technology-enabled services; automation s',\n",
      "       'United States', '', 208357.0], dtype=object))\n",
      "(9310.477, array([177031, 'General Electric Company',\n",
      "       'General Electric Company operates as a high-tech industrial company worldwide. It operates in Power, Renewable Energy, Aviation, Oil & Gas, Healthcare, Transportation, Lighting, and Capital segments. The Power segment offers technologies, solutions, and services related to energy production, including gas and steam turbines, generators, and high voltage equipment; and power generation services. The Renewable Energy segment provides wind turbine platforms, and hardware and software; offshore wind turbines; solutions, products, and services to hydropower industry; and blades for onshore and offshore wind turbines. The Oil & Gas segment offers oilfield and oilfield equipment, turbomachinery and process solutions, and digital solutions. The Aviation segment provides jet engines and turboprops for commercial airframes; maintenance, component repair, and overhaul services, as well as replacement parts; and additive machines and materials, and engineering services. The Healthcare segment prov',\n",
      "       'United States', '', 121615.0], dtype=object))\n",
      "(9756.6, array([174438, 'Target Corporation',\n",
      "       'Target Corporation operates as a general merchandise retailer in the United States. The company offers beauty and household essentials; food assortments, including perishables, dry grocery, dairy, and frozen items; and apparel, accessories, home décor products, electronics, toys, seasonal offerings, and other merchandise. The company also provides in-store amenities, such as Target Café, Target Optical, Starbucks, and other food service offerings. It sells its products through its stores; and digital channels, including Target.com. As of February 2, 2019, the company operated 1,844 stores. Target Corporation was founded in 1902 and is headquartered in Minneapolis, Minnesota.',\n",
      "       'United States', '', 75356.0], dtype=object))\n",
      "(10235.462, array([139677, 'Johnson & Johnson',\n",
      "       'Johnson & Johnson, together with its subsidiaries, researches and develops, manufactures, and sells various products in the health care field worldwide. It operates in three segments: Consumer, Pharmaceutical, and Medical Devices. The Consumer segment offers baby care products under the JOHNSON\\x92S brand; oral care products under the LISTERINE brand; beauty products under the AVEENO, CLEAN & CLEAR, DABAO, JOHNSON\\x92S Adult, LE PETITE MARSEILLAIS, NEUTROGENA, and OGX brands; over-the-counter medicines, including acetaminophen products under the TYLENOL brand; cold, flu, and allergy products under the SUDAFED brand; allergy products under the BENADRYL and ZYRTEC brands; ibuprofen products under the MOTRIN IB brand; and acid reflux products under the PEPCID brand. This segment also provides women\\x92s health products, such as sanitary pads and tampons under the STAYFREE, CAREFREE, and o.b. brands; wound care products comprising adhesive bandages under the BAND-AID brand; and first aid products u',\n",
      "       'United States', '', 81581.0], dtype=object))\n",
      "(10350.42, array([292891, 'Wells Fargo & Company',\n",
      "       'Wells Fargo & Company, a diversified financial services company, provides retail, commercial, and corporate banking services to individuals, businesses, and institutions. It operates through three segments: Community Banking, Wholesale Banking, and Wealth and Investment Management. The company also engages in the wholesale banking, mortgage banking, consumer finance, equipment leasing, agricultural finance, commercial finance, securities brokerage and investment banking, computer and data processing, trust, investment advisory, mortgage-backed securities, and venture capital investment services. As of February 7, 2019, it operated through 7,800 locations, 13,000 ATMs, and the Internet and mobile banking, as well as has offices in 37 countries and territories. Wells Fargo & Company was founded in 1852 and is headquartered in San Francisco, California.',\n",
      "       'United States', '', 84696.0], dtype=object))\n",
      "(10477.519, array([180871, \"Lowe's Companies, Inc.\",\n",
      "       \"Lowe's Companies, Inc., together with its subsidiaries, operates as a home improvement retailer in the United States, Canada, and Mexico. The company offers a line of products for construction, maintenance, repair, remodeling, and decorating. It provides home improvement products in various categories, such as lumber and building materials, appliances, seasonal and outdoor living, tools and hardware, fashion fixtures, rough plumbing and electrical, paint, millwork, lawn and garden, flooring, and kitchens. It also offers installation services through independent contractors in various product categories; extended protection plans; and in-warranty and out-of-warranty repair services. The company sells its national brand-name merchandise and private branded products to homeowners, renters, and professional customers. As of February 1, 2019, it operated 2,015 home improvement and hardware stores. The company also sells its products through online sites comprising Lowes.com and Lowesforpros\",\n",
      "       'United States', '', 71309.0], dtype=object))\n",
      "(10511.439, array([2435841, 'Kaiser Foundation Health Plan, Inc.',\n",
      "       'Kaiser Foundation Health Plan, Inc., together with its subsidiaries, provides hospital and medical care services for members. It also contracts with medical groups for professional services. The company is based in Oakland, California.',\n",
      "       'United States', '', 80316.0], dtype=object))\n",
      "(10669.805, array([33328, 'The Procter & Gamble Company',\n",
      "       'The Procter & Gamble Company provides branded consumer packaged goods to consumers in North and Latin America, Europe, the Asia Pacific, Greater China, India, the Middle East, and Africa. It operates in five segments: Beauty; Grooming; Health Care; Fabric & Home Care; and Baby, Feminine & Family Care. The Beauty segment offers conditioners, shampoos, styling aids, and treatments; and antiperspirants and deodorants, and personal cleansing and skin care products under the Head & Shoulders, Herbal Essences, Pantene, Rejoice, Olay, Old Spice, Safeguard, SK-II, and Secret brands. The Grooming segment provides female and male blades and razors, pre- and post-shave products, and other shave care products; and appliances that include electric shavers and epilators under the Braun, Gillette, and Venus brands. The Health Care segment offers toothbrushes, toothpaste, and other oral care products; and gastrointestinal, rapid diagnostics, respiratory, vitamins/minerals/supplements, pain relief, and',\n",
      "       'United States', '', 66832.0], dtype=object))\n",
      "(11079.8125, array([21835, 'Microsoft Corporation',\n",
      "       'Microsoft Corporation develops, licenses, and supports software, services, devices, and solutions worldwide. The company\\x92s Productivity and Business Processes segment offers Office, Exchange, SharePoint, Microsoft Teams, Office 365 Security and Compliance, and Skype for Business, as well as related Client Access Licenses (CAL); and Skype, Outlook.com, and OneDrive. It also provides LinkedIn that includes Talent and marketing solutions, and subscriptions; and Dynamics 365, a set of cloud-based and on-premises business solutions for small and medium businesses, large organizations, and divisions of enterprises. The company\\x92s Intelligent Cloud segment licenses SQL and Windows Servers, Visual Studio, System Center, and related CALs; GitHub that provides a collaboration platform and code hosting service for developers; and Azure, a cloud platform. It also provides support services and Microsoft consulting services to assist customers in developing, deploying, and managing Microsoft server a',\n",
      "       'United States', '', 110360.0], dtype=object))\n",
      "(11295.724, array([391687, 'Citigroup Inc.',\n",
      "       'Citigroup Inc., a diversified financial services holding company, provides various financial products and services for consumers, corporations, governments, and institutions in North America, Latin America, Asia, Europe, the Middle East, and Africa. The company operates through two segments, Global Consumer Banking (GCB) and Institutional Clients Group (ICG). The GCB segment offers traditional banking services to retail customers through retail banking, commercial banking, Citi-branded cards, and Citi retail services. It also provides various banking, credit card lending, and investment services through a network of local branches, offices, and electronic delivery systems. The ICG segment provides wholesale banking products and services, including fixed income and equity sales and trading, foreign exchange, prime brokerage, derivative services, equity and fixed income research, corporate and consumer loans, investment banking and advisory services, private banking, cash management, tra',\n",
      "       'United States', '', 65500.0], dtype=object))\n",
      "(11361.566, array([317807696, 'Albertsons Companies, Inc.',\n",
      "       \"Albertsons Companies, Inc., through its subsidiaries, operates as a food and drug retailer in the United States. Its food and drug retail stores offer grocery products, general merchandise, health and beauty care products, pharmacy, fuel, and other items and services. As of February 24, 2019, the company operated 2,269 stores under various banners, including Albertsons, Safeway, Vons, Jewel-Osco, Shaw's, Acme, Tom Thumb, Randalls, United Supermarkets, Market Street, Pavilions, Star Market, Carrs, and Haggen, as well as meal kit company Plated; and 1,739 pharmacies, 1,282 in-store branded coffee shops, and 397 adjacent fuel centers. The company is headquartered in Boise, Idaho. Albertsons Companies, Inc. is a subsidiary of Albertsons Investor Holdings LLC.\",\n",
      "       'United States', '', 59924.6], dtype=object))\n",
      "(11544.593, array([100231, 'AT&T Inc.',\n",
      "       'AT&T Inc. provides telecommunication, media, and technology services worldwide. The company operates through four segments: Communications, WarnerMedia, Latin America, and Xandr. The Communications segment provides wireless and wireline telecom, video, and broadband and Internet services; video entertainment services using satellite, IP-based, and streaming options; and audio programming services under the AT&T, Cricket, AT&T PREPAID, and DIRECTV brands to residential and business customers. This segment also sells handsets, wirelessly enabled computers, and wireless data cards manufactured by various suppliers for use with company\\x92s voice and data services, as well as various accessories, such as carrying cases and hands-free devices through the company-owned stores, agents, and third-party retail stores. The WarnerMedia segment primarily produces, distributes, and licenses television programming and feature films; distributes home entertainment products in physical and digital format',\n",
      "       'United States', '', 170756.0], dtype=object))\n",
      "(11601.266, array([159230, 'United Technologies Corporation',\n",
      "       'United Technologies Corporation provides technology products and services to building systems and aerospace industries worldwide. Its Otis segment designs, manufactures, sells, and installs passenger and freight elevators, escalators, and moving walkways; and offers modernization products to upgrade elevators and escalators, as well as maintenance and repair services. The company\\x92s Carrier segment provides heating, ventilating, air conditioning, refrigeration, fire, security, and building automation products, solutions, and services for commercial, government, infrastructure, residential, and refrigeration and transportation applications. This segment also offers building services, including audit, design, installation, system integration, repair, maintenance, and monitoring. Its Pratt & Whitney segment supplies aircraft engines for commercial, military, business jet, and general aviation markets; and provides aftermarket maintenance, repair, and overhaul, as well as fleet management s',\n",
      "       'United States', '', 66501.0], dtype=object))\n",
      "(11688.951, array([25591240, 'AB Acquisition LLC',\n",
      "       'AB Acquisition LLC, together with its subsidiaries, operates in food and drug retailing activities. The company operates retail food stores and in-store pharmacies in the United States under the banners of Albertsons, Safeway, Vons, Pavilions, Randalls, Tom Thumb, Carrs Quality Centers, United Supermarkets, Market Street, Amigos, United Express, Sav-On, Jewel-Osco, ACME, Shaw\\x92s, and Star Market. As of February 28, 2015, it operated 2,382 retail food and drug stores together with 390 associated fuel centers. The company also owns and operates online grocery channels. AB Acquisition LLC is based in Boise, Idaho. AB Acquisition LLC is a subsidiary of Albertsons Companies, Inc.',\n",
      "       'United States', '', 59678.2], dtype=object))\n",
      "(12019.294, array([32854, 'PepsiCo, Inc.',\n",
      "       'PepsiCo, Inc. operates as a food and beverage company worldwide. The company\\x92s Frito-Lay North America segment offers branded dips; Cheetos cheese-flavored snacks; and Doritos tortilla, Fritos corn, Lay\\x92s potato, Ruffles potato, and Tostitos tortilla chips. Its Quaker Foods North America segment provides cereals, rice, pasta, mixes and syrups, granola bars, grits, oat squares, oatmeal, rice cakes, simply granola, and side dishes under the Aunt Jemima, Cap\\x92n crunch, Life, Quaker Chewy, Quaker, and Rice-A-Roni brands. The company\\x92s North America Beverages segment offers beverage concentrates, fountain syrups, and finished goods under the Aquafina, Diet Mountain Dew, Diet Pepsi, Gatorade, Mountain Dew, Pepsi, Propel, Sierra Mist, and Tropicana brands; and ready-to-drink tea, coffee, and juices. Its Latin America segment provides snack foods under the Cheetos, Doritos, Emperador, Lay\\x92s, Marias Gamesa, Rosquinhas Mabel, Ruffles, Sabritas, Saladitas, and Tostitos brands; Quaker-branded cerea',\n",
      "       'United States', '', 64661.0], dtype=object))\n",
      "(12596.394, array([415798, 'Verizon Communications Inc.',\n",
      "       \"Verizon Communications Inc., through its subsidiaries, offers communications, information, and entertainment products and services to consumers, businesses, and governmental agencies worldwide. The company's Wireless segment provides wireless voice and data services; Internet access on various notebook computers and tablets; international travel wireless services; and network access services to deliver various Internet of Things products and services, as well as offers digital advertising and digital media services platforms. This segment also provides wireless devices, including smartphones and basic phones, wearables, and tablets and other Internet access devices. As of December 31, 2018, it had 118.0 million retail connections. Its Wireline segment offers traditional circuit-based network products and services; networking solutions, comprising private Internet protocol (IP), Ethernet, and software-defined wide area network, as well as cyber security services; local exchange, regiona\",\n",
      "       'United States', '', 130863.0], dtype=object))\n",
      "(12626.463, array([19049, 'Bank of America Corporation',\n",
      "       'Bank of America Corporation, through its subsidiaries, provides banking and financial products and services for individual consumers, small- and middle-market businesses, institutional investors, large corporations, and governments worldwide. It operates in Consumer Banking, Global Wealth & Investment Management (GWIM), Global Banking, and Global Markets segments. The Consumer Banking segment offers traditional and money market savings accounts, CDs and IRAs, noninterest- and interest-bearing checking accounts, and investment accounts and products; and credit and debit cards, residential mortgages, and home equity loans, as well as direct and indirect loans, such as automotive, recreational vehicle, and consumer personal loans. As of July 22, 2019, this segment served 66 million consumer and small business clients with approximately 4,300 retail financial centers; 16,600 ATMs; and digital banking. The GWIM segment offers investment management, brokerage, banking, and trust and retireme',\n",
      "       'United States', '', 88694.0], dtype=object))\n",
      "(12701.139, array([93625, 'CVS Health Corporation',\n",
      "       'CVS Health Corporation provides health services and plans in the United States. Its Pharmacy Services segment offers pharmacy benefit management solutions, such as plan design and administration, formulary management, retail pharmacy network management, mail order pharmacy, specialty pharmacy and infusion, Medicare Part D, clinical, disease management, and medical spend management services. The company\\x92s Retail/LTC segment sells prescription drugs and general merchandise, such as over-the-counter drugs, beauty products, cosmetics, and personal care products, as well as provides health care services through its MinuteClinic walk-in medical clinics. Its Health Care Benefits segment offers traditional, voluntary, and consumer-directed health insurance products and related services, including medical, pharmacy, dental, behavioral health, medical management, Medicare plans, PDPs, Medicaid health care management services, workers\\x92 compensation administrative services, and health information ',\n",
      "       'United States', '', 193919.0], dtype=object))\n",
      "(12784.228, array([173007, 'Citicorp LLC.',\n",
      "       'Citicorp LLC. provides various banking and financial products and services in North America, Latin America, and Asia. The company offers commercial banking, and Citi-branded cards and Citi retail services to retail customers, and small and mid-size businesses. It also provides wholesale banking products and services, such as fixed income and equity sales and trading, foreign exchange, prime brokerage, derivative services, equity and fixed income research, corporate lending, investment banking and advisory services, private banking, cash management, trade finance, and securities services to corporate, institutional, public sector, and high-net-worth clients. The company was founded in 1812 and is based in New York, New York. Citicorp LLC. is a subsidiary of Citigroup Inc.',\n",
      "       'United States', '', 59252.0], dtype=object))\n",
      "(12967.187, array([20765463, 'Facebook, Inc.',\n",
      "       'Facebook, Inc. provides various products to connect and share through mobile devices, personal computers, and other surfaces worldwide. The company\\x92s products include Facebook that enables people to connect, share, discover, and communicate with each other on mobile devices and personal computers; Instagram, a community for sharing photos, videos, and messages; Messenger, a messaging application for people to connect with friends, family, groups, and businesses across platforms and devices; and WhatsApp, a messaging application for use by people and businesses to communicate in a private way. It also provides Oculus, a hardware, software, and developer ecosystem, which allows people to come together and connect with each other through its Oculus virtual reality products. As of December 31, 2018, it had approximately 1.52 billion daily active users. The company was founded in 2004 and is headquartered in Menlo Park, California.',\n",
      "       'United States', '', 55838.0], dtype=object))\n",
      "(13056.885, array([658776, 'JPMorgan Chase & Co.',\n",
      "       'JPMorgan Chase & Co. operates as a financial services company worldwide. It operates in four segments: Consumer & Community Banking (CCB), Corporate & Investment Bank (CIB), Commercial Banking (CB), and Asset & Wealth Management (AWM). The CCB segment offers deposit and investment products and services to consumers; lending, deposit, and cash management and payment solutions to small businesses; mortgage origination and servicing activities; residential mortgages and home equity loans; and credit card, payment processing, auto loan, and leasing services. The CIB segment provides investment banking products and services, including corporate strategy and structure advisory, and equity and debt markets capital-raising services, as well as loan origination and syndication; cash management and liquidity solutions; and cash securities and derivative instruments, risk management solutions, prime brokerage, and research. This segment also offers securities services, including custody, fund acc',\n",
      "       'United States', '', 103984.0], dtype=object))\n",
      "(13176.877, array([108856, 'HP Inc.',\n",
      "       'HP Inc. provides personal computing and other access devices, imaging and printing products, and related technologies, solutions, and services in the United States and internationally. The company operates through three segments: Personal Systems, Printing, and Corporate Investments. The Personal Systems segment offers commercial and consumer desktop and notebook personal computers, workstations, thin clients, commercial mobility devices, retail point-of-sale systems, displays and other related accessories, software, support, and services. The Printing segment provides consumer and commercial printer hardware, supplies, solutions, and services, as well as scanning devices. The Corporate Investments segment includes HP Labs and business incubation projects. It serves individual consumers, small- and medium-sized businesses, and large enterprises, including customers in the government, health, and education sectors. HP Inc. has a strategic alliance with Siemens AG; and collaboration with',\n",
      "       'United States', '', 58472.0], dtype=object))\n",
      "(13387.316, array([189096, 'Sysco Corporation',\n",
      "       'Sysco Corporation, through its subsidiaries, markets and distributes a range of food and related products primarily to the foodservice or food-away-from-home industry. It operates through three segments: U.S. Foodservice Operations, International Foodservice Operations, and SYGMA. The company distributes a line of frozen foods, such as meats, seafood, fully prepared entrees, fruits, vegetables, and desserts; a line of canned and dry foods; fresh meats and seafood; dairy products; beverage products; imported specialties; and fresh produce. It also supplies various non-food items, including paper products comprising disposable napkins, plates, and cups; tableware consisting of China and silverware; cookware, which include pots, pans, and utensils; restaurant and kitchen equipment and supplies; and cleaning supplies. The company serves restaurants, hospitals and nursing homes, schools and colleges, hotels and motels, industrial caterers, and other foodservice venues. As of February 25, 20',\n",
      "       'United States', '', 58727.324], dtype=object))\n",
      "(13429.817, array([21127, 'Intel Corporation',\n",
      "       'Intel Corporation offers computing, networking, data storage, and communication solutions worldwide. It operates through Client Computing Group, Data Center Group, Internet of Things Group, Non-Volatile Memory Solutions Group, Programmable Solutions Group, and All Other segments. The company offers microprocessors, and system-on-chip and multichip packaging products. It also provides NAND flash memory products primarily used in solid-state drives; and programmable semiconductors and related products for communications, data center, industrial, and military markets. In addition, the company develops computer vision and machine learning, data analysis, localization, and mapping for advanced driver assistance systems and autonomous driving. Its platforms are used in notebooks, systems, and desktops; cloud, enterprise, and communication infrastructure market segments; and retail, automotive, industrial, and various other embedded applications. It serves original equipment manufacturers, or',\n",
      "       'United States', '', 70848.0], dtype=object))\n",
      "(13738.659, array([259378, 'Caterpillar Inc.',\n",
      "       'Caterpillar Inc. manufactures and sells construction and mining equipment, diesel and natural gas engines, and industrial gas turbines. Its Construction Industries segment offers asphalt pavers, compactors, cold planers, feller bunchers, harvesters, motorgraders, pipelayers, road reclaimers, skidders, telehandlers, and utility vehicles; backhoe, knuckleboom, compact track, multi-terrain, skid steer, and track-type loaders; forestry and wheel excavators; and site prep and track-type tractors. The company\\x92s Resource Industries segment provides electric rope and hydraulic shovels, draglines, rotary drills, hard rock vehicles, track-type tractors, mining trucks, longwall miners, wheel loaders, off-highway and articulated trucks, wheel tractor scrapers, wheel dozers, landfill and soil compactors, machinery components, electronics and control systems, select work tools, and hard rock continuous mining systems. Its Energy & Transportation segment offers reciprocating engine powered generator ',\n",
      "       'United States', '', 54722.0], dtype=object))\n",
      "(13762.956, array([255397, 'Best Buy Co., Inc.',\n",
      "       'Best Buy Co., Inc. operates as a retailer of technology products, services, and solutions in the United States, Canada, and Mexico. The company operates in two segments, Domestic and International. Its stores provide Computing and Mobile Phones, such as computing and peripherals, e-readers, networking products, tablets, and wearables, as well as mobile phones comprising related mobile network carrier commissions; consumer electronics, including digital imaging, health and fitness, home theater, portable audio, and smart home products; and entertainment products consisting of drones, movies, music, and toys, as well as gaming hardware and software, and virtual reality and other software products. The company\\x92s stores also offer appliances, such as dishwashers, laundry appliances, ovens, refrigerators, blenders, coffee makers, and vacuums; and other products, such as beverages, snacks, and sundry items, as well as baby products, luggage, and sporting goods. In addition, it provides servi',\n",
      "       'United States', '', 42879.0], dtype=object))\n",
      "(13869.439, array([311679, 'Valero Energy Corporation',\n",
      "       'Valero Energy Corporation operates as an independent petroleum refining and ethanol producing company in the United States, Canada, the United Kingdom, Ireland, and internationally. It operates through three segments: Refining, Ethanol, and VLP (Valero Energy Partners LP). The company is involved in oil and gas refining, marketing, and bulk selling activities. It produces conventional and premium gasolines, gasoline meeting the specifications of the California Air Resources Board (CARB), diesel fuels, low-sulfur and ultra-low-sulfur diesel fuels, CARB diesel, other distillates, jet fuels, asphalts, petrochemicals, lubricants, and other refined petroleum products. As of December 31, 2018, the company owned 15 petroleum refineries with a combined throughput capacity of approximately 3.1 million barrels per day. It markets its refined products through wholesale rack and bulk markets; and through approximately 7,000 outlets under the Valero, Beacon, Diamond Shamrock, Shamrock, Ultramar, an',\n",
      "       'United States', '', 111407.0], dtype=object))\n",
      "(14373.012, array([118315802, 'Marathon Petroleum Corporation',\n",
      "       'Marathon Petroleum Corporation, together with its subsidiaries, engages in refining, marketing, retailing, and transporting petroleum products primarily in the United States. It operates through three segments: Refining & Marketing, Retail, and Midstream. The Refining & Marketing segment refines crude oil and other feed stocks at its 16 refineries in the West Coast, Gulf Coast, and Mid-Continent regions of the United States; and purchases refined products and ethanol for resale. Its refined products include transportation fuels, such as reformulated gasolines and blend-grade gasolines; heavy fuel oil; and asphalt. This segment also manufactures aromatics, propane, propylene, and sulfur. It sells refined products wholesale marketing customers domestically and internationally, buyers on the spot market, and independent entrepreneurs who operate primarily Marathon branded outlets. The Retail segment sells transportation fuels and convenience products in the retail market through company-o',\n",
      "       'United States', '', 96706.0], dtype=object))\n",
      "(14624.184, array([238570, 'United Parcel Service, Inc.',\n",
      "       'United Parcel Service, Inc. provides letter and package delivery, specialized transportation, logistics, and financial services. It operates through three segments: U.S. Domestic Package, International Package, and Supply Chain & Freight. The U.S. Domestic Package segment offers time-definite delivery of letters, documents, small packages, and palletized freight through air and ground services in the United States. The International Package segment provides guaranteed day and time-definite international shipping services in Europe, the Asia Pacific, Canada and Latin America, the Indian sub-continent, the Middle East, and Africa. This segment offers guaranteed time-definite express options, including Express Plus, Express, and Express Saver. The Supply Chain & Freight segment provides international air and ocean freight forwarding, customs brokerage, distribution and post-sales, and mail and consulting services in approximately 220 countries and territories; and less-than-truckload and ',\n",
      "       'United States', '', 71861.0], dtype=object))\n",
      "(14691.753, array([251704, 'Archer-Daniels-Midland Company',\n",
      "       'Archer-Daniels-Midland Company procures, transports, stores, processes, and merchandises agricultural commodities, products, and ingredients in the United States and internationally. The company operates through four segments: Origination, Oilseeds, Carbohydrate Solutions, and Nutrition. It buys, stores, cleans, and transports agricultural commodities, such as oilseeds, corn, wheat, milo, oats, rice, and barley, as well as resells these commodities primarily as food and feed ingredients and as raw materials for the agricultural processing industry. The company also engages in agricultural commodities merchandising and handling activities; and activities related to structured trade finance, and import and distribution of agricultural feed products. In addition, it offers vegetable oils and protein meals; ingredients for the food, feed, energy, and industrial products industries; crude vegetable oils, salad oils, margarine, shortening, and other food products; and partially refined oils ',\n",
      "       'United States', '', 64341.0], dtype=object))\n",
      "(14714.791, array([261825, 'HCA Healthcare, Inc.',\n",
      "       'HCA Healthcare, Inc., through its subsidiaries, provides health care services. The company operates general, acute care hospitals that offer medical and surgical services, including inpatient care, intensive care, cardiac care, diagnostic, and emergency services; and outpatient services, such as outpatient surgery, laboratory, radiology, respiratory therapy, cardiology, and physical therapy services. It also operates psychiatric hospitals, which provide therapeutic programs comprising child, adolescent and adult psychiatric care, and adolescent and adult alcohol and drug abuse treatment and counseling. In addition, the company operates outpatient health care facilities consisting of freestanding ambulatory surgery centers, freestanding emergency care facilities, urgent care facilities, walk-in clinics, diagnostic and imaging centers, rehabilitation and physical therapy centers, radiation and oncology therapy centers, physician practices, and various other facilities. As of July 1, 2019',\n",
      "       'United States', '', 46677.0], dtype=object))\n",
      "(14842.381, array([306688, 'The TJX Companies, Inc.',\n",
      "       'The TJX Companies, Inc. operates as an off-price apparel and home fashions retailer. It operates through four segments: Marmaxx, HomeGoods, TJX Canada, and TJX International. The company sells family apparel, including footwear and accessories; home fashions, such as home basics, furniture, rugs, lighting products, giftware, soft home products, decorative accessories, tabletop, and cookware, as well as expanded pet, kids, and gourmet food departments; jewelry and accessories; footwear; and other merchandise. It operates stores under the T.J. Maxx, Marshalls, HomeGoods, Winners, HomeSense, T.K. Maxx, and Sierra Trading Post names, as well as operates e-commerce sites tjmaxx.com, tkmaxx.com, and sierratradingpost.com. The company operates approximately 4,300 stores in the United States, Canada, the United Kingdom, Ireland, Germany, Poland, Austria, the Netherlands, and Australia. The TJX Companies, Inc. was founded in 1956 and is headquartered in Framingham, Massachusetts.',\n",
      "       'United States', '', 38972.934], dtype=object))\n",
      "(14877.248, array([250388, 'American International Group, Inc.',\n",
      "       'American International Group, Inc. provides insurance products for commercial, institutional, and individual customers in North America and internationally. The company\\x92s General Insurance segment offers general liability, environmental, commercial automobile liability, workers\\x92 compensation, excess casualty, and crisis management insurance products, as well as various risk-sharing and other customized structured programs; commercial, industrial, and energy-related property insurance; and aerospace, political risk, trade credit, portfolio solutions, surety, crop, and marine insurance. It also provides professional liability insurance products for a range of businesses and risks, including directors and officer\\x92s liability, mergers and acquisitions, fidelity, employment practices, fiduciary liability, cyber risk, kidnap and ransom, and errors and omissions insurance. In addition, this segment offers personal auto and property insurance, voluntary and sponsor-paid personal accident, and ',\n",
      "       'United States', '', 47457.0], dtype=object))\n",
      "(15030.802, array([317975, 'Express Scripts Holding Company',\n",
      "       'Express Scripts Holding Company operates as a pharmacy benefit management (PBM) company in the United States and Canada. The company\\x92s PBM segment offers clinical solutions; and specialized pharmacy care, home delivery and specialty pharmacy, retail network pharmacy administration, benefit design consultation, drug utilization review, drug formulary management, public exchange, administration of group purchasing organization, and digital consumer health and drug information services. This segment also provides Medicare, Medicaid, and health insurance marketplace products; Express Scripts SafeGuardRx, a suite of solutions targeting the therapy classes that pose clinical challenges and budgetary threat to its clients; and Inside Rx, a program that provide affordable access to medication for uninsured and underinsured individuals. Its Other Business Operations segment distributes specialty pharmaceuticals and medical supplies, including injectable and infusible pharmaceuticals and medicat',\n",
      "       'United States', '', 100744.0], dtype=object))\n",
      "(15109.639, array([162270, 'Pfizer Inc.',\n",
      "       'Pfizer Inc. develops, manufactures, and sells healthcare products worldwide. It offers medicines and vaccines in various therapeutic areas, including internal medicine, vaccines, oncology, inflammation and immunology, and rare diseases under the Lyrica, Chantix/Champix, Eliquis, Ibrance, Sutent, Xalkori, Inlyta, Xtandi, Enbrel, Xeljanz, Eucrisa, BeneFix, Genotropin, and Refacto AF/Xyntha brands. The company also provides consumer healthcare products that comprise over-the-counter medicines, including dietary supplement products under the Centrum, Caltrate, and Emergen-C names; pain management products under the Advil and ThermaCare names; gastrointestinal products under the Nexium 24HR/Nexium Control and Preparation H names; and respiratory and personal care products under the Robitussin, Advil Cold & Sinus, and ChapStick names. In addition, it offers products that would lose or have lost marketing patent protection; branded generic products; generic sterile injectable products; biosim',\n",
      "       'United States', '', 53647.0], dtype=object))\n",
      "(15181.954, array([309845, 'United Airlines Holdings, Inc.',\n",
      "       'United Airlines Holdings, Inc., through its subsidiaries, provides air transportation services in North America, Asia, Europe, the Middle East, and Latin America. It transports people and cargo through its mainline and regional operations. As of December 31, 2018, the company operated a fleet of 1,329 aircraft. It also sells fuel; and offers catering, ground handling, and maintenance services for third parties. The company was formerly known as United Continental Holdings, Inc. and changed its name to United Airlines Holdings, Inc. in June 2019. United Airlines Holdings, Inc. was founded in 1934 and is headquartered in Chicago, Illinois.',\n",
      "       'United States', '', 41303.0], dtype=object))\n",
      "(15239.207, array([1579389, 'American Airlines, Inc.',\n",
      "       'American Airlines, Inc. operates as a network air carrier. The company provides scheduled air transportation services for passengers and cargo. It also offers freight and mail services. The company operates hubs in Charlotte, Chicago, Dallas/Fort Worth, London Heathrow, Los Angeles, Miami, New York, Philadelphia, and Phoenix, as well as in Washington, D.C. As of December 31, 2018, it operated a fleet of 956 mainline aircraft. The company was founded in 1934 and is headquartered in Fort Worth, Texas. American Airlines, Inc. is a subsidiary of American Airlines Group Inc.',\n",
      "       'United States', '', 44530.0], dtype=object))\n",
      "(15249.586, array([112350, 'International Business Machines Corporation',\n",
      "       'International Business Machines Corporation operates as an integrated technology and services company worldwide. Its Cognitive Solutions segment offers a portfolio of enterprise artificial intelligence platforms, such as analytics and data management platforms, cloud data services, talent management, and industry solutions primarily under the Watson Platform, Watson Health, and Watson Internet of Things names. This segment also offers transaction processing software for use in banking, airlines, and retail industries. The company\\x92s Global Business Services segment offers business consulting services; delivers system integration, application management, maintenance, and support services for packaged software applications; and finance, procurement, talent and engagement, and industry-specific business process outsourcing services. Its Technology Services & Cloud Platforms segment provides project, managed, outsourcing, and cloud-delivered services for enterprise IT infrastructure environ',\n",
      "       'United States', '', 79591.0], dtype=object))\n",
      "(15447.803, array([26977, 'United Airlines, Inc.',\n",
      "       'United Airlines, Inc. provides air transportation services in Asia, Europe, the Middle East, and Latin America. It transports people and cargo through its mainline and regional operations. As of February 28, 2019, the company operated fleet of 770 mainline aircraft and 559 regional aircraft with approximately 4,800 flights a day to 353 airports across 5 continents. It also sells fuel; and offers catering, ground handling, and maintenance services for third parties. The company was founded in 1926 and is headquartered in Chicago, Illinois. United Airlines, Inc. is a subsidiary of United Continental Holdings, Inc.',\n",
      "       'United States', '', 41303.0], dtype=object))\n",
      "(15452.158, array([162456, 'Liberty Mutual Holding Company Inc.',\n",
      "       'Liberty Mutual Holding Company Inc., through its subsidiaries, provides various insurance products and services. The company\\x92s Global Retail Markets sells automobile, homeowners, and other types of property and casualty insurance coverages to individuals in the United States; and property and casualty, health, and life insurance products and services to individuals and businesses in Brazil, Colombia, Chile, Ecuador, Spain, Portugal, Ireland, Thailand, Singapore, Hong Kong, Vietnam, Malaysia, India, China, and Russia, as well as business lines for small commercial customers that combines local underwriting, market knowledge, and services. Its Global Risk Solutions provides an array of property, casualty, specialty, and reinsurance coverages worldwide, as well as contract and commercial surety bonds to businesses of various sizes. The company offers its products through independent agents, brokers, sales representatives, sponsored affinity groups, telesales counselors, and third-party pr',\n",
      "       'United States', '', 41568.0], dtype=object))\n",
      "(15503.668, array([201170, 'Publix Super Markets, Inc.',\n",
      "       'Publix Super Markets, Inc., together with its subsidiaries, operates retail food supermarkets. The company offers groceries, including dairy, produce, floral, deli, bakery, meat, and seafood; and health and beauty care, general merchandise, pharmacy, and other products and services. As of March 6, 2019, it operated 1,213 stores in Florida, Georgia, Alabama, Tennessee, South Carolina, North Carolina, and Virginia. The company was incorporated in 1921 and is based in Lakeland, Florida.',\n",
      "       'United States', '', 36093.907], dtype=object))\n",
      "(15658.72, array([24937, 'Apple Inc.',\n",
      "       'Apple Inc. designs, manufactures, and markets mobile communication and media devices, and personal computers. It also sells various related software, services, accessories, and third-party digital content and applications. The company offers iPhone, a line of smartphones; iPad, a line of multi-purpose tablets; and Mac, a line of desktop and portable personal computers, as well as iOS, macOS, watchOS, and tvOS operating systems. It also provides iTunes Store, an app store that allows customers to purchase and download, or stream music and TV shows; rent or purchase movies; and download free podcasts, as well as iCloud, a cloud service, which stores music, photos, contacts, calendars, mail, documents, and others. In addition, the company offers AppleCare support services; Apple Pay, a cashless payment service; Apple TV that connects to consumers\\x92 TVs and enables them to access digital content directly for streaming video, playing music and games, and viewing photos; and Apple Watch, a pe',\n",
      "       'United States', '', 265595.0], dtype=object))\n",
      "(15708.48, array([93339, 'T-Mobile US, Inc.',\n",
      "       'T-Mobile US, Inc., together with its subsidiaries, provides mobile communications services in the United States, Puerto Rico, and the United States Virgin Islands. The company offers voice, messaging, and data services to 83.1 million customers in the postpaid, prepaid, and wholesale markets. It also provides wireless devices, including smartphones, tablets, and other mobile communication devices, as well as accessories that are manufactured by various suppliers. In addition, the company offers services, devices, and accessories under the T-Mobile and Metro by T-Mobile brands through its owned and operated retail stores, third party distributors, and its Websites. It also sells its devices to dealers and other third party distributors for resale through independent third-party retail outlets and various third-party Websites. As of December 31, 2018, T-Mobile US, Inc. operated approximately 2,200 T-Mobile and MetroPCS retail locations, including stores and kiosks. The company was founde',\n",
      "       'United States', '', 43239.0], dtype=object))\n",
      "(15947.525, array([168569, 'American Airlines Group Inc.',\n",
      "       'American Airlines Group Inc., through its subsidiaries, operates as a network air carrier. It provides scheduled air transportation services for passengers and cargo. As of December 31, 2018, the company operated a mainline fleet of 956 aircraft. It serves 350 destinations in approximately 50 countries, principally from its hubs in Charlotte, Chicago, Dallas/Fort Worth, London Heathrow, Los Angeles, Miami, New York, Philadelphia, Phoenix, and Washington, D.C. The company was formerly known as AMR Corporation and changed its name to American Airlines Group Inc. in December 2013. American Airlines Group Inc. was founded in 1934 and is headquartered in Fort Worth, Texas.',\n",
      "       'United States', '', 44541.0], dtype=object))\n",
      "(16083.035, array([246652, 'State Farm Mutual Automobile Insurance Company',\n",
      "       'State Farm Mutual Automobile Insurance Company provides various insurance and financial services in the United States and Canada. Its insurance products include general, auto, accident, homeowners, condo owners, renters, life and annuities, fire and casualty, health, disability, long term care, business, and boat insurance products. The company also offers farm and ranch, flood, motor cycle, personal articles, personal liability umbrella, community organizations, and volcano damage insurance products. It sells its insurance products through agents. In addition, the company provides various banking products comprising checking and interest checking accounts, money market accounts, certificate of deposits, individual retirement accounts, and savings accounts; loans, such as home mortgage, home equity, and vehicle loans; gift cards; credit cards; and online banking services, as well as offers mutual funds. State Farm Mutual Automobile Insurance Company was founded in 1922 and is based in ',\n",
      "       'United States', '', 46459.0], dtype=object))\n",
      "(16141.415, array([1340740, 'Honeywell International Inc.',\n",
      "       'Honeywell International Inc. operates as a diversified technology and manufacturing company worldwide. Its Aerospace segment supplies products, software, and services for aircrafts and vehicles. This segment offers auxiliary power units, propulsion engines, integrated avionics, environmental control and electric power systems, engine controls, flight safety, communications, navigation hardware, data and software applications, radar and surveillance systems, aircraft lighting, advanced systems and instruments, satellite and space components, and aircraft wheels and brakes; spare parts; repair, overhaul, and maintenance services; and connected solutions and data services for the aftermarket, as well as provides wireless connectivity and management and technical services. The company\\x92s Honeywell Building Technologies segment offers products, software, solutions, and technologies, such as sensors, switches, control systems and instruments for energy management; access control; video survei',\n",
      "       'United States', '', 41802.0], dtype=object))\n",
      "(16404.219, array([92001, 'American Express Company',\n",
      "       'American Express Company, together with its subsidiaries, provides charge and credit payment card products, and travel-related services to consumers and businesses worldwide. It operates through three segments: Global Consumer Services Group, Global Commercial Services, and Global Merchant and Network Services. The company\\x92s products and services include charge and credit card products, as well as other payment and financing products; network services; expense management products and services; travel-related services; and prepaid products. Its products and services also comprise merchant acquisition and processing, servicing and settlement, point-of-sale marketing, and information products and services for merchants; and fraud prevention services, as well as the design and operation of customer loyalty programs. The company sells its products and services to consumers, small businesses, mid-sized companies, and large corporations through online and mobile applications, third-party vend',\n",
      "       'United States', '', 36986.0], dtype=object))\n",
      "(16415.238, array([291981, 'NIKE, Inc.',\n",
      "       'NIKE, Inc., together with its subsidiaries, designs, develops, markets, and sells athletic footwear, apparel, equipment, and accessories worldwide. The company offers NIKE brand products in six categories, including running, NIKE basketball, the Jordan brand, football, training, and sportswear. It also markets products designed for kids, as well as for other athletic and recreational uses, such as American football, baseball, cricket, golf, lacrosse, skateboarding, tennis, volleyball, walking, wrestling, and other outdoor activities; and apparel with licensed college and professional team and league logos, as well as sells sports apparel. In addition, the company sells a line of performance equipment and accessories comprising bags, socks, sport balls, eyewear, timepieces, digital devices, bats, gloves, protective equipment, and other equipment for sports activities; and various plastic products to other manufacturers. Further, it provides athletic and casual footwear, apparel, and acc',\n",
      "       'United States', '', 36397.0], dtype=object))\n",
      "(16422.535, array([266311, 'Delta Air Lines, Inc.',\n",
      "       'Delta Air Lines, Inc. provides scheduled air transportation for passengers and cargo in the United States and internationally. The company operates through two segments, Airline and Refinery. Its route network is centered on a system of hubs and markets at airports in Amsterdam, Atlanta, Boston, Detroit, London-Heathrow, Los Angeles, Mexico City, Minneapolis-St. Paul, New York-LaGuardia, New York-JFK, Paris-Charles de Gaulle, Salt Lake City, São Paulo, Seattle, Seoul-Incheon, and Tokyo-Narita. The company sells its tickets through various distribution channels, including delta.com and mobile applications/Web, telephone reservations, online travel agencies, traditional brick and mortar, and other agencies. It also provides aircraft maintenance, repair, and overhaul services; and vacation packages to third-party consumers, as well as aircraft charters, and management and programs. The company operates through a fleet of approximately 800 aircraft. Delta Air Lines, Inc. was founded in 192',\n",
      "       'United States', '', 44438.0], dtype=object))\n",
      "(16453.035, array([190636, 'Tyson Foods, Inc.',\n",
      "       'Tyson Foods, Inc., together with its subsidiaries, operates as a food company worldwide. It operates through four segments: Beef, Pork, Chicken, and Prepared Foods. The company processes live fed cattle and live market hogs; fabricates dressed beef and pork carcasses into primal and sub-primal meat cuts, as well as case ready beef and pork, and fully-cooked meats; and raises and processes chickens into fresh, frozen, and value-added chicken products. It also supplies poultry breeding stock; sells allied products, such as hides and meats; and manufactures and markets frozen and refrigerated food products, including ready-to-eat sandwiches, flame-grilled hamburgers, Philly steaks, pepperoni, bacon, breakfast sausage, turkey, lunchmeat, hot dogs, flour and corn tortilla products, appetizers, snacks, prepared meals, ethnic foods, side dishes, meat dishes, breadsticks, and processed meats. The company offers its products primarily under the Tyson, Jimmy Dean, Hillshire Farm, Ball Park, Wrig',\n",
      "       'United States', '', 40052.0], dtype=object))\n",
      "(16466.938, array([18711, 'The Allstate Corporation',\n",
      "       'The Allstate Corporation, through its subsidiaries, provides property and casualty, and other insurance products in the United States and Canada. The company operates through Allstate Protection, Service Businesses, Allstate Life, and Allstate Benefits segments. The Allstate Protection segment offers private passenger auto and homeowners insurance; specialty auto products, including motorcycle, trailer, motor home, and off-road vehicle insurance; other personal lines products, such as renter, condominium, landlord, boat, umbrella, and manufactured home insurance; and commercial lines products under the Allstate, Esurance, and Encompass brand names. The Service Businesses segment provides consumer electronics and appliance protection plans covering TVs, smartphones, and computers; device and mobile data collection services, analytics and customer risk assessment solutions, and telematics services; roadside assistance services, such as towing, jump-start, lockout, fuel delivery, and tire',\n",
      "       'United States', '', 39815.0], dtype=object))\n",
      "(16677.398, array([307265, 'Tech Data Corporation',\n",
      "       'Tech Data Corporation operates as an IT distribution and solutions company. The company offers endpoint portfolio solutions, including personal computer systems, mobile phones and accessories, printers, peripherals, supplies, endpoint technology software, and consumer electronics. It also provides advanced portfolio solutions, such as data center technologies comprising storage, networking, servers, advanced technology software, and converged and hyper-converged infrastructure, as well as specialized solutions. The company serves value-added resellers, direct marketers, retailers, corporate resellers, and managed service providers. It sells its products to customers in approximately 100 countries in North America, South America, Europe, the Middle East, Africa, and the Asia-Pacific region. The company was founded in 1974 and is headquartered in Clearwater, Florida.',\n",
      "       'United States', '', 37238.95], dtype=object))\n",
      "(16746.436, array([18749, 'Amazon.com, Inc.',\n",
      "       'Amazon.com, Inc. engages in the retail sale of consumer products and subscriptions in North America and internationally. The company operates through three segments: North America, International, and Amazon Web Services (AWS) segments. It sells merchandise and content purchased for resale from third-party sellers through physical stores and online stores. The company also manufactures and sells electronic devices, including Kindle e-readers, Fire tablets, Fire TVs, and Echo devices; provides Kindle Direct Publishing, an online service that allows independent authors and publishers to make their books available in the Kindle Store; and develops and produces media content. In addition, it offers programs that enable sellers to sell their products on its Websites, as well as their own branded Websites; and programs that allow authors, musicians, filmmakers, skill and app developers, and others to publish and sell content. Further, the company provides compute, storage, database, and other',\n",
      "       'United States', '', 232887.0], dtype=object))\n",
      "(16845.555, array([266112, 'Deere & Company',\n",
      "       'Deere & Company manufactures and distributes various equipment worldwide. The company operates through three segments: Agriculture and Turf, Construction and Forestry, and Financial Services. The Agriculture and Turf segment offers agriculture and turf equipment, and related parts, including large, medium, and utility tractors; tractor loaders; combines, cotton pickers, cotton strippers, and sugarcane harvesters; harvesting front-end equipment; sugarcane loaders and pull-behind scrapers; and tillage, seeding, and application equipment. It also provides hay and forage equipment, such as self-propelled forage harvesters and attachments, balers, and mowers; turf and utility equipment, including riding lawn equipment and walk-behind mowers, golf course equipment, utility vehicles, and commercial mowing equipment; integrated agricultural management systems technology and solutions; and other outdoor power products. The Construction and Forestry segment manufactures and distributes backhoe l',\n",
      "       'United States', '', 37317.7], dtype=object))\n",
      "(16964.36, array([281599, 'World Fuel Services Corporation',\n",
      "       'World Fuel Services Corporation engages in the distribution of fuel, and related products and services in the aviation, marine, and land transportation industries worldwide. Its Aviation segment supplies fuel, and related products and services to commercial airlines, second and third tier airlines, cargo carriers, regional and low-cost carriers, airports, fixed based operators, corporate fleets, fractional operators, private aircraft, military fleets, the U.S. and foreign governments, and intergovernmental organizations. This segment also offers fuel management, price risk management, ground handling, and dispatch services, as well as international trip planning services, such as flight plans, weather reports, and overflight permits. The company\\x92s Land segment offers fuel, heating oil, propane, natural gas, lubricants, and related products and services to petroleum distributors and retail petroleum operators, as well as industrial, commercial, residential, and government customers. Thi',\n",
      "       'United States', '', 39750.3], dtype=object))\n",
      "(17159.006, array([318091, \"Macy's, Inc.\",\n",
      "       \"Macy's, Inc., an omnichannel retail organization, operates stores, Websites, and mobile applications. The company sells a range of merchandise, including apparel and accessories for men, women, and children; cosmetics; home furnishings; and other consumer goods. As of April 1, 2019, it operated approximately 680 department stores under the Macy\\x92s and Bloomingdale\\x92s names; and 190 specialty stores, such as Bloomingdale\\x92s The Outlet, Bluemercury, Macy\\x92s Backstage, and STORY in 43 states, the District of Columbia, Guam, and Puerto Rico. It also operated macys.com, bloomingdales.com, and bluemercury.com. In addition, the company offers licenses for its stores; and operates a beauty products and spa retailer under the bluemercury name. The company was formerly known as Federated Department Stores, Inc. and changed its name to Macy's, Inc. in June 2007. Macy's, Inc. was founded in 1830 and is based in Cincinnati, Ohio.\",\n",
      "       'United States', '', 25739.0], dtype=object))\n",
      "(17173.838, array([6569181, 'Philip Morris International Inc.',\n",
      "       'Philip Morris International Inc., through its subsidiaries, manufactures and sells cigarettes, other nicotine-containing products, and smoke-free products and related electronic devices and accessories. The company offers IQOS smoke-free products, including heated tobacco and nicotine-containing vapor products under the HEETS, HEETS Marlboro, and HEETS FROM MARLBORO brands, as well as the Marlboro HeatSticks and Parliament HeatSticks brands. It also sells its products under the Marlboro, Parliament, Bond Street, Chesterfield, L&M, Lark, and Philip Morris brands. In addition, the company owns various cigarette brands, such as Dji Sam Soe, Sampoerna A, and Sampoerna U in Indonesia; Fortune and Jackpot in the Philippines; and Belmont and Canadian Classics in Canada. It markets and sells its products in the European Union, Eastern Europe, the Middle East, Africa, South and Southeast Asia, East Asia, Australia, Latin America, and Canada. The company was incorporated in 1987 and is headquart',\n",
      "       'United States', '', 29625.0], dtype=object))\n",
      "(17174.86, array([29618, 'Humana Inc.',\n",
      "       'Humana Inc., together with its subsidiaries, operates as a health and well-being company in the United States. The company offers medical and supplemental benefit plans to individuals. It also has contract with Centers for Medicare and Medicaid Services to administer the Limited Income Newly Eligible Transition prescription drug plan program; and contracts with various states to provide Medicaid, dual eligible, and long-term support services benefits. In addition, the company provides commercial fully-insured medical and specialty health insurance benefits comprising dental, vision, and other supplemental health and voluntary insurance benefits; financial protection products; and administrative services only products to individuals and employer groups, as well as military services, such as TRICARE South Region contract. Further, it offers pharmacy solutions, provider services, predictive modeling and informatics services, and clinical care services, such as home health and other servic',\n",
      "       'United States', '', 56912.0], dtype=object))\n",
      "(17245.656, array([89538, 'Ingram Micro Inc.',\n",
      "       'Ingram Micro Inc. distributes information technology (IT) products; and provides supply chain and mobile device lifecycle services worldwide. The company offers IT peripherals, such as printers and scanners; digital signage products; CE products; AIDC/POS products; physical security products; components; and supplies and accessories. It also provides systems, including rack servers, tower and blade servers, desktops, portable personal computers, and tablets; and software products comprising business application, operating system, entertainment, security, storage, and virtualization software products, as well as middleware and developer software tools. In addition, the company offers networking hardware, such as switches, hubs, routers, wireless local area networks, wireless wide area networks, network interface cards, cellular data cards, network-attached storage, and storage area networks; communication products that consist of voice over Internet protocol, communications, modems, pho',\n",
      "       'United States', '', 46674.792], dtype=object))\n",
      "(17445.803, array([4161841, 'Roche Holdings, Inc.',\n",
      "       'Roche Holdings, Inc., together with its subsidiaries, manufactures and sells pharmaceuticals and diagnostics solutions. Its Pharmaceuticals division provides various prescription pharmaceutical products, such as Ocrevus, Tecentriq, Xolair, Activase/TNKase, Rituxan, Xofluza, Avastin, Tarceva, Herceptin, Perjeta, Actemra, and Lucentis. The company\\x92s Diagnostics division offers point of care solutions, molecular diagnostics, tissue diagnostics, and immunodiagnostics, as well as diagnostic instruments, reagents, and consumables. It also sells or licenses its products or technologies to third parties. The company primarily serves the U.S. national wholesale distributors. Roche Holdings, Inc. was founded in 1987 and is based in South San Francisco, California. Roche Holdings, Inc. is a subsidiary of Roche Finance Ltd.',\n",
      "       'United States', '', 34287.0], dtype=object))\n",
      "(17621.78, array([285827, 'Lockheed Martin Corporation',\n",
      "       'Lockheed Martin Corporation, a security and aerospace company, engages in the research, design, development, manufacture, integration, and sustainment of technology systems, products, and services worldwide. It operates through four segments: Aeronautics, Missiles and Fire Control (MFC), Rotary and Mission Systems (RMS), and Space. The Aeronautics segment offers combat and air mobility aircraft, unmanned air vehicles, and related technologies. The MFC segment provides air and missile defense systems; tactical missiles and air-to-ground precision strike weapon systems; logistics; fire control systems; mission operations support, readiness, engineering support, and integration services; manned and unmanned ground vehicles; and energy management solutions. The RMS segment offers military and commercial helicopters; ship and submarine mission and combat systems; mission systems and sensors for rotary and fixed-wing aircraft; sea and land-based missile defense systems; radar systems; the Li',\n",
      "       'United States', '', 53762.0], dtype=object))\n",
      "(17728.32, array([294721, 'PACCAR Inc',\n",
      "       'PACCAR Inc designs, manufactures, and distributes light, medium, and heavy-duty commercial trucks in the United States, Europe, and internationally. The company operates in three segments: Truck, Parts, and Financial Services. The Truck segment designs, manufactures, and distributes trucks that are used for the over-the-road and off-highway hauling of commercial and consumer goods. It sells its trucks through a network of independent dealers under the Kenworth, Peterbilt, and DAF nameplates. The Parts segment distributes aftermarket parts for trucks and related commercial vehicles. The Financial Services segment conducts full service leasing operations under the PacLease trade name. It also provides equipment financing and administrative support services for its franchisees; retail loan and leasing services for small, medium, and large commercial trucking companies, as well as independent owner/operators and other businesses; and truck inventory financing services to independent dealer',\n",
      "       'United States', '', 23495.7], dtype=object))\n",
      "(17735.629, array([739693, 'Mondelez International, Inc.',\n",
      "       'Mondelez International, Inc., through its subsidiaries, manufactures and markets snack food and beverage products worldwide. It offers biscuits, including cookies, crackers, and salted snacks; chocolates; and gums and candies, as well as various cheese and grocery, and powdered beverage products. The company\\x92s primary snack brand portfolio includes Cadbury, Milka, and Toblerone chocolates; Oreo, belVita, and LU biscuits; Halls candies; and Trident gums and Tang powdered beverages. It sells its products to supermarket chains, wholesalers, supercenters, club stores, mass merchandisers, distributors, convenience stores, gasoline stations, drug stores, value stores, and other retail food outlets through direct store delivery, company-owned and satellite warehouses, distribution centers, and other facilities, as well as through independent sales offices and agents, and e-commerce platforms. The company was formerly known as Kraft Foods Inc. and changed its name to Mondelez International, In',\n",
      "       'United States', '', 25938.0], dtype=object))\n",
      "(17945.479, array([19691, 'Cisco Systems, Inc.',\n",
      "       'Cisco Systems, Inc. designs, manufactures, and sells Internet Protocol based networking and other products related to the communications and information technology industry worldwide. The company offers switching products; routing products that interconnect public and private wireline and mobile networks; data center products; and wireless access points for use in voice, video, and data applications. It also provides collaboration products comprising unified communications, TelePresence, and conferencing, as well as the Internet of Things and analytics software. In addition, the company offers security products, including network and data center security, advanced threat protection, Web and email security, access and policy, unified threat management, advisory, integration, and managed services; and other products, such as service provider video software and solutions, and cloud and system management products. Further, it offers technical support services and advanced services; and hyp',\n",
      "       'United States', '', 49330.0], dtype=object))\n",
      "(18026.174, array([112302, 'AutoNation, Inc.',\n",
      "       'AutoNation, Inc., through its subsidiaries, operates as an automotive retailer in the United States. The company operates through three segments: Domestic, Import, and Premium Luxury. It offers a range of automotive products and services, including new and used vehicles; and parts and services, such as automotive repair and maintenance, and wholesale parts and collision services. The company also provides automotive finance and insurance products comprising vehicle services and other protection products, as well as arranges finance for vehicle purchases through third-party finance sources. As of December 31, 2018, it owned and operated 326 new vehicle franchises from 239 stores located primarily in metropolitan markets in the Sunbelt region. The company was founded in 1991 and is headquartered in Fort Lauderdale, Florida.',\n",
      "       'United States', '', 21412.8], dtype=object))\n",
      "(18046.709, array([34745, 'Starbucks Corporation',\n",
      "       'Starbucks Corporation, together with its subsidiaries, operates as a roaster, marketer, and retailer of specialty coffee worldwide. The company operates in four segments: Americas; China/Asia Pacific; Europe, Middle East, and Africa; and Channel Development. Its stores offer coffee and tea beverages, roasted whole bean and ground coffees, single-serve and ready-to-drink beverages, iced tea, and food and snacks; and various food products, such as pastries, breakfast sandwiches, and lunch items. The company also licenses its trademarks through licensed stores, and grocery and foodservice accounts. It offers its products under the Starbucks, Teavana, Tazo, Seattle\\x92s Best Coffee, Evolution Fresh, La Boulange, Ethos, Frappuccino, Starbucks Reserve, Princi, Starbucks Doubleshot, Starbucks Refreshers, and Starbucks VIA brand names. As of April 25, 2019, the company operated approximately 30,000 stores. Starbucks Corporation was founded in 1971 and is based in Seattle, Washington.',\n",
      "       'United States', '', 24719.5], dtype=object))\n",
      "(18118.016, array([417155, 'United Services Automobile Association',\n",
      "       'United Services Automobile Association provides a range of financial products and services to the military community and their families primarily in the United States. It offers banking products and services, such as checking and savings accounts, and certificates of deposit; auto and personal loans, as well as motorcycle, recreational vehicle, and boat loans; credit cards; home mortgages; extended vehicle protection and car buying services; and credit monitoring and identity protection. The company also provides auto, renters, homeowners, rental property, personal property, home and property, flood, life, umbrella, small business, recreational vehicle, and other insurance products, as well as annuities; and health insurance products, including dental, vision, Medicare, and long-term care insurance products. In addition, it offers investment solutions comprising mutual funds, individual retirement accounts, rollovers and transfers, 529 college savings plans, youth investing products, m',\n",
      "       'United States', '', 29880.0], dtype=object))\n",
      "(18158.033, array([266974, 'Dollar General Corporation',\n",
      "       'Dollar General Corporation, a discount retailer, provides various merchandise products in the southern, southwestern, Midwestern, and eastern United States. The company offers consumable products, including paper and cleaning products, such as paper towels, bath tissues, paper dinnerware, trash and storage bags, and laundry and other home cleaning supplies; packaged food comprising cereals, canned soups and vegetables, condiments, spices, sugar, and flour; and perishables that include milk, eggs, bread, refrigerated and frozen food, beer, and wine. Its consumable products also comprise snacks, which include candies, cookies, crackers, salty snacks, and carbonated beverages; health and beauty products, including over-the-counter medicines and personal care products, such as soaps, body washes, shampoos, cosmetics, and dental hygiene and foot care products; pet supplies and pet food; and tobacco products. In addition, the company offers seasonal products comprising decorations, toys, bat',\n",
      "       'United States', '', 25625.043], dtype=object))\n",
      "(18220.977, array([27685, 'Dollar Tree, Inc.',\n",
      "       'Dollar Tree, Inc. operates discount variety retail stores. It operates through two segments, Dollar Tree and Family Dollar. The Dollar Tree segment offers merchandise at the fixed price of $1.00. It provides consumable merchandise, including candy and food, and health and beauty care, as well as everyday consumables, such as household paper and chemicals, and frozen and refrigerated food; variety merchandise comprising toys, durable housewares, gifts, stationery, party goods, greeting cards, softlines, and other items; and seasonal goods that include Valentine\\x92s Day, Easter, Halloween, and Christmas merchandise. This segment operates 7,001 stores under the Dollar Tree and Dollar Tree Canada brands, as well as 12 distribution centers in the United States and 2 in Canada; and a store support center in Chesapeake, Virginia. The Family Dollar segment operates general merchandise discount retail stores that offer consumable merchandise, which comprise food and beverages, tobacco, health and',\n",
      "       'United States', '', 22823.3], dtype=object))\n",
      "(18243.004, array([139488, \"McDonald's Corporation\",\n",
      "       \"McDonald's Corporation operates and franchises McDonald's restaurants in the United States and internationally. Its restaurants offer various food products, soft drinks, coffee, and other beverages, as well as breakfast menu. As of March 31, 2019, the company operated 37,971 restaurants, including 35,278 franchised restaurants. McDonald's Corporation was founded in 1940 and is based in Chicago, Illinois.\",\n",
      "       'United States', '', 21025.2], dtype=object))\n",
      "(18314.78, array([307816, 'Andeavor',\n",
      "       'Andeavor, through its subsidiaries, operates as an independent petroleum refining, logistics, and marketing company in the United States. The company operates in three segments: Marketing, Logistics, and Refining. The Marketing segment sells gasoline and diesel fuel through retail, branded, and unbranded channels. This segment operates a network of 3,255 retail stations under the ARCO, Shell, Mobil, and SUPERAMERICA brands. The Logistics segment gathers and transports crude oil by pipelines, as well as by trucks. It operates approximately 13 million barrels of crude oil, feedstock, blendstock, refined product, and asphalt storage tanks. The Refining segment buys and refines crude oil and other feed stocks into transportation fuels, such as gasoline and gasoline blend stocks, jet fuel, and diesel fuel, as well as other products, including heavy fuel oils, liquefied petroleum gas, petroleum coke, calcined coke, and asphalt. It also sells refined products in the bulk market principally to',\n",
      "       'United States', '', 34204.0], dtype=object))\n",
      "(18366.52, array([263093, 'DXC Technology Company',\n",
      "       'DXC Technology Company, together with its subsidiaries, provides information technology services and solutions primarily in North America, Europe, Asia, and Australia. It operates in two segments, Global Business Services (GBS) and Global Infrastructure Services (GIS). The GBS segment offers technology solutions comprising enterprise, cloud application, and consulting services; application services; analytics services; business process services; and industry software and solutions. The GIS segment provides cloud and platform services; workplace, mobility, and Internet of Things services; and security solutions. The company was formerly known as Computer Sciences Corporation and changed its name to DXC Technology Company in April 2017 as a result of its merger with the Enterprise Services business of Hewlett Packard Enterprise Company. DXC Technology Company was founded in 1959 and is headquartered in Tysons, Virginia.',\n",
      "       'United States', '', 21733.0], dtype=object))\n",
      "(18471.432, array([472898, 'Morgan Stanley',\n",
      "       'Morgan Stanley, a financial holding company, provides various financial products and services to corporations, governments, financial institutions, and individuals in the Americas, Europe, the Middle East, Africa, and Asia. The company operates through Institutional Securities, Wealth Management, and Investment Management segments. The Institutional Securities segment offers capital raising and financial advisory services, including services related to the underwriting of debt, equity, and other securities, as well as advice on mergers and acquisitions, restructurings, real estate, and project finance. This segment also provides sales and trading services, such as sales, financing, prime brokerage, and market-making services in equity and fixed income products consisting of foreign exchange and commodities; corporate loans, commercial mortgage lending, and asset-backed lending; financing for sales and trading customers; and investment and research services. The Wealth Management segmen',\n",
      "       'United States', '', 40107.0], dtype=object))\n",
      "(18498.473, array([365436, 'Penske Automotive Group, Inc.',\n",
      "       'Penske Automotive Group, Inc. operates as a transportation services company. The company operates through four segments: Retail Automotive, Retail Commercial Truck, Other, and Non-Automotive Investments. It operates automotive and commercial truck dealerships principally in the United States, Canada, and Western Europe; and distributes commercial vehicles, diesel engines, gas engines, power systems, and related parts and services primarily in Australia and New Zealand. The company also engages in the sale of new and used motor vehicles of approximately 40 brands; and provision of vehicle services and collision repair services. In addition, it is involved in the sale and placement of third-party finance and insurance products, third-party extended service and maintenance contracts, and replacement and aftermarket automotive products. Further, the company distributes commercial vehicles and parts to a network of approximately 70 dealership locations, including 9 company-owned retail comm',\n",
      "       'United States', '', 22785.1], dtype=object))\n",
      "(18541.875, array([96078, 'Jabil Inc.',\n",
      "       'Jabil Inc. provides electronic manufacturing services and solutions worldwide. The company operates through two segments, Electronics Manufacturing Services and Diversified Manufacturing Services. It offers electronics design, production, and product management services. The company provides electronic circuit design services, such as application-specific integrated circuit design, firmware development and rapid prototyping services; and designs plastic and metal enclosures that include the electro-mechanics, such as the printed circuit board assemblies (PCBA). It also specializes in three-dimensional mechanical design comprising the analysis of electronic, electro-mechanical, and optical assemblies, as well as offers various industrial design, advance mechanism development, and tooling management services. In addition, the company provides computer-assisted design services consisting of PCBA design, and PCBA design validation and verification services; and other consulting services, i',\n",
      "       'United States', '', 22095.416], dtype=object))\n",
      "(18547.83, array([314515, 'Whirlpool Corporation',\n",
      "       'Whirlpool Corporation manufactures and markets home appliances and related products. It operates through four segments: North America; Europe, Middle East and Africa; Latin America; and Asia. The company\\x92s principal products include refrigerators, freezers, ice makers, and refrigerator water filters; laundry appliances and related laundry accessories; cooking appliances and other small domestic appliances; and dishwasher appliances and related accessories. It also produces hermetic compressors for refrigeration systems. The company markets and distributes its products primarily under the Whirlpool, Maytag, KitchenAid, JennAir, Amana, Roper, Admiral, Affresh, Gladiator, Estate, Inglis, Speed Queen, Hotpoint, Bauknecht, Indesit, Ignis, Laden, Privileg, KIC, Consul, Brastemp, Acros, Ariston, Sanyo, Diqua, and Royalstar brands. It sells its products to retailers, distributors, dealers, builders, and other manufacturers. The company was founded in 1898 and is headquartered in Benton Harbor,',\n",
      "       'United States', '', 21037.0], dtype=object))\n",
      "(18628.223, array([6561754, 'Teachers Insurance and Annuity Association of America',\n",
      "       'Teachers Insurance and Annuity Association of America provides life insurance products and services in New York. It offers retirement and insurance products for employees and their families of non-profit educational and research organizations, governmental entities, and other non-profit institutions. The company was founded in 1918 and is based in New York, New York. Teachers Insurance and Annuity Association of America operates as a subsidiary of Tiaa Board Of Overseers.',\n",
      "       'United States', '', 30910.0], dtype=object))\n",
      "(18631.99, array([252150, 'Arrow Electronics, Inc.',\n",
      "       'Arrow Electronics, Inc. provides products, services, and solutions to industrial and commercial users of electronic components and enterprise computing solutions worldwide. The company operates in two segments, Global Components and Global Enterprise Computing Solutions. The Global Components segment markets and distributes semiconductor products and related services; passive, electro-mechanical, and interconnect products consisting primarily of capacitors, resistors, potentiometers, power supplies, relays, switches, and connectors; and computing and memory products, as well as other products and services. The Global Enterprise Computing Solutions segment offers computing solutions, including data-center, cloud, security, and analytics solutions. This segment provides access to various services, including engineering and integration support, warehousing and logistics, marketing resources, and authorized hardware and software training. The company serves original equipment manufacturers',\n",
      "       'United States', '', 29676.768], dtype=object))\n",
      "(18646.469, array([26642, 'The Coca-Cola Company',\n",
      "       'The Coca-Cola Company, a beverage company, manufactures and distributes various nonalcoholic beverages worldwide. The company provides sparkling soft drinks; water, enhanced water, and sports drinks; juice, dairy, and plant\\x96based beverages; teas and coffees; and energy drinks. It also offers concentrates, syrups, beverage bases, source waters, and powders/minerals, as well as fountain syrups to fountain retailers, such as restaurants and convenience stores. The company sells its products primarily under the Coca-Cola, Diet Coke/Coca-Cola Light, Coca-Cola Zero Sugar, Fanta, Schweppes, Sprite, Thums Up, Aquarius, Dasani, glacéau smartwater, glacéau vitaminwater, Ice Dew, I LOHAS, Powerade, AdeS, Del Valle, innocent, Minute Maid, Minute Maid Pulpy, Simply, ZICO, Ayataka, Costa, FUZE TEA, Georgia, Gold Peak, and HONEST TEA brands. The Coca-Cola Company offers its beverage products through a network of company-owned or controlled bottling and distribution operators, as well as through indep',\n",
      "       'United States', '', 31856.0], dtype=object))\n",
      "(18662.135, array([278212, 'The Kraft Heinz Company',\n",
      "       \"The Kraft Heinz Company manufactures and markets food and beverage products in the United States, Canada, Europe, the Middle East, and Africa. Its products include condiments and sauces, cheese and dairy, meals, meats, refreshment beverages, coffee, and other grocery products, as well as infant and nutrition products. The company offers its products under the Kraft, Oscar Mayer, Heinz, Philadelphia, Lunchables, Velveeta, Planters, Maxwell House, Capri Sun, Ore-Ida, Kool-Aid, Jell-OY, Cracker Barrel, Classico, McCafe, P\\x92Tit Quebec, Tassimo, Plasmon, Pudliszki, Honig, HP, Benedicta, Karvan Cevitam, ABC, Master, Quero, Golden Circle, Wattie's, Glucon-D, and Complan names. It sells its products through its own sales organizations, as well as through independent brokers, agents, and distributors to convenience stores, drug stores, value stores, bakeries, pharmacies, mass merchants, club stores, foodservice distributors and institutions, including hotels, restaurants, hospitals, health care \",\n",
      "       'United States', '', 26268.0], dtype=object))\n",
      "(18685.234, array([28018496, 'Nationwide Mutual Insurance Company',\n",
      "       \"Nationwide Mutual Insurance Company, together with its subsidiaries, provides insurance and financial services for individuals and businesses in the United States. It offers homeowners, renters, condo, private client, flood, auto, motorcycle, snowmobile, car, ATV, RV, boat, personal watercraft, scooter, life, pet, dental umbrella, identity theft, accident, specialty liability, travel, and wedding insurance products; investment and retirement solutions, such as annuities, mutual funds, exchange traded funds, life insurance, and retirement plans; and banking services, including checking, savings, individual retirement, and money market accounts, as well as certificates of deposit; mortgage, factoring, and equipment financing services; and home, auto, and personal loans. The company also provides business insurance products comprising business owner\\x92s policy, liability, auto, workers' compensation, property, and excess and surplus. In addition, it provides back-office administrative suppo\",\n",
      "       'United States', '', 27502.0], dtype=object))\n",
      "(18711.957, array([356805, 'CarMax, Inc.',\n",
      "       'CarMax, Inc., through its subsidiaries, operates as a retailer of used vehicles in the United States. The company operates in two segments, CarMax Sales Operations and CarMax Auto Finance. It offers customers a range of makes and models of used vehicles, including domestic, imported, and luxury vehicles; vehicles that do not meet its retail standards to licensed dealers through on-site wholesale auctions; and extended protection plans to customers at the time of sale. The company also provides reconditioning and vehicle repair services; and financing alternatives for retail customers across a range of credit spectrum through its CarMax Auto Finance and arrangements with various financial institutions. As of February 28, 2019, the company operated approximately 203 stores in 100 the United States television markets. CarMax, Inc. was founded in 1993 and is based in Richmond, Virginia.',\n",
      "       'United States', '', 17976.809], dtype=object))\n",
      "(18720.0, array([124423, 'FedEx Corporation',\n",
      "       'FedEx Corporation provides transportation, e-commerce, and business services worldwide. The company\\x92s FedEx Express segment offers shipping services for delivery of packages and freight. Its FedEx Ground segment provides business and residential money-back guaranteed ground package delivery services; and consolidates and delivers low-weight and less time-sensitive business-to-consumer packages. The company\\x92s FedEx Freight segment offers less-than-truckload and other freight delivery services. As of May 31, 2019, it operated approximately 28,000 vehicles and 373 service centers. The company\\x92s FedEx Services segment provides sales, marketing, information technology, communications, customer service, technical support, billing and collection services, and other back-office support services. It also offers FedEx Mobile, a suite of solutions to track packages, create shipping labels, view account-specific rate quotes, and access drop-off location information; FedEx Office, a suite of printi',\n",
      "       'United States', '', 65450.0], dtype=object))\n",
      "(18866.305, array([21671, 'Massachusetts Mutual Life Insurance Company',\n",
      "       'Massachusetts Mutual Life Insurance Company operates as a mutual life insurance company in the United States. It offers life, disability income, and long term care insurance; critical illness insurance; annuities; mutual funds, exchange-traded funds, unit investment trusts, 529 plans, and individual retirement accounts; guaranteed interest contracts; and wealth management, financial planning, and financial security services for individuals, families, businesses, and organizations. The company provides its products and services through direct response television advertising, digital media, search engine optimization, and search engine marketing; retirement advisory firms, actuarial consulting firms, investment banks, insurance benefit advisors, and investment management companies; and investment advisors. Massachusetts Mutual Life Insurance Company was founded in 1851 and is based in Springfield, Massachusetts.',\n",
      "       'United States', '', 32484.0], dtype=object))\n",
      "(18880.334, array([61243, \"Kohl's Corporation\",\n",
      "       \"Kohl's Corporation operates as an omni-channel retailer in the United States. Its stores and Website offer apparel, footwear, accessories, beauty, and home products. As of February 2, 2019, it operated 1,159 department stores; a Website Kohls.com; and 12 FILA outlets, and 4 Off-Aisle clearance centers. Kohl's Corporation was founded in 1962 and is headquartered in Menomonee Falls, Wisconsin.\",\n",
      "       'United States', '', 20229.0], dtype=object))\n",
      "(18952.76, array([7653487, 'CCO Holdings, LLC',\n",
      "       'CCO Holdings, LLC provides broadband communications services to residential, and small and medium business customers in the United States. The company offers subscription-based video services, including video on demand, high definition television, and digital video recorder services; Internet services; voice communications services using voice over Internet protocol; and Spectrum mobile service as a mobile virtual network operator. It also sells video and online advertising inventory to local, regional, and national advertising customers; and fiber-delivered communications and managed information technology solutions to large enterprise customers. In addition, the company owns and operates regional sports networks; and local sports, news, and community channels. As of December 31, 2018, it served approximately 28.1 million residential and business customers. The company is based in Stamford, Connecticut. CCO Holdings, LLC operates as a subsidiary of CCH I Holdings, LLC.',\n",
      "       'United States', '', 43620.0], dtype=object))\n",
      "(18953.5, array([273983758, 'Hewlett Packard Enterprise Company',\n",
      "       'Hewlett Packard Enterprise Company operates as a technology company. The company operates through four segments: Hybrid IT, Intelligent Edge, Financial Services, and Corporate Investments. The Hybrid IT segment provides industry standard servers for multi-workload computing; mission-critical servers; converged storage solutions, including all-flash arrays and hybrid storage solutions; and traditional storage solutions comprising tape, storage networking, and disk products, such as HPE MSA and HPE XP. It also offers data center networking products, such as top-of-rack switches, core switches, and open networking switches; and operational services, advisory and professional services, and communications and media solutions. The Intelligent Edge segment provides solutions for mobility and Internet of Things, as well as enterprise networking and security solutions for businesses campus and branch environments under the Aruba brand. This segment also offers wired and wireless local area netw',\n",
      "       'United States', '', 30852.0], dtype=object))\n",
      "(18974.984, array([289194, '3M Company',\n",
      "       '3M Company develops, manufactures, and markets various products worldwide. It operates through four business segments: Safety & Industrial, Transportation & Electronics, Health Care, and Consumer. The Safety & Industrial segment offers personal safety products, adhesives and tapes, abrasives, closure and masking systems, electrical markets, automotive aftermarket, and roofing granules. The Transportation & Electronics provides electronics, such as display materials and systems, electronic materials solutions; automotive, aerospace, and commercial solutions; advanced materials; and transportation safety products. This segment serves transportation and electronic original equipment manufacturer customers. The Health Care segment offers medical solutions, oral care, separation and purification sciences, health information systems, drug delivery systems, and food safety products. The Consumer segment provides home improvement, home care, and consumer health care products, as well as statio',\n",
      "       'United States', '', 32765.0], dtype=object))"
     ]
    }
   ],
   "source": [
    "for el in query_peers(106335):\n",
    "    print(el)"
   ]
  },
  {
   "cell_type": "code",
   "execution_count": 12,
   "metadata": {},
   "outputs": [
    {
     "data": {
      "application/vnd.jupyter.widget-view+json": {
       "model_id": "",
       "version_major": 2,
       "version_minor": 0
      },
      "text/plain": [
       "FloatProgress(value=0.0, bar_style='info', description='Progress:', layout=Layout(height='25px', width='50%'),…"
      ]
     },
     "metadata": {},
     "output_type": "display_data"
    }
   ],
   "source": [
    "public_labels = [[2444485, 9429145, 93196, 9870522, 920391],\n",
    "[645782, 11809880, 392154],\n",
    "[875173, 237655379, 931146],\n",
    "[813607, 100231, 357076],\n",
    "[380011, 357076, 324490],\n",
    "[882889, 127202, 5478606, 1025390, 645782],\n",
    "[46329052, 189096, 915379, 46895276, 877008],\n",
    "[106335, 319676, 377732, 61206100],\n",
    "[877769, 874042, 780678, 953488, 883809, 875295],\n",
    "[34049884, 882155, 30428758, 315394],\n",
    "[254287477, 883300, 30614595],\n",
    "[5600108, 285880, 5433540, 878697, 35650],\n",
    "[876031, 410182, 874470, 874191, 879732, 5395336]]\n"
   ]
  },
  {
   "cell_type": "code",
   "execution_count": 19,
   "metadata": {},
   "outputs": [
    {
     "data": {
      "application/vnd.jupyter.widget-view+json": {
       "model_id": "",
       "version_major": 2,
       "version_minor": 0
      },
      "text/plain": [
       "FloatProgress(value=0.0, bar_style='info', description='Progress:', layout=Layout(height='25px', width='50%'),…"
      ]
     },
     "metadata": {},
     "output_type": "display_data"
    },
    {
     "name": "stdout",
     "output_type": "stream",
     "text": [
      "[2444485, 81, -1, -1, -1]\n",
      "\n",
      "[645782, -1, -1]\n",
      "\n",
      "[875173, 93, -1]\n",
      "\n",
      "[813607, -1, 5]\n",
      "\n",
      "[380011, -1, 38]\n",
      "\n",
      "[882889, -1, -1, -1, 40]\n",
      "\n",
      "[46329052, -1, -1, -1, -1]\n",
      "\n",
      "[106335, -1, -1, 2]\n",
      "\n",
      "[877769, 18, 80, -1, -1, 52]\n",
      "\n",
      "[34049884, 6, -1, -1]\n",
      "\n",
      "[254287477, -1, -1]\n",
      "\n",
      "[5600108, -1, -1, -1, -1]\n",
      "\n",
      "[876031, -1, -1, -1, 53, -1]\n",
      "\n",
      "[3, 1, 2, 5, 0, 31]\n",
      "0.23055555555555554"
     ]
    }
   ],
   "source": [
    "tops = [0] * 6 # top 10, 20, 50, 100, >100, -1\n",
    "\n",
    "mrr = 0\n",
    "count = 0\n",
    "\n",
    "ranks_default = []\n",
    "for public_label in public_labels:\n",
    "    query_id = public_label[0]\n",
    "    results = [el[1][0] for el in query_peers(query_id)]\n",
    "    ranks = []\n",
    "    \n",
    "    for peer in public_label[1:]:\n",
    "        ranks.append(find_peer_in_result(results, peer))\n",
    "        ranks_default.append(find_peer_in_result(results, peer))\n",
    "\n",
    "    tops = add_ranks_in_tops(ranks, tops)\n",
    "\n",
    "    mrr += sum([1/rank for rank in ranks if rank > 0])\n",
    "    count += sum(1 for rank in ranks if rank > 0)\n",
    "\n",
    "    ranks.insert(0, query_id)\n",
    "    #\n",
    "    \n",
    "    print(ranks)\n",
    "    print()\n",
    "\n",
    "print(tops)\n",
    "print(np.mean([1/rank for rank in ranks_default if 0 < rank <= 20]))\n",
    "print()"
   ]
  },
  {
   "cell_type": "code",
   "execution_count": 20,
   "metadata": {},
   "outputs": [
    {
     "data": {
      "application/vnd.jupyter.widget-view+json": {
       "model_id": "",
       "version_major": 2,
       "version_minor": 0
      },
      "text/plain": [
       "FloatProgress(value=0.0, bar_style='info', description='Progress:', layout=Layout(height='25px', width='50%'),…"
      ]
     },
     "metadata": {},
     "output_type": "display_data"
    },
    {
     "name": "stdout",
     "output_type": "stream",
     "text": [
      "[2444485, 82, -1, 410, -1]\n",
      "\n",
      "[645782, 403, -1]\n",
      "\n",
      "[875173, 121, 406]\n",
      "\n",
      "[813607, -1, 10]\n",
      "\n",
      "[380011, 443, 58]\n",
      "\n",
      "[882889, 4, -1, -1, 48]\n",
      "\n",
      "[46329052, -1, -1, -1, -1]\n",
      "\n",
      "[106335, 291, -1, 2]\n",
      "\n",
      "[877769, 18, 103, 25, -1, 75]\n",
      "\n",
      "[34049884, 6, -1, -1]\n",
      "\n",
      "[254287477, -1, -1]\n",
      "\n",
      "[5600108, -1, -1, -1, -1]\n",
      "\n",
      "[876031, -1, 405, 117, 63, 322]\n",
      "\n",
      "[4, 1, 2, 4, 10, 21]\n",
      "0.21444444444444444"
     ]
    }
   ],
   "source": [
    "tops = [0] * 6 # top 10, 20, 50, 100, >100, -1\n",
    "\n",
    "mrr = 0\n",
    "count = 0\n",
    "\n",
    "ranks_default = []\n",
    "for public_label in public_labels:\n",
    "    query_id = public_label[0]\n",
    "    results = [el[1][0] for el in query_peers(query_id, 500)]\n",
    "    ranks = []\n",
    "    \n",
    "    for peer in public_label[1:]:\n",
    "        ranks.append(find_peer_in_result(results, peer))\n",
    "        ranks_default.append(find_peer_in_result(results, peer))\n",
    "\n",
    "    tops = add_ranks_in_tops(ranks, tops)\n",
    "\n",
    "    mrr += sum([1/rank for rank in ranks if rank > 0])\n",
    "    count += sum(1 for rank in ranks if rank > 0)\n",
    "\n",
    "    ranks.insert(0, query_id)\n",
    "    #\n",
    "    \n",
    "    print(ranks)\n",
    "    print()\n",
    "\n",
    "print(tops)\n",
    "print(np.mean([1/rank for rank in ranks_default if 0 < rank <= 20]))\n",
    "print()"
   ]
  },
  {
   "cell_type": "code",
   "execution_count": null,
   "metadata": {},
   "outputs": [],
   "source": []
  }
 ],
 "metadata": {
  "kernelspec": {
   "display_name": "PySpark",
   "language": "",
   "name": "pysparkkernel"
  },
  "language_info": {
   "codemirror_mode": {
    "name": "python",
    "version": 2
   },
   "mimetype": "text/x-python",
   "name": "pyspark",
   "pygments_lexer": "python2"
  }
 },
 "nbformat": 4,
 "nbformat_minor": 2
}
