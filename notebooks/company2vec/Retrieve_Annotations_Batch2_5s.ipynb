{
 "cells": [
  {
   "cell_type": "markdown",
   "metadata": {},
   "source": [
    "## Annotation ingestion notebook\n",
    "\n",
    "Given a pair of strings representing a well formatted list of base companies and a list\n",
    "of annotated peers respectively, this notebook processes them into an easy machine-understandable dictionary that can be used for evaluation."
   ]
  },
  {
   "cell_type": "code",
   "execution_count": 1,
   "metadata": {},
   "outputs": [],
   "source": [
    "from collections import defaultdict\n",
    "from elasticsearch import Elasticsearch, NotFoundError\n",
    "from elasticsearch_dsl import Search\n",
    "import numpy as np\n",
    "import ssl\n",
    "from elasticsearch.connection import create_ssl_context\n",
    "from elasticsearch_dsl import Q\n",
    "from graphene import ObjectType, String, Int, ID, Float, List, Schema\n",
    "import urllib3\n",
    "\n",
    "urllib3.disable_warnings(urllib3.exceptions.InsecureRequestWarning)\n",
    "\n",
    "HOST = \"host.docker.internal\"\n",
    "PORT = \"9200\"\n",
    "SSL = False\n",
    "INDEX = \"company\"\n",
    "\n",
    "if SSL:\n",
    "    ssl_context = create_ssl_context()\n",
    "    ssl_context.check_hostname = False\n",
    "    ssl_context.verify_mode = ssl.CERT_NONE\n",
    "else:\n",
    "    ssl_context = None\n",
    "\n",
    "client = Elasticsearch(\n",
    "    hosts=[{'host': HOST, 'port': PORT}],\n",
    "    indices=[INDEX],\n",
    "    scheme=\"https\" if SSL else \"http\",\n",
    "    ssl_context=ssl_context)"
   ]
  },
  {
   "cell_type": "code",
   "execution_count": 2,
   "metadata": {},
   "outputs": [],
   "source": [
    "region_to_currency = {\n",
    "    \"europe\": \"EUR\",\n",
    "    \"asia pacific\": \"MYR\",\n",
    "}"
   ]
  },
  {
   "cell_type": "code",
   "execution_count": 3,
   "metadata": {},
   "outputs": [],
   "source": [
    "import requests\n",
    "\n",
    "headers = {\n",
    "  \"X-API-Key\": \"ONAI_API_KEY\",\n",
    "  \"X-Stack-Host\": \"Development\",\n",
    "  \"X-Request-Id\": \"-1\",\n",
    "  \"X-Stack-User\": \"Anonymous User\"\n",
    "}\n",
    "\n",
    "get_conversion_rates_query = '''\n",
    "query{\n",
    "  currencyConversionRates(keys:\n",
    "    [\n",
    "      {sourceCurrency: \"MYR\",\n",
    "        targetCurrency:\"EUR\",\n",
    "        spotRate: \"2019-11-30\"\n",
    "      },\n",
    "      {sourceCurrency: \"USD\",\n",
    "        targetCurrency:\"EUR\",\n",
    "        spotRate: \"2019-11-30\"\n",
    "      },\n",
    "    ]\n",
    "  )\n",
    "  {\n",
    "    sourceCurrency{\n",
    "      code\n",
    "    }\n",
    "    rate\n",
    "  }\n",
    "}\n",
    "'''\n",
    "\n",
    "res = requests.post('https://data-services.onai.cloud/api/', \n",
    "                            json={'query': get_conversion_rates_query}, \n",
    "                            headers=headers).json()['data']['currencyConversionRates']\n",
    "conversion_rates_to_eur = {\n",
    "    el[\"sourceCurrency\"][\"code\"]: el[\"rate\"]\n",
    "    for el in res\n",
    "}"
   ]
  },
  {
   "cell_type": "code",
   "execution_count": 4,
   "metadata": {},
   "outputs": [],
   "source": [
    "base_companies_str = '''\n",
    "Jerash Holdings (US), Inc.\tJerash Holdings (US), Inc., through its subsidiaries, manufactures and exports customized and ready-made sports and outerwear. The company offers jackets, polo shirts, crew neck shirts, pants, and shorts made from knitted fabric. It serves various brand-name retailers in the United States, Jordan, and internationally. The company was founded in 2016 and is based in Rochester, New York.\tUnited States and Canada\tConsumer Staples\tUSD 85mn\t\n",
    "Sequential Brands Group, Inc\tSequential Brands Group, Inc. owns a portfolio of consumer brands in the home, active, and fashion categories in the United States and internationally. It offers products in the apparel, footwear, eyewear, fashion accessories, home goods, food, wine, and media related assets, such as magazines, books, and other print and digital content. The company operates under the Martha Stewart, Jessica Simpson, AND1, Avia, GAIAM, Joe’s, Ellen Tracy, Emeril Lagasse, William Rast, Heelys, Caribbean Joe, DVS, The Franklin Mint, Linens N Things, SPRI, and Nevados brands. The company licenses its brands through various distribution channels to retailers, wholesalers, and distributors. Sequential Brands Group, Inc. was incorporated in 1982 and is headquartered in New York, New York.\tUnited States and Canada\tConsumer Staples\tUSD 170mn\t\n",
    "Crown Crafts, Inc.\tCrown Crafts, Inc., through its subsidiaries, operates in the consumer products industry in the United States and internationally. It provides infant, toddler, and juvenile products, including infant and toddler beddings; blankets and swaddle blankets; nursery and toddler accessories; room décors; reusable and disposable bibs; burp cloths; hooded bath towels and washcloths; reusable and disposable placemats, and floor mats; disposable toilet seat covers and changing mats; developmental toys; feeding and care goods; and other infant, toddler, and juvenile soft goods. The company sells its products primarily to mass merchants, mid-tier retailers, juvenile specialty stores, value channel stores, grocery and drug stores, restaurants, Internet accounts, and wholesale clubs through a network of sales force and independent commissioned sales representatives. Crown Crafts, Inc. was founded in 1957 and is headquartered in Gonzales, Louisiana.\tUnited States and Canada\tConsumer Staples\tUSD 76mn\t\n",
    "Summer Infant, Inc.\tSummer Infant, Inc., together with its subsidiaries, designs, markets, and distributes branded juvenile health, safety, and wellness products primarily worldwide. It offers audio and video monitors; safety products, including gates, bedrails, baby proofing products, potties, bath products, positioners, and infant health products; nursery products, such as specialty blankets, sleep aides and soothers, and travel accessories; and baby gear products consisting of strollers, bassinets, high chairs, and playards under the Summer, SwaddleMe, and born free brand names. The company sells its products directly to retailers through own direct sales force and a network of independent manufacturers' representatives and distributors; and through partner's Websites and its summerinfant.com Website, as well as indirectly through distributors, representatives, and international retail customers. Summer Infant, Inc. was founded in 1985 and is headquartered in Woonsocket, Rhode Island.\tUnited States and Canada\tConsumer Staples\tUSD 174mn\t\n",
    "\"Tandy Leather Factory, Inc.\"\tTandy Leather Factory, Inc. operates as a retailer and wholesale distributor of a range of leather and leathercraft related items in North America and internationally. The company offers leather, quality tools, hardware, small machines, accessories, liquids, lace, kits, open workbenches, and teaching materials. It also manufactures leather lace and do-it-yourself kits. The company sells its products through company-owned stores; and orders generated from its Website, tandyleather.com. As of March 6, 2019, the company had 115 North American stores located in 42 states of the United States and 7 Canadian provinces; and 2 stores located in the United Kingdom and Spain. It serves individual retail customers; and wholesale, manufacturer, and institutional groups, such as horse and tack shops, Western wear, crafters, upholsterers, cobblers, auto repair, education, hospitals, prisons, and other businesses that use its products as raw materials to produce goods for resale. The company was formerly known as The Leather Factory, Inc. and changed its name to Tandy Leather Factory, Inc. in 2005. Tandy Leather Factory, Inc. was founded in 1980 and is headquartered in Fort Worth, Texas.\tUnited States and Canada\tConsumer Staples\tUSD 80mn\t\n",
    "'''"
   ]
  },
  {
   "cell_type": "code",
   "execution_count": 5,
   "metadata": {},
   "outputs": [],
   "source": [
    "fields = [el.lower().replace(\" \", \"_\")\n",
    "          for el in\n",
    "          (\"company name\tBusiness Description\tRegion\tSector / or  SIC Codes\tRevenue\"\n",
    "          .strip(\"\t\")\n",
    "          .split(\"\t\")\n",
    "         )]\n",
    "annotated_companies = []\n",
    "for line in base_companies_str.split(\"\\n\")[1:]:\n",
    "    line_dict = {\"annotations\": {}}\n",
    "    base_company = {}\n",
    "    for i,el in enumerate(line.strip(\"\t\").split(\"\t\")):\n",
    "        if el.lower() == \"not found\":\n",
    "            continue\n",
    "        if fields[i] == \"revenue\":\n",
    "            currency,value = el.split()\n",
    "            value = float(value[:-2])\n",
    "            base_company[\"currency\"] = currency\n",
    "            base_company[\"revenue_range_pretty\"] = f\"{currency} {value/10}mn-{value*10}mn\"\n",
    "            continue\n",
    "        if fields[i] == \"converted_to_eur_mn\":\n",
    "            base_company[\"revenue_range\"] = {\n",
    "                \"min\": float(el)*1e5,\n",
    "                \"max\": float(el)*1e7\n",
    "            }\n",
    "            continue\n",
    "        base_company[fields[i]] = el\n",
    "    line_dict[\"base_company\"] = base_company\n",
    "    annotated_companies.append(line_dict)"
   ]
  },
  {
   "cell_type": "code",
   "execution_count": 6,
   "metadata": {},
   "outputs": [],
   "source": [
    "def search_query(base_name, size=10):\n",
    "    tst_query_fuzzy  = {\n",
    "      '_source': True, \n",
    "      'from': 0, \n",
    "      'size': size, \n",
    "\n",
    "      \"query\": {\n",
    "          \"bool\": {\n",
    "            \"should\": [\n",
    "             {\n",
    "              \"multi_match\": {\n",
    "                \"query\": base_name,\n",
    "                \"fuzziness\": \"2\",\n",
    "                \"prefix_length\": 1,\n",
    "                \"fields\": [\n",
    "                  \"name\",\n",
    "                  \"name.cleaned\",\n",
    "                ],\n",
    "                \"minimum_should_match\": \"1\",\n",
    "                \"type\": \"most_fields\"\n",
    "              }\n",
    "             },\n",
    "            {\n",
    "              \"multi_match\": {\n",
    "                \"query\": base_name,\n",
    "                \"fuzziness\": \"1\",\n",
    "                \"prefix_length\": 1,\n",
    "                \"fields\": [\n",
    "                  \"name\",\n",
    "                  \"name.cleaned\",\n",
    "                ],\n",
    "                \"minimum_should_match\": \"1\",\n",
    "                \"type\": \"most_fields\",\n",
    "                \"boost\": 2\n",
    "              }\n",
    "             },\n",
    "            {\n",
    "              \"multi_match\": {\n",
    "                \"query\": base_name,\n",
    "                \"fields\": [\n",
    "                  \"name\",\n",
    "                  \"name.cleaned\",\n",
    "                ],\n",
    "                \"minimum_should_match\": \"1\",\n",
    "                \"type\": \"most_fields\",\n",
    "                \"boost\": 4\n",
    "              }\n",
    "             }\n",
    "            ]\n",
    "           }\n",
    "          } \n",
    "    }\n",
    "\n",
    "    json_result = client.search(index=INDEX, body=tst_query_fuzzy)\n",
    "    return [hit[\"_source\"] for hit in json_result[\"hits\"][\"hits\"]]"
   ]
  },
  {
   "cell_type": "code",
   "execution_count": 7,
   "metadata": {},
   "outputs": [],
   "source": [
    "Positive, Neutral, Negative = 1,0,-1"
   ]
  },
  {
   "cell_type": "code",
   "execution_count": 8,
   "metadata": {},
   "outputs": [],
   "source": [
    "model_path = \"s3://oaknorth-ml-dev-eu-west-1/andrei/peers/\""
   ]
  },
  {
   "cell_type": "code",
   "execution_count": 9,
   "metadata": {},
   "outputs": [
    {
     "data": {
      "text/plain": [
       "['electronic4you GmbH',\n",
       " 'Electronic4you Gmbh',\n",
       " 'RKM GmbH Personaldienstleistungen',\n",
       " 'BANKPOWER GmbH Personaldienstleistungen',\n",
       " 'Teamkompetent Gmbh Personaldienstleistungen',\n",
       " 'teamkompetent GmbH Personaldienstleistungen',\n",
       " 'Conexa Gmbh Präzisionsarmaturen',\n",
       " 'Genopersonalconsult Gmbh',\n",
       " 'Donaldson GmbH',\n",
       " 'Konzentration GmbH']"
      ]
     },
     "execution_count": 9,
     "metadata": {},
     "output_type": "execute_result"
    }
   ],
   "source": [
    "[hit[\"name\"] for hit in search_query(\"Electronic4you GmbH\")]"
   ]
  },
  {
   "cell_type": "code",
   "execution_count": 10,
   "metadata": {},
   "outputs": [],
   "source": [
    "for annotated_set in annotated_companies:\n",
    "    for base_name,metadata in annotated_set[\"annotations\"].items():\n",
    "        found_name = [hit[\"name\"] for hit in search_query(base_name)][0]\n",
    "        if found_name != base_name:\n",
    "            print(f\"Failed to find {base_name}, found {found_name} instead.\")\n",
    "        metadata[\"entity_id\"] = [hit[\"entity_id\"] for hit in search_query(base_name)][0]\n",
    "        print(\"---------\")"
   ]
  },
  {
   "cell_type": "code",
   "execution_count": 11,
   "metadata": {},
   "outputs": [],
   "source": [
    "import smart_open\n",
    "import pickle\n",
    "\n",
    "with smart_open.open(f\"{model_path}annotated_peers_batch2_5s.pkl\", \"wb\") as f:\n",
    "    pickle.dump(annotated_companies, f)"
   ]
  },
  {
   "cell_type": "code",
   "execution_count": null,
   "metadata": {},
   "outputs": [],
   "source": []
  }
 ],
 "metadata": {
  "kernelspec": {
   "display_name": "Python 3",
   "language": "python",
   "name": "python3"
  },
  "language_info": {
   "codemirror_mode": {
    "name": "ipython",
    "version": 3
   },
   "file_extension": ".py",
   "mimetype": "text/x-python",
   "name": "python",
   "nbconvert_exporter": "python",
   "pygments_lexer": "ipython3",
   "version": "3.7.4"
  }
 },
 "nbformat": 4,
 "nbformat_minor": 2
}
