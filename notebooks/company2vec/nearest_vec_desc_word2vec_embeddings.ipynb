{
 "cells": [
  {
   "cell_type": "code",
   "execution_count": 1,
   "metadata": {},
   "outputs": [
    {
     "name": "stdout",
     "output_type": "stream",
     "text": [
      "Starting Spark application\n"
     ]
    },
    {
     "data": {
      "text/html": [
       "<table>\n",
       "<tr><th>ID</th><th>YARN Application ID</th><th>Kind</th><th>State</th><th>Spark UI</th><th>Driver log</th><th>Current session?</th></tr><tr><td>0</td><td>application_1568977756463_0001</td><td>pyspark</td><td>idle</td><td><a target=\"_blank\" href=\"http://ip-10-0-3-87.eu-west-2.compute.internal:20888/proxy/application_1568977756463_0001/\">Link</a></td><td><a target=\"_blank\" href=\"http://ip-10-0-3-34.eu-west-2.compute.internal:8042/node/containerlogs/container_1568977756463_0001_01_000001/livy\">Link</a></td><td>✔</td></tr></table>"
      ],
      "text/plain": [
       "<IPython.core.display.HTML object>"
      ]
     },
     "metadata": {},
     "output_type": "display_data"
    },
    {
     "data": {
      "application/vnd.jupyter.widget-view+json": {
       "model_id": "",
       "version_major": 2,
       "version_minor": 0
      },
      "text/plain": [
       "FloatProgress(value=0.0, bar_style='info', description='Progress:', layout=Layout(height='25px', width='50%'),…"
      ]
     },
     "metadata": {},
     "output_type": "display_data"
    },
    {
     "name": "stdout",
     "output_type": "stream",
     "text": [
      "SparkSession available as 'spark'.\n"
     ]
    },
    {
     "data": {
      "application/vnd.jupyter.widget-view+json": {
       "model_id": "",
       "version_major": 2,
       "version_minor": 0
      },
      "text/plain": [
       "FloatProgress(value=0.0, bar_style='info', description='Progress:', layout=Layout(height='25px', width='50%'),…"
      ]
     },
     "metadata": {},
     "output_type": "display_data"
    }
   ],
   "source": [
    "from gensim.utils import tokenize\n",
    "from langdetect import detect\n",
    "import string\n",
    "from itertools import islice\n",
    "import numpy as np\n",
    "from scipy.sparse import csr_matrix\n",
    "import smart_open\n",
    "import faiss\n",
    "import pandas as pd\n",
    "\n",
    "import pyspark.sql.functions as F\n",
    "import pyspark.sql.types as T\n",
    "\n",
    "from pyspark.ml.linalg import Vectors, VectorUDT\n",
    "from collections import defaultdict\n",
    "\n",
    "import pickle\n",
    "import graphene\n",
    "\n",
    "import os\n",
    "from elasticsearch import Elasticsearch\n",
    "from elasticsearch_dsl import Search\n",
    "import numpy as np\n",
    "import ssl\n",
    "from elasticsearch.connection import create_ssl_context\n",
    "from elasticsearch_dsl import Q"
   ]
  },
  {
   "cell_type": "code",
   "execution_count": 2,
   "metadata": {},
   "outputs": [
    {
     "data": {
      "application/vnd.jupyter.widget-view+json": {
       "model_id": "",
       "version_major": 2,
       "version_minor": 0
      },
      "text/plain": [
       "FloatProgress(value=0.0, bar_style='info', description='Progress:', layout=Layout(height='25px', width='50%'),…"
      ]
     },
     "metadata": {},
     "output_type": "display_data"
    }
   ],
   "source": [
    "class Company(graphene.ObjectType):\n",
    "    id = graphene.ID()\n",
    "    name = graphene.String()\n",
    "    country = graphene.String()\n",
    "    sector = graphene.String()\n",
    "    revenue = graphene.Float()\n",
    "    ebitda = graphene.Float()\n",
    "    num_employees = graphene.Int()\n",
    "    score = graphene.String()\n",
    "    region = graphene.String()\n",
    "    description = graphene.String()\n",
    "    company_type = graphene.String()"
   ]
  },
  {
   "cell_type": "code",
   "execution_count": 3,
   "metadata": {},
   "outputs": [
    {
     "data": {
      "application/vnd.jupyter.widget-view+json": {
       "model_id": "",
       "version_major": 2,
       "version_minor": 0
      },
      "text/plain": [
       "FloatProgress(value=0.0, bar_style='info', description='Progress:', layout=Layout(height='25px', width='50%'),…"
      ]
     },
     "metadata": {},
     "output_type": "display_data"
    }
   ],
   "source": [
    "HOST = \"https://vpc-datalake-es-dev-pkpwahah2cv4owesrl4g5xzafe.eu-west-2.es.amazonaws.com:443\"\n",
    "INDEX = \"company\"\n",
    "client = Elasticsearch(HOST+\"/\")"
   ]
  },
  {
   "cell_type": "code",
   "execution_count": 4,
   "metadata": {},
   "outputs": [
    {
     "data": {
      "application/vnd.jupyter.widget-view+json": {
       "model_id": "",
       "version_major": 2,
       "version_minor": 0
      },
      "text/plain": [
       "FloatProgress(value=0.0, bar_style='info', description='Progress:', layout=Layout(height='25px', width='50%'),…"
      ]
     },
     "metadata": {},
     "output_type": "display_data"
    }
   ],
   "source": [
    "embedding_path = \"s3://onai-ml-dev-data-eu-west-1/models/peers/embeddings/all_mat.npy\"\n",
    "company_index = \"s3://onai-ml-dev-data-eu-west-1/models/peers/embeddings/company_index.csv\""
   ]
  },
  {
   "cell_type": "code",
   "execution_count": 5,
   "metadata": {},
   "outputs": [
    {
     "data": {
      "application/vnd.jupyter.widget-view+json": {
       "model_id": "",
       "version_major": 2,
       "version_minor": 0
      },
      "text/plain": [
       "FloatProgress(value=0.0, bar_style='info', description='Progress:', layout=Layout(height='25px', width='50%'),…"
      ]
     },
     "metadata": {},
     "output_type": "display_data"
    }
   ],
   "source": [
    "with smart_open.open(embedding_path, \"rb\") as f:\n",
    "    embeddings = np.load(f).astype(np.float32)"
   ]
  },
  {
   "cell_type": "code",
   "execution_count": 6,
   "metadata": {},
   "outputs": [
    {
     "data": {
      "application/vnd.jupyter.widget-view+json": {
       "model_id": "",
       "version_major": 2,
       "version_minor": 0
      },
      "text/plain": [
       "FloatProgress(value=0.0, bar_style='info', description='Progress:', layout=Layout(height='25px', width='50%'),…"
      ]
     },
     "metadata": {},
     "output_type": "display_data"
    }
   ],
   "source": [
    "description = pd.read_csv(company_index)"
   ]
  },
  {
   "cell_type": "code",
   "execution_count": 7,
   "metadata": {},
   "outputs": [
    {
     "data": {
      "application/vnd.jupyter.widget-view+json": {
       "model_id": "",
       "version_major": 2,
       "version_minor": 0
      },
      "text/plain": [
       "FloatProgress(value=0.0, bar_style='info', description='Progress:', layout=Layout(height='25px', width='50%'),…"
      ]
     },
     "metadata": {},
     "output_type": "display_data"
    }
   ],
   "source": [
    "n,d = embeddings.shape"
   ]
  },
  {
   "cell_type": "code",
   "execution_count": 8,
   "metadata": {},
   "outputs": [
    {
     "data": {
      "application/vnd.jupyter.widget-view+json": {
       "model_id": "",
       "version_major": 2,
       "version_minor": 0
      },
      "text/plain": [
       "FloatProgress(value=0.0, bar_style='info', description='Progress:', layout=Layout(height='25px', width='50%'),…"
      ]
     },
     "metadata": {},
     "output_type": "display_data"
    },
    {
     "name": "stdout",
     "output_type": "stream",
     "text": [
      "7581989"
     ]
    }
   ],
   "source": [
    "index = faiss.IndexFlatL2(d)\n",
    "index.add(embeddings)\n",
    "print(index.ntotal)"
   ]
  },
  {
   "cell_type": "code",
   "execution_count": 9,
   "metadata": {},
   "outputs": [
    {
     "data": {
      "application/vnd.jupyter.widget-view+json": {
       "model_id": "",
       "version_major": 2,
       "version_minor": 0
      },
      "text/plain": [
       "FloatProgress(value=0.0, bar_style='info', description='Progress:', layout=Layout(height='25px', width='50%'),…"
      ]
     },
     "metadata": {},
     "output_type": "display_data"
    }
   ],
   "source": [
    "company2id = {}\n",
    "id2company = {}\n",
    "for i,desc in description.loc[:, [\"one_id\"]].iterrows():\n",
    "    company2id[desc[\"one_id\"]] = i\n",
    "    id2company[i] = desc[\"one_id\"]"
   ]
  },
  {
   "cell_type": "code",
   "execution_count": 10,
   "metadata": {},
   "outputs": [
    {
     "data": {
      "application/vnd.jupyter.widget-view+json": {
       "model_id": "",
       "version_major": 2,
       "version_minor": 0
      },
      "text/plain": [
       "FloatProgress(value=0.0, bar_style='info', description='Progress:', layout=Layout(height='25px', width='50%'),…"
      ]
     },
     "metadata": {},
     "output_type": "display_data"
    }
   ],
   "source": [
    "public_labels_ciq = {\n",
    "    2444485: [9429145, 93196, 9870522, 7914436],\n",
    "    645782: [380011, 392154, 5523392],\n",
    "    875173: [237655379, 931146, 418171],\n",
    "    813607: [100231, 357076],\n",
    "    380011: [357076, 324490, 93339],\n",
    "    882889: [127202, 5478606, 1025390, 645782],\n",
    "    46329052: [189096, 915379, 46895276, 877008, 325290136, 20524024, 271958947, 21852987, 26363560, 110104150],\n",
    "    106335: [319676, 377732, 61206100],\n",
    "    877769: [874042, 780678, 953488, 883809, 875295, 874186, 874119],\n",
    "    34049884: [882155, 30428758, 315394, 23037669, 27561],\n",
    "    254287477: [883300, 30614595],\n",
    "    5600108: [285880, 5433540, 878697, 35650, 688262, 226852452],\n",
    "    876031: [410182, 874470, 874191, 879732, 5395336],\n",
    "    883752: [880697, 65340486, 26320074, 883327, 1034090, 257501324],\n",
    "    5920885: [1494039, 268074105, 34534627, 20385800, 23000545, 124640],\n",
    "    628413: [272054403, 91192, 309779, 140283, 138644],\n",
    "    364040: [381388, 184945, 874170, 42751952, 874183, 314896, 5126590, 841504],\n",
    "    257501324: [35000, 47320264, 253748612, 85076655, 32053, 12144785, 8186273, 9934160, 557267859],\n",
    "    695204: [35303, 274561, 683719, 370857, 561001, 874022, 387473, 394038, 8274485, 12188205],\n",
    "    30614595: [883300, 254287477, 9956099, 380011, 27868703, 2386697, 126857],\n",
    "    28224119: [26824144, 35023689, 386639, 393661],\n",
    "    32449506: [875260, 27169270, 5629762, 26014489, 286119],\n",
    "    233324810: [874864, 159230, 27860587, 35806, 876981],\n",
    "    879554: [5487000, 236715563, 412090459, 875192, 278679, 180871, 22516334, 30274893, 5478907],\n",
    "    5580060: [118474533, 1779941, 265154, 10405454],\n",
    "    23335317: [7885406, 277444, 278933, 8983678, 874143, 409119],\n",
    "    381865672: [874842, 410366, 873649, 275789, 882473],\n",
    "    937352: [876758, 879422, 128861678, 6461781, 1859063],\n",
    "    874119: [881803, 875849, 231533, 877769, 780678, 953488, 875295, 874042, 775001, 874186],\n",
    "    680934: [135398, 882299, 668578, 4481676, 32012],\n",
    "    2248076: [141249, 4975204, 98876, 21828553],\n",
    "    3606442: [882547, 4509042, 20703565, 7435035, 94799, 288033, 359868],\n",
    "    877235: [295170, 175265, 874520, 410366, 873649, 874977, 167945, 8090046],\n",
    "    84148802: [275789, 30339992, 5533238, 5718736],\n",
    "    5523392: [645782, 11809880, 1353107, 962864],\n",
    "    413744: [409932, 875491, 109303666, 91638],\n",
    "    314896: [330589, 34768, 184945],\n",
    "    5126590: [874855, 631781, 364040, 831357, 874170],\n",
    "    377732: [319676, 106772, 106335, 704634, 320105, 874828, 873861, 1519242, 533853947],\n",
    "    874652: [377732, 319676, 106772, 704634, 312375, 278933, 874828, 4863668]\n",
    "}"
   ]
  },
  {
   "cell_type": "code",
   "execution_count": 11,
   "metadata": {},
   "outputs": [
    {
     "data": {
      "application/vnd.jupyter.widget-view+json": {
       "model_id": "",
       "version_major": 2,
       "version_minor": 0
      },
      "text/plain": [
       "FloatProgress(value=0.0, bar_style='info', description='Progress:', layout=Layout(height='25px', width='50%'),…"
      ]
     },
     "metadata": {},
     "output_type": "display_data"
    }
   ],
   "source": [
    "def get_oneid(capiq_id):\n",
    "    query = client.get(index='company', id=capiq_id)\n",
    "    return query[\"_source\"][\"one_id\"]\n",
    "\n",
    "public_labels = defaultdict(list)\n",
    "for k,v in public_labels_ciq.items():\n",
    "    one_id = get_oneid(k)\n",
    "    for el in v:\n",
    "        public_labels[one_id].append(get_oneid(el))"
   ]
  },
  {
   "cell_type": "code",
   "execution_count": 12,
   "metadata": {},
   "outputs": [
    {
     "data": {
      "application/vnd.jupyter.widget-view+json": {
       "model_id": "",
       "version_major": 2,
       "version_minor": 0
      },
      "text/plain": [
       "FloatProgress(value=0.0, bar_style='info', description='Progress:', layout=Layout(height='25px', width='50%'),…"
      ]
     },
     "metadata": {},
     "output_type": "display_data"
    }
   ],
   "source": [
    "def find_closest_revenue(candidate, revenue, ebitda):\n",
    "    if candidate.revenue == 0 or candidate.ebitda == 0:\n",
    "        return candidate.score * 100\n",
    "\n",
    "    if candidate.revenue < revenue:\n",
    "        score_revenue = 1 - candidate.revenue/revenue\n",
    "    else:\n",
    "        score_revenue = 1 - revenue/candidate.revenue\n",
    "\n",
    "    if candidate.ebitda < ebitda:\n",
    "        score_ebitda = 1 - candidate.ebitda/ebitda\n",
    "    else:\n",
    "        score_ebitda = 1 - ebitda/candidate.ebitda\n",
    "\n",
    "    return (score_ebitda + score_revenue) / 2\n",
    "\n",
    "\n",
    "def revenue_reranker(results, topn=100):\n",
    "    query = results[0]\n",
    "    return sorted(results[1:(topn+1)],\n",
    "                  key=lambda x: find_closest_revenue(x,\n",
    "                                                     query.revenue,\n",
    "                                                     query.ebitda\n",
    "                                                     )\n",
    "                  )"
   ]
  },
  {
   "cell_type": "code",
   "execution_count": 13,
   "metadata": {},
   "outputs": [
    {
     "data": {
      "application/vnd.jupyter.widget-view+json": {
       "model_id": "",
       "version_major": 2,
       "version_minor": 0
      },
      "text/plain": [
       "FloatProgress(value=0.0, bar_style='info', description='Progress:', layout=Layout(height='25px', width='50%'),…"
      ]
     },
     "metadata": {},
     "output_type": "display_data"
    }
   ],
   "source": [
    "def query_peers(query_company, result_size=100, reranker=lambda res: res):\n",
    "    query_vector = embeddings[np.newaxis, company2id[query_company]]\n",
    "\n",
    "    desc_info = description.loc[company2id[query_company]]\n",
    "    industry = desc_info[\"sic_code\"]\n",
    "    country = desc_info[\"country\"]\n",
    "    \n",
    "    D, I = index.search(query_vector, result_size)\n",
    "\n",
    "    ret = []\n",
    "    added = set()\n",
    "    for distance,idx in zip(D[0],I[0]):\n",
    "        id = id2company[idx]\n",
    "        \n",
    "        # TODO: fix this to use the pandas dataframe instead\n",
    "        \n",
    "        score = distance\n",
    "        cname = description.loc[idx, \"company_name\"]\n",
    "        sector = description.loc[idx, \"simple_industry\"]\n",
    "        country = description.loc[idx, \"country\"]\n",
    "\n",
    "        ret.append(\n",
    "            Company(\n",
    "                id=id,\n",
    "                name=cname,\n",
    "                sector=sector,\n",
    "                country=country,\n",
    "                score=score,\n",
    "            )\n",
    "        )\n",
    "\n",
    "    return reranker(ret)\n",
    "\n",
    "def find_peer_in_result(results, peer):\n",
    "    for i, company in enumerate(results):\n",
    "        if peer == company.id:\n",
    "            return i+1\n",
    "\n",
    "    return -1\n",
    "\n",
    "\n",
    "def add_ranks_in_tops(ranks, counts):\n",
    "    for rank in ranks:\n",
    "        if 0 < rank <= 10:\n",
    "            counts[0] += 1\n",
    "        elif 10 < rank <= 20:\n",
    "            counts[1] += 1\n",
    "        elif 20 < rank <= 50:\n",
    "            counts[2] += 1\n",
    "        elif 50 < rank <= 100:\n",
    "            counts[3] += 1\n",
    "        elif 100 < rank:\n",
    "            counts[4] += 1\n",
    "        else:\n",
    "            counts[5] += 1\n",
    "    return counts"
   ]
  },
  {
   "cell_type": "code",
   "execution_count": 14,
   "metadata": {},
   "outputs": [
    {
     "data": {
      "application/vnd.jupyter.widget-view+json": {
       "model_id": "",
       "version_major": 2,
       "version_minor": 0
      },
      "text/plain": [
       "FloatProgress(value=0.0, bar_style='info', description='Progress:', layout=Layout(height='25px', width='50%'),…"
      ]
     },
     "metadata": {},
     "output_type": "display_data"
    },
    {
     "name": "stdout",
     "output_type": "stream",
     "text": [
      "['7CE17D1E6E53355C7638AF270390D655', -1, -1, -1, -1]\n",
      "\n",
      "['81BC07711FBEDE5C0565CF61A01C4DAF', 159, 263, 62]\n",
      "\n",
      "['AB395747C47AAD43726277D4C69A906C', -1, -1, -1]\n",
      "\n",
      "['32066D273DA16D21AC90771EDD4BB299', 32, 16]\n",
      "\n",
      "['3DB2DAA268B964D4A6198DB35BB16BB1', 29, 4, -1]\n",
      "\n",
      "['40097BD00D04CBAD4312AE1ABC4523BF', 72, -1, -1, 17]\n",
      "\n",
      "['AA8F66DF7A6EE74C320992CEBC33EBCC', -1, -1, -1, -1, -1, -1, -1, -1, -1, -1]\n",
      "\n",
      "['C42EA57A8F03FA115C8A4671322F7C66', 69, 133, 2]\n",
      "\n",
      "['FE276F942C9ED6A07430CFDFA19243E1', 393, 10, 211, 17, 26, 56, -1]\n",
      "\n",
      "['78C55300E19A08F6A09264753956DA4B', 18, -1, -1, -1, 360]\n",
      "\n",
      "['450A24AAF9E4E2B3FDB28B662F02448C', 309, -1]\n",
      "\n",
      "['C2A9E8F89D4AE0C73B4958CF86AE6EBC', -1, -1, -1, -1, 449, 97]\n",
      "\n",
      "['1F7985A0E3B81000F7FCA99CE537C461', 90, 32, -1, -1, -1]\n",
      "\n",
      "['F03C722062B5503A999CBBFFD00C85FE', -1, -1, -1, -1, -1, -1]\n",
      "\n",
      "['81245ED573A317A7A218B5625ECD60C5', -1, -1, -1, 2, 49, -1]\n",
      "\n",
      "['4DC637DAF653DF8C8B22C57FC19EA816', 170, -1, 105, -1, 86]\n",
      "\n",
      "['3775C12EDE190C736D3D948792EF576B', 36, -1, 20, -1, 270, 33, -1, 206]\n",
      "\n",
      "['9B89D88E25FB3A89BFD887C3CDA2CC85', -1, 201, -1, -1, -1, -1, -1, -1, -1]\n",
      "\n",
      "['0417047E4E20A833CB1892ACEFD54D80', 7, 15, 13, 66, 2, -1, -1, 53, -1, -1]\n",
      "\n",
      "['1E5E3856C9EDC185B50D336FEF37DD4A', -1, -1, -1, 357, 255, 166, 140]\n",
      "\n",
      "['59F70C6829E1303D5C92C1861A7146D7', -1, -1, -1, -1]\n",
      "\n",
      "['1E1295BA90ED5A04E72DA0076AF25C76', -1, -1, -1, -1, -1]\n",
      "\n",
      "['D4EEE630B2474CE66C123009994BCCAC', 41, 385, -1, 126, -1]\n",
      "\n",
      "['C226607D87A134D62CB4282A0994AAEF', 60, -1, -1, 12, -1, -1, -1, -1, -1]\n",
      "\n",
      "['91DBDACA615EFAB8E65967B1B6473AEA', -1, -1, -1, -1]\n",
      "\n",
      "['F749E8ED6F5A64B6C6D672769795AD31', -1, -1, -1, -1, -1, -1]\n",
      "\n",
      "['6B27732B287DDF1A2111A23AAFEF3CCA', 190, -1, -1, -1, -1]\n",
      "\n",
      "['C9C1F2819803877CA441DFD899A412A1', -1, -1, 306, -1, 139]\n",
      "\n",
      "['C5F13D79F5C13DD8AE4ABC11BC8D352C', -1, 2, 407, -1, -1, -1, -1, -1, -1, -1]\n",
      "\n",
      "['6563F1943D39AAA3184B545D870A1BBE', 4, 91, 7, 10, -1]\n",
      "\n",
      "['64414F23BAED90DB1E20DE4011131328', -1, -1, -1, -1]\n",
      "\n",
      "['ED64EA3476A9492D5615E4AB9F502018', 69, 445, -1, -1, -1, -1, -1]\n",
      "\n",
      "['BC81E076B3A2CD065E1EA20D487FB2EE', -1, -1, -1, -1, -1, 15, -1, -1]\n",
      "\n",
      "['6B2F4A4BD7132C6FE961758DB4C126BD', -1, -1, 114, 55]\n",
      "\n",
      "['3084A53175D206958EE2F25CFEDAC159', 258, -1, -1, -1]\n",
      "\n",
      "['CD4D1BC78184637573CBFFB2FFE3B902', 235, -1, -1, -1]\n",
      "\n",
      "['3B31B55BBBD942C65DA97E56C8979BD3', 102, 25, 247]\n",
      "\n",
      "['947D533FA0F0F7C370FE3788BCC01E95', 4, -1, -1, -1, -1]\n",
      "\n",
      "['54B8715CCDDA0B7BBE49799BC92E4A39', 37, 20, 59, 5, 71, -1, 3, -1, -1]\n",
      "\n",
      "['A2C3787001CF058A045AEF8C057EA832', -1, 2, -1, 97, -1, -1, -1, -1]\n",
      "\n",
      "[14, 10, 10, 16, 29, 143]\n",
      "0.20409749904235197"
     ]
    }
   ],
   "source": [
    "tops = [0] * 6 # top 10, 20, 50, 100, >100, -1\n",
    "\n",
    "mrr = 0\n",
    "count = 0\n",
    "\n",
    "ranks_default = []\n",
    "missed_peers = defaultdict(list)\n",
    "for public_label,peers in public_labels.items():\n",
    "    query_id = public_label\n",
    "    results = query_peers(query_id, 500)\n",
    "    ranks = []\n",
    "    \n",
    "    for peer in peers:\n",
    "        peer_location = find_peer_in_result(results, peer)\n",
    "        ranks.append(peer_location)\n",
    "        ranks_default.append(peer_location)\n",
    "        if peer_location == -1:\n",
    "            missed_peers[public_label].append(peer)\n",
    "\n",
    "    tops = add_ranks_in_tops(ranks, tops)\n",
    "\n",
    "    mrr += sum([1/rank for rank in ranks if rank > 0])\n",
    "    count += sum(1 for rank in ranks if rank > 0)\n",
    "\n",
    "    ranks.insert(0, query_id)\n",
    "    \n",
    "    print(ranks)\n",
    "    print()\n",
    "\n",
    "print(tops)\n",
    "print(np.mean([1/rank for rank in ranks_default if 0 < rank <= 20]))\n",
    "print()"
   ]
  },
  {
   "cell_type": "code",
   "execution_count": null,
   "metadata": {},
   "outputs": [],
   "source": []
  }
 ],
 "metadata": {
  "kernelspec": {
   "display_name": "PySpark",
   "language": "",
   "name": "pysparkkernel"
  },
  "language_info": {
   "codemirror_mode": {
    "name": "python",
    "version": 2
   },
   "mimetype": "text/x-python",
   "name": "pyspark",
   "pygments_lexer": "python2"
  }
 },
 "nbformat": 4,
 "nbformat_minor": 2
}
