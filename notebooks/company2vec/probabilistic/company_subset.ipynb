{
 "cells": [
  {
   "cell_type": "code",
   "execution_count": 1,
   "metadata": {},
   "outputs": [],
   "source": [
    "import os\n",
    "from pyspark.sql import SparkSession\n",
    "\n",
    "import pyspark.sql.functions as F\n",
    "import pyspark.sql.types as T\n",
    "\n",
    "import smart_open\n",
    "\n",
    "from scipy.sparse import csr_matrix\n",
    "import scipy\n",
    "\n",
    "import numpy as np\n",
    "\n",
    "from simple_lda import SimpleLDA\n",
    "from itertools import islice"
   ]
  },
  {
   "cell_type": "code",
   "execution_count": 2,
   "metadata": {},
   "outputs": [],
   "source": [
    "spark = (\n",
    "    SparkSession.builder\n",
    "     .master(\"local[*]\")\n",
    "     .appName(\"SparkTest\")\n",
    "     .getOrCreate()\n",
    "     )"
   ]
  },
  {
   "cell_type": "code",
   "execution_count": 3,
   "metadata": {},
   "outputs": [],
   "source": [
    "word2id_path = \"s3://onai-ml-dev-eu-west-1/company2vec/common\"\n",
    "data_path = \"s3://onai-ml-dev-eu-west-1/company2vec/data_desc_only\""
   ]
  },
  {
   "cell_type": "code",
   "execution_count": 4,
   "metadata": {},
   "outputs": [],
   "source": [
    "public_labels = [\n",
    "    2444485, 9429145, 93196, 9870522, 7914436,\n",
    "    645782, 380011, 392154, 5523392,\n",
    "    875173, 237655379, 931146, 418171,\n",
    "    813607, 100231, 357076,\n",
    "    380011, 357076, 324490, 93339,\n",
    "    882889, 127202, 5478606, 1025390, 645782,\n",
    "    46329052, 189096, 915379, 46895276, 877008, 325290136, 20524024, 271958947, 21852987, 26363560, 110104150,\n",
    "    106335, 319676, 377732, 61206100,\n",
    "    877769, 874042, 780678, 953488, 883809, 875295, 874186, 874119,\n",
    "    34049884, 882155, 30428758, 315394, 23037669, 27561,\n",
    "    254287477, 883300, 30614595,\n",
    "    5600108, 285880, 5433540, 878697, 35650, 688262, 226852452,\n",
    "    876031, 410182, 874470, 874191, 879732, 5395336,\n",
    "    883752, 880697, 65340486, 26320074, 883327, 1034090, 257501324,\n",
    "    5920885, 1494039, 268074105, 34534627, 20385800, 23000545, 124640,\n",
    "    628413, 272054403, 91192, 309779, 140283, 138644,\n",
    "    364040, 381388, 184945, 874170, 42751952, 874183, 314896, 5126590, 841504,\n",
    "    257501324, 35000, 47320264, 253748612, 85076655, 32053, 12144785, 8186273, 9934160, 557267859,\n",
    "    695204, 35303, 274561, 683719, 370857, 561001, 874022, 387473, 394038, 8274485, 12188205,\n",
    "    30614595, 883300, 254287477, 9956099, 380011, 27868703, 2386697, 126857,\n",
    "    28224119, 26824144, 35023689, 386639, 393661,\n",
    "    32449506, 875260, 27169270, 5629762, 26014489, 286119,\n",
    "    233324810, 874864, 159230, 27860587, 35806, 876981,\n",
    "    879554, 5487000, 236715563, 412090459, 875192, 278679, 180871, 22516334, 30274893, 5478907,\n",
    "    5580060, 118474533, 1779941, 265154, 10405454,\n",
    "    23335317, 7885406, 277444, 278933, 8983678, 874143, 409119,\n",
    "    381865672, 874842, 410366, 873649, 275789, 882473,\n",
    "    937352, 876758, 879422, 128861678, 6461781, 1859063,\n",
    "    874119, 881803, 875849, 231533, 877769, 780678, 953488, 875295, 874042, 775001, 874186,\n",
    "    680934, 135398, 882299, 668578, 4481676, 32012,\n",
    "    2248076, 141249, 4975204, 98876, 21828553,\n",
    "    3606442, 882547, 4509042, 20703565, 7435035, 94799, 288033, 359868,\n",
    "    877235, 295170, 175265, 874520, 410366, 873649, 874977, 167945, 8090046,\n",
    "    84148802, 275789, 30339992, 5533238, 5718736,\n",
    "    5523392, 645782, 11809880, 1353107, 962864,\n",
    "    413744, 409932, 875491, 109303666, 91638,\n",
    "    314896, 330589, 34768, 184945,\n",
    "    5126590, 874855, 631781, 364040, 831357, 874170,\n",
    "    377732, 319676, 106772, 106335, 704634, 320105, 874828, 873861, 1519242, 533853947,\n",
    "    874652, 377732, 319676, 106772, 704634, 312375, 278933, 874828, 4863668\n",
    "]"
   ]
  },
  {
   "cell_type": "code",
   "execution_count": 5,
   "metadata": {},
   "outputs": [],
   "source": [
    "companies_raw = spark.read.load(\"s3://ai-data-lake-dev-eu-west-1/business/capiq/company_denormalized\")"
   ]
  },
  {
   "cell_type": "code",
   "execution_count": 6,
   "metadata": {},
   "outputs": [],
   "source": [
    "target_industries = [el[0] for el in\n",
    "                     companies_raw\n",
    "                     .filter(F.col(\"company_id\").isin(public_labels))\n",
    "                     .select(\"sic_code\")\n",
    "                     .filter(F.col(\"sic_code\") != \"\")\n",
    "                     .distinct()\n",
    "                     .collect()\n",
    "                    ]"
   ]
  },
  {
   "cell_type": "code",
   "execution_count": 7,
   "metadata": {},
   "outputs": [],
   "source": [
    "companies_subset = {el.company_id: el.sic_code_desc\n",
    "                    for el in companies_raw.filter(F.col(\"sic_code\").isin(target_industries)).collect()\n",
    "                   }"
   ]
  },
  {
   "cell_type": "code",
   "execution_count": 8,
   "metadata": {},
   "outputs": [],
   "source": [
    "industries = sorted(list(set(companies_subset.values())))\n",
    "industry2index = {}\n",
    "for i,el in enumerate(industries):\n",
    "    industry2index[el] = i"
   ]
  },
  {
   "cell_type": "code",
   "execution_count": 9,
   "metadata": {},
   "outputs": [],
   "source": [
    "word2id = {}\n",
    "with smart_open.open(f\"{word2id_path}/bow/word2id.csv\", \"r\") as f:\n",
    "    for line in f:\n",
    "        word,idd = line.strip().split(\",\")\n",
    "        word2id[word] = int(idd)"
   ]
  },
  {
   "cell_type": "code",
   "execution_count": 10,
   "metadata": {},
   "outputs": [],
   "source": [
    "industry_udf = F.udf(lambda c_id: companies_subset[c_id], T.StringType())"
   ]
  },
  {
   "cell_type": "code",
   "execution_count": 11,
   "metadata": {},
   "outputs": [],
   "source": [
    "companies_df = (spark.read.load(f\"{data_path}/raw_company_features\")\n",
    "                .filter(F.col(\"company_id\").isin(list(companies_subset.keys())))\n",
    "                .select(\"merged_description\", industry_udf(\"company_id\").alias(\"industry\"))\n",
    "               )"
   ]
  },
  {
   "cell_type": "code",
   "execution_count": 12,
   "metadata": {},
   "outputs": [],
   "source": [
    "n_docs = companies_df.count()\n",
    "n_words = len(word2id)"
   ]
  },
  {
   "cell_type": "code",
   "execution_count": 13,
   "metadata": {},
   "outputs": [],
   "source": [
    "rows = []\n",
    "cols = []\n",
    "data = []\n",
    "industry = []\n",
    "for i, row in enumerate(companies_df.select(\"merged_description\", \"industry\").collect()):\n",
    "    industry.append(industry2index[row.industry])\n",
    "    for k,v in row.merged_description.items():\n",
    "        if k not in word2id:\n",
    "            continue\n",
    "        rows.append(i)\n",
    "        cols.append(word2id[k])\n",
    "        data.append(v)"
   ]
  },
  {
   "cell_type": "code",
   "execution_count": 14,
   "metadata": {},
   "outputs": [],
   "source": [
    "X = csr_matrix((data, (rows, cols)), shape=(n_docs, n_words))"
   ]
  },
  {
   "cell_type": "code",
   "execution_count": 15,
   "metadata": {},
   "outputs": [],
   "source": [
    "n_topics = len(industries) + 1"
   ]
  },
  {
   "cell_type": "code",
   "execution_count": 16,
   "metadata": {},
   "outputs": [],
   "source": [
    "X_metadata_rdd = spark.sparkContext.parallelize(list(zip(X,industry)), 10)"
   ]
  },
  {
   "cell_type": "code",
   "execution_count": 17,
   "metadata": {},
   "outputs": [],
   "source": [
    "model = SimpleLDA(word2id, industries, print_every=25)"
   ]
  },
  {
   "cell_type": "code",
   "execution_count": 18,
   "metadata": {},
   "outputs": [
    {
     "name": "stdout",
     "output_type": "stream",
     "text": [
      "0\n",
      "1\n",
      "2\n",
      "3\n",
      "4\n",
      "5\n",
      "6\n",
      "7\n",
      "8\n",
      "9\n",
      "10\n",
      "11\n",
      "12\n",
      "13\n",
      "14\n",
      "15\n",
      "16\n",
      "17\n",
      "18\n",
      "19\n",
      "20\n",
      "21\n",
      "22\n",
      "23\n",
      "24\n",
      "25\n",
      "26\n",
      "27\n",
      "28\n",
      "29\n",
      "30\n",
      "31\n",
      "32\n",
      "33\n",
      "34\n",
      "35\n",
      "36\n",
      "37\n",
      "38\n",
      "39\n",
      "40\n",
      "41\n",
      "42\n",
      "43\n",
      "44\n",
      "45\n",
      "46\n",
      "47\n",
      "48\n",
      "49\n"
     ]
    }
   ],
   "source": [
    "model.train_distributed(X_metadata_rdd, n_iter=50)"
   ]
  },
  {
   "cell_type": "code",
   "execution_count": 19,
   "metadata": {},
   "outputs": [],
   "source": [
    "def plot_topics(model):\n",
    "    phi = model.phi\n",
    "    id2word = model.id2word\n",
    "    \n",
    "    for i,topic in enumerate(phi):\n",
    "        topic_name = model.industries[i] if i < len(model.industries) else \"background\"\n",
    "        print(\"#\"*20, topic_name, \"#\"*20)\n",
    "        for prob,i in islice(sorted([(prob,i) for i,prob in enumerate(topic)], reverse=True), 20):\n",
    "            print(f\"{id2word[i]}:{prob} \", end=\"\")\n",
    "        print()\n",
    "        print(\"#\"*80)"
   ]
  },
  {
   "cell_type": "code",
   "execution_count": 20,
   "metadata": {},
   "outputs": [
    {
     "name": "stdout",
     "output_type": "stream",
     "text": [
      "#################### Communication services ####################\n",
      "servic:0.019999180741328507 mobil:0.015352320206042436 data:0.015138444583581767 service:0.014727373838233412 network:0.013648499963047744 internet:0.012061404879951606 commun:0.011678684115441353 satellit:0.00805323891381802 provid:0.0072223487820527975 oper:0.0069992414865325675 telecommun:0.00625196397146434 broadband:0.006112035958372362 platform:0.005869617799356605 inc:0.00586123445328233 wireless:0.005669523496679094 voic:0.005236730668915918 compani:0.005080463666779935 nth:0.004982129858406043 phone:0.0046627950666368 limit:0.004601520523599553 \n",
      "################################################################################\n",
      "#################### Engineering services ####################\n",
      "engin:0.0292305871928453 project:0.018670523107140707 design:0.01667645970875136 system:0.016287203659791652 construct:0.015816715307217 service:0.014589622754559464 servic:0.011507315519148995 australia:0.010558116071737539 ltd:0.009807254740310549 plant:0.009397228169447006 pty:0.00915780780246108 engineering:0.008738461983136785 power:0.007701328411003831 management:0.007680326458538736 energi:0.007329961666205171 water:0.007288246168037593 construction:0.006713563796828645 build:0.005987186049197706 co:0.005879594250574051 consult:0.005691378447159936 \n",
      "################################################################################\n",
      "#################### Groceries and related products - wholesale ####################\n",
      "product:0.031062854461612208 food:0.029960432632026267 limit:0.010145116268478098 inc:0.009473765473157538 frozen:0.00827210219329966 meat:0.00792743126857884 distribut:0.007396198793538161 compani:0.0072995067828178235 hold:0.0069074228062446855 act:0.006887545865024286 trade:0.006814966003221381 retail:0.00680036756723596 brand:0.006379190855587672 commod:0.006203923101518713 nth:0.0057393157993253915 oil:0.005687252172417438 seafood:0.005514734795533107 restaurant:0.0048251321086385775 regul:0.004814217178611286 subject:0.004686724629458102 \n",
      "################################################################################\n",
      "#################### Holding companies ####################\n",
      "product:0.012370917565711976 hold:0.011755634869831584 oper:0.010005299369624543 limit:0.009858894434882085 subsidiari:0.00915204901666445 australia:0.008690452255643102 pty:0.007878342770383311 invest:0.007739932594797198 service:0.006626108370055069 the:0.006427274660712138 limited:0.0063431668651335316 engag:0.006271826113405913 group:0.006250271601160461 kingdom:0.005989784001134253 compani:0.0059142217466267525 unit:0.0053489948052760534 ltd:0.0052928848663723205 energi:0.005243750444126598 industri:0.00514363130185667 properti:0.004713499727026909 \n",
      "################################################################################\n",
      "#################### Investors ####################\n",
      "invest:0.03298919486923185 compani:0.011721437550963075 engag:0.010483688184833197 limit:0.010173314915040192 hold:0.009321672755295893 the:0.00848485454422801 capit:0.007812413428013901 fund:0.006941505337946218 base:0.006626166529882906 real:0.00651258627626565 group:0.006071910490708965 busi:0.005903317546241033 estat:0.005670312985969969 financi:0.0056484916268926075 ltd:0.005363158222343921 incorpor:0.005234374192287759 financ:0.004993881525666916 asset:0.004876472876989218 inc:0.004739201716983562 project:0.004735025183161141 \n",
      "################################################################################\n",
      "#################### Miscellaneous shopping goods stores ####################\n",
      "student:0.0185612923438469 store:0.01609435239271745 textbook:0.01577710847447157 includ:0.013836912011176138 product:0.012967185586890102 physic:0.012790882407167765 sport:0.012689938782343965 bookstor:0.012064847656871594 brand:0.011666536401818415 campu:0.01113678244323176 segment:0.01097864914085761 retail:0.01082623493545471 virtual:0.010481555749882106 cours:0.01020871446358231 digit:0.010206988392260629 colleg:0.009744574276199775 oper:0.008877685099319197 bookstore:0.008352586839182006 materi:0.007830888775875502 to:0.007138480676723031 \n",
      "################################################################################\n",
      "#################### Nonstore retailers ####################\n",
      "product:0.02780478447397159 onlin:0.02597901266358242 retail:0.013152372267345695 pharmaci:0.012943370676423692 sale:0.012750507618524186 sell:0.011391459261747974 platform:0.011320866631912703 compani:0.01102714300724171 drug:0.009355100580363136 home:0.00893189349261355 brand:0.008587385760946595 pharmaceut:0.008445336753518063 nth:0.008191028935164739 medic:0.008091037794247002 pharmacy:0.006694845817627589 company:0.006401239597398441 com:0.006363430153606453 group:0.006197906841147133 direct:0.006117679262535752 offlin:0.005802201019710916 \n",
      "################################################################################\n",
      "#################### Prepackaged software ####################\n",
      "solut:0.01439890900389543 softwar:0.012573282829625505 inc:0.011034698301391001 platform:0.010464476663516527 develop:0.009054663667121281 data:0.00860124047591833 applic:0.008382753499727757 manag:0.008274549202919323 mobil:0.008232619325865343 game:0.008005219584494794 user:0.007526321184097346 system:0.006959106520503351 technolog:0.0065568599870296975 secur:0.00621447691451569 solution:0.00547427743347479 custom:0.005318732635724121 enabl:0.005135957895825857 content:0.004822311848643694 inform:0.004649952856977289 cloud:0.0044187617314762825 \n",
      "################################################################################\n",
      "#################### Short-term business credit ####################\n",
      "financ:0.03208113825480761 loan:0.023452645405077136 servic:0.015801080423393406 faktor:0.014812233004539987 financi:0.012556115434328956 factor:0.012330934011688909 turkey:0.011858549605154504 credit:0.01028242080269688 provid:0.010156804583478547 compani:0.010113211520576575 invest:0.009983700252259737 the:0.009817994731333147 subsidiari:0.00919547937100466 found:0.009102319931347273 oper:0.008746703066722561 bank:0.008083605629850197 istanbul:0.007781613471840397 corpor:0.007726207395637682 capit:0.007650035471259925 term:0.007511757642620895 \n",
      "################################################################################\n",
      "#################### Tires and inner tubes ####################\n",
      "tire:0.06179791946077022 rubber:0.020203188675412334 truck:0.019014525208879876 product:0.01752589246824895 industri:0.017423379492745715 manufactur:0.014612945046391825 co:0.01224336717652385 china:0.012122004999481047 tyre:0.011884228632587857 light:0.011805310514864038 ltd:0.011679842827750649 tube:0.0106957476247054 name:0.010296320681943513 motorcycl:0.009507382906076393 car:0.009422260793579999 india:0.007944383990678806 sell:0.007654363465214302 pirelli:0.0071305371795572945 export:0.007084346821268104 limit:0.006970470248048284 \n",
      "################################################################################\n",
      "#################### background ####################\n",
      "compani:0.07362896066937986 the:0.0637901604664413 it:0.03910944453659116 provid:0.03398959779107363 offer:0.02729316482615112 servic:0.024849233320253027 base:0.02410099892491289 product:0.02328023641431709 oper:0.021084838455343695 includ:0.020965072967945513 service:0.02023505945516363 company:0.019184457546002086 found:0.018832489141281303 manag:0.01143278112170088 develop:0.010908129226657999 market:0.010222441026376261 in:0.009687441739892607 ltd:0.009105816588672745 unit:0.008366421768784708 busi:0.008184291530315076 \n",
      "################################################################################\n"
     ]
    }
   ],
   "source": [
    "plot_topics(model)"
   ]
  },
  {
   "cell_type": "code",
   "execution_count": null,
   "metadata": {},
   "outputs": [],
   "source": []
  }
 ],
 "metadata": {
  "kernelspec": {
   "display_name": "Python 3",
   "language": "python",
   "name": "python3"
  },
  "language_info": {
   "codemirror_mode": {
    "name": "ipython",
    "version": 3
   },
   "file_extension": ".py",
   "mimetype": "text/x-python",
   "name": "python",
   "nbconvert_exporter": "python",
   "pygments_lexer": "ipython3",
   "version": "3.7.4"
  }
 },
 "nbformat": 4,
 "nbformat_minor": 2
}
