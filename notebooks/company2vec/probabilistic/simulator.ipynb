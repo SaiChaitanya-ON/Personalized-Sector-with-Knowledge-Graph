{
 "cells": [
  {
   "cell_type": "code",
   "execution_count": 5,
   "metadata": {},
   "outputs": [],
   "source": [
    "from scipy.sparse import csr_matrix\n",
    "from scipy.stats import beta, binom, dirichlet, multinomial\n",
    "import numpy as np"
   ]
  },
  {
   "cell_type": "code",
   "execution_count": 6,
   "metadata": {},
   "outputs": [],
   "source": [
    "def generate_topics(industries, words_p_topic, concentration, background_words):\n",
    "    word2id = {}\n",
    "    id2word = {}\n",
    "    ind = 0\n",
    "    for industry_name in industries:\n",
    "        for i in range(words_p_topic):\n",
    "            word = f\"{industry_name}_word_{i}\"\n",
    "            word2id[word] = ind\n",
    "            id2word[ind] = word\n",
    "            ind += 1\n",
    "\n",
    "    for i in range(background_words):\n",
    "        word=f\"background_word_{i}\"\n",
    "        word2id[word] = ind\n",
    "        id2word[ind] = word\n",
    "        ind += 1\n",
    "\n",
    "    topics = np.zeros(shape=(len(industries), len(word2id)))\n",
    "    alpha_background = np.ones(shape=(len(word2id),))\n",
    "    alpha_background[(-background_words):] = concentration\n",
    "    background_topic = dirichlet.rvs(alpha_background)[0]\n",
    "\n",
    "    for i,_ in enumerate(industries):\n",
    "        alpha = np.ones(shape=(len(word2id,)))\n",
    "        alpha[(i*words_p_topic):((i+1)*words_p_topic)] = concentration\n",
    "        topics[i,:] = dirichlet.rvs(alpha)\n",
    "\n",
    "    return topics, background_topic\n",
    "\n",
    "def generate_companies(industries, \n",
    "                       num_companies=1000, \n",
    "                       words_p_company=100, \n",
    "                       words_p_topic=5, \n",
    "                       concentration=10,\n",
    "                       background_words=100,\n",
    "                       a=1.0,\n",
    "                       b=1.0,\n",
    "                      ):\n",
    "    num_industries = len(industries)\n",
    "    topics, background_topic = generate_topics(industries, words_p_topic, concentration, background_words)\n",
    "    n_topics, n_words = topics.shape\n",
    "    companies = np.zeros(shape=(num_companies, n_words))\n",
    "    Z = []\n",
    "    company_industry = []\n",
    "    for i in range(num_companies):\n",
    "        industry = np.random.choice(num_industries)\n",
    "        company_industry.append(industry)\n",
    "        industry_topic = topics[industry,:]\n",
    "        # p(word from background| document d)\n",
    "        theta = beta.rvs(a,b)\n",
    "        # how many words come from the background topic\n",
    "        z = binom.rvs(words_p_company, theta)\n",
    "        doc_background = multinomial(z, background_topic).rvs()\n",
    "        doc_industry   = multinomial(words_p_company-z, industry_topic).rvs()\n",
    "        \n",
    "        companies[i,:] = (doc_background + doc_industry)\n",
    "        Z.append(z)\n",
    "    \n",
    "    companies = csr_matrix(companies)\n",
    "    \n",
    "    return companies, Z, company_industry, topics"
   ]
  },
  {
   "cell_type": "code",
   "execution_count": 7,
   "metadata": {},
   "outputs": [],
   "source": [
    "X, Z, company_industry = generate_companies([\"pbc\", \"rubber\", \"media\"])"
   ]
  },
  {
   "cell_type": "code",
   "execution_count": null,
   "metadata": {},
   "outputs": [],
   "source": []
  }
 ],
 "metadata": {
  "kernelspec": {
   "display_name": "Python 3",
   "language": "python",
   "name": "python3"
  },
  "language_info": {
   "codemirror_mode": {
    "name": "ipython",
    "version": 3
   },
   "file_extension": ".py",
   "mimetype": "text/x-python",
   "name": "python",
   "nbconvert_exporter": "python",
   "pygments_lexer": "ipython3",
   "version": "3.7.4"
  }
 },
 "nbformat": 4,
 "nbformat_minor": 2
}
