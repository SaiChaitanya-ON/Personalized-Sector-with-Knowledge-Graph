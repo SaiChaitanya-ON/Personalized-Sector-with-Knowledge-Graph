{
 "cells": [
  {
   "cell_type": "code",
   "execution_count": 102,
   "metadata": {},
   "outputs": [
    {
     "data": {
      "application/vnd.jupyter.widget-view+json": {
       "model_id": "",
       "version_major": 2,
       "version_minor": 0
      },
      "text/plain": [
       "FloatProgress(value=0.0, bar_style='info', description='Progress:', layout=Layout(height='25px', width='50%'),…"
      ]
     },
     "metadata": {},
     "output_type": "display_data"
    }
   ],
   "source": [
    "from gensim.utils import tokenize\n",
    "from langdetect import detect\n",
    "import string\n",
    "from itertools import islice\n",
    "import numpy as np\n",
    "from scipy.sparse import csr_matrix\n",
    "import smart_open\n",
    "import faiss\n",
    "import pandas as pd\n",
    "\n",
    "import pyspark.sql.functions as F\n",
    "import pyspark.sql.types as T\n",
    "\n",
    "from pyspark.ml.linalg import Vectors, VectorUDT\n",
    "from collections import defaultdict\n",
    "\n",
    "import pickle\n",
    "import graphene"
   ]
  },
  {
   "cell_type": "code",
   "execution_count": 4,
   "metadata": {},
   "outputs": [
    {
     "data": {
      "application/vnd.jupyter.widget-view+json": {
       "model_id": "",
       "version_major": 2,
       "version_minor": 0
      },
      "text/plain": [
       "FloatProgress(value=0.0, bar_style='info', description='Progress:', layout=Layout(height='25px', width='50%'),…"
      ]
     },
     "metadata": {},
     "output_type": "display_data"
    }
   ],
   "source": [
    "class Company(graphene.ObjectType):\n",
    "    id = graphene.ID()\n",
    "    name = graphene.String()\n",
    "    country = graphene.String()\n",
    "    sector = graphene.String()\n",
    "    revenue = graphene.Float()\n",
    "    ebitda = graphene.Float()\n",
    "    num_employees = graphene.Int()\n",
    "    score = graphene.String()\n",
    "    region = graphene.String()\n",
    "    description = graphene.String()\n",
    "    company_type = graphene.String()"
   ]
  },
  {
   "cell_type": "code",
   "execution_count": 5,
   "metadata": {},
   "outputs": [
    {
     "data": {
      "application/vnd.jupyter.widget-view+json": {
       "model_id": "",
       "version_major": 2,
       "version_minor": 0
      },
      "text/plain": [
       "FloatProgress(value=0.0, bar_style='info', description='Progress:', layout=Layout(height='25px', width='50%'),…"
      ]
     },
     "metadata": {},
     "output_type": "display_data"
    }
   ],
   "source": [
    "model_path = \"s3://onai-ml-dev-eu-west-1/company2vec/model/svd_desc_only\"\n",
    "word2id_path = \"s3://onai-ml-dev-eu-west-1/company2vec/common\"\n",
    "data_path = \"s3://onai-ml-dev-eu-west-1/company2vec/data\""
   ]
  },
  {
   "cell_type": "code",
   "execution_count": 6,
   "metadata": {},
   "outputs": [
    {
     "data": {
      "application/vnd.jupyter.widget-view+json": {
       "model_id": "",
       "version_major": 2,
       "version_minor": 0
      },
      "text/plain": [
       "FloatProgress(value=0.0, bar_style='info', description='Progress:', layout=Layout(height='25px', width='50%'),…"
      ]
     },
     "metadata": {},
     "output_type": "display_data"
    }
   ],
   "source": [
    "word2id = {}\n",
    "id2word = {}\n",
    "with smart_open.open(f\"{word2id_path}/bow/word2id.csv\", \"r\") as f:\n",
    "    for line in f:\n",
    "        word,idd = line.strip().split(\",\")\n",
    "        word2id[word] = int(idd)\n",
    "        id2word[int(idd)] = word"
   ]
  },
  {
   "cell_type": "code",
   "execution_count": 7,
   "metadata": {},
   "outputs": [
    {
     "data": {
      "application/vnd.jupyter.widget-view+json": {
       "model_id": "",
       "version_major": 2,
       "version_minor": 0
      },
      "text/plain": [
       "FloatProgress(value=0.0, bar_style='info', description='Progress:', layout=Layout(height='25px', width='50%'),…"
      ]
     },
     "metadata": {},
     "output_type": "display_data"
    }
   ],
   "source": [
    "with smart_open.open(f\"{model_path}/V/mat.np\", \"rb\") as f:\n",
    "    V = np.load(f)"
   ]
  },
  {
   "cell_type": "code",
   "execution_count": 8,
   "metadata": {},
   "outputs": [
    {
     "data": {
      "application/vnd.jupyter.widget-view+json": {
       "model_id": "",
       "version_major": 2,
       "version_minor": 0
      },
      "text/plain": [
       "FloatProgress(value=0.0, bar_style='info', description='Progress:', layout=Layout(height='25px', width='50%'),…"
      ]
     },
     "metadata": {},
     "output_type": "display_data"
    },
    {
     "name": "stdout",
     "output_type": "stream",
     "text": [
      "42829"
     ]
    }
   ],
   "source": [
    "len(word2id)"
   ]
  },
  {
   "cell_type": "code",
   "execution_count": 9,
   "metadata": {},
   "outputs": [
    {
     "data": {
      "application/vnd.jupyter.widget-view+json": {
       "model_id": "",
       "version_major": 2,
       "version_minor": 0
      },
      "text/plain": [
       "FloatProgress(value=0.0, bar_style='info', description='Progress:', layout=Layout(height='25px', width='50%'),…"
      ]
     },
     "metadata": {},
     "output_type": "display_data"
    }
   ],
   "source": [
    "with smart_open.open(f\"{model_path}/X/X_pca.np\", \"rb\") as f:\n",
    "    X_pca = np.load(f)"
   ]
  },
  {
   "cell_type": "code",
   "execution_count": 71,
   "metadata": {},
   "outputs": [
    {
     "data": {
      "application/vnd.jupyter.widget-view+json": {
       "model_id": "",
       "version_major": 2,
       "version_minor": 0
      },
      "text/plain": [
       "FloatProgress(value=0.0, bar_style='info', description='Progress:', layout=Layout(height='25px', width='50%'),…"
      ]
     },
     "metadata": {},
     "output_type": "display_data"
    }
   ],
   "source": [
    "description = pd.read_parquet(f\"{model_path}/X/company_info.pd\").fillna(0.0)"
   ]
  },
  {
   "cell_type": "code",
   "execution_count": 13,
   "metadata": {},
   "outputs": [
    {
     "data": {
      "application/vnd.jupyter.widget-view+json": {
       "model_id": "",
       "version_major": 2,
       "version_minor": 0
      },
      "text/plain": [
       "FloatProgress(value=0.0, bar_style='info', description='Progress:', layout=Layout(height='25px', width='50%'),…"
      ]
     },
     "metadata": {},
     "output_type": "display_data"
    }
   ],
   "source": [
    "n,d = X_pca.shape"
   ]
  },
  {
   "cell_type": "code",
   "execution_count": 14,
   "metadata": {},
   "outputs": [
    {
     "data": {
      "application/vnd.jupyter.widget-view+json": {
       "model_id": "",
       "version_major": 2,
       "version_minor": 0
      },
      "text/plain": [
       "FloatProgress(value=0.0, bar_style='info', description='Progress:', layout=Layout(height='25px', width='50%'),…"
      ]
     },
     "metadata": {},
     "output_type": "display_data"
    },
    {
     "name": "stdout",
     "output_type": "stream",
     "text": [
      "3385668"
     ]
    }
   ],
   "source": [
    "index = faiss.IndexFlatL2(d)\n",
    "index.add(X_pca)\n",
    "print(index.ntotal)"
   ]
  },
  {
   "cell_type": "code",
   "execution_count": 16,
   "metadata": {},
   "outputs": [
    {
     "data": {
      "application/vnd.jupyter.widget-view+json": {
       "model_id": "",
       "version_major": 2,
       "version_minor": 0
      },
      "text/plain": [
       "FloatProgress(value=0.0, bar_style='info', description='Progress:', layout=Layout(height='25px', width='50%'),…"
      ]
     },
     "metadata": {},
     "output_type": "display_data"
    }
   ],
   "source": [
    "company2id = {}\n",
    "id2company = {}\n",
    "for i,desc in description.loc[:, [\"company_id\"]].iterrows():\n",
    "    company2id[desc[\"company_id\"]] = i\n",
    "    id2company[i] = desc[\"company_id\"]"
   ]
  },
  {
   "cell_type": "code",
   "execution_count": 17,
   "metadata": {},
   "outputs": [
    {
     "data": {
      "application/vnd.jupyter.widget-view+json": {
       "model_id": "",
       "version_major": 2,
       "version_minor": 0
      },
      "text/plain": [
       "FloatProgress(value=0.0, bar_style='info', description='Progress:', layout=Layout(height='25px', width='50%'),…"
      ]
     },
     "metadata": {},
     "output_type": "display_data"
    }
   ],
   "source": [
    "public_labels = {\n",
    "    2444485: [9429145, 93196, 9870522, 7914436],\n",
    "    645782: [380011, 392154, 5523392],\n",
    "    875173: [237655379, 931146, 418171],\n",
    "    813607: [100231, 357076],\n",
    "    380011: [357076, 324490, 93339],\n",
    "    882889: [127202, 5478606, 1025390, 645782],\n",
    "    46329052: [189096, 915379, 46895276, 877008, 325290136, 20524024, 271958947, 21852987, 26363560, 110104150],\n",
    "    106335: [319676, 377732, 61206100],\n",
    "    877769: [874042, 780678, 953488, 883809, 875295, 874186, 874119],\n",
    "    34049884: [882155, 30428758, 315394, 23037669, 27561],\n",
    "    254287477: [883300, 30614595],\n",
    "    5600108: [285880, 5433540, 878697, 35650, 688262, 226852452],\n",
    "    876031: [410182, 874470, 874191, 879732, 5395336],\n",
    "    883752: [880697, 65340486, 26320074, 883327, 1034090, 257501324],\n",
    "    5920885: [1494039, 268074105, 34534627, 20385800, 23000545, 124640],\n",
    "    628413: [272054403, 91192, 309779, 140283, 138644],\n",
    "    364040: [381388, 184945, 874170, 42751952, 874183, 314896, 5126590, 841504],\n",
    "    257501324: [35000, 47320264, 253748612, 85076655, 32053, 12144785, 8186273, 9934160, 557267859],\n",
    "    695204: [35303, 274561, 683719, 370857, 561001, 874022, 387473, 394038, 8274485, 12188205],\n",
    "    30614595: [883300, 254287477, 9956099, 380011, 27868703, 2386697, 126857],\n",
    "    28224119: [26824144, 35023689, 386639, 393661],\n",
    "    32449506: [875260, 27169270, 5629762, 26014489, 286119],\n",
    "    233324810: [874864, 159230, 27860587, 35806, 876981],\n",
    "    879554: [5487000, 236715563, 412090459, 875192, 278679, 180871, 22516334, 30274893, 5478907],\n",
    "    5580060: [118474533, 1779941, 265154, 10405454],\n",
    "    23335317: [7885406, 277444, 278933, 8983678, 874143, 409119],\n",
    "    381865672: [874842, 410366, 873649, 275789, 882473],\n",
    "    937352: [876758, 879422, 128861678, 6461781, 1859063],\n",
    "    874119: [881803, 875849, 231533, 877769, 780678, 953488, 875295, 874042, 775001, 874186],\n",
    "    680934: [135398, 882299, 668578, 4481676, 32012],\n",
    "    2248076: [141249, 4975204, 98876, 21828553],\n",
    "    3606442: [882547, 4509042, 20703565, 7435035, 94799, 288033, 359868],\n",
    "    877235: [295170, 175265, 874520, 410366, 873649, 874977, 167945, 8090046],\n",
    "    84148802: [275789, 30339992, 5533238, 5718736],\n",
    "    5523392: [645782, 11809880, 1353107, 962864],\n",
    "    413744: [409932, 875491, 109303666, 91638],\n",
    "    314896: [330589, 34768, 184945],\n",
    "    5126590: [874855, 631781, 364040, 831357, 874170],\n",
    "    377732: [319676, 106772, 106335, 704634, 320105, 874828, 873861, 1519242, 533853947],\n",
    "    874652: [377732, 319676, 106772, 704634, 312375, 278933, 874828, 4863668]\n",
    "}"
   ]
  },
  {
   "cell_type": "code",
   "execution_count": 98,
   "metadata": {},
   "outputs": [
    {
     "data": {
      "application/vnd.jupyter.widget-view+json": {
       "model_id": "",
       "version_major": 2,
       "version_minor": 0
      },
      "text/plain": [
       "FloatProgress(value=0.0, bar_style='info', description='Progress:', layout=Layout(height='25px', width='50%'),…"
      ]
     },
     "metadata": {},
     "output_type": "display_data"
    }
   ],
   "source": [
    "def find_closest_revenue(candidate, revenue, ebitda):\n",
    "    if candidate.revenue == 0 or candidate.ebitda == 0:\n",
    "        return candidate.score * 100\n",
    "\n",
    "    if candidate.revenue < revenue:\n",
    "        score_revenue = 1 - candidate.revenue/revenue\n",
    "    else:\n",
    "        score_revenue = 1 - revenue/candidate.revenue\n",
    "\n",
    "    if candidate.ebitda < ebitda:\n",
    "        score_ebitda = 1 - candidate.ebitda/ebitda\n",
    "    else:\n",
    "        score_ebitda = 1 - ebitda/candidate.ebitda\n",
    "\n",
    "    return (score_ebitda + score_revenue) / 2\n",
    "\n",
    "\n",
    "def revenue_reranker(results, topn=100):\n",
    "    query = results[0]\n",
    "    return sorted(results[1:(topn+1)],\n",
    "                  key=lambda x: find_closest_revenue(x,\n",
    "                                                     query.revenue,\n",
    "                                                     query.ebitda\n",
    "                                                     )\n",
    "                  )"
   ]
  },
  {
   "cell_type": "code",
   "execution_count": 104,
   "metadata": {},
   "outputs": [
    {
     "data": {
      "application/vnd.jupyter.widget-view+json": {
       "model_id": "",
       "version_major": 2,
       "version_minor": 0
      },
      "text/plain": [
       "FloatProgress(value=0.0, bar_style='info', description='Progress:', layout=Layout(height='25px', width='50%'),…"
      ]
     },
     "metadata": {},
     "output_type": "display_data"
    }
   ],
   "source": [
    "def query_peers(query_company, result_size=100, reranker=lambda res: res):\n",
    "    query_vector = X_pca[np.newaxis, company2id[query_company]]\n",
    "\n",
    "    desc_info = description.loc[company2id[query_company]]\n",
    "    industry = desc_info[\"sic_code\"]\n",
    "    country = desc_info[\"country\"]\n",
    "    \n",
    "    D, I = index.search(query_vector, result_size)\n",
    "\n",
    "    ret = []\n",
    "    added = set()\n",
    "    for distance,idx in zip(D[0],I[0]):\n",
    "        id = id2company[idx]\n",
    "        \n",
    "        # TODO: fix this to use the pandas dataframe instead\n",
    "        \n",
    "        score = distance\n",
    "        cname = description.loc[idx, \"company_name\"]\n",
    "        sector = description.loc[idx, \"sic_code_desc\"]\n",
    "        country = description.loc[idx, \"country\"]\n",
    "        company_type = description.loc[idx, \"company_type\"]\n",
    "\n",
    "        revenue = description.loc[idx, \"latest_revenue\"]\n",
    "        num_employees = description.loc[idx, \"number_of_employees\"]\n",
    "\n",
    "        region = description.loc[idx, \"region\"]\n",
    "\n",
    "        company_description = description.loc[idx, \"company_description\"]\n",
    "\n",
    "        ebitda = description.loc[idx, \"latest_ebitda\"]\n",
    "\n",
    "        ret.append(\n",
    "            Company(\n",
    "                id=id,\n",
    "                name=cname,\n",
    "                revenue=revenue,\n",
    "                ebitda=ebitda,\n",
    "                sector=sector,\n",
    "                num_employees=num_employees,\n",
    "                country=country,\n",
    "                score=score,\n",
    "                region=region,\n",
    "                description=company_description,\n",
    "                company_type=company_type,\n",
    "            )\n",
    "        )\n",
    "\n",
    "    return reranker(ret)\n",
    "\n",
    "def find_peer_in_result(results, peer):\n",
    "    for i, company in enumerate(results):\n",
    "        if peer == int(company.id):\n",
    "            return i+1\n",
    "\n",
    "    return -1\n",
    "\n",
    "\n",
    "def add_ranks_in_tops(ranks, counts):\n",
    "    for rank in ranks:\n",
    "        if 0 < rank <= 10:\n",
    "            counts[0] += 1\n",
    "        elif 10 < rank <= 20:\n",
    "            counts[1] += 1\n",
    "        elif 20 < rank <= 50:\n",
    "            counts[2] += 1\n",
    "        elif 50 < rank <= 100:\n",
    "            counts[3] += 1\n",
    "        elif 100 < rank:\n",
    "            counts[4] += 1\n",
    "        else:\n",
    "            counts[5] += 1\n",
    "    return counts"
   ]
  },
  {
   "cell_type": "code",
   "execution_count": 100,
   "metadata": {
    "scrolled": true
   },
   "outputs": [
    {
     "data": {
      "application/vnd.jupyter.widget-view+json": {
       "model_id": "",
       "version_major": 2,
       "version_minor": 0
      },
      "text/plain": [
       "FloatProgress(value=0.0, bar_style='info', description='Progress:', layout=Layout(height='25px', width='50%'),…"
      ]
     },
     "metadata": {},
     "output_type": "display_data"
    },
    {
     "name": "stdout",
     "output_type": "stream",
     "text": [
      "General Motors Company 61206100 147049.0 0.0\n",
      "CarMax, Inc. 356805 17976.809 0.0\n",
      "AutoNation, Inc. 112302 21412.8 0.0\n",
      "America's Car-Mart, Inc. 303785 612.201 0.0\n",
      "DriveTime Automotive Group, Inc. 96946 0.0 0.0\n",
      "Renault SA 428034 63713.93697292499 0.0\n",
      "Asbury Automotive Group, Inc. 25109 6874.4 0.0\n",
      "Major Automotive Companies Inc. 377178 0.0 0.0\n",
      "PACCAR Inc 294721 23495.7 0.0\n",
      "PACCAR Financial Corp. 3062341 571.4 0.0\n",
      "Exeter Finance Corporation 40788185 202.409 0.0\n",
      "FCA US LLC 99130627 0.0 0.0\n",
      "Hometown Auto Retailers, Inc. 388797 0.0 0.0\n",
      "Bayerische Motoren Werke Aktiengesellschaft 704634 108166.88859298713 0.0\n",
      "Honda Motor Co., Ltd. 278933 144261.84953184138 0.0\n",
      "Credit Acceptance Corporation 318561 1072.3 0.0\n",
      "Lithia Motors, Inc. 355432 11821.4 0.0\n",
      "Cross-Continent Auto 355550 0.0 0.0\n",
      "American Honda Finance Corporation 4234924 7581.0 0.0\n",
      "Uag Mentor Acquisition LLC 5027805 0.0 0.0\n",
      "Blue Bird Corporation 272634010 1024.976 0.0\n",
      "CNH Industrial Capital LLC 140707156 521.375 0.0\n",
      "Sonic Automotive, Inc. 370122 9951.63 0.0\n",
      "Peugeot S.A. 873861 82142.69862405681 0.0\n",
      "Volkswagen AG 377732 261705.50377274744 0.0\n",
      "LMP Automotive Holdings, Inc. 553140218 16.610786 0.0\n",
      "Carvana Co. 424080297 1955.467 0.0\n",
      "UAG Connecticut I LLC 10525349 0.0 0.0\n",
      "Northeast Automotive Holdings, Inc. 6721506 0.0 0.0\n",
      "Consumer Portfolio Services, Inc. 326529 154.094 0.0\n",
      "MicroFinancial Inc. 396201 0.0 0.0\n",
      "Toyota Motor Credit Corporation 3031912 9604.0 0.0\n",
      "First Investment Bank AD 23018182 220.79475833900614 0.0\n",
      "Monaco Finance, Inc. 334787 0.0 0.0\n",
      "Daimler AG 106772 185710.16422547714 0.0\n",
      "Mitsubishi Motors Corporation 876160 20589.485448108113 0.0\n",
      "Manchester, Inc. 9225129 0.0 0.0\n",
      "Auto Underwriters of America, Inc. 2947050 0.0 0.0\n",
      "HBL LLC 10524689 0.0 0.0\n",
      "Winnebago Industries, Inc. 314960 2016.829 0.0\n",
      "Warrantech Corp. 312679 0.0 0.0\n",
      "General Acceptance Corp. 340644 0.0 0.0\n",
      "Smart Choice Automotive Group, Inc. 34438 0.0 0.0\n",
      "RumbleON, Inc. 254640431 156.398231 0.0\n",
      "Motus Holdings Limited 538599393 5100.4538319573885 0.0\n",
      "IBM Credit LLC 1352251 1267.0 0.0\n",
      "Caterpillar Financial Services Corporation 1565883 1736.0 0.0\n",
      "Green Automotive Company 1025718 0.0 0.0\n",
      "Carbiz Inc. 687555 0.0 0.0\n",
      "John Deere Capital Corporation 3132089 1747.8 0.0\n",
      "Wedgestone Financial 153908 0.0 0.0\n",
      "Group 1 Automotive, Inc. 368787 11601.358 0.0\n",
      "Onyx Acceptance Corporation 32463 0.0 0.0\n",
      "Inchcape plc 874071 11262.458875089533 0.0\n",
      "Transamerica Finance Corporation 2530009 0.0 0.0\n",
      "Consumer Automotive Finance, Inc. 11899899 0.0 0.0\n",
      "Transition Auto Finance IV Inc 3589527 0.0 0.0\n",
      "I-Incubator.Com, Inc. 95424 0.0 0.0\n",
      "Network Dealer Services Holding Corp. 106585211 0.0 0.0\n",
      "Financial Pacific Leasing, Inc. 6518791 0.0 0.0\n",
      "Harley-Davidson, Inc. 277444 5716.875 0.0\n",
      "EntreCap Financial LLC 3055792 0.0 0.0\n",
      "Sturm, Ruger & Company, Inc. 305647 495.635 0.0\n",
      "Lentuo International Inc. 115977613 0.0 0.0\n",
      "GE Capital Global Holdings, LLC 473054 0.0 0.0\n",
      "Commercial Credit Group Inc. 288948598 0.0 0.0\n",
      "Entrade, Inc. 252216 0.0 0.0\n",
      "ASHINC Corporation 327178 0.0 0.0\n",
      "Advance Stores Company, Incorporated 992153 0.0 0.0\n",
      "CDK Global, Inc. 1699197 1798.0 0.0\n",
      "Smart Choice Automotive Group, Inc. 363959 0.0 0.0\n",
      "TFC Enterprises, Inc. 328929 0.0 0.0\n",
      "CitiFinancial Auto, Ltd. 333223 0.0 0.0\n",
      "USS Co., Ltd. 2445757 705.7878870408806 0.0\n",
      "TRAC Intermodal LLC 214743481 669.203 0.0\n",
      "The Reynolds and Reynolds Company 186785 0.0 0.0\n",
      "Midnight Holdings Group, Inc. 7645972 0.0 0.0\n",
      "Dollar Thrifty Automotive Group Inc. 371856 0.0 0.0\n",
      "Navistar International Corporation 291250 10250.0 0.0\n",
      "Lender to Lender Franchise, Inc. 113637884 0.0 0.0\n",
      "First Investors Financial Services Group Inc. 340714 0.0 0.0\n",
      "Douglas Dynamics, Inc. 4277141 524.067 0.0\n",
      "Penske Automotive Group, Inc. 365436 22785.1 0.0\n",
      "U.S. Xpress Enterprises, Inc. 333455 1804.915 0.0\n",
      "Cooper Tire & Rubber Company 263686 2808.062 0.0\n",
      "WashTec AG 883027 486.33710608078115 0.0\n",
      "Lazydays RV SuperCenter, Inc. 3176400 614.838 0.0\n",
      "Great Wall Motor Company Limited 8985578 14051.855389070619 0.0\n",
      "Autocorp Equities Inc. 7686863 0.0 0.0\n",
      "TD Financing Services Inc. 6879333 0.0 0.0\n",
      "Vistana Signature Experiences, Inc. 359674 0.0 0.0\n",
      "Cruise America, Inc. 265134 0.0 0.0\n",
      "Imperial Logistics Limited 875924 3369.4559927491973 0.0\n",
      "SORL Auto Parts, Inc. 10178163 468.049906 0.0\n",
      "Motor Cars Auto Group, Inc. 1470766 0.0 0.0\n",
      "Aleris Corporation 279273 3445.9 0.0\n",
      "Secure Trust Bank Plc 31267258 144.7111240606524 0.0\n",
      "Intelligent Motor Cars Group, Inc., 4594034 0.0 0.0\n",
      "Nissan Motor Co., Ltd. 291331 112237.57290032964 0.0\n",
      "Eksportfinans ASA 874814 20.54972754858503 0.0"
     ]
    }
   ],
   "source": [
    "for el in query_peers(106335, 500, revenue_reranker):\n",
    "    print(el.name, el.id, el.revenue, el.ebitda)"
   ]
  },
  {
   "cell_type": "code",
   "execution_count": 105,
   "metadata": {},
   "outputs": [
    {
     "data": {
      "application/vnd.jupyter.widget-view+json": {
       "model_id": "",
       "version_major": 2,
       "version_minor": 0
      },
      "text/plain": [
       "FloatProgress(value=0.0, bar_style='info', description='Progress:', layout=Layout(height='25px', width='50%'),…"
      ]
     },
     "metadata": {},
     "output_type": "display_data"
    },
    {
     "name": "stdout",
     "output_type": "stream",
     "text": [
      "[2444485, -1, -1, -1, -1]\n",
      "\n",
      "[645782, -1, -1, -1]\n",
      "\n",
      "[875173, -1, -1, -1]\n",
      "\n",
      "[813607, -1, -1]\n",
      "\n",
      "[380011, -1, -1, -1]\n",
      "\n",
      "[882889, -1, -1, -1, 33]\n",
      "\n",
      "[46329052, -1, -1, -1, -1, -1, -1, -1, -1, -1, -1]\n",
      "\n",
      "[106335, -1, 25, 1]\n",
      "\n",
      "[877769, 71, 3, -1, 30, 17, -1, 86]\n",
      "\n",
      "[34049884, 31, -1, -1, -1, -1]\n",
      "\n",
      "[254287477, -1, -1]\n",
      "\n",
      "[5600108, -1, -1, -1, -1, -1, -1]\n",
      "\n",
      "[876031, -1, -1, -1, 63, -1]\n",
      "\n",
      "[883752, -1, -1, -1, -1, -1, -1]\n",
      "\n",
      "[5920885, -1, -1, -1, 11, -1, -1]\n",
      "\n",
      "[628413, -1, -1, -1, -1, -1]\n",
      "\n",
      "[364040, 22, 5, 90, -1, 23, 4, -1, 39]\n",
      "\n",
      "[257501324, -1, -1, -1, -1, -1, -1, -1, 29, -1]\n",
      "\n",
      "[695204, 1, -1, -1, 20, -1, -1, -1, -1, -1, -1]\n",
      "\n",
      "[30614595, -1, -1, -1, -1, 21, -1, -1]\n",
      "\n",
      "[28224119, -1, -1, -1, -1]\n",
      "\n",
      "[32449506, -1, -1, -1, -1, -1]\n",
      "\n",
      "[233324810, -1, -1, -1, -1, -1]\n",
      "\n",
      "[879554, -1, -1, -1, -1, -1, -1, -1, -1, -1]\n",
      "\n",
      "[5580060, -1, -1, -1, -1]\n",
      "\n",
      "[23335317, -1, -1, -1, -1, -1, -1]\n",
      "\n",
      "[381865672, -1, -1, -1, -1, -1]\n",
      "\n",
      "[937352, -1, -1, -1, -1, -1]\n",
      "\n",
      "[874119, -1, 2, -1, -1, -1, -1, -1, -1, -1, -1]\n",
      "\n",
      "[680934, 9, 16, 1, 7, -1]\n",
      "\n",
      "[2248076, -1, 21, -1, -1]\n",
      "\n",
      "[3606442, 14, -1, -1, -1, -1, -1, 20]\n",
      "\n",
      "[877235, -1, -1, -1, -1, -1, -1, -1, -1]\n",
      "\n",
      "[84148802, -1, -1, -1, 12]\n",
      "\n",
      "[5523392, -1, -1, -1, -1]\n",
      "\n",
      "[413744, 3, 16, 82, 55]\n",
      "\n",
      "[314896, 10, -1, 39]\n",
      "\n",
      "[5126590, 2, -1, -1, -1, -1]\n",
      "\n",
      "[377732, -1, 2, -1, 1, -1, 17, 6, -1, -1]\n",
      "\n",
      "[874652, 81, 8, -1, -1, -1, 64, -1, -1]\n",
      "\n",
      "[16, 9, 11, 8, 0, 178]\n",
      "0.31402478567184444"
     ]
    }
   ],
   "source": [
    "tops = [0] * 6 # top 10, 20, 50, 100, >100, -1\n",
    "\n",
    "mrr = 0\n",
    "count = 0\n",
    "\n",
    "ranks_default = []\n",
    "missed_peers = defaultdict(list)\n",
    "for public_label,peers in public_labels.items():\n",
    "    query_id = public_label\n",
    "    results = query_peers(query_id, 500, revenue_reranker)\n",
    "    ranks = []\n",
    "    \n",
    "    for peer in peers:\n",
    "        peer_location = find_peer_in_result(results, peer)\n",
    "        ranks.append(peer_location)\n",
    "        ranks_default.append(peer_location)\n",
    "        if peer_location == -1:\n",
    "            missed_peers[public_label].append(peer)\n",
    "\n",
    "    tops = add_ranks_in_tops(ranks, tops)\n",
    "\n",
    "    mrr += sum([1/rank for rank in ranks if rank > 0])\n",
    "    count += sum(1 for rank in ranks if rank > 0)\n",
    "\n",
    "    ranks.insert(0, query_id)\n",
    "    \n",
    "    print(ranks)\n",
    "    print()\n",
    "\n",
    "print(tops)\n",
    "print(np.mean([1/rank for rank in ranks_default if 0 < rank <= 20]))\n",
    "print()"
   ]
  },
  {
   "cell_type": "code",
   "execution_count": 20,
   "metadata": {},
   "outputs": [
    {
     "data": {
      "application/vnd.jupyter.widget-view+json": {
       "model_id": "",
       "version_major": 2,
       "version_minor": 0
      },
      "text/plain": [
       "FloatProgress(value=0.0, bar_style='info', description='Progress:', layout=Layout(height='25px', width='50%'),…"
      ]
     },
     "metadata": {},
     "output_type": "display_data"
    },
    {
     "name": "stdout",
     "output_type": "stream",
     "text": [
      "[2444485, 82, -1, 410, -1]\n",
      "\n",
      "[645782, 403, -1]\n",
      "\n",
      "[875173, 121, 406]\n",
      "\n",
      "[813607, -1, 10]\n",
      "\n",
      "[380011, 443, 58]\n",
      "\n",
      "[882889, 4, -1, -1, 48]\n",
      "\n",
      "[46329052, -1, -1, -1, -1]\n",
      "\n",
      "[106335, 291, -1, 2]\n",
      "\n",
      "[877769, 18, 103, 25, -1, 75]\n",
      "\n",
      "[34049884, 6, -1, -1]\n",
      "\n",
      "[254287477, -1, -1]\n",
      "\n",
      "[5600108, -1, -1, -1, -1]\n",
      "\n",
      "[876031, -1, 405, 117, 63, 322]\n",
      "\n",
      "[4, 1, 2, 4, 10, 21]\n",
      "0.21444444444444444"
     ]
    }
   ],
   "source": [
    "tops = [0] * 6 # top 10, 20, 50, 100, >100, -1\n",
    "\n",
    "mrr = 0\n",
    "count = 0\n",
    "\n",
    "ranks_default = []\n",
    "for public_label in public_labels:\n",
    "    query_id = public_label[0]\n",
    "    results = [el[1][0] for el in query_peers(query_id, 500)]\n",
    "    ranks = []\n",
    "    \n",
    "    for peer in public_label[1:]:\n",
    "        ranks.append(find_peer_in_result(results, peer))\n",
    "        ranks_default.append(find_peer_in_result(results, peer))\n",
    "\n",
    "    tops = add_ranks_in_tops(ranks, tops)\n",
    "\n",
    "    mrr += sum([1/rank for rank in ranks if rank > 0])\n",
    "    count += sum(1 for rank in ranks if rank > 0)\n",
    "\n",
    "    ranks.insert(0, query_id)\n",
    "    #\n",
    "    \n",
    "    print(ranks)\n",
    "    print()\n",
    "\n",
    "print(tops)\n",
    "print(np.mean([1/rank for rank in ranks_default if 0 < rank <= 20]))\n",
    "print()"
   ]
  },
  {
   "cell_type": "code",
   "execution_count": null,
   "metadata": {},
   "outputs": [],
   "source": []
  }
 ],
 "metadata": {
  "kernelspec": {
   "display_name": "PySpark",
   "language": "",
   "name": "pysparkkernel"
  },
  "language_info": {
   "codemirror_mode": {
    "name": "python",
    "version": 2
   },
   "mimetype": "text/x-python",
   "name": "pyspark",
   "pygments_lexer": "python2"
  }
 },
 "nbformat": 4,
 "nbformat_minor": 2
}
