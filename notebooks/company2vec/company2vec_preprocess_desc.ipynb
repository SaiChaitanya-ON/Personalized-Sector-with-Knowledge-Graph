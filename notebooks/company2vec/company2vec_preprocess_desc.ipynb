{
 "cells": [
  {
   "cell_type": "code",
   "execution_count": 1,
   "metadata": {},
   "outputs": [
    {
     "data": {
      "text/html": [
       "Current session configs: <tt>{'executorCores': 4, 'executorMemory': '47696M', 'conf': {'spark.default.parallelism': 1000, 'spark.sql.shuffle.partitions': 1000, 'spark.task.cpus': 1}, 'kind': 'pyspark'}</tt><br>"
      ],
      "text/plain": [
       "<IPython.core.display.HTML object>"
      ]
     },
     "metadata": {},
     "output_type": "display_data"
    },
    {
     "data": {
      "text/html": [
       "No active sessions."
      ],
      "text/plain": [
       "<IPython.core.display.HTML object>"
      ]
     },
     "metadata": {},
     "output_type": "display_data"
    }
   ],
   "source": [
    "%%configure -f\n",
    "{\n",
    " \"executorCores\": 4, \n",
    " \"executorMemory\": \"47696M\", \n",
    " \"conf\": {\"spark.default.parallelism\": 1000,\n",
    "          \"spark.sql.shuffle.partitions\": 1000,\n",
    "          \"spark.task.cpus\": 1\n",
    "         }\n",
    "}"
   ]
  },
  {
   "cell_type": "code",
   "execution_count": 2,
   "metadata": {},
   "outputs": [
    {
     "name": "stdout",
     "output_type": "stream",
     "text": [
      "Starting Spark application\n"
     ]
    },
    {
     "data": {
      "text/html": [
       "<table>\n",
       "<tr><th>ID</th><th>YARN Application ID</th><th>Kind</th><th>State</th><th>Spark UI</th><th>Driver log</th><th>Current session?</th></tr><tr><td>1</td><td>application_1574682469228_0002</td><td>pyspark</td><td>idle</td><td><a target=\"_blank\" href=\"http://ip-172-31-30-10.eu-west-1.compute.internal:20888/proxy/application_1574682469228_0002/\">Link</a></td><td><a target=\"_blank\" href=\"http://ip-172-31-28-52.eu-west-1.compute.internal:8042/node/containerlogs/container_1574682469228_0002_01_000001/livy\">Link</a></td><td>✔</td></tr></table>"
      ],
      "text/plain": [
       "<IPython.core.display.HTML object>"
      ]
     },
     "metadata": {},
     "output_type": "display_data"
    },
    {
     "data": {
      "application/vnd.jupyter.widget-view+json": {
       "model_id": "",
       "version_major": 2,
       "version_minor": 0
      },
      "text/plain": [
       "FloatProgress(value=0.0, bar_style='info', description='Progress:', layout=Layout(height='25px', width='50%'),…"
      ]
     },
     "metadata": {},
     "output_type": "display_data"
    },
    {
     "name": "stdout",
     "output_type": "stream",
     "text": [
      "SparkSession available as 'spark'.\n"
     ]
    },
    {
     "data": {
      "application/vnd.jupyter.widget-view+json": {
       "model_id": "",
       "version_major": 2,
       "version_minor": 0
      },
      "text/plain": [
       "FloatProgress(value=0.0, bar_style='info', description='Progress:', layout=Layout(height='25px', width='50%'),…"
      ]
     },
     "metadata": {},
     "output_type": "display_data"
    }
   ],
   "source": [
    "word2id_path = \"s3://oaknorth-ml-dev-eu-west-1/company2vec/common\"\n",
    "data_path = \"s3://oaknorth-ml-dev-eu-west-1/company2vec/data_desc_only\""
   ]
  },
  {
   "cell_type": "code",
   "execution_count": 3,
   "metadata": {},
   "outputs": [
    {
     "data": {
      "application/vnd.jupyter.widget-view+json": {
       "model_id": "",
       "version_major": 2,
       "version_minor": 0
      },
      "text/plain": [
       "FloatProgress(value=0.0, bar_style='info', description='Progress:', layout=Layout(height='25px', width='50%'),…"
      ]
     },
     "metadata": {},
     "output_type": "display_data"
    }
   ],
   "source": [
    "from gensim.utils import lemmatize, tokenize\n",
    "from gensim.parsing.preprocessing import remove_stopwords\n",
    "from gensim.parsing.porter import PorterStemmer\n",
    "from nltk.stem.snowball import SnowballStemmer\n",
    "from nltk.stem import WordNetLemmatizer\n",
    "\n",
    "from langdetect import detect\n",
    "import string\n",
    "from itertools import islice\n",
    "import numpy as np\n",
    "import smart_open\n",
    "from collections import Counter\n",
    "import math\n",
    "import spacy\n",
    "\n",
    "from pyspark.ml.feature import (HashingTF,\n",
    "                                IDF,\n",
    "                                Tokenizer,\n",
    "                                StopWordsRemover,\n",
    "                                CountVectorizer,\n",
    "                                StringIndexer,\n",
    "                                OneHotEncoderEstimator,\n",
    "                                VectorAssembler,\n",
    "                                VectorSizeHint,\n",
    "                                StandardScaler,\n",
    "                                PCA\n",
    "                               )\n",
    "from pyspark.ml import Pipeline, Transformer\n",
    "\n",
    "from pyspark.sql import SparkSession\n",
    "import pyspark.sql.functions as F\n",
    "import pyspark.sql.types as T\n",
    "\n",
    "from pyspark.mllib.linalg import DenseMatrix\n",
    "from pyspark.mllib.linalg.distributed import RowMatrix\n",
    "from pyspark.mllib.linalg import Vector as MLLibVector, Vectors as MLLibVectors\n",
    "\n",
    "from pyspark.ml.linalg import Vectors, VectorUDT"
   ]
  },
  {
   "cell_type": "code",
   "execution_count": 3,
   "metadata": {},
   "outputs": [],
   "source": [
    "# spark = (\n",
    "#     SparkSession.builder\n",
    "#      .master(\"local[*]\")\n",
    "#      .appName(\"SparkTest\")\n",
    "#      .getOrCreate()\n",
    "#      )"
   ]
  },
  {
   "cell_type": "code",
   "execution_count": 9,
   "metadata": {},
   "outputs": [
    {
     "data": {
      "application/vnd.jupyter.widget-view+json": {
       "model_id": "",
       "version_major": 2,
       "version_minor": 0
      },
      "text/plain": [
       "FloatProgress(value=0.0, bar_style='info', description='Progress:', layout=Layout(height='25px', width='50%'),…"
      ]
     },
     "metadata": {},
     "output_type": "display_data"
    }
   ],
   "source": [
    "companies_raw = spark.read.load(\"s3://ai-data-lake-dev-eu-west-1/business/company_data_denormalized\")"
   ]
  },
  {
   "cell_type": "code",
   "execution_count": 22,
   "metadata": {},
   "outputs": [
    {
     "data": {
      "application/vnd.jupyter.widget-view+json": {
       "model_id": "",
       "version_major": 2,
       "version_minor": 0
      },
      "text/plain": [
       "FloatProgress(value=0.0, bar_style='info', description='Progress:', layout=Layout(height='25px', width='50%'),…"
      ]
     },
     "metadata": {},
     "output_type": "display_data"
    }
   ],
   "source": [
    "target_doc = (companies_raw.filter(F.col(\"entity_id\") == '9455d310-201a-5545-b073-fecbc49cbd94')\n",
    "                  .first()\n",
    "                 )"
   ]
  },
  {
   "cell_type": "code",
   "execution_count": 23,
   "metadata": {},
   "outputs": [
    {
     "data": {
      "application/vnd.jupyter.widget-view+json": {
       "model_id": "",
       "version_major": 2,
       "version_minor": 0
      },
      "text/plain": [
       "FloatProgress(value=0.0, bar_style='info', description='Progress:', layout=Layout(height='25px', width='50%'),…"
      ]
     },
     "metadata": {},
     "output_type": "display_data"
    }
   ],
   "source": [
    "target_doc"
   ]
  },
  {
   "cell_type": "code",
   "execution_count": 6,
   "metadata": {},
   "outputs": [
    {
     "data": {
      "application/vnd.jupyter.widget-view+json": {
       "model_id": "",
       "version_major": 2,
       "version_minor": 0
      },
      "text/plain": [
       "FloatProgress(value=0.0, bar_style='info', description='Progress:', layout=Layout(height='25px', width='50%'),…"
      ]
     },
     "metadata": {},
     "output_type": "display_data"
    }
   ],
   "source": [
    "def is_english(text):\n",
    "    try:\n",
    "        return detect(text) == 'en'\n",
    "    except:\n",
    "        return False\n",
    "is_english_udf = F.udf(is_english, T.BooleanType())\n",
    "\n",
    "def tokenize_text(text, remove_sws=False):\n",
    "    if not text:\n",
    "        return []\n",
    "    if remove_sws:\n",
    "        text = remove_stopwords(text)\n",
    "    text = tokenize(text, lowercase=True)\n",
    "    \n",
    "    return text\n",
    "tokenize_text_udf = F.udf(tokenize_text, T.ArrayType(T.StringType()))\n",
    "\n",
    "p = PorterStemmer()\n",
    "def lemmatize_text(text):\n",
    "    from nltk.stem import WordNetLemmatizer\n",
    "    lemmatizer = WordNetLemmatizer()\n",
    "    words = [lemmatizer.lemmatize(word) for word in text]\n",
    "    words = [p.stem(word) for word in words]\n",
    "    return list(\n",
    "        filter(lambda word: word not in string.punctuation and word.isalpha() and len(word) > 1, words)\n",
    "    )\n",
    "lemmatize_text_udf = F.udf(lemmatize_text, T.ArrayType(T.StringType()))\n",
    "\n",
    "def sparse_bow(*args):\n",
    "    ret = []\n",
    "    for el in args:\n",
    "        if not el:\n",
    "            continue\n",
    "        ret.extend(el)\n",
    "    return dict(Counter(ret))\n",
    "sparse_bow_udf = F.udf(sparse_bow, T.MapType(T.StringType(), T.IntegerType()))\n",
    "\n",
    "join_text_udf = F.udf(lambda words: \" \".join(words), T.StringType())"
   ]
  },
  {
   "cell_type": "code",
   "execution_count": 7,
   "metadata": {},
   "outputs": [
    {
     "data": {
      "application/vnd.jupyter.widget-view+json": {
       "model_id": "",
       "version_major": 2,
       "version_minor": 0
      },
      "text/plain": [
       "FloatProgress(value=0.0, bar_style='info', description='Progress:', layout=Layout(height='25px', width='50%'),…"
      ]
     },
     "metadata": {},
     "output_type": "display_data"
    }
   ],
   "source": [
    "duplicate_ids = [row.entity_id for row in\n",
    "                 companies_raw\n",
    "                 .groupBy(\"entity_id\")\n",
    "                 .agg(F.count(\"*\").alias(\"count\"))\n",
    "                 .filter(F.col(\"count\") > 1)\n",
    "                 .collect()\n",
    "                 ]"
   ]
  },
  {
   "cell_type": "code",
   "execution_count": 25,
   "metadata": {},
   "outputs": [
    {
     "data": {
      "application/vnd.jupyter.widget-view+json": {
       "model_id": "",
       "version_major": 2,
       "version_minor": 0
      },
      "text/plain": [
       "FloatProgress(value=0.0, bar_style='info', description='Progress:', layout=Layout(height='25px', width='50%'),…"
      ]
     },
     "metadata": {},
     "output_type": "display_data"
    },
    {
     "name": "stdout",
     "output_type": "stream",
     "text": [
      "900449"
     ]
    }
   ],
   "source": [
    "(companies_raw\n",
    " .filter(~F.col(\"entity_id\").isin(duplicate_ids))\n",
    " .filter((F.col(\"business_description\").isNotNull() &\n",
    "                     (F.length(\"business_description\") > 0))\n",
    "                    )\n",
    ").count()"
   ]
  },
  {
   "cell_type": "code",
   "execution_count": 8,
   "metadata": {},
   "outputs": [
    {
     "data": {
      "application/vnd.jupyter.widget-view+json": {
       "model_id": "",
       "version_major": 2,
       "version_minor": 0
      },
      "text/plain": [
       "FloatProgress(value=0.0, bar_style='info', description='Progress:', layout=Layout(height='25px', width='50%'),…"
      ]
     },
     "metadata": {},
     "output_type": "display_data"
    }
   ],
   "source": [
    "companies = (companies_raw\n",
    "             .filter(~F.col(\"entity_id\").isin(duplicate_ids))\n",
    "             .filter((F.col(\"business_description\").isNotNull() &\n",
    "                     (F.length(\"business_description\") > 0))\n",
    "                    )\n",
    "             .withColumn(\"bow_description_lemmatized\",\n",
    "                         sparse_bow_udf(lemmatize_text_udf(tokenize_text_udf(\"business_description\", F.lit(True))))\n",
    "                        )\n",
    "             .withColumn(\"bow_description_not_lemmatized\",\n",
    "                         sparse_bow_udf(tokenize_text_udf(\"business_description\"))\n",
    "                        )\n",
    "             .withColumn(\"ebitda_marg_calc\", F.col(\"ebitda\")/F.col(\"total_revenue\"))\n",
    "             .filter(F.size(\"bow_description_lemmatized\") > 0)\n",
    "             .repartition(1000)\n",
    ").cache()"
   ]
  },
  {
   "cell_type": "code",
   "execution_count": 18,
   "metadata": {},
   "outputs": [
    {
     "data": {
      "application/vnd.jupyter.widget-view+json": {
       "model_id": "",
       "version_major": 2,
       "version_minor": 0
      },
      "text/plain": [
       "FloatProgress(value=0.0, bar_style='info', description='Progress:', layout=Layout(height='25px', width='50%'),…"
      ]
     },
     "metadata": {},
     "output_type": "display_data"
    },
    {
     "name": "stdout",
     "output_type": "stream",
     "text": [
      "900419"
     ]
    }
   ],
   "source": [
    "companies.count()"
   ]
  },
  {
   "cell_type": "code",
   "execution_count": 9,
   "metadata": {},
   "outputs": [
    {
     "data": {
      "application/vnd.jupyter.widget-view+json": {
       "model_id": "",
       "version_major": 2,
       "version_minor": 0
      },
      "text/plain": [
       "FloatProgress(value=0.0, bar_style='info', description='Progress:', layout=Layout(height='25px', width='50%'),…"
      ]
     },
     "metadata": {},
     "output_type": "display_data"
    }
   ],
   "source": [
    "(companies\n",
    " .write\n",
    " .parquet(f\"{data_path}/enhanced_companies_es\", mode=\"overwrite\")\n",
    ")"
   ]
  },
  {
   "cell_type": "code",
   "execution_count": 9,
   "metadata": {},
   "outputs": [
    {
     "data": {
      "application/vnd.jupyter.widget-view+json": {
       "model_id": "",
       "version_major": 2,
       "version_minor": 0
      },
      "text/plain": [
       "FloatProgress(value=0.0, bar_style='info', description='Progress:', layout=Layout(height='25px', width='50%'),…"
      ]
     },
     "metadata": {},
     "output_type": "display_data"
    }
   ],
   "source": [
    "tst_companies_enhanced = spark.read.load(f\"{data_path}/enhanced_companies_es\")"
   ]
  },
  {
   "cell_type": "code",
   "execution_count": 10,
   "metadata": {},
   "outputs": [
    {
     "data": {
      "application/vnd.jupyter.widget-view+json": {
       "model_id": "",
       "version_major": 2,
       "version_minor": 0
      },
      "text/plain": [
       "FloatProgress(value=0.0, bar_style='info', description='Progress:', layout=Layout(height='25px', width='50%'),…"
      ]
     },
     "metadata": {},
     "output_type": "display_data"
    },
    {
     "name": "stdout",
     "output_type": "stream",
     "text": [
      "3464992"
     ]
    }
   ],
   "source": [
    "tst_companies_enhanced.count()"
   ]
  },
  {
   "cell_type": "code",
   "execution_count": 10,
   "metadata": {},
   "outputs": [
    {
     "data": {
      "application/vnd.jupyter.widget-view+json": {
       "model_id": "",
       "version_major": 2,
       "version_minor": 0
      },
      "text/plain": [
       "FloatProgress(value=0.0, bar_style='info', description='Progress:', layout=Layout(height='25px', width='50%'),…"
      ]
     },
     "metadata": {},
     "output_type": "display_data"
    }
   ],
   "source": [
    "num_docs = companies.count()"
   ]
  },
  {
   "cell_type": "code",
   "execution_count": 11,
   "metadata": {},
   "outputs": [
    {
     "data": {
      "application/vnd.jupyter.widget-view+json": {
       "model_id": "",
       "version_major": 2,
       "version_minor": 0
      },
      "text/plain": [
       "FloatProgress(value=0.0, bar_style='info', description='Progress:', layout=Layout(height='25px', width='50%'),…"
      ]
     },
     "metadata": {},
     "output_type": "display_data"
    }
   ],
   "source": [
    "def save_words(description_column, min_df=0.00001):\n",
    "    min_df = num_docs*0.00001\n",
    "    \n",
    "    words_df = {row.key: row.n_docs for row in\n",
    "            companies.select(F.explode(description_column))\n",
    "                     .groupBy(\"key\")\n",
    "                     .agg(F.count(\"*\").alias(\"n_docs\"))\n",
    "                     .filter(F.col(\"n_docs\") > min_df)\n",
    "                     .collect()\n",
    "            }\n",
    "    num_words = len(words_df)\n",
    "    words_idf = {k: math.log((num_docs+1)/(v+1)) for k,v in words_df.items()}\n",
    "    idx = 0\n",
    "    id2word = {}\n",
    "    word2id = {}\n",
    "    for word in sorted(words_idf):\n",
    "        id2word[idx] = word\n",
    "        word2id[word] = idx\n",
    "        idx += 1\n",
    "    \n",
    "    print(f\"Saving words to {word2id_path}/{description_column}\")\n",
    "    with smart_open.open(f\"{word2id_path}/{description_column}/words_idf.csv\", \"w\") as f:\n",
    "        for word,idf in sorted(words_idf.items()):\n",
    "            f.write(f\"{word},{idf}\\n\")\n",
    "    with smart_open.open(f\"{word2id_path}/{description_column}/word2id.csv\", \"w\") as f:\n",
    "        for word,idd in sorted(word2id.items()):\n",
    "            f.write(f\"{word},{idd}\\n\")"
   ]
  },
  {
   "cell_type": "code",
   "execution_count": 12,
   "metadata": {},
   "outputs": [
    {
     "data": {
      "application/vnd.jupyter.widget-view+json": {
       "model_id": "",
       "version_major": 2,
       "version_minor": 0
      },
      "text/plain": [
       "FloatProgress(value=0.0, bar_style='info', description='Progress:', layout=Layout(height='25px', width='50%'),…"
      ]
     },
     "metadata": {},
     "output_type": "display_data"
    },
    {
     "name": "stdout",
     "output_type": "stream",
     "text": [
      "Saving words to s3://oaknorth-ml-dev-eu-west-1/company2vec/common/bow_description_lemmatized\n",
      "Saving words to s3://oaknorth-ml-dev-eu-west-1/company2vec/common/bow_description_not_lemmatized"
     ]
    }
   ],
   "source": [
    "save_words(\"bow_description_lemmatized\")\n",
    "save_words(\"bow_description_not_lemmatized\")"
   ]
  },
  {
   "cell_type": "code",
   "execution_count": 13,
   "metadata": {},
   "outputs": [
    {
     "data": {
      "application/vnd.jupyter.widget-view+json": {
       "model_id": "",
       "version_major": 2,
       "version_minor": 0
      },
      "text/plain": [
       "FloatProgress(value=0.0, bar_style='info', description='Progress:', layout=Layout(height='25px', width='50%'),…"
      ]
     },
     "metadata": {},
     "output_type": "display_data"
    }
   ],
   "source": [
    "def extract_features(feature_column):\n",
    "    words_idf = {}\n",
    "    with smart_open.open(f\"{word2id_path}/{feature_column}/words_idf.csv\", \"r\") as f:\n",
    "        for line in f:\n",
    "            word,idf = line.strip().split(\",\")\n",
    "            words_idf[word] = float(idf)\n",
    "\n",
    "    word2id = {}\n",
    "    with smart_open.open(f\"{word2id_path}/{feature_column}/word2id.csv\", \"r\") as f:\n",
    "        for line in f:\n",
    "            word,idd = line.strip().split(\",\")\n",
    "            word2id[word] = int(idd)\n",
    "    num_words = len(word2id)\n",
    "    \n",
    "    def words_tfidf(bow):\n",
    "        dct = {word2id[k]: math.log(v+1)*words_idf[k] for k,v in bow.items() if k in word2id}\n",
    "        return Vectors.sparse(num_words, dct)\n",
    "    words_tfidf_udf = F.udf(words_tfidf, VectorUDT())\n",
    "    \n",
    "    companies_tfidf = (companies\n",
    "                   .withColumn(\"bow_tfidf\", words_tfidf_udf(feature_column))\n",
    "                   .cache()\n",
    "                   )\n",
    "    \n",
    "    vectorizer = VectorAssembler(inputCols=[\"bow_tfidf\",\n",
    "                                       ],\n",
    "                             outputCol=\"features\",\n",
    "                             handleInvalid = \"skip\"\n",
    "                            )\n",
    "\n",
    "    pipeline = Pipeline(stages=[vectorizer])\n",
    "\n",
    "    pipeline_fit = pipeline.fit(companies_tfidf)\n",
    "    processed_companies = pipeline_fit.transform(companies_tfidf).repartition(1000)\n",
    "    \n",
    "    get_size    = F.udf(lambda vec: vec.size, T.IntegerType())\n",
    "    get_indices = F.udf(lambda vec: [int(el) for el in vec.indices], T.ArrayType(T.IntegerType()))\n",
    "    get_values  = F.udf(lambda vec: [float(el) for el in vec.values], T.ArrayType(T.DoubleType()))\n",
    "    \n",
    "    print(f\"Saving data to {data_path}/raw_company_features_{feature_column}\")\n",
    "    \n",
    "    (processed_companies.select(\"entity_id\",\n",
    "                            get_size(\"features\").alias(\"size\"),\n",
    "                            get_indices(\"features\").alias(\"feature_indices\"),\n",
    "                            get_values(\"features\").alias(\"feature_values\"),\n",
    "                            feature_column\n",
    "                           )\n",
    "         .repartition(32)\n",
    "         .write\n",
    "         .parquet(f\"{data_path}/raw_company_features_{feature_column}\", mode=\"overwrite\")\n",
    "        )"
   ]
  },
  {
   "cell_type": "code",
   "execution_count": 14,
   "metadata": {},
   "outputs": [
    {
     "data": {
      "application/vnd.jupyter.widget-view+json": {
       "model_id": "",
       "version_major": 2,
       "version_minor": 0
      },
      "text/plain": [
       "FloatProgress(value=0.0, bar_style='info', description='Progress:', layout=Layout(height='25px', width='50%'),…"
      ]
     },
     "metadata": {},
     "output_type": "display_data"
    },
    {
     "name": "stdout",
     "output_type": "stream",
     "text": [
      "Saving data to s3://oaknorth-ml-dev-eu-west-1/company2vec/data_desc_only/raw_company_features_bow_description_lemmatized"
     ]
    }
   ],
   "source": [
    "extract_features(\"bow_description_lemmatized\")"
   ]
  },
  {
   "cell_type": "code",
   "execution_count": 15,
   "metadata": {},
   "outputs": [
    {
     "data": {
      "application/vnd.jupyter.widget-view+json": {
       "model_id": "",
       "version_major": 2,
       "version_minor": 0
      },
      "text/plain": [
       "FloatProgress(value=0.0, bar_style='info', description='Progress:', layout=Layout(height='25px', width='50%'),…"
      ]
     },
     "metadata": {},
     "output_type": "display_data"
    },
    {
     "name": "stdout",
     "output_type": "stream",
     "text": [
      "Saving data to s3://oaknorth-ml-dev-eu-west-1/company2vec/data_desc_only/raw_company_features_bow_description_not_lemmatized"
     ]
    }
   ],
   "source": [
    "extract_features(\"bow_description_not_lemmatized\")"
   ]
  },
  {
   "cell_type": "code",
   "execution_count": 52,
   "metadata": {},
   "outputs": [
    {
     "data": {
      "application/vnd.jupyter.widget-view+json": {
       "model_id": "",
       "version_major": 2,
       "version_minor": 0
      },
      "text/plain": [
       "FloatProgress(value=0.0, bar_style='info', description='Progress:', layout=Layout(height='25px', width='50%'),…"
      ]
     },
     "metadata": {},
     "output_type": "display_data"
    }
   ],
   "source": [
    "def make_checker_udf(categories):    \n",
    "    def check_onehot(column, vector):\n",
    "        if not column:\n",
    "            return not np.any(vector)\n",
    "        i=-1\n",
    "        for ii,cat in enumerate(categories):\n",
    "            if cat == column:\n",
    "                i=ii\n",
    "                break\n",
    "        return bool(vector[i] == 1.0)\n",
    "    return F.udf(check_onehot, T.BooleanType())"
   ]
  },
  {
   "cell_type": "code",
   "execution_count": 4,
   "metadata": {},
   "outputs": [
    {
     "data": {
      "application/vnd.jupyter.widget-view+json": {
       "model_id": "",
       "version_major": 2,
       "version_minor": 0
      },
      "text/plain": [
       "FloatProgress(value=0.0, bar_style='info', description='Progress:', layout=Layout(height='25px', width='50%'),…"
      ]
     },
     "metadata": {},
     "output_type": "display_data"
    }
   ],
   "source": [
    "companies_df = spark.read.load(f\"{data_path}/raw_company_features_bow_description_lemmatized\")"
   ]
  },
  {
   "cell_type": "code",
   "execution_count": 7,
   "metadata": {},
   "outputs": [
    {
     "data": {
      "application/vnd.jupyter.widget-view+json": {
       "model_id": "",
       "version_major": 2,
       "version_minor": 0
      },
      "text/plain": [
       "FloatProgress(value=0.0, bar_style='info', description='Progress:', layout=Layout(height='25px', width='50%'),…"
      ]
     },
     "metadata": {},
     "output_type": "display_data"
    }
   ],
   "source": [
    "target_doc = (companies_df.filter(F.col(\"entity_id\") ==  'da166d49-acbc-54c5-9ab4-d72a143920f6')\n",
    "                  .first()\n",
    "                 )"
   ]
  },
  {
   "cell_type": "code",
   "execution_count": 8,
   "metadata": {},
   "outputs": [
    {
     "data": {
      "application/vnd.jupyter.widget-view+json": {
       "model_id": "",
       "version_major": 2,
       "version_minor": 0
      },
      "text/plain": [
       "FloatProgress(value=0.0, bar_style='info', description='Progress:', layout=Layout(height='25px', width='50%'),…"
      ]
     },
     "metadata": {},
     "output_type": "display_data"
    }
   ],
   "source": [
    "target_doc"
   ]
  },
  {
   "cell_type": "code",
   "execution_count": 24,
   "metadata": {},
   "outputs": [
    {
     "name": "stdout",
     "output_type": "stream",
     "text": [
      "+------------------------------------+-----+-----------------------------------------------------------------------------------------------------------------------------------------------------------------------------------------------------------------------------------------------------------------------------------------------------------------------------------------------------------------------------------------------------------------------------------------------------------------------------------------------------------------------------------------------------------------------------------------------------------------------------------------------------------------------------------------------------------------------------------------------------------------------------------------------------+-------------------------------------------------------------------------------------------------------------------------------------------------------------------------------------------------------------------------------------------------------------------------------------------------------------------------------------------------------------------------------------------------------------------------------------------------------------------------------------------------------------------------------------------------------------------------------------------------------------------------------------------------------------------------------------------------------------------------------------------------------------------------------------------------------------------------------------------------------------------------------------------------------------------------------------------------------------------------------------------------------------------------------------------------------------------------------------------------------------------------------------------------------------------------------------------------------------------------------------------------------------------------------------------------------------------------------------------------------------------------------------------------------------------------------------------------------------------------------------------------------------------------------------------------------------------------------------------------------------------------------------------------------------------------------------------------------------------------------------------------------------------------------------------------------------------------------------------------------------------------------------------------------------------------------------------------------------------------------------------------------------------------------------------------------------------------------------------------------------------------------------------------------------------------------------------------------------------------------------------------------------------------------------------------------------------------------------------------------------------------------------------------+-----------------------------------------------------------------------------------------------------------------------------------------------------------------------------------------------------------------------------------------------------------------------------------------------------------------------------------------------------------------------------------------------------------------------------------------------------------------------------------------------------------------------------------------------------------------------------------------------------------------------------------------------------------------------------------------------------------------------------------------------------------------------------------------------------------------------------------------------------------------------------------------------------------------------------------------------------------------------------------------------------------------------------------------------------------------------------------------------------------------------------------------------------------------------------------------------------------------------------------------------------------------------------------------------------------------------------------------------------------------------------------------------------------------------------------------------------------------------------------------------------------------------------------------------------------------------------------------------------------------------------------------------+\n",
      "|entity_id                           |size |feature_indices                                                                                                                                                                                                                                                                                                                                                                                                                                                                                                                                                                                                                                                                                                                                                                                      |feature_values                                                                                                                                                                                                                                                                                                                                                                                                                                                                                                                                                                                                                                                                                                                                                                                                                                                                                                                                                                                                                                                                                                                                                                                                                                                                                                                                                                                                                                                                                                                                                                                                                                                                                                                                                                                                                                                                                                                                                                                                                                                                                                                                                                                                                                                                                                                                                                                   |bow_description                                                                                                                                                                                                                                                                                                                                                                                                                                                                                                                                                                                                                                                                                                                                                                                                                                                                                                                                                                                                                                                                                                                                                                                                                                                                                                                                                                                                                                                                                                                                                                                                                                |\n",
      "+------------------------------------+-----+-----------------------------------------------------------------------------------------------------------------------------------------------------------------------------------------------------------------------------------------------------------------------------------------------------------------------------------------------------------------------------------------------------------------------------------------------------------------------------------------------------------------------------------------------------------------------------------------------------------------------------------------------------------------------------------------------------------------------------------------------------------------------------------------------------+-------------------------------------------------------------------------------------------------------------------------------------------------------------------------------------------------------------------------------------------------------------------------------------------------------------------------------------------------------------------------------------------------------------------------------------------------------------------------------------------------------------------------------------------------------------------------------------------------------------------------------------------------------------------------------------------------------------------------------------------------------------------------------------------------------------------------------------------------------------------------------------------------------------------------------------------------------------------------------------------------------------------------------------------------------------------------------------------------------------------------------------------------------------------------------------------------------------------------------------------------------------------------------------------------------------------------------------------------------------------------------------------------------------------------------------------------------------------------------------------------------------------------------------------------------------------------------------------------------------------------------------------------------------------------------------------------------------------------------------------------------------------------------------------------------------------------------------------------------------------------------------------------------------------------------------------------------------------------------------------------------------------------------------------------------------------------------------------------------------------------------------------------------------------------------------------------------------------------------------------------------------------------------------------------------------------------------------------------------------------------------------------------+-----------------------------------------------------------------------------------------------------------------------------------------------------------------------------------------------------------------------------------------------------------------------------------------------------------------------------------------------------------------------------------------------------------------------------------------------------------------------------------------------------------------------------------------------------------------------------------------------------------------------------------------------------------------------------------------------------------------------------------------------------------------------------------------------------------------------------------------------------------------------------------------------------------------------------------------------------------------------------------------------------------------------------------------------------------------------------------------------------------------------------------------------------------------------------------------------------------------------------------------------------------------------------------------------------------------------------------------------------------------------------------------------------------------------------------------------------------------------------------------------------------------------------------------------------------------------------------------------------------------------------------------------+\n",
      "|1065509a-9b2f-5f0a-afd7-d5a35f16fd67|28333|[6422, 16568, 17228, 26702]                                                                                                                                                                                                                                                                                                                                                                                                                                                                                                                                                                                                                                                                                                                                                                          |[3.0231856228579996, 2.634986586299161, 2.143914116022146, 2.5065648101020583]                                                                                                                                                                                                                                                                                                                                                                                                                                                                                                                                                                                                                                                                                                                                                                                                                                                                                                                                                                                                                                                                                                                                                                                                                                                                                                                                                                                                                                                                                                                                                                                                                                                                                                                                                                                                                                                                                                                                                                                                                                                                                                                                                                                                                                                                                                                   |[dealer -> 1, new -> 1, motor -> 1, vehicl -> 1]                                                                                                                                                                                                                                                                                                                                                                                                                                                                                                                                                                                                                                                                                                                                                                                                                                                                                                                                                                                                                                                                                                                                                                                                                                                                                                                                                                                                                                                                                                                                                                                               |\n",
      "|facc2453-314e-5e09-a694-879729bf7075|28333|[9306, 16224, 17662, 23987]                                                                                                                                                                                                                                                                                                                                                                                                                                                                                                                                                                                                                                                                                                                                                                          |[2.4766458844586614, 3.040398048124136, 1.3574442968306313, 2.385882822056424]                                                                                                                                                                                                                                                                                                                                                                                                                                                                                                                                                                                                                                                                                                                                                                                                                                                                                                                                                                                                                                                                                                                                                                                                                                                                                                                                                                                                                                                                                                                                                                                                                                                                                                                                                                                                                                                                                                                                                                                                                                                                                                                                                                                                                                                                                                                   |[store -> 1, miscellan -> 1, food -> 1, nsk -> 1]                                                                                                                                                                                                                                                                                                                                                                                                                                                                                                                                                                                                                                                                                                                                                                                                                                                                                                                                                                                                                                                                                                                                                                                                                                                                                                                                                                                                                                                                                                                                                                                              |\n",
      "|cea7dd13-06f5-5158-82f6-6aa7e946669e|28333|[1015, 10510, 17083, 17662, 19960, 20935]                                                                                                                                                                                                                                                                                                                                                                                                                                                                                                                                                                                                                                                                                                                                                            |[1.4046632569175797, 3.083965174667045, 1.8132023248167497, 1.3574442968306313, 1.2924626862908692, 2.2884901751649505]                                                                                                                                                                                                                                                                                                                                                                                                                                                                                                                                                                                                                                                                                                                                                                                                                                                                                                                                                                                                                                                                                                                                                                                                                                                                                                                                                                                                                                                                                                                                                                                                                                                                                                                                                                                                                                                                                                                                                                                                                                                                                                                                                                                                                                                                          |[product -> 1, and -> 1, nsk -> 1, groceri -> 1, relat -> 1, nec -> 1]                                                                                                                                                                                                                                                                                                                                                                                                                                                                                                                                                                                                                                                                                                                                                                                                                                                                                                                                                                                                                                                                                                                                                                                                                                                                                                                                                                                                                                                                                                                                                                         |\n",
      "|71d4b030-2204-5abe-8c97-c2381ce26a98|28333|[82, 210, 253, 471, 1015, 1112, 1604, 1866, 2375, 2864, 3666, 3946, 4037, 5051, 5274, 5521, 6422, 6453, 6564, 6757, 6924, 7028, 7145, 8075, 8374, 8588, 8597, 8673, 9000, 9266, 9336, 9601, 9709, 9867, 10000, 10435, 11836, 12152, 12169, 12211, 12272, 13606, 14422, 14655, 14848, 14862, 14876, 15157, 15371, 15496, 16348, 17015, 17178, 17464, 17862, 17869, 17890, 18010, 18036, 18086, 18119, 18905, 19021, 19024, 19336, 19462, 19809, 19881, 19960, 19999, 20100, 20633, 20841, 20935, 21140, 21853, 21917, 22040, 22356, 22436, 22540, 22977, 23041, 23830, 23987, 24165, 24166, 24350, 24352, 25047, 25140, 25147, 25286, 25727, 25741, 26034, 26105, 26123, 26343, 26470, 26492, 26681, 26702, 27537, 28023, 28332]                                                                      |[8.20264706107071, 5.771303816013086, 3.8017298011917906, 4.133367372063801, 1.4046632569175797, 6.13353649108031, 4.792532657278474, 6.6603032650217955, 4.2198073445026765, 9.009493945734578, 8.597558110020726, 4.184531737072431, 4.3788632643038925, 3.757626256511074, 1.5144225573250367, 1.8557990812845033, 3.0231856228579996, 3.115918136384157, 3.625095899681951, 1.7611768476500451, 5.554990027811818, 5.936524793349008, 8.644776344461889, 2.7997483122308418, 5.171674031014771, 3.4776051368675915, 5.050479573685324, 2.7177622951308837, 4.558808225500689, 3.4514540708889414, 6.0483262817076, 9.511032916683956, 9.743109530469257, 10.499910554148812, 5.866369024821677, 8.208816890069839, 5.289214945593459, 4.992139990940862, 3.700919683434473, 1.763461235987911, 1.691107066854424, 4.625191290543995, 6.047292000016287, 2.1416479889586317, 8.748066191947192, 1.7570243029754398, 8.695327863693334, 4.043886390745797, 6.42725951694426, 2.3772068130191255, 6.31994113650586, 11.638196929802435, 2.7556811852064143, 2.76971617440758, 2.3649125524839776, 4.2246534748906, 2.8115403897695255, 5.233733568445163, 2.4211946914991254, 2.781081867105842, 4.668783468032612, 3.3563395324688265, 14.03674582514095, 3.372695279543219, 4.970078720768592, 13.212707082837403, 3.045939538386845, 3.7144682967601614, 4.633430263934097, 2.746069029969734, 2.3134168753348527, 3.721939097001271, 7.81442015917457, 3.627171110905237, 3.4543272035645662, 5.668067518039754, 5.542103562146539, 7.636526750199287, 4.686577477044198, 2.5622905609919724, 1.6538113600145656, 6.380695914837927, 5.916237193529129, 3.2185464130205417, 5.539848355641956, 1.958596485046999, 7.054071830011544, 4.446593181630316, 4.186673400144111, 6.144636518337485, 1.253894221901322, 8.610486104059179, 5.373326657265838, 3.7424482641375163, 3.8753413814020083, 4.321833852097326, 5.744573451908299, 7.756172786107633, 2.052076463952644, 7.021992456857612, 8.124008775337604, 5.156860147038067, 2.5065648101020583, 5.8684620855831575, 7.756172786107633, 7.662361312418525]                                                                                                                                                                                                                                                                           |[ofisi -> 4, turkei -> 1, addit -> 2, whole -> 1, construct -> 1, type -> 2, ticaret -> 1, subsoil -> 1, kipet -> 2, carbon -> 1, decemb -> 1, subsidiari -> 2, similar -> 2, agreement -> 1, termin -> 2, raw -> 1, them -> 2, modul -> 2, uretim -> 1, yakitlar -> 2, includ -> 1, plant -> 2, anonim -> 1, sirketi -> 1, explor -> 1, suppli -> 3, organ -> 2, refineri -> 2, vehicl -> 1, natur -> 10, engag -> 3, liquidifi -> 1, yatirimlari -> 1, retail -> 2, foreign -> 2, offshor -> 1, by -> 3, industri -> 1, erk -> 2, lpg -> 2, product -> 11, transmiss -> 1, sell -> 1, arama -> 2, dioxid -> 1, store -> 4, greas -> 2, toptan -> 1, the -> 2, materi -> 1, üretim -> 1, usag -> 2, sale -> 5, sati -> 1, dealer -> 1, türk -> 1, oper -> 5, bed -> 1, offic -> 1, fuel -> 6, project -> 1, aviat -> 2, prepar -> 1, georgia -> 2, sanayi -> 1, lubric -> 3, petroleum -> 1, sector -> 2, export -> 2, kind -> 1, develop -> 1, carri -> 1, fill -> 1, hydrocarbon -> 1, establish -> 2, ve -> 1, market -> 7, servic -> 2, unit -> 1, petrol -> 5, coal -> 1, activ -> 5, support -> 2, import -> 2, blend -> 3, compani -> 3, focu -> 1, non -> 1, network -> 1, primari -> 1, oil -> 1, and -> 1, station -> 1, ga -> 10, liaison -> 1, provid -> 2, make -> 1, ltd -> 1, gaz -> 2, abroad -> 2, facil -> 1, llc -> 1, or -> 1, associ -> 2, perform -> 1, distribut -> 6, transport -> 2, improv -> 1, kibri -> 1, deliveri -> 1, domest -> 4, iletim -> 2, onshor -> 1, relat -> 2, alternatif -> 2, petrolleri -> 1, po -> 5]                                                                                           |\n",
      "|b8a214ea-b57b-5c95-b0ab-7938561fc97e|28333|[2216, 5046, 5274, 7163, 9405, 12969, 13397, 14862, 25140, 26558]                                                                                                                                                                                                                                                                                                                                                                                                                                                                                                                                                                                                                                                                                                                                    |[0.8649754639258026, 2.0710774383066175, 0.7572112786625184, 5.930514674224134, 1.26983982522476, 2.5313996620934245, 5.850237447918235, 1.7570243029754398, 0.7911191724288754, 5.114032812212143]                                                                                                                                                                                                                                                                                                                                                                                                                                                                                                                                                                                                                                                                                                                                                                                                                                                                                                                                                                                                                                                                                                                                                                                                                                                                                                                                                                                                                                                                                                                                                                                                                                                                                                                                                                                                                                                                                                                                                                                                                                                                                                                                                                                              |[donat -> 1, japan -> 1, compani -> 1, co -> 1, the -> 1, vaccin -> 1, unicef -> 1, found -> 1, poliomyel -> 1, kawasaki -> 1, nagashima -> 1, ltd -> 1, base -> 1]                                                                                                                                                                                                                                                                                                                                                                                                                                                                                                                                                                                                                                                                                                                                                                                                                                                                                                                                                                                                                                                                                                                                                                                                                                                                                                                                                                                                                                                                            |\n",
      "|e5d7492e-d073-5c04-b572-e9ccd92eb3ea|28333|[432, 532, 1270, 1372, 1788, 2216, 3976, 4911, 5274, 5398, 6453, 6676, 6757, 8075, 8161, 9188, 9405, 10029, 10236, 10531, 11102, 11499, 12211, 12575, 12846, 13665, 15295, 17178, 18036, 19615, 19960, 20100, 21045, 21072, 21853, 22540, 23197, 23856, 24165, 24352, 24554, 25140, 26743, 27402, 27790]                                                                                                                                                                                                                                                                                                                                                                                                                                                                                             |[2.784025824447609, 2.9408959637413394, 8.337462552620066, 2.950583957771985, 4.060056479934269, 0.8649754639258026, 2.8016330597894745, 5.359006905160424, 1.5144225573250367, 4.943943429023146, 3.115918136384157, 5.36626022072925, 1.7611768476500451, 1.3998741561154209, 7.766291902765965, 3.810153647182509, 1.26983982522476, 4.33108037731482, 4.791136017412714, 2.1720999032709316, 3.0712588264460816, 2.7602883101155022, 1.763461235987911, 3.1435680480225883, 1.3683883454740984, 4.117681259991292, 1.5104111490796444, 2.7556811852064143, 0.9366459632678065, 3.6255366763279797, 2.0485048913523594, 1.4596035390630695, 4.018371746131152, 2.851731701433629, 2.1927078309485992, 1.0434387938276666, 3.2223197730702324, 4.459159855094821, 1.2357367976566258, 2.6414968166370993, 3.479926232524894, 1.253894221901322, 4.351201532791481, 3.952943882677968, 4.656382005946637]                                                                                                                                                                                                                                                                                                                                                                                                                                                                                                                                                                                                                                                                                                                                                                                                                                                                                                                                                                                                                                                                                                                                                                                                                                                                                                                                                                                                                                                                                       |[small -> 1, ventil -> 1, saruhan -> 1, research -> 1, der -> 1, portfolio -> 1, decemb -> 1, gmbh -> 2, hausgerät -> 2, subsidiari -> 1, group -> 1, area -> 1, workshop -> 1, author -> 1, it -> 1, develop -> 1, repres -> 1, servic -> 1, condition -> 1, system -> 2, includ -> 1, support -> 1, care -> 1, heat -> 1, engag -> 1, compani -> 3, air -> 1, network -> 1, found -> 1, germani -> 2, steam -> 1, kitchen -> 1, floor -> 1, provid -> 1, internation -> 1, product -> 2, manufactur -> 1, clean -> 2, home -> 1, enz -> 1, the -> 2, sale -> 1, fakir -> 2, agenc -> 1, applianc -> 5, well -> 1, oper -> 1, vaihingen -> 1, base -> 1]                                                                                                                                                                                                                                                                                                                                                                                                                                                                                                                                                                                                                                                                                                                                                                                                                                                                                                                                                                                      |\n",
      "|37bfed26-54f6-5758-8437-a2b3a6a5830e|28333|[1681, 7467, 14522, 17551, 18036, 19384, 21627, 22697, 24165]                                                                                                                                                                                                                                                                                                                                                                                                                                                                                                                                                                                                                                                                                                                                        |[4.933252887460197, 5.3271205480559605, 2.10547366914285, 3.0834192025445404, 0.9366459632678065, 3.28427021322278, 4.79671428959431, 7.737508053096042, 1.2357367976566258]                                                                                                                                                                                                                                                                                                                                                                                                                                                                                                                                                                                                                                                                                                                                                                                                                                                                                                                                                                                                                                                                                                                                                                                                                                                                                                                                                                                                                                                                                                                                                                                                                                                                                                                                                                                                                                                                                                                                                                                                                                                                                                                                                                                                                     |[dutch -> 1, atlant -> 1, shell -> 2, plc -> 1, north -> 1, limit -> 1, oper -> 1, royal -> 1, subsidiari -> 1]                                                                                                                                                                                                                                                                                                                                                                                                                                                                                                                                                                                                                                                                                                                                                                                                                                                                                                                                                                                                                                                                                                                                                                                                                                                                                                                                                                                                                                                                                                                                |\n",
      "|86e2f0ca-3961-5825-b59e-4d83870b1c6d|28333|[119, 210, 340, 1793, 3531, 3628, 4296, 5262, 5274, 6344, 6757, 7000, 7817, 7821, 8075, 8141, 8239, 8531, 8548, 9936, 11605, 12211, 12328, 12566, 12579, 12863, 13972, 15136, 15496, 15898, 17588, 18036, 18589, 18918, 19692, 20100, 21853, 22540, 24844, 24855, 25140, 25714, 25727, 26363]                                                                                                                                                                                                                                                                                                                                                                                                                                                                                                        |[3.365475397677492, 2.2326450826280846, 3.999077595886856, 3.5543632613597347, 2.1325575329488626, 3.095642679450263, 2.799180164785095, 2.597465249569989, 0.7572112786625184, 2.802004510721478, 1.7611768476500451, 3.853382449595585, 5.029658104096016, 2.5809724592045, 1.3998741561154209, 6.210120615776253, 4.423536034522038, 3.0935538476334785, 4.368104750953452, 2.179750216031423, 3.826526615392842, 1.763461235987911, 2.740715225290452, 4.965294438390478, 6.379730086513251, 3.3425126988777643, 3.9706805882853047, 3.985605180072393, 3.7677836550941635, 2.469665828176113, 4.629483237263452, 0.9366459632678065, 2.6088221523507955, 3.8716727398968453, 2.8209898838680005, 1.4596035390630695, 2.1927078309485992, 2.697250153842232, 4.787763821815808, 3.523885220040002, 0.7911191724288754, 3.6964808514898992, 3.7424482641375163, 5.579763173707391]                                                                                                                                                                                                                                                                                                                                                                                                                                                                                                                                                                                                                                                                                                                                                                                                                                                                                                                                                                                                                                                                                                                                                                                                                                                                                                                                                                                                                                                                                                            |[auto -> 1, inform -> 1, access -> 1, data -> 1, engag -> 1, part -> 1, busi -> 2, exclud -> 1, compani -> 1, advic -> 1, peripher -> 1, technolog -> 2, not -> 1, unlimit -> 1, displai -> 1, host -> 1, electron -> 1, commun -> 1, power -> 1, exhibit -> 1, provid -> 1, technic -> 2, item -> 1, transmiss -> 1, gener -> 1, center -> 1, metal -> 1, electromechan -> 1, develop -> 1, entrust -> 1, labor -> 1, the -> 1, materi -> 2, sale -> 1, servic -> 5, transfer -> 1, includ -> 1, equip -> 4, build -> 1, activ -> 1, oper -> 1, intermediari -> 1, internet -> 3, mainli -> 1]                                                                                                                                                                                                                                                                                                                                                                                                                                                                                                                                                                                                                                                                                                                                                                                                                                                                                                                                                                                                                                                |\n",
      "|853747cb-f2b8-5f94-afdb-fac4f03c07fc|28333|[1604, 3772, 12192, 15219, 17178, 18036, 24165, 25016]                                                                                                                                                                                                                                                                                                                                                                                                                                                                                                                                                                                                                                                                                                                                               |[3.0237514484398695, 2.7325645633557216, 2.5377887008567126, 1.7636379501552653, 2.7556811852064143, 0.9366459632678065, 1.2357367976566258, 4.867826954385261]                                                                                                                                                                                                                                                                                                                                                                                                                                                                                                                                                                                                                                                                                                                                                                                                                                                                                                                                                                                                                                                                                                                                                                                                                                                                                                                                                                                                                                                                                                                                                                                                                                                                                                                                                                                                                                                                                                                                                                                                                                                                                                                                                                                                                                  |[associ -> 1, california -> 1, oper -> 1, manag -> 1, tenet -> 1, subsidiari -> 1, inc -> 2, network -> 1]                                                                                                                                                                                                                                                                                                                                                                                                                                                                                                                                                                                                                                                                                                                                                                                                                                                                                                                                                                                                                                                                                                                                                                                                                                                                                                                                                                                                                                                                                                                                     |\n",
      "|0456eaf9-2b35-5d90-ac73-99259750905f|28333|[19900, 22258]                                                                                                                                                                                                                                                                                                                                                                                                                                                                                                                                                                                                                                                                                                                                                                                       |[3.110308385579495, 3.9366647402124957]                                                                                                                                                                                                                                                                                                                                                                                                                                                                                                                                                                                                                                                                                                                                                                                                                                                                                                                                                                                                                                                                                                                                                                                                                                                                                                                                                                                                                                                                                                                                                                                                                                                                                                                                                                                                                                                                                                                                                                                                                                                                                                                                                                                                                                                                                                                                                          |[screen -> 1, print -> 1]                                                                                                                                                                                                                                                                                                                                                                                                                                                                                                                                                                                                                                                                                                                                                                                                                                                                                                                                                                                                                                                                                                                                                                                                                                                                                                                                                                                                                                                                                                                                                                                                                      |\n",
      "|2c0ebba7-d4b2-56b9-b797-15d87bb3f9ca|28333|[10374, 21853]                                                                                                                                                                                                                                                                                                                                                                                                                                                                                                                                                                                                                                                                                                                                                                                       |[3.7466362912972087, 2.1927078309485992]                                                                                                                                                                                                                                                                                                                                                                                                                                                                                                                                                                                                                                                                                                                                                                                                                                                                                                                                                                                                                                                                                                                                                                                                                                                                                                                                                                                                                                                                                                                                                                                                                                                                                                                                                                                                                                                                                                                                                                                                                                                                                                                                                                                                                                                                                                                                                         |[sale -> 1, grain -> 1]                                                                                                                                                                                                                                                                                                                                                                                                                                                                                                                                                                                                                                                                                                                                                                                                                                                                                                                                                                                                                                                                                                                                                                                                                                                                                                                                                                                                                                                                                                                                                                                                                        |\n",
      "|8e7cbe0f-238a-5403-a942-a6bb4a0b79f0|28333|[210, 4901, 5274, 7904, 19897, 19960, 25140, 27539]                                                                                                                                                                                                                                                                                                                                                                                                                                                                                                                                                                                                                                                                                                                                                  |[2.2326450826280846, 4.057294837215507, 0.7572112786625184, 4.614954523972514, 2.956061467170809, 1.2924626862908692, 0.7911191724288754, 1.9169422386741604]                                                                                                                                                                                                                                                                                                                                                                                                                                                                                                                                                                                                                                                                                                                                                                                                                                                                                                                                                                                                                                                                                                                                                                                                                                                                                                                                                                                                                                                                                                                                                                                                                                                                                                                                                                                                                                                                                                                                                                                                                                                                                                                                                                                                                                    |[the -> 1, classifi -> 1, product -> 1, wholesal -> 1, activ -> 1, compani -> 1, elsewher -> 1, princip -> 1]                                                                                                                                                                                                                                                                                                                                                                                                                                                                                                                                                                                                                                                                                                                                                                                                                                                                                                                                                                                                                                                                                                                                                                                                                                                                                                                                                                                                                                                                                                                                  |\n",
      "|a2036398-c53f-51a5-9490-d3b9e0478b29|28333|[1285, 2216, 3053, 3065, 5274, 11632, 12846, 15079, 17172, 17260, 17861, 18036, 18331, 24165, 25140]                                                                                                                                                                                                                                                                                                                                                                                                                                                                                                                                                                                                                                                                                                 |[3.865448865042958, 0.8649754639258026, 3.6256144895464524, 9.565950896380512, 0.7572112786625184, 7.338776603763256, 1.3683883454740984, 4.159765695000435, 3.334405020440962, 4.162574236851651, 1.555145188912462, 1.484548728231319, 4.10887364779554, 1.2357367976566258, 0.7911191724288754]                                                                                                                                                                                                                                                                                                                                                                                                                                                                                                                                                                                                                                                                                                                                                                                                                                                                                                                                                                                                                                                                                                                                                                                                                                                                                                                                                                                                                                                                                                                                                                                                                                                                                                                                                                                                                                                                                                                                                                                                                                                                                               |[postkantoren -> 1, bruna -> 2, houten -> 1, newspap -> 1, book -> 1, bookstor -> 2, own -> 2, compani -> 1, it -> 1, the -> 1, offer -> 1, netherland -> 1, magazin -> 1, oper -> 2, approxim -> 1, subsidiari -> 1, base -> 1]                                                                                                                                                                                                                                                                                                                                                                                                                                                                                                                                                                                                                                                                                                                                                                                                                                                                                                                                                                                                                                                                                                                                                                                                                                                                                                                                                                                                               |\n",
      "|36ca4e20-3b03-5374-86d9-0295b3d3cf2d|28333|[2216, 2525, 2599, 5274, 6757, 11464, 12220, 12987, 15175, 18036, 18996, 20043, 20100, 22292, 22540, 24165, 25140, 27800]                                                                                                                                                                                                                                                                                                                                                                                                                                                                                                                                                                                                                                                                            |[0.8649754639258026, 4.759112037477855, 6.2925009178522195, 0.7572112786625184, 1.7611768476500451, 2.046265004883152, 1.9501821397698351, 5.427007825587623, 3.803080999068333, 0.9366459632678065, 5.64300639362471, 2.4006063346690056, 1.4596035390630695, 6.346095633600005, 1.0434387938276666, 1.2357367976566258, 0.7911191724288754, 3.3204032749373176]                                                                                                                                                                                                                                                                                                                                                                                                                                                                                                                                                                                                                                                                                                                                                                                                                                                                                                                                                                                                                                                                                                                                                                                                                                                                                                                                                                                                                                                                                                                                                                                                                                                                                                                                                                                                                                                                                                                                                                                                                                |[berhad -> 1, properti -> 1, worldwid -> 1, compani -> 1, develop -> 1, malaysia -> 1, jaya -> 1, hold -> 1, the -> 1, servic -> 1, petal -> 1, unggul -> 2, cekal -> 2, incorpor -> 1, oper -> 1, sdn -> 2, provid -> 1, subsidiari -> 1, base -> 1, bhd -> 2]                                                                                                                                                                                                                                                                                                                                                                                                                                                                                                                                                                                                                                                                                                                                                                                                                                                                                                                                                                                                                                                                                                                                                                                                                                                                                                                                                                                |\n",
      "|4357b262-9b21-52cc-badf-41a2d9791182|28333|[5274, 9306, 23537, 25140, 27539]                                                                                                                                                                                                                                                                                                                                                                                                                                                                                                                                                                                                                                                                                                                                                                    |[0.7572112786625184, 2.4766458844586614, 1.8470908582629462, 0.7911191724288754, 1.9169422386741604]                                                                                                                                                                                                                                                                                                                                                                                                                                                                                                                                                                                                                                                                                                                                                                                                                                                                                                                                                                                                                                                                                                                                                                                                                                                                                                                                                                                                                                                                                                                                                                                                                                                                                                                                                                                                                                                                                                                                                                                                                                                                                                                                                                                                                                                                                             |[special -> 1, the -> 1, wholesal -> 1, compani -> 1, food -> 1]                                                                                                                                                                                                                                                                                                                                                                                                                                                                                                                                                                                                                                                                                                                                                                                                                                                                                                                                                                                                                                                                                                                                                                                                                                                                                                                                                                                                                                                                                                                                                                               |\n",
      "|edb7bc52-c88d-52e0-9603-314c75052132|28333|[2226, 5274, 5571, 8843, 23537, 25140, 27539]                                                                                                                                                                                                                                                                                                                                                                                                                                                                                                                                                                                                                                                                                                                                                        |[3.4190346276611816, 0.7572112786625184, 3.0009021384376204, 3.8584088147412907, 1.8470908582629462, 0.7911191724288754, 1.9169422386741604]                                                                                                                                                                                                                                                                                                                                                                                                                                                                                                                                                                                                                                                                                                                                                                                                                                                                                                                                                                                                                                                                                                                                                                                                                                                                                                                                                                                                                                                                                                                                                                                                                                                                                                                                                                                                                                                                                                                                                                                                                                                                                                                                                                                                                                                     |[special -> 1, the -> 1, contract -> 1, fee -> 1, wholesal -> 1, compani -> 1, basi -> 1]                                                                                                                                                                                                                                                                                                                                                                                                                                                                                                                                                                                                                                                                                                                                                                                                                                                                                                                                                                                                                                                                                                                                                                                                                                                                                                                                                                                                                                                                                                                                                      |\n",
      "|dc0b531a-108b-505a-9cd9-f26f27ef380d|28333|[122, 1015, 16568, 18589, 26702]                                                                                                                                                                                                                                                                                                                                                                                                                                                                                                                                                                                                                                                                                                                                                                     |[2.744808583187684, 1.4046632569175797, 2.634986586299161, 2.6088221523507955, 2.5065648101020583]                                                                                                                                                                                                                                                                                                                                                                                                                                                                                                                                                                                                                                                                                                                                                                                                                                                                                                                                                                                                                                                                                                                                                                                                                                                                                                                                                                                                                                                                                                                                                                                                                                                                                                                                                                                                                                                                                                                                                                                                                                                                                                                                                                                                                                                                                               |[motor -> 1, vehicl -> 1, accessori -> 1, and -> 1, part -> 1]                                                                                                                                                                                                                                                                                                                                                                                                                                                                                                                                                                                                                                                                                                                                                                                                                                                                                                                                                                                                                                                                                                                                                                                                                                                                                                                                                                                                                                                                                                                                                                                 |\n",
      "|58b1c589-feda-55ee-b272-bcb4ddf6f5a2|28333|[63, 253, 254, 271, 291, 372, 479, 532, 535, 540, 759, 996, 1271, 1372, 1449, 1480, 1765, 1809, 3816, 3898, 4296, 5116, 5210, 5274, 5370, 5564, 5580, 5595, 5694, 5695, 5907, 6043, 6394, 6598, 6712, 6757, 6762, 7007, 7999, 8059, 8075, 8081, 8087, 8212, 8470, 8658, 8987, 9214, 9306, 9326, 9405, 9670, 9922, 9936, 10623, 11071, 11183, 12075, 12148, 12178, 12328, 12506, 12691, 12846, 13562, 13974, 14133, 14933, 15295, 15371, 15468, 15496, 15930, 16003, 16332, 16562, 16738, 16773, 17861, 18036, 18119, 18214, 18503, 19154, 19215, 19348, 19960, 20100, 20477, 20982, 21025, 21072, 21217, 21922, 22436, 22482, 22540, 22696, 22870, 23063, 23364, 23744, 24029, 24165, 24352, 24397, 24554, 24855, 25140, 25415, 25722, 26702, 26745, 26880, 27196, 27207, 27256, 27337, 27553, 27739]|[6.538065013706982, 2.398624446611202, 3.8254875698069384, 4.355426019462308, 3.255456077375451, 5.473162593534522, 3.148176972168884, 4.661209821052229, 5.816388093490717, 4.048168027301107, 3.404176823265557, 3.249927773514813, 4.069348733102686, 2.950583957771985, 6.889260241566868, 7.334761431514629, 3.4506676523827347, 3.3759987803998626, 6.909923626467167, 4.294817032153128, 2.799180164785095, 5.792338944750253, 5.877089208293338, 1.5144225573250367, 4.399625671191683, 4.028316771662178, 2.804372243577797, 4.318019908528368, 3.118671467889979, 3.600184679662471, 3.6932703712363746, 7.2225604983203, 4.96279016198183, 5.364664209937627, 2.2586287250812638, 4.0893260026238, 3.003402896690083, 6.013961195303735, 3.249204033163513, 4.488386030210575, 1.3998741561154209, 2.2448230404524785, 4.160887746529246, 5.5063850384712465, 6.2538559501443824, 3.062938550075395, 6.577276593344448, 6.836660977429857, 2.4766458844586614, 4.537022928096854, 1.26983982522476, 3.580915462893819, 5.870443450954874, 2.179750216031423, 5.065988542060053, 2.3848686884705868, 6.499312796257169, 6.182602762923427, 7.942906968118318, 2.116224060333545, 2.740715225290452, 2.8984016045388445, 4.904751742315129, 1.3683883454740984, 5.444673082916793, 3.723102521347135, 4.368559174383557, 5.51425285484753, 1.5104111490796444, 2.14241983898142, 3.7513782677441325, 2.3772068130191255, 5.4859572044409814, 4.319994889111053, 3.868609060175499, 6.475795147997113, 4.12223309809076, 4.007036669152095, 1.555145188912462, 0.9366459632678065, 2.9456744029643103, 2.5197858811402365, 3.232777940555566, 3.8637278510582966, 5.142134159901766, 2.872999150755275, 1.2924626862908692, 2.919207078126139, 8.58459632358008, 3.9955742694524625, 2.788019717932952, 8.005823028407404, 5.101924168596453, 6.815654909871286, 2.5622905609919724, 4.223361953218708, 2.422789850683841, 5.043160108866713, 6.763364089244988, 4.967627967293217, 3.966171883069261, 5.576293092965269, 3.6199826861609576, 1.2357367976566258, 2.6414968166370993, 5.9169441259520195, 2.195589000333781, 2.2233240334939395, 1.253894221901322, 3.1832565109616984, 4.278193355298565, 2.5065648101020583, 7.208743153465123, 3.3409626883863908, 5.9348559024893275, 6.1383870859664835, 5.057879433342856, 5.53717887229707, 3.7381023076697546, 3.389833856155788]|[shunt -> 1, inform -> 1, addit -> 1, convers -> 1, implant -> 2, analysi -> 1, artifici -> 2, enhanc -> 1, agricultur -> 1, offer -> 1, sanctuari -> 1, autom -> 1, model -> 1, subsidiari -> 1, addition -> 1, creat -> 1, applic -> 2, methodolog -> 1, capabl -> 1, solid -> 1, multipl -> 1, august -> 1, in -> 1, gener -> 1, imageri -> 1, it -> 1, headquart -> 1, lung -> 1, surviv -> 1, waltham -> 1, plastic -> 1, system -> 1, rf -> 1, fabric -> 1, organ -> 1, engin -> 1, other -> 1, vehicl -> 1, engag -> 1, air -> 2, corpor -> 2, gem -> 1, airborn -> 1, found -> 1, ablat -> 1, camera -> 2, devic -> 1, product -> 1, sell -> 1, wearabl -> 1, infoscitex -> 2, municip -> 1, food -> 1, the -> 2, materi -> 1, radar -> 2, arrhythmia -> 1, fighter -> 1, oper -> 1, to -> 1, demonstr -> 1, dc -> 1, kidnei -> 1, cognit -> 1, corp -> 1, remot -> 1, forc -> 1, aeronaut -> 1, ventricular -> 1, research -> 6, technolog -> 1, guidanc -> 1, adhes -> 1, wood -> 1, wast -> 2, evalu -> 2, administr -> 1, area -> 1, laboratori -> 1, develop -> 4, hemodialysi -> 1, shelf -> 1, market -> 1, integr -> 1, servic -> 4, flowmet -> 1, transit -> 1, sensor -> 1, support -> 1, physic -> 1, allow -> 1, repair -> 1, concept -> 1, continu -> 1, combat -> 1, compani -> 3, video -> 1, paper -> 1, laser -> 1, epoxi -> 1, dissemin -> 1, design -> 1, involv -> 2, provid -> 3, enabl -> 1, stabl -> 1, pilot -> 1, wide -> 1, motion -> 2, manufactur -> 1, aircraft -> 1, center -> 1, war -> 1, control -> 1, strategi -> 1, energi -> 2, situat -> 1, massachusett -> 1, micro -> 1, csf -> 1, further -> 1]|\n",
      "|b7dcb8b4-a8bd-5477-8862-816c7c8b538e|28333|[5274, 11464, 17083, 17662]                                                                                                                                                                                                                                                                                                                                                                                                                                                                                                                                                                                                                                                                                                                                                                          |[0.7572112786625184, 2.046265004883152, 1.8132023248167497, 1.3574442968306313]                                                                                                                                                                                                                                                                                                                                                                                                                                                                                                                                                                                                                                                                                                                                                                                                                                                                                                                                                                                                                                                                                                                                                                                                                                                                                                                                                                                                                                                                                                                                                                                                                                                                                                                                                                                                                                                                                                                                                                                                                                                                                                                                                                                                                                                                                                                  |[compani -> 1, nec -> 1, nsk -> 1, hold -> 1]                                                                                                                                                                                                                                                                                                                                                                                                                                                                                                                                                                                                                                                                                                                                                                                                                                                                                                                                                                                                                                                                                                                                                                                                                                                                                                                                                                                                                                                                                                                                                                                                  |\n",
      "|7e01d9bb-f644-55b8-84aa-9d5163a283a0|28333|[1784, 2216, 2367, 3116, 3149, 3531, 4641, 5242, 5274, 5521, 5572, 5695, 6280, 7979, 8081, 9230, 9405, 9447, 10029, 11111, 11332, 11434, 12211, 12272, 12846, 12927, 12969, 13184, 13478, 13568, 15150, 16906, 17502, 18036, 18179, 18331, 19002, 20529, 21182, 23078, 23403, 24008, 24084, 24462, 25140, 26044, 26935]                                                                                                                                                                                                                                                                                                                                                                                                                                                                              |[3.9090650240336746, 0.8649754639258026, 4.572195496347346, 4.220663685992451, 4.654548282177271, 2.1325575329488626, 2.3495817107301162, 2.3590965550278673, 1.7581901416920849, 4.309032025300644, 2.799794545280815, 2.271463632751179, 4.623657051098971, 2.769512475118762, 2.2448230404524785, 4.6925400688372765, 1.26983982522476, 2.7538867000930605, 2.7326074751574145, 3.3482085266799, 3.7122603041291353, 4.84440604051482, 1.763461235987911, 3.382214133708848, 1.3683883454740984, 4.661449904219765, 2.5313996620934245, 2.9134446587387575, 7.8681026546901585, 4.658450760466887, 2.759365918848164, 4.968167591439243, 3.646896764795118, 0.9366459632678065, 12.446787202476006, 2.5924106380598952, 4.690487728738298, 3.907193443627485, 2.8245005696595267, 4.829515088011902, 4.355797819707536, 4.833948880404195, 3.0976229211823116, 3.4736565219507347, 1.253894221901322, 4.760844406609406, 4.593035841329349]                                                                                                                                                                                                                                                                                                                                                                                                                                                                                                                                                                                                                                                                                                                                                                                                                                                                                                                                                                                                                                                                                                                                                                                                                                                                                                                                                                                                                                                   |[contractor -> 1, engin -> 1, fluor -> 1, japan -> 1, own -> 1, commerci -> 1, compani -> 4, railwai -> 1, nonresidenti -> 1, construct -> 4, corpor -> 1, bouygu -> 1, dam -> 1, found -> 1, son -> 1, bechtel -> 1, structur -> 1, major -> 1, sweden -> 1, peter -> 1, oshima -> 2, germani -> 1, franc -> 1, industri -> 3, jacob -> 1, kensetsu -> 2, nagoya -> 1, heavi -> 1, employe -> 1, revenu -> 1, skanska -> 1, strabag -> 1, it -> 1, highwai -> 1, both -> 1, hochtief -> 1, the -> 2, vinci -> 1, jpy -> 1, turner -> 1, china -> 1, includ -> 1, build -> 1, kiewit -> 1, oper -> 1, austria -> 1, base -> 1]                                                                                                                                                                                                                                                                                                                                                                                                                                                                                                                                                                                                                                                                                                                                                                                                                                                                                                                                                                                                                 |\n",
      "+------------------------------------+-----+-----------------------------------------------------------------------------------------------------------------------------------------------------------------------------------------------------------------------------------------------------------------------------------------------------------------------------------------------------------------------------------------------------------------------------------------------------------------------------------------------------------------------------------------------------------------------------------------------------------------------------------------------------------------------------------------------------------------------------------------------------------------------------------------------------+-------------------------------------------------------------------------------------------------------------------------------------------------------------------------------------------------------------------------------------------------------------------------------------------------------------------------------------------------------------------------------------------------------------------------------------------------------------------------------------------------------------------------------------------------------------------------------------------------------------------------------------------------------------------------------------------------------------------------------------------------------------------------------------------------------------------------------------------------------------------------------------------------------------------------------------------------------------------------------------------------------------------------------------------------------------------------------------------------------------------------------------------------------------------------------------------------------------------------------------------------------------------------------------------------------------------------------------------------------------------------------------------------------------------------------------------------------------------------------------------------------------------------------------------------------------------------------------------------------------------------------------------------------------------------------------------------------------------------------------------------------------------------------------------------------------------------------------------------------------------------------------------------------------------------------------------------------------------------------------------------------------------------------------------------------------------------------------------------------------------------------------------------------------------------------------------------------------------------------------------------------------------------------------------------------------------------------------------------------------------------------------------------+-----------------------------------------------------------------------------------------------------------------------------------------------------------------------------------------------------------------------------------------------------------------------------------------------------------------------------------------------------------------------------------------------------------------------------------------------------------------------------------------------------------------------------------------------------------------------------------------------------------------------------------------------------------------------------------------------------------------------------------------------------------------------------------------------------------------------------------------------------------------------------------------------------------------------------------------------------------------------------------------------------------------------------------------------------------------------------------------------------------------------------------------------------------------------------------------------------------------------------------------------------------------------------------------------------------------------------------------------------------------------------------------------------------------------------------------------------------------------------------------------------------------------------------------------------------------------------------------------------------------------------------------------+\n",
      "only showing top 20 rows\n",
      "\n"
     ]
    }
   ],
   "source": [
    "companies_df.show(20, False)"
   ]
  },
  {
   "cell_type": "code",
   "execution_count": null,
   "metadata": {},
   "outputs": [],
   "source": []
  }
 ],
 "metadata": {
  "kernelspec": {
   "display_name": "PySpark",
   "language": "",
   "name": "pysparkkernel"
  },
  "language_info": {
   "codemirror_mode": {
    "name": "python",
    "version": 2
   },
   "mimetype": "text/x-python",
   "name": "pyspark",
   "pygments_lexer": "python2"
  }
 },
 "nbformat": 4,
 "nbformat_minor": 2
}
