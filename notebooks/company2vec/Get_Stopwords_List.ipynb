{
 "cells": [
  {
   "cell_type": "code",
   "execution_count": 1,
   "metadata": {},
   "outputs": [
    {
     "data": {
      "text/html": [
       "Current session configs: <tt>{'executorCores': 4, 'executorMemory': '47696M', 'conf': {'spark.default.parallelism': 1000, 'spark.sql.shuffle.partitions': 1000, 'spark.task.cpus': 1}, 'kind': 'pyspark'}</tt><br>"
      ],
      "text/plain": [
       "<IPython.core.display.HTML object>"
      ]
     },
     "metadata": {},
     "output_type": "display_data"
    },
    {
     "data": {
      "text/html": [
       "<table>\n",
       "<tr><th>ID</th><th>YARN Application ID</th><th>Kind</th><th>State</th><th>Spark UI</th><th>Driver log</th><th>Current session?</th></tr><tr><td>0</td><td>application_1575985650678_0001</td><td>pyspark</td><td>killed</td><td><a target=\"_blank\" href=\"http://ip-172-31-23-238.eu-west-1.compute.internal:8088/cluster/app/application_1575985650678_0001\">Link</a></td><td></td><td></td></tr></table>"
      ],
      "text/plain": [
       "<IPython.core.display.HTML object>"
      ]
     },
     "metadata": {},
     "output_type": "display_data"
    }
   ],
   "source": [
    "%%configure -f\n",
    "{\n",
    " \"executorCores\": 4, \n",
    " \"executorMemory\": \"47696M\", \n",
    " \"conf\": {\"spark.default.parallelism\": 1000,\n",
    "          \"spark.sql.shuffle.partitions\": 1000,\n",
    "          \"spark.task.cpus\": 1\n",
    "         }\n",
    "}"
   ]
  },
  {
   "cell_type": "code",
   "execution_count": 2,
   "metadata": {},
   "outputs": [
    {
     "name": "stdout",
     "output_type": "stream",
     "text": [
      "Starting Spark application\n"
     ]
    },
    {
     "data": {
      "text/html": [
       "<table>\n",
       "<tr><th>ID</th><th>YARN Application ID</th><th>Kind</th><th>State</th><th>Spark UI</th><th>Driver log</th><th>Current session?</th></tr><tr><td>1</td><td>application_1575985650678_0002</td><td>pyspark</td><td>idle</td><td><a target=\"_blank\" href=\"http://ip-172-31-23-238.eu-west-1.compute.internal:20888/proxy/application_1575985650678_0002/\">Link</a></td><td><a target=\"_blank\" href=\"http://ip-172-31-26-13.eu-west-1.compute.internal:8042/node/containerlogs/container_1575985650678_0002_01_000001/livy\">Link</a></td><td>✔</td></tr></table>"
      ],
      "text/plain": [
       "<IPython.core.display.HTML object>"
      ]
     },
     "metadata": {},
     "output_type": "display_data"
    },
    {
     "data": {
      "application/vnd.jupyter.widget-view+json": {
       "model_id": "",
       "version_major": 2,
       "version_minor": 0
      },
      "text/plain": [
       "FloatProgress(value=0.0, bar_style='info', description='Progress:', layout=Layout(height='25px', width='50%'),…"
      ]
     },
     "metadata": {},
     "output_type": "display_data"
    },
    {
     "name": "stdout",
     "output_type": "stream",
     "text": [
      "SparkSession available as 'spark'.\n"
     ]
    },
    {
     "data": {
      "application/vnd.jupyter.widget-view+json": {
       "model_id": "",
       "version_major": 2,
       "version_minor": 0
      },
      "text/plain": [
       "FloatProgress(value=0.0, bar_style='info', description='Progress:', layout=Layout(height='25px', width='50%'),…"
      ]
     },
     "metadata": {},
     "output_type": "display_data"
    }
   ],
   "source": [
    "from gensim.utils import lemmatize, tokenize\n",
    "from gensim.parsing.preprocessing import remove_stopwords\n",
    "from gensim.parsing.porter import PorterStemmer\n",
    "from nltk.stem.snowball import SnowballStemmer\n",
    "from nltk.stem import WordNetLemmatizer\n",
    "\n",
    "from langdetect import detect\n",
    "import string\n",
    "from itertools import islice\n",
    "import numpy as np\n",
    "import smart_open\n",
    "from collections import Counter, defaultdict\n",
    "import math\n",
    "import spacy\n",
    "\n",
    "from pyspark.ml.feature import (HashingTF,\n",
    "                                IDF,\n",
    "                                Tokenizer,\n",
    "                                StopWordsRemover,\n",
    "                                CountVectorizer,\n",
    "                                StringIndexer,\n",
    "                                OneHotEncoderEstimator,\n",
    "                                VectorAssembler,\n",
    "                                VectorSizeHint,\n",
    "                                StandardScaler,\n",
    "                                PCA\n",
    "                               )\n",
    "from pyspark.ml import Pipeline, Transformer\n",
    "\n",
    "from pyspark.sql import SparkSession\n",
    "import pyspark.sql.functions as F\n",
    "import pyspark.sql.types as T\n",
    "\n",
    "from pyspark.mllib.linalg import DenseMatrix\n",
    "from pyspark.mllib.linalg.distributed import RowMatrix\n",
    "from pyspark.mllib.linalg import Vector as MLLibVector, Vectors as MLLibVectors\n",
    "\n",
    "from pyspark.ml.linalg import Vectors, VectorUDT"
   ]
  },
  {
   "cell_type": "code",
   "execution_count": 37,
   "metadata": {},
   "outputs": [
    {
     "data": {
      "application/vnd.jupyter.widget-view+json": {
       "model_id": "",
       "version_major": 2,
       "version_minor": 0
      },
      "text/plain": [
       "FloatProgress(value=0.0, bar_style='info', description='Progress:', layout=Layout(height='25px', width='50%'),…"
      ]
     },
     "metadata": {},
     "output_type": "display_data"
    }
   ],
   "source": [
    "word2id_path = \"s3://oaknorth-ml-dev-eu-west-1/company2vec/common/bow_description_not_lemmatized\"\n",
    "data_path = \"s3://oaknorth-ml-dev-eu-west-1/company2vec/data_desc_only/raw_company_features_bow_description_not_lemmatized\"\n",
    "model_path = \"s3://oaknorth-ml-dev-eu-west-1/company2vec/model/probabilistic_not_lemmatized/\""
   ]
  },
  {
   "cell_type": "code",
   "execution_count": 4,
   "metadata": {},
   "outputs": [
    {
     "data": {
      "application/vnd.jupyter.widget-view+json": {
       "model_id": "",
       "version_major": 2,
       "version_minor": 0
      },
      "text/plain": [
       "FloatProgress(value=0.0, bar_style='info', description='Progress:', layout=Layout(height='25px', width='50%'),…"
      ]
     },
     "metadata": {},
     "output_type": "display_data"
    }
   ],
   "source": [
    "companies_df = (spark.read.load(f\"{data_path}/raw_company_features_bow_description_not_lemmatized\")\n",
    "                .join(spark.read.load(\"s3://ai-data-lake-dev-eu-west-1/business/company_data_denormalized\"),\n",
    "                      on=[\"entity_id\"]\n",
    "                     )\n",
    "                .select(\"entity_id\", \"country_of_incorporation\", F.explode(\"bow_description_not_lemmatized\"))\n",
    "                .select(\"entity_id\", \"country_of_incorporation\", F.col(\"key\").alias(\"word\"))\n",
    "               )"
   ]
  },
  {
   "cell_type": "code",
   "execution_count": 5,
   "metadata": {},
   "outputs": [
    {
     "data": {
      "application/vnd.jupyter.widget-view+json": {
       "model_id": "",
       "version_major": 2,
       "version_minor": 0
      },
      "text/plain": [
       "FloatProgress(value=0.0, bar_style='info', description='Progress:', layout=Layout(height='25px', width='50%'),…"
      ]
     },
     "metadata": {},
     "output_type": "display_data"
    }
   ],
   "source": [
    "num_companies = companies_df.count()"
   ]
  },
  {
   "cell_type": "code",
   "execution_count": 6,
   "metadata": {},
   "outputs": [
    {
     "data": {
      "application/vnd.jupyter.widget-view+json": {
       "model_id": "",
       "version_major": 2,
       "version_minor": 0
      },
      "text/plain": [
       "FloatProgress(value=0.0, bar_style='info', description='Progress:', layout=Layout(height='25px', width='50%'),…"
      ]
     },
     "metadata": {},
     "output_type": "display_data"
    }
   ],
   "source": [
    "companies_in_country = {row.country_of_incorporation: row.n_companies\n",
    "                        for row in \n",
    "                        companies_df\n",
    "                        .groupBy(\"country_of_incorporation\")\n",
    "                        .agg(F.countDistinct(\"entity_id\").alias(\"n_companies\"))\n",
    "                        .collect()\n",
    "                       }"
   ]
  },
  {
   "cell_type": "code",
   "execution_count": 22,
   "metadata": {},
   "outputs": [
    {
     "data": {
      "application/vnd.jupyter.widget-view+json": {
       "model_id": "",
       "version_major": 2,
       "version_minor": 0
      },
      "text/plain": [
       "FloatProgress(value=0.0, bar_style='info', description='Progress:', layout=Layout(height='25px', width='50%'),…"
      ]
     },
     "metadata": {},
     "output_type": "display_data"
    }
   ],
   "source": [
    "companies_word = {row.word: row.n_companies\n",
    "                          for row in \n",
    "                          companies_df.groupBy(\"word\")\n",
    "                                      .agg(F.countDistinct(\"entity_id\").alias(\"n_companies\"))\n",
    "                                      .filter(F.col(\"n_companies\") > 15)\n",
    "                                      .collect()\n",
    "                         }"
   ]
  },
  {
   "cell_type": "code",
   "execution_count": 8,
   "metadata": {},
   "outputs": [
    {
     "data": {
      "application/vnd.jupyter.widget-view+json": {
       "model_id": "",
       "version_major": 2,
       "version_minor": 0
      },
      "text/plain": [
       "FloatProgress(value=0.0, bar_style='info', description='Progress:', layout=Layout(height='25px', width='50%'),…"
      ]
     },
     "metadata": {},
     "output_type": "display_data"
    }
   ],
   "source": [
    "companies_word_country = {(row.country_of_incorporation, row.word) : row.n_companies\n",
    "                          for row in \n",
    "                          companies_df.groupBy(\"country_of_incorporation\", \"word\")\n",
    "                                      .agg(F.countDistinct(\"entity_id\").alias(\"n_companies\"))\n",
    "                                      .collect()\n",
    "                         }"
   ]
  },
  {
   "cell_type": "code",
   "execution_count": 23,
   "metadata": {},
   "outputs": [
    {
     "data": {
      "application/vnd.jupyter.widget-view+json": {
       "model_id": "",
       "version_major": 2,
       "version_minor": 0
      },
      "text/plain": [
       "FloatProgress(value=0.0, bar_style='info', description='Progress:', layout=Layout(height='25px', width='50%'),…"
      ]
     },
     "metadata": {},
     "output_type": "display_data"
    }
   ],
   "source": [
    "specific_words = defaultdict(list)\n",
    "for (country,word), n_companies_word_country in companies_word_country.items():\n",
    "    if word not in companies_word:\n",
    "        continue\n",
    "    background_word = companies_word[word]/num_companies\n",
    "    country_word = n_companies_word_country/companies_in_country[country]\n",
    "    specific_words[country].append((word, country_word/background_word))"
   ]
  },
  {
   "cell_type": "code",
   "execution_count": 24,
   "metadata": {},
   "outputs": [
    {
     "data": {
      "application/vnd.jupyter.widget-view+json": {
       "model_id": "",
       "version_major": 2,
       "version_minor": 0
      },
      "text/plain": [
       "FloatProgress(value=0.0, bar_style='info', description='Progress:', layout=Layout(height='25px', width='50%'),…"
      ]
     },
     "metadata": {},
     "output_type": "display_data"
    }
   ],
   "source": [
    "for country in specific_words:\n",
    "    specific_words[country] = list(sorted(specific_words[country], key=lambda el: -el[1]))"
   ]
  },
  {
   "cell_type": "code",
   "execution_count": 34,
   "metadata": {},
   "outputs": [
    {
     "data": {
      "application/vnd.jupyter.widget-view+json": {
       "model_id": "",
       "version_major": 2,
       "version_minor": 0
      },
      "text/plain": [
       "FloatProgress(value=0.0, bar_style='info', description='Progress:', layout=Layout(height='25px', width='50%'),…"
      ]
     },
     "metadata": {},
     "output_type": "display_data"
    },
    {
     "name": "stdout",
     "output_type": "stream",
     "text": [
      "Ireland,laoghaire,ilfc,sligo,navan,dublin,swords,galway,limerick,celestial,shannon\n",
      "\n",
      " --- \n",
      "\n",
      "United States,thomasville,kingsport,bastrop,amortizations,henrico,bldng,swer,displace,bozeman,everglades\n",
      "\n",
      " --- \n",
      "\n",
      "Australia,bendigo,leederville,nedlands,subiaco,yilgarn,cairns,wiluna,dandenong,leonora,mulgrave\n",
      "\n",
      " --- \n",
      "\n",
      "China,suqian,shangrao,technologyco,guodian,huasheng,jinzhong,chizhou,longyan,quzhou,heyuan\n",
      "\n",
      " --- \n",
      "\n",
      "Germany,nach,hafen,tuttlingen,leinfelden,bensheim,heidenheim,unternehmen,zusammenhaengenden,grundstuecke,einer\n",
      "\n",
      " --- \n",
      "\n",
      "Luxembourg,bertrange,leudelange,strassen,duchy,à,luxembourg,foyer,á,frght,electrometallurgical\n",
      "\n",
      " --- \n",
      "\n",
      "United Kingdom,caledonian,gerrards,flintshire,coldfield,swinton,mfrs,ballymena,morecambe,islington,scunthorpe\n",
      "\n",
      " --- \n",
      "\n",
      "Norway,vestfold,bodø,boligkreditt,lillehammer,ulsteinvik,ålesund,hamar,akershus,kongsvinger,molde\n",
      "\n",
      " --- \n",
      "\n",
      "Pakistan,modaraba,faisalabad,karachi,rawalpindi,lahore,islamabad,habib,ijarah,pakistan,kohinoor\n",
      "\n",
      " --- \n",
      "\n",
      "Bermuda,renaissancere,partnerre,validus,bermuda,rli,bma,ceding,markel,alleghany,expropriation\n",
      "\n",
      " ---"
     ]
    }
   ],
   "source": [
    "for country,words in islice(specific_words.items(),10):\n",
    "    print(f\"{country},{','.join([el[0] for el in islice(words, 10)])}\")\n",
    "    print(\"\\n --- \\n\")"
   ]
  },
  {
   "cell_type": "code",
   "execution_count": 68,
   "metadata": {},
   "outputs": [
    {
     "data": {
      "application/vnd.jupyter.widget-view+json": {
       "model_id": "",
       "version_major": 2,
       "version_minor": 0
      },
      "text/plain": [
       "FloatProgress(value=0.0, bar_style='info', description='Progress:', layout=Layout(height='25px', width='50%'),…"
      ]
     },
     "metadata": {},
     "output_type": "display_data"
    }
   ],
   "source": [
    "def print_topic(topic):\n",
    "    for el in islice(sorted(enumerate(phi[topic]), key=lambda a: -a[1]), 100):\n",
    "        print(id2word[el[0]], el[1])"
   ]
  },
  {
   "cell_type": "code",
   "execution_count": 44,
   "metadata": {},
   "outputs": [
    {
     "data": {
      "application/vnd.jupyter.widget-view+json": {
       "model_id": "",
       "version_major": 2,
       "version_minor": 0
      },
      "text/plain": [
       "FloatProgress(value=0.0, bar_style='info', description='Progress:', layout=Layout(height='25px', width='50%'),…"
      ]
     },
     "metadata": {},
     "output_type": "display_data"
    }
   ],
   "source": [
    "word2id = {}\n",
    "id2word = {}\n",
    "with smart_open.open(f\"{word2id_path}/word2id.csv\", \"r\") as f:\n",
    "    for line in f:\n",
    "        word,idd = line.strip().split(\",\")\n",
    "        word2id[word] = int(idd)\n",
    "        id2word[int(idd)] = word"
   ]
  },
  {
   "cell_type": "code",
   "execution_count": 72,
   "metadata": {},
   "outputs": [
    {
     "data": {
      "application/vnd.jupyter.widget-view+json": {
       "model_id": "",
       "version_major": 2,
       "version_minor": 0
      },
      "text/plain": [
       "FloatProgress(value=0.0, bar_style='info', description='Progress:', layout=Layout(height='25px', width='50%'),…"
      ]
     },
     "metadata": {},
     "output_type": "display_data"
    }
   ],
   "source": [
    "industry2idx = {}\n",
    "idx2industry = {}\n",
    "with smart_open.open(f\"{model_path}/simple_LDA/industries\", \"r\") as f:\n",
    "    for line in f:\n",
    "        toks = line.strip().split(\",\")\n",
    "        industry,idd = \",\".join(toks[:-1]), toks[-1]\n",
    "        industry2idx[industry] = int(idd)\n",
    "        idx2industry[int(idd)] = industry"
   ]
  },
  {
   "cell_type": "code",
   "execution_count": 39,
   "metadata": {},
   "outputs": [
    {
     "data": {
      "application/vnd.jupyter.widget-view+json": {
       "model_id": "",
       "version_major": 2,
       "version_minor": 0
      },
      "text/plain": [
       "FloatProgress(value=0.0, bar_style='info', description='Progress:', layout=Layout(height='25px', width='50%'),…"
      ]
     },
     "metadata": {},
     "output_type": "display_data"
    }
   ],
   "source": [
    "with smart_open.open(f\"{model_path}/simple_LDA/parameters/phi.np\", \"rb\") as f:\n",
    "    phi = np.load(f, allow_pickle=False)"
   ]
  },
  {
   "cell_type": "code",
   "execution_count": 46,
   "metadata": {},
   "outputs": [
    {
     "data": {
      "application/vnd.jupyter.widget-view+json": {
       "model_id": "",
       "version_major": 2,
       "version_minor": 0
      },
      "text/plain": [
       "FloatProgress(value=0.0, bar_style='info', description='Progress:', layout=Layout(height='25px', width='50%'),…"
      ]
     },
     "metadata": {},
     "output_type": "display_data"
    }
   ],
   "source": [
    "bg_topic = phi[-1,:]\n",
    "top_bg_words = []\n",
    "for i,val in enumerate(bg_topic):\n",
    "    top_bg_words.append((id2word[i], val))"
   ]
  },
  {
   "cell_type": "code",
   "execution_count": 74,
   "metadata": {},
   "outputs": [
    {
     "data": {
      "application/vnd.jupyter.widget-view+json": {
       "model_id": "",
       "version_major": 2,
       "version_minor": 0
      },
      "text/plain": [
       "FloatProgress(value=0.0, bar_style='info', description='Progress:', layout=Layout(height='25px', width='50%'),…"
      ]
     },
     "metadata": {},
     "output_type": "display_data"
    },
    {
     "name": "stdout",
     "output_type": "stream",
     "text": [
      "Motion picture production and allied services\n",
      "shaanxi 0.06957796757194275\n",
      "cultural 0.06957796757151215\n",
      "investment 0.0695349534623082\n",
      "june 0.06946417185146923\n",
      "holding 0.06942290831886092\n",
      "china 0.06920831642978925\n",
      "group 0.06837598288413903\n",
      "industry 0.06820895760703823\n",
      "co 0.06786573182384527\n",
      "on 0.06770592802347888\n",
      "ltd 0.06735091423258478\n",
      "founded 0.0647481507528813\n",
      "based 0.0625159502672862\n",
      "was 0.05965097554951865\n",
      "is 0.05009864806479187\n",
      "in 0.006692474597704705\n",
      "and 9.212707038548928e-10\n",
      "a 0.0\n",
      "aa 0.0\n",
      "aaa 0.0\n",
      "aac 0.0\n",
      "aachen 0.0\n",
      "aag 0.0\n",
      "aai 0.0\n",
      "aak 0.0\n",
      "aalberts 0.0\n",
      "aalborg 0.0\n",
      "aalen 0.0\n",
      "aalsmeer 0.0\n",
      "aalst 0.0\n",
      "aalter 0.0\n",
      "aam 0.0\n",
      "aan 0.0\n",
      "aankoop 0.0\n",
      "aannemer 0.0\n",
      "aanverwante 0.0\n",
      "aap 0.0\n",
      "aar 0.0\n",
      "aarau 0.0\n",
      "aareal 0.0\n",
      "aareon 0.0\n",
      "aarhus 0.0\n",
      "aaron 0.0\n",
      "aarp 0.0\n",
      "aarsleff 0.0\n",
      "aartselaar 0.0\n",
      "aastra 0.0\n",
      "aat 0.0\n",
      "aav 0.0\n",
      "ab 0.0\n",
      "aba 0.0\n",
      "ababa 0.0\n",
      "abacus 0.0\n",
      "abadi 0.0\n",
      "abalone 0.0\n",
      "abandon 0.0\n",
      "abandoned 0.0\n",
      "abandonment 0.0\n",
      "abap 0.0\n",
      "abarth 0.0\n",
      "abashiri 0.0\n",
      "abatement 0.0\n",
      "abattoir 0.0\n",
      "abattoirs 0.0\n",
      "abb 0.0\n",
      "abba 0.0\n",
      "abbeville 0.0\n",
      "abbey 0.0\n",
      "abbia 0.0\n",
      "abbiano 0.0\n",
      "abbigliamento 0.0\n",
      "abbot 0.0\n",
      "abbotsford 0.0\n",
      "abbott 0.0\n",
      "abbotts 0.0\n",
      "abbreviated 0.0\n",
      "abbvie 0.0\n",
      "abc 0.0\n",
      "abd 0.0\n",
      "abdomen 0.0\n",
      "abdominal 0.0\n",
      "abe 0.0\n",
      "abel 0.0\n",
      "abellio 0.0\n",
      "abengoa 0.0\n",
      "abercrombie 0.0\n",
      "aberdeen 0.0\n",
      "aberrant 0.0\n",
      "abertis 0.0\n",
      "abf 0.0\n",
      "abg 0.0\n",
      "abi 0.0\n",
      "abide 0.0\n",
      "abidjan 0.0\n",
      "abiko 0.0\n",
      "abilene 0.0\n",
      "abilitati 0.0\n",
      "abilities 0.0\n",
      "ability 0.0\n",
      "abingdon 0.0"
     ]
    }
   ],
   "source": [
    "print(idx2industry[802])\n",
    "print_topic(802)"
   ]
  },
  {
   "cell_type": "code",
   "execution_count": 57,
   "metadata": {},
   "outputs": [
    {
     "data": {
      "application/vnd.jupyter.widget-view+json": {
       "model_id": "",
       "version_major": 2,
       "version_minor": 0
      },
      "text/plain": [
       "FloatProgress(value=0.0, bar_style='info', description='Progress:', layout=Layout(height='25px', width='50%'),…"
      ]
     },
     "metadata": {},
     "output_type": "display_data"
    }
   ],
   "source": [
    "tst = np.array([[1,2],\n",
    "                [4,201],\n",
    "                [100, 200],\n",
    "               ])"
   ]
  },
  {
   "cell_type": "code",
   "execution_count": 59,
   "metadata": {},
   "outputs": [
    {
     "data": {
      "application/vnd.jupyter.widget-view+json": {
       "model_id": "",
       "version_major": 2,
       "version_minor": 0
      },
      "text/plain": [
       "FloatProgress(value=0.0, bar_style='info', description='Progress:', layout=Layout(height='25px', width='50%'),…"
      ]
     },
     "metadata": {},
     "output_type": "display_data"
    }
   ],
   "source": [
    "word_max = phi.argmax(axis=0)"
   ]
  },
  {
   "cell_type": "code",
   "execution_count": 63,
   "metadata": {},
   "outputs": [
    {
     "data": {
      "application/vnd.jupyter.widget-view+json": {
       "model_id": "",
       "version_major": 2,
       "version_minor": 0
      },
      "text/plain": [
       "FloatProgress(value=0.0, bar_style='info', description='Progress:', layout=Layout(height='25px', width='50%'),…"
      ]
     },
     "metadata": {},
     "output_type": "display_data"
    },
    {
     "name": "stdout",
     "output_type": "stream",
     "text": [
      "802"
     ]
    }
   ],
   "source": [
    "word_max[word2id['ltd']]"
   ]
  },
  {
   "cell_type": "code",
   "execution_count": 65,
   "metadata": {},
   "outputs": [
    {
     "data": {
      "application/vnd.jupyter.widget-view+json": {
       "model_id": "",
       "version_major": 2,
       "version_minor": 0
      },
      "text/plain": [
       "FloatProgress(value=0.0, bar_style='info', description='Progress:', layout=Layout(height='25px', width='50%'),…"
      ]
     },
     "metadata": {},
     "output_type": "display_data"
    },
    {
     "name": "stdout",
     "output_type": "stream",
     "text": [
      "(53709,)"
     ]
    }
   ],
   "source": [
    "word_max.shape"
   ]
  },
  {
   "cell_type": "code",
   "execution_count": null,
   "metadata": {},
   "outputs": [],
   "source": []
  }
 ],
 "metadata": {
  "kernelspec": {
   "display_name": "PySpark",
   "language": "",
   "name": "pysparkkernel"
  },
  "language_info": {
   "codemirror_mode": {
    "name": "python",
    "version": 2
   },
   "mimetype": "text/x-python",
   "name": "pyspark",
   "pygments_lexer": "python2"
  }
 },
 "nbformat": 4,
 "nbformat_minor": 2
}
