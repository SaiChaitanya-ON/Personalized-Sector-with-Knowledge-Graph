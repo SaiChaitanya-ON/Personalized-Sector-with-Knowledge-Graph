{
 "cells": [
  {
   "cell_type": "code",
   "execution_count": 1,
   "metadata": {},
   "outputs": [
    {
     "data": {
      "text/html": [
       "Current session configs: <tt>{'executorCores': 4, 'executorMemory': '47696M', 'conf': {'spark.default.parallelism': 1000, 'spark.sql.shuffle.partitions': 1000, 'spark.task.cpus': 1, 'spark.kryoserializer.buffer.max': '2047m', 'spark.driver.maxResultSize': '10g'}, 'kind': 'pyspark'}</tt><br>"
      ],
      "text/plain": [
       "<IPython.core.display.HTML object>"
      ]
     },
     "metadata": {},
     "output_type": "execute_result"
    },
    {
     "data": {
      "text/html": [
       "No active sessions."
      ],
      "text/plain": [
       "<IPython.core.display.HTML object>"
      ]
     },
     "metadata": {},
     "output_type": "execute_result"
    }
   ],
   "source": [
    "%%configure -f\n",
    "{\n",
    " \"executorCores\": 4,\n",
    " \"executorMemory\": \"47696M\",\n",
    " \"conf\": {\"spark.default.parallelism\": 1000,\n",
    "          \"spark.sql.shuffle.partitions\": 1000,\n",
    "          \"spark.task.cpus\": 1,\n",
    "          \"spark.kryoserializer.buffer.max\": \"2047m\",\n",
    "          \"spark.driver.maxResultSize\": \"10g\"\n",
    "         }\n",
    "}"
   ]
  },
  {
   "cell_type": "code",
   "execution_count": 2,
   "metadata": {},
   "outputs": [
    {
     "name": "stdout",
     "output_type": "stream",
     "text": [
      "Starting Spark application\n"
     ]
    },
    {
     "data": {
      "text/html": [
       "<table>\n",
       "<tr><th>ID</th><th>YARN Application ID</th><th>Kind</th><th>State</th><th>Spark UI</th><th>Driver log</th><th>Current session?</th></tr><tr><td>6</td><td>application_1574845575997_0011</td><td>pyspark</td><td>idle</td><td><a target=\"_blank\" href=\"http://ip-172-31-18-179.eu-west-1.compute.internal:20888/proxy/application_1574845575997_0011/\">Link</a></td><td><a target=\"_blank\" href=\"http://ip-172-31-19-31.eu-west-1.compute.internal:8042/node/containerlogs/container_1574845575997_0011_01_000001/livy\">Link</a></td><td>✔</td></tr></table>"
      ],
      "text/plain": [
       "<IPython.core.display.HTML object>"
      ]
     },
     "metadata": {},
     "output_type": "execute_result"
    },
    {
     "data": {
      "text/plain": [
       "FloatProgress(value=0.0, bar_style='info', description='Progress:', layout=Layout(height='25px', width='50%'),…"
      ]
     },
     "metadata": {},
     "output_type": "display_data"
    },
    {
     "name": "stdout",
     "output_type": "stream",
     "text": [
      "SparkSession available as 'spark'.\n"
     ]
    },
    {
     "data": {
      "text/plain": [
       "FloatProgress(value=0.0, bar_style='info', description='Progress:', layout=Layout(height='25px', width='50%'),…"
      ]
     },
     "metadata": {},
     "output_type": "display_data"
    }
   ],
   "source": [
    "import math\n",
    "import os\n",
    "from pyspark.sql import SparkSession\n",
    "\n",
    "import pyspark.sql.functions as F\n",
    "import pyspark.sql.types as T\n",
    "from collections import defaultdict\n",
    "\n",
    "import smart_open\n",
    "\n",
    "from scipy.sparse import csr_matrix\n",
    "import scipy\n",
    "\n",
    "import numpy as np\n",
    "\n",
    "from itertools import islice\n",
    "\n",
    "import pickle\n",
    "\n",
    "import graphene"
   ]
  },
  {
   "cell_type": "code",
   "execution_count": 3,
   "metadata": {},
   "outputs": [
    {
     "data": {
      "text/plain": [
       "FloatProgress(value=0.0, bar_style='info', description='Progress:', layout=Layout(height='25px', width='50%'),…"
      ]
     },
     "metadata": {},
     "output_type": "display_data"
    }
   ],
   "source": [
    "# spark = (\n",
    "#     SparkSession.builder\n",
    "#      .master(\"local[*]\")\n",
    "#      .appName(\"SparkTest\")\n",
    "#      .config(\"spark.driver.memory\", \"10g\")\n",
    "#      .getOrCreate()\n",
    "#      )"
   ]
  },
  {
   "cell_type": "code",
   "execution_count": 3,
   "metadata": {},
   "outputs": [
    {
     "data": {
      "text/plain": [
       "FloatProgress(value=0.0, bar_style='info', description='Progress:', layout=Layout(height='25px', width='50%'),…"
      ]
     },
     "metadata": {},
     "output_type": "display_data"
    }
   ],
   "source": [
    "word2id_path = \"s3://oaknorth-ml-dev-eu-west-1/company2vec/common/bow_description_lemmatized\"\n",
    "data_path = \"s3://oaknorth-ml-dev-eu-west-1/company2vec/data_desc_only/raw_company_features_bow_description_lemmatized\"\n",
    "model_path = \"s3://oaknorth-ml-dev-eu-west-1/company2vec/model/probabilistic_lemmatized/\""
   ]
  },
  {
   "cell_type": "code",
   "execution_count": 4,
   "metadata": {},
   "outputs": [
    {
     "data": {
      "text/plain": [
       "FloatProgress(value=0.0, bar_style='info', description='Progress:', layout=Layout(height='25px', width='50%'),…"
      ]
     },
     "metadata": {},
     "output_type": "display_data"
    }
   ],
   "source": [
    "companies = spark.read.load(\"s3://ai-data-lake-dev-eu-west-1/business/company_data_denormalized\")"
   ]
  },
  {
   "cell_type": "code",
   "execution_count": 5,
   "metadata": {},
   "outputs": [
    {
     "data": {
      "text/plain": [
       "FloatProgress(value=0.0, bar_style='info', description='Progress:', layout=Layout(height='25px', width='50%'),…"
      ]
     },
     "metadata": {},
     "output_type": "display_data"
    }
   ],
   "source": [
    "with smart_open.open(f\"{model_path}/simple_LDA/parameters/phi.np\", \"rb\") as f:\n",
    "    phi = np.load(f, allow_pickle=False)"
   ]
  },
  {
   "cell_type": "code",
   "execution_count": 6,
   "metadata": {},
   "outputs": [
    {
     "data": {
      "text/plain": [
       "FloatProgress(value=0.0, bar_style='info', description='Progress:', layout=Layout(height='25px', width='50%'),…"
      ]
     },
     "metadata": {},
     "output_type": "display_data"
    }
   ],
   "source": [
    "industry2idx = {}\n",
    "with smart_open.open(f\"{model_path}/simple_LDA/industries\", \"r\") as f:\n",
    "    for line in f:\n",
    "        toks = line.strip().split(\",\")\n",
    "        industry,idd = \",\".join(toks[:-1]), toks[-1]\n",
    "        industry2idx[industry] = int(idd)\n",
    "industries = list(industry2idx.keys())"
   ]
  },
  {
   "cell_type": "code",
   "execution_count": 7,
   "metadata": {},
   "outputs": [
    {
     "data": {
      "text/plain": [
       "FloatProgress(value=0.0, bar_style='info', description='Progress:', layout=Layout(height='25px', width='50%'),…"
      ]
     },
     "metadata": {},
     "output_type": "display_data"
    }
   ],
   "source": [
    "word2id = {}\n",
    "with smart_open.open(f\"{word2id_path}/word2id.csv\", \"r\") as f:\n",
    "    for line in f:\n",
    "        word,idd = line.strip().split(\",\")\n",
    "        word2id[word] = int(idd)"
   ]
  },
  {
   "cell_type": "code",
   "execution_count": 8,
   "metadata": {},
   "outputs": [
    {
     "data": {
      "text/plain": [
       "FloatProgress(value=0.0, bar_style='info', description='Progress:', layout=Layout(height='25px', width='50%'),…"
      ]
     },
     "metadata": {},
     "output_type": "display_data"
    },
    {
     "name": "stdout",
     "output_type": "stream",
     "text": [
      "41164"
     ]
    }
   ],
   "source": [
    "len(word2id)"
   ]
  },
  {
   "cell_type": "code",
   "execution_count": 9,
   "metadata": {},
   "outputs": [
    {
     "data": {
      "text/plain": [
       "FloatProgress(value=0.0, bar_style='info', description='Progress:', layout=Layout(height='25px', width='50%'),…"
      ]
     },
     "metadata": {},
     "output_type": "display_data"
    },
    {
     "name": "stdout",
     "output_type": "stream",
     "text": [
      "(1322, 41164)"
     ]
    }
   ],
   "source": [
    "phi.shape"
   ]
  },
  {
   "cell_type": "code",
   "execution_count": 10,
   "metadata": {},
   "outputs": [
    {
     "data": {
      "text/plain": [
       "FloatProgress(value=0.0, bar_style='info', description='Progress:', layout=Layout(height='25px', width='50%'),…"
      ]
     },
     "metadata": {},
     "output_type": "display_data"
    }
   ],
   "source": [
    "id2word = {}\n",
    "for word,idd in word2id.items():\n",
    "    id2word[idd] = word"
   ]
  },
  {
   "cell_type": "code",
   "execution_count": 11,
   "metadata": {},
   "outputs": [
    {
     "data": {
      "text/plain": [
       "FloatProgress(value=0.0, bar_style='info', description='Progress:', layout=Layout(height='25px', width='50%'),…"
      ]
     },
     "metadata": {},
     "output_type": "display_data"
    }
   ],
   "source": [
    "public_labels = {\n",
    "'1b3872ba-8913-517f-a253-7e62a525cf55':['f702fd12-611d-51ba-b61d-c95d505516f5', 'e449976b-580d-546a-aeb2-475a36c48d5c', '91a4576f-d032-5e06-a8a9-5753e836a2d1', '2978b28a-96d5-5c2e-b212-39893c36ed0a'],\n",
    "'7689e398-0970-5c18-ba93-e0b14013ab30':['e5e55e0c-98f2-57e6-b252-2acd32197a33', 'dbd74ef8-7e63-587c-a0db-02846764cebd', '29f2b914-f655-5a0e-8642-252840119f94'],\n",
    "'cb997a23-552a-52b9-acf5-bcdce2d1eea1':['f216296d-2161-54dc-a567-72a3043bf55b', '7ee2b159-1c7b-5867-92dd-8323be244577', 'b21e9a87-c5a6-5906-9d60-518f12f4a015'],\n",
    "'e62877cd-15cd-561d-a77e-8a5bccf9873c':['ea39af2b-a76b-5df5-bcd1-c785cabedfe0', '9f8a1e48-a744-50cb-9b0d-87febeddb95b'],\n",
    "'29f2b914-f655-5a0e-8642-252840119f94':['ea39af2b-a76b-5df5-bcd1-c785cabedfe0', '44b37e05-b67e-5ab4-bc3c-6d9e090ac13d', '07e02755-93b9-51d4-ab1f-67bc3ac4593c'],\n",
    "'c655ffcb-391e-57af-9d57-28586381be92':['74116d9c-f19e-5089-b8d0-894befb4309b', 'bc68fb91-85c2-5650-bca5-dfbd0a1dd1ee', '7689e398-0970-5c18-ba93-e0b14013ab30'],\n",
    "'b01d22f1-2b08-5a1b-937e-bd29be833832':['6d4e8b59-6790-5bad-9578-dfc5e23d40e6', 'a3c20fd1-df51-5c6b-9cbc-f1e5dd2ac129', 'aae8652a-0670-5643-978b-8e596552b4ff', '5147c270-2d82-5f2f-9081-62966a777e63', '7d48041c-b5b4-531b-9570-7deff9cc6c2e', 'a22a6d38-8932-5bb2-859b-cbb8ad9cf2a9', 'bffaf4bf-d404-5af9-bd7a-08110d90d39e', '8c0231ed-d771-5821-933e-15a0be075d88', 'a659d2df-a86d-595a-8420-1d42f82d66e4', 'd96d1bd4-fa15-5267-a659-42f973d5603b'],\n",
    "'6a99e295-db08-5598-9746-10848bd2871e':['fc7226d1-910a-5010-bdb9-2d7865355965', 'd3189f4b-7dd2-5751-a8d2-a2121b0b4790', '7f943915-83be-505f-b065-bd45ccba65e2'],\n",
    "'eb6a1519-3559-5797-ac35-d31505d66961':['6deb9c74-e7ed-551a-b88f-a107678b22c1', 'aa0ef5d1-7a0e-518d-b93d-1834db5bae48', 'ddc78420-8f1e-5656-a2fa-c967f278aad1', '65c843d5-e8b8-537f-a6c4-3ccb301d09e5', 'ba3be4f0-592d-5d72-a96b-5c461c871c9b', '522170f9-6489-52b8-bba6-ccb4ea4663ee', '005d3b86-14de-58a3-86ac-16ceff561782'],\n",
    "'94a8555e-9f82-5657-9f32-f44c1844e371':['c7c22dd5-005b-56f1-8bd3-3420cc515895', '7fc2ed34-67db-5aed-bd9b-4a93d7981384', '8a586930-f14b-5414-902d-9c011a035e22', 'aab5d77c-76a1-5a64-ba9e-9db25d7126a0', 'f83f09b6-7a21-50c4-9cf9-730278fe565e'],\n",
    "'4dfb3296-c5ab-5d27-bcaa-71a67990dc0f':['5db27606-2ba6-5599-aab1-754449cbf30f', '8b881676-4524-54fb-8d04-e9d80a70adc6'],\n",
    "'3e71b765-5a7c-54b0-8687-fbb479e5ce91':['cc6a39ed-58d8-55d0-909f-ba1fba65159c', '42f7f27d-ed06-58e3-88c4-0d8e347991d7', '40cb3da1-7886-575f-b208-dd5e3d2e50ec', '648c94fc-5575-5e26-b284-66332d12d98d', 'db6e81fa-d08d-5597-bc1c-f3e97c72e3f3', 'c9fddd7f-7bd2-564a-acab-a776d09988cb'],\n",
    "'4b90ea7b-dd01-5114-b2b1-e44f8b0f496c':['ff551276-08ea-5656-a96e-8f9b7c620de7', 'bade0809-2003-5dbb-bf6d-1aefe7347bd5', '2c437ad1-51ed-52bc-ac6f-b9d549a81370', '2cdc6f88-488e-5a6a-92e0-7d0c3a6f9c6b', 'a06b3a79-9328-5cc5-b8d1-77a773faa0bc'],\n",
    "'0eac306f-7b21-534f-b7eb-2fe3dbf0dcb9':['a255ad13-8d70-5d14-9431-079d5167750e', '95a58411-5323-59d9-ba02-0e746f8ea16e', 'c2ad7853-588c-5dcf-ad06-a295173586eb', '15fd56d7-eaf3-572b-b11d-ea4a8c40dd7c', '8f96bdea-26b6-5304-a068-86bc974e0cff', '78b205cc-391a-5f9c-adfd-289a5027fead'],\n",
    "'6d6a0abb-b4fa-5dfa-b44e-35927bff8864':['c474b779-c670-590f-b3e6-f3c48a87ff72', 'a4c75988-d2e2-5aef-ac41-20137a78de9d', '3d6393a2-0c9a-5886-b5ed-0dfe331bb9bc', '057fe70d-3f02-5132-a580-50314a6da51e', '91b185f6-5c35-55dd-9c43-1f5789f4693f', '448b7798-a147-5c15-8052-78843751d0ea'],\n",
    "'3f02111a-3779-53cb-b556-ef2b02712eb8':['5df1139a-fd1f-5e47-ba24-ba6d46f29c98', '2a725ab6-c3a6-55f4-b3b5-61197a6fb7f4', '905898bd-b3a7-59e8-81b9-35bdbd682f5a', 'a265e9b0-1722-5826-ae35-dd64cecc8cd3', '63c9b56f-726f-539d-a347-cbcbcabc7f3a'],\n",
    "'a2ec645e-4b24-5995-ac16-a91d2fe427d8':['6e59ae8b-a73e-5819-abde-b6275f9afd44', '35615ff3-9c28-5f4d-96d4-75ee7e861ab4', '9806a724-a62a-53f3-bba4-481f40fbecd6', '893f7929-8f1e-5472-a209-503b6fb1b028', 'fb7f54de-114b-56e9-9fc5-6c3011e104ab', '491918a7-5259-5a5e-b01f-4842a98ec78d', '0c04c0a9-fa85-548d-bd89-35300e16b28c', '16584e89-1b38-5bbb-ba45-a7bfc6dcc8e8'],\n",
    "'c2ad7853-588c-5dcf-ad06-a295173586eb':['6819ac99-458c-5922-8861-14204f4ba663', '7e14c6f9-7e3f-5070-a550-d278ce7d77cc', '7d1e3f8e-a63c-551e-918d-94a09f2a94b1', '102771ca-59e9-5017-8061-54f4d6c79b3e', '01e5edf1-5304-55f7-84f7-570fe39199f8', '262e95ff-8274-5b39-b0f8-2e5c8d980220'],\n",
    "'7a93383a-3f64-5d88-b0ca-f25210a26530':['19f0adde-24bb-59d3-a21f-a6583714f9a1', 'ab0a0b11-5984-55e5-9ef8-33b003577a0a', '93d033f8-4541-575b-96f8-fb3366b3eb77', 'ff9107a2-0017-57bc-b2aa-8e8880d11598', 'fff722a2-0908-5198-9a69-64612d28f92e', '0b314379-45ee-528d-804d-ef7478198af6', '21298d2b-ce8b-5aef-ba4b-25399928c53f', 'cf1fb9ed-b7a9-5aa0-acbd-69505ead7ce2', '0008f3ef-65a1-5852-91ca-e2de3c8cea7e', 'cfcd8e1d-ec5a-55ae-a82f-8e18f9c2e7ec'],\n",
    "'8b881676-4524-54fb-8d04-e9d80a70adc6':['6cde2a53-9dc2-5790-b9d9-3e98d685f9b0', '03a57c6b-eef1-5407-a376-9dbc57722c20', '42fd29d1-ec85-561a-94d7-0b010dfba9f7', '4dfb3296-c5ab-5d27-bcaa-71a67990dc0f', '8822903e-754e-577d-9785-fed317439051', '29f2b914-f655-5a0e-8642-252840119f94', '5db27606-2ba6-5599-aab1-754449cbf30f'],\n",
    "'5e6d242e-3a76-5145-9c3d-9cde3e69fd41':['7e8b428e-dee1-5a3e-a022-afd5940893b3', '91e45209-0c47-51de-b12a-5b8d516b7a2b'],\n",
    "'44aba920-f4af-547e-84e6-68db5b56617a':['f599c68c-b3be-5beb-ae2c-68538805afe7', 'a196b19e-0313-5588-a132-1a920ff3c9cd', '0d002ee3-3822-5835-b49c-ae18bf616991', '97fdace6-f059-57b6-8e59-5d39e33364ca', '0c8790f8-e268-50c0-8861-e7103fda0db4'],\n",
    "'1ed96474-1404-5a0e-b5b5-34f1c0638989':['6129066c-1a86-5960-8be5-1d79e52024cb', 'a674ad5e-2de2-522a-b99b-c21b9a815ccb', 'b1a34bd8-63b5-52c3-86c3-3c83409b96bf', '9155ea42-371d-5bc7-950b-5c93e151b4be', 'f5f4427a-f883-5ad7-acfe-adb68e84067c'],\n",
    "'87bf6c8a-3ca4-5f9d-b552-8d9f857ebd74':['3cfe2a85-be8e-5a29-90ec-df7568441529', '7878a4dd-803d-597c-9773-038931bb341d', '67050e4c-7771-5a63-b48f-8f699f6fd53b', '5ced6ecb-26fd-50a8-b16e-f9844203b854', 'bf155ea4-adda-50ea-aec5-ff3bd4b493e4', '6cfe0483-aacf-56b6-baec-0a30757b4888', '88197a8b-8cc4-56b8-bac1-7c0e92826ce6', '606d25b9-82c9-5862-b5bb-6106b7d649ef', 'a920a145-b5a5-52e3-9137-5468466d87b7'],\n",
    "'1c599f2e-4e28-5694-9647-0d06f5896a88':['05bb9448-713e-547d-b59c-8a4464e98702', '22c47d21-3704-58a1-bb7d-a3bf98cc766e', 'd9a65fea-a863-578d-81d4-577a9b4f7a03', '98ad153e-e53f-5337-b21a-ee16ebb15ce7'],\n",
    "'2a07b0ed-7a52-5641-9e9a-e15e04bd2faa':['2500dc34-48b5-53eb-9d15-3ac2431fe1a3', 'c89aa997-e62c-53c5-a3ae-e657297d208a', 'c5b2ae28-843a-5701-872e-c182df1e64ce', 'f57b274a-1598-5e79-b8bf-db8690fd3f50', '363885b4-e937-529e-b9eb-b10989879494', 'f995b9fe-fb7c-5b0f-9673-30203b4e9c1a'],\n",
    "'27a20afb-730c-5243-bae9-21de6ae9a95d':['fdcb3a4c-1db3-597c-b885-093937c8a68c', '6614e817-c2ae-56ba-8419-5965ab8600ed', '98ac98f5-d676-5eee-9602-c874f6d86f15', 'e52681c3-ac43-5d84-821e-0a8f2323f49f', '3de135e6-0263-5d65-97a9-0b1ffc473c6d'],\n",
    "'4294552e-cc06-5002-a418-5c295e89f1d7':['7d128a0a-7a33-5ec7-994e-be6b5b44d58a', '78d39ee5-22a5-570e-9103-d918b64296e8', 'ea7463ff-afb9-5e57-b63f-ed4956ab96a5', '535386bd-b0e0-541a-ba30-c4579db6f8aa', 'e140379d-82dc-5d26-b182-3ff7f77f03b2'],\n",
    "'65c843d5-e8b8-537f-a6c4-3ccb301d09e5':['6deb9c74-e7ed-551a-b88f-a107678b22c1', 'dad69934-838a-5abb-99cc-0661feb0b95d', 'aa0ef5d1-7a0e-518d-b93d-1834db5bae48', 'ddc78420-8f1e-5656-a2fa-c967f278aad1', 'cdd63ae9-1a94-5a88-ad44-4c68105d51fa', 'ba3be4f0-592d-5d72-a96b-5c461c871c9b', '005d3b86-14de-58a3-86ac-16ceff561782', '71b50e66-cabc-5697-8e58-2c43648932db', 'eb6a1519-3559-5797-ac35-d31505d66961', '01289fb6-5c85-50ba-a8b9-bfa754d5aeb5'],\n",
    "'65418e9d-3d93-505c-94f5-df49bfa49847':['89d4bd99-1a51-568a-bd62-668c227a3595', '26e37b90-e471-5595-abed-bbe8d69e5f1e', '6720b5a6-7bb0-53fa-a8ad-96d9ab01ffe8', 'eae0a255-8263-5ce2-a9d2-a647b9d9273e', '5e906b7d-5d87-587a-a1da-8daba92d28c4'],\n",
    "'280670b2-7d06-535c-80b7-4438a537a3fc':['32ad8fca-24f6-5b33-b2fa-76f1956f52ad', '1449612a-5f9b-5960-8114-2da760f63c5e', '0d2b68da-87c5-5ef2-89cf-269e00c55ad0', '158cea75-7d77-5f25-b54b-8a5c5fa808fe'],\n",
    "'b478e741-bb5c-5f1e-ac5c-e58ea15f2358':['3ff2338c-3155-5eaa-a5fa-daa4eaac8b35', '4a9a10a4-45db-5bc9-b79b-715e55109195', 'cc57ea78-01eb-555a-82fd-556d731b6a00', '35aebfd6-8e1a-5cfd-a2e9-2fb75a231ce9', 'c41905d1-28e9-5510-a8ed-e547ac81a141', '236291ef-da5c-5d7e-9aa1-b05d0170d10f', '82c2627c-9d57-591b-b149-bf9c4db05162'],\n",
    "'87ef73f2-887a-52b0-aa4f-2e1b8d3676cb':['7f1e68e8-3cfb-521a-aa83-aa38c8b8714f', 'a18ecb25-b898-5b03-907a-04067695f9b1', 'fdcb3a4c-1db3-597c-b885-093937c8a68c', 'c918d16d-8bf9-5ae1-a32d-7d0cf78245f0', '9f555599-a017-57f2-8e42-a3eaa845c1f9', '4c4827c7-7501-5c87-a954-b2e186b455d7', '47bd74b8-f707-5094-83dd-fe2e8f0e0dcb', '98ac98f5-d676-5eee-9602-c874f6d86f15'],\n",
    "'ff46835d-4bb0-592b-9c5f-470b9bdb9d76':['4c0daf64-b423-56db-8f1b-c83344b6f683', '6614e817-c2ae-56ba-8419-5965ab8600ed', '6bfc31d2-afca-56b3-a5f4-d9f19e628c55'],\n",
    "'e5e55e0c-98f2-57e6-b252-2acd32197a33':['c5cfd93b-0b81-575a-bc65-952d2d6d68fc', '4003165a-47fa-5b8b-9430-d553e3969130', '7689e398-0970-5c18-ba93-e0b14013ab30', '48fa5894-3be0-5046-b99b-96d65d13fbc7'],\n",
    "'311b72c3-b538-5a62-b2c8-e340ae014465':['aec24c7c-c835-5212-ac86-09f120b762e6', 'e03cdac1-b51d-5de7-bd1f-81d8d84b6d26', '8e417d85-109c-55f2-adc9-f45557b23eaf', '1ff6f9ec-3eb9-547f-be97-4e8ec82a1bc7'],\n",
    "'fb7f54de-114b-56e9-9fc5-6c3011e104ab':['e4a6a41f-4737-545b-8e8b-938be76fa906', '876fd01f-2096-5772-bd06-dc91ffc165d7', '491918a7-5259-5a5e-b01f-4842a98ec78d'],\n",
    "'35615ff3-9c28-5f4d-96d4-75ee7e861ab4':['c9004e51-ac87-58aa-8404-4f0543bdab21', 'a2ec645e-4b24-5995-ac16-a91d2fe427d8', '893f7929-8f1e-5472-a209-503b6fb1b028', '3566443e-27c9-5f5b-8627-905d548c484d', '1daea858-e9e3-56ee-bf3e-5ec7a2229d31'],\n",
    "'fc7226d1-910a-5010-bdb9-2d7865355965':['7b961b85-ed5e-5c58-adc4-74e2cd714399', '705b29f0-5d25-5da9-83e6-1110113eeb69', '6a99e295-db08-5598-9746-10848bd2871e', 'fd7e1ab7-311d-5f0b-ac20-35aa8050659e', 'b5702e82-21e5-5a8f-b0a2-1d349911cc15', 'd45935d0-ac75-510a-b15c-56b4845e4a9e', 'd3189f4b-7dd2-5751-a8d2-a2121b0b4790', 'c89752eb-ebd8-5c4b-b264-b8aa49b25a4c', '62988cd5-c570-5a40-afb2-978322885cbf'],\n",
    "'70b69899-4663-5c84-9a18-e29f38661aea':['fc7226d1-910a-5010-bdb9-2d7865355965', '705b29f0-5d25-5da9-83e6-1110113eeb69', 'c89aa997-e62c-53c5-a3ae-e657297d208a', 'fd7e1ab7-311d-5f0b-ac20-35aa8050659e', 'ac604aa7-1cfc-56b0-976d-0faafd49e711', 'd3189f4b-7dd2-5751-a8d2-a2121b0b4790', '93dff7a6-8bec-5779-9fa7-d31aa2974689', 'c89752eb-ebd8-5c4b-b264-b8aa49b25a4c'],\n",
    "}\n",
    "\n",
    "private_labels = {'08884f97-0714-57a9-a356-fc0fb67dd4ac': ['89f421e8-0aa0-5a71-b8c2-9880b83844d9', '611e5303-4308-5924-9a8a-152af993f001', '3a011750-a6e8-511b-b899-f77a4e6d596e', '781fbc7e-9690-55c8-b179-2bb7cded8cf9'], \n",
    "                  '5b28ef54-facf-5f87-b37b-d2cee2cdd466': ['6715d0e1-a229-5de7-b6e3-046a8e103e55'], \n",
    "                  '39b70d92-2958-5ecf-abcb-a772b565afae': ['a59853ba-5513-5b03-baae-c41c82eda078', 'a8658765-5012-5bac-a052-39e1ada83bd7', '44c749dd-2f92-56b9-831d-95450655a245', 'c20fa5cc-7a19-569a-80d0-6dcc8579cb8c'], \n",
    "                  'a0b22be6-dd87-5e6a-af12-f967ed7f481d': ['b562fb43-42a9-5eea-aa30-0d6c5812dc58', '74fc7730-afff-5593-aa11-ad68af06cd36', '0df40d87-a948-5a65-9a02-0487173aa75a', '53cfd17f-fe28-51e0-8db6-a334e43496cf', 'b3227a8e-b565-5a27-9dcf-b0f3ff4c1ae5']\n",
    "                 }\n"
   ]
  },
  {
   "cell_type": "code",
   "execution_count": 12,
   "metadata": {},
   "outputs": [
    {
     "data": {
      "text/plain": [
       "FloatProgress(value=0.0, bar_style='info', description='Progress:', layout=Layout(height='25px', width='50%'),…"
      ]
     },
     "metadata": {},
     "output_type": "display_data"
    }
   ],
   "source": [
    "class Company(graphene.ObjectType):\n",
    "    id = graphene.ID()\n",
    "    name = graphene.String()\n",
    "    country = graphene.String()\n",
    "    sector = graphene.String()\n",
    "    revenue = graphene.Float()\n",
    "    ebitda = graphene.Float()\n",
    "    num_employees = graphene.Int()\n",
    "    score = graphene.Float()\n",
    "    region = graphene.String()\n",
    "    description = graphene.String()\n",
    "    company_type = graphene.String()"
   ]
  },
  {
   "cell_type": "code",
   "execution_count": 24,
   "metadata": {},
   "outputs": [],
   "source": [
    "target_ids = list(public_labels.keys())\n",
    "target_ids += sum([v for _,v in public_labels.items()], [])"
   ]
  },
  {
   "cell_type": "code",
   "execution_count": 13,
   "metadata": {},
   "outputs": [
    {
     "data": {
      "text/plain": [
       "FloatProgress(value=0.0, bar_style='info', description='Progress:', layout=Layout(height='25px', width='50%'),…"
      ]
     },
     "metadata": {},
     "output_type": "display_data"
    }
   ],
   "source": [
    "companies_raw = (spark.read.load(\"s3://ai-data-lake-dev-eu-west-1/business/company_data_denormalized\")\n",
    "                 .filter(F.col(\"primary_sic_node_desc\").isNotNull() &\n",
    "                         (F.length(\"primary_sic_node_desc\") > 0)\n",
    "                        )\n",
    "                 .join(spark.read.load(data_path),\n",
    "                       on = [\"entity_id\"]\n",
    "                      )\n",
    "                 .select(\"entity_id\",\n",
    "                         \"business_description\",\n",
    "                         \"bow_description_lemmatized\", \n",
    "                         \"primary_sic_node_desc\", \n",
    "                         \"total_revenue\",\n",
    "                         \"name\",\n",
    "                         \"region\",\n",
    "                         \"ebitda\",\n",
    "                         \"country_of_incorporation\",\n",
    "                         \"company_type_name\",\n",
    "                         \"number_employees\"\n",
    "                        )\n",
    "                 )"
   ]
  },
  {
   "cell_type": "code",
   "execution_count": 14,
   "metadata": {},
   "outputs": [
    {
     "data": {
      "text/plain": [
       "FloatProgress(value=0.0, bar_style='info', description='Progress:', layout=Layout(height='25px', width='50%'),…"
      ]
     },
     "metadata": {},
     "output_type": "display_data"
    }
   ],
   "source": [
    "def enhance_description(description, industry, mu=10.0, topn=30000):\n",
    "    total = sum(ct for _,ct in description.items())\n",
    "    document_dist = {word:ct for word,ct in description.items()}\n",
    "\n",
    "    total_p = 0.0\n",
    "    if industry in industry2idx:\n",
    "        for ind,val in islice(sorted(enumerate(phi[industry2idx[industry]]), key=lambda x: x[1], reverse=True), topn):\n",
    "            word = id2word[ind]\n",
    "            new_val = document_dist.get(word, 0.0) + mu*val\n",
    "            document_dist[word] = new_val\n",
    "            total_p += val\n",
    "\n",
    "    return {word:float(ct/(total+total_p*mu)) for word,ct in document_dist.items()}\n",
    "\n",
    "enhance_description_udf = F.udf(enhance_description, T.MapType(T.StringType(), T.FloatType()))"
   ]
  },
  {
   "cell_type": "code",
   "execution_count": 15,
   "metadata": {},
   "outputs": [
    {
     "data": {
      "text/plain": [
       "FloatProgress(value=0.0, bar_style='info', description='Progress:', layout=Layout(height='25px', width='50%'),…"
      ]
     },
     "metadata": {},
     "output_type": "display_data"
    }
   ],
   "source": [
    "def kl_distance_udf(target):\n",
    "    def kl_distance(peer):\n",
    "        ret = 0\n",
    "        for word,prob in target.items():\n",
    "            if prob == 0.0:\n",
    "                continue\n",
    "            ret += prob*math.log(prob/(peer.get(word,0.0)+1e-9))\n",
    "        return ret\n",
    "    return F.udf(kl_distance, T.FloatType())"
   ]
  },
  {
   "cell_type": "code",
   "execution_count": 16,
   "metadata": {},
   "outputs": [
    {
     "data": {
      "text/plain": [
       "FloatProgress(value=0.0, bar_style='info', description='Progress:', layout=Layout(height='25px', width='50%'),…"
      ]
     },
     "metadata": {},
     "output_type": "display_data"
    }
   ],
   "source": [
    "companies_smooth = companies_raw.select(\n",
    "    \"entity_id\", \n",
    "    \"bow_description_lemmatized\",\n",
    "    \"business_description\",\n",
    "    \"primary_sic_node_desc\", \n",
    "    \"total_revenue\",\n",
    "    \"name\",\n",
    "    \"region\",\n",
    "    \"ebitda\",\n",
    "    \"country_of_incorporation\",\n",
    "    \"company_type_name\",\n",
    "    \"number_employees\",\n",
    "    enhance_description_udf(\"bow_description_lemmatized\", \"primary_sic_node_desc\").alias(\"description_smooth\")\n",
    ")"
   ]
  },
  {
   "cell_type": "code",
   "execution_count": 17,
   "metadata": {},
   "outputs": [
    {
     "data": {
      "text/plain": [
       "FloatProgress(value=0.0, bar_style='info', description='Progress:', layout=Layout(height='25px', width='50%'),…"
      ]
     },
     "metadata": {},
     "output_type": "display_data"
    },
    {
     "name": "stdout",
     "output_type": "stream",
     "text": [
      "866497"
     ]
    }
   ],
   "source": [
    "companies_smooth.count()"
   ]
  },
  {
   "cell_type": "code",
   "execution_count": 18,
   "metadata": {},
   "outputs": [
    {
     "data": {
      "text/plain": [
       "FloatProgress(value=0.0, bar_style='info', description='Progress:', layout=Layout(height='25px', width='50%'),…"
      ]
     },
     "metadata": {},
     "output_type": "display_data"
    }
   ],
   "source": [
    "def make_company_from_rdd(hit):\n",
    "    id = hit.entity_id\n",
    "    score = hit.dist\n",
    "    cname = hit.name\n",
    "    sector = (\n",
    "        hit.primary_sic_node_desc\n",
    "        if hit.primary_sic_node_desc is not None\n",
    "        else \"\"\n",
    "    )\n",
    "    country = hit.country_of_incorporation if hasattr(hit, \"country_of_incorporation\") else \"\"\n",
    "    company_type = hit.company_type_name if hasattr(hit, \"company_type_name\") else \"\"\n",
    "\n",
    "    revenue = hit.total_revenue if hit.total_revenue is not None else 0\n",
    "    num_employees = (\n",
    "        hit.number_employees if hit.number_employees is not None else 0\n",
    "    )\n",
    "\n",
    "    region = hit.region if hit.region is not None else \"n/a\"\n",
    "\n",
    "    description = hit.business_description if hit.business_description is not None else \"\"\n",
    "\n",
    "    ebitda = hit.ebitda if hit.ebitda is not None else 0\n",
    "\n",
    "    return Company(\n",
    "                id=id,\n",
    "                name=cname,\n",
    "                revenue=revenue,\n",
    "                ebitda=ebitda,\n",
    "                sector=sector,\n",
    "                num_employees=num_employees,\n",
    "                country=country,\n",
    "                score=score,\n",
    "                region=region,\n",
    "                description=description,\n",
    "                company_type=company_type,\n",
    "            )\n",
    "\n",
    "def obtain_result(companies_smooth, target_id, max_size=100, gp_revenue_range=False):\n",
    "    target_doc = (companies_smooth.filter(F.col(\"entity_id\") ==  target_id)\n",
    "                  .select(\"description_smooth\")\n",
    "                  .first()\n",
    "                 )\n",
    "    if target_doc is None:\n",
    "        print(f\"Failed to find {target_id}.\")\n",
    "        return []\n",
    "    target_doc = target_doc[0]\n",
    "    target_revenue = (companies_smooth.filter(F.col(\"entity_id\") ==  target_id)\n",
    "                      .select(\"total_revenue\")\n",
    "                      .first()[0]\n",
    "                     )\n",
    "    if not gp_revenue_range:\n",
    "        revenue_min = target_revenue*0.1\n",
    "        revenue_max = target_revenue/0.1\n",
    "    else:\n",
    "        transformed_revenue = x_scale.transform(np.array([[target_revenue]]))\n",
    "        _, predicted_std = m.predict(transformed_revenue)\n",
    "        \n",
    "        revenue_min = (target_revenue - 0.1*predicted_std)[0,0]\n",
    "        revenue_max = (target_revenue + 1.96*predicted_std)[0,0]\n",
    "    \n",
    "    res = (companies_smooth\n",
    "     .filter((F.col(\"total_revenue\") >= revenue_min) &\n",
    "             (F.col(\"total_revenue\") <= revenue_max)\n",
    "            )\n",
    "     .select(\"entity_id\",\n",
    "             \"business_description\",\n",
    "             \"primary_sic_node_desc\", \n",
    "             \"total_revenue\",\n",
    "             \"name\",\n",
    "             \"region\",\n",
    "             \"ebitda\",\n",
    "             \"country_of_incorporation\",\n",
    "             \"company_type_name\",\n",
    "             \"number_employees\",\n",
    "             kl_distance_udf(target_doc)(\"description_smooth\").alias(\"dist\"))\n",
    "     .orderBy(\"dist\")\n",
    "    ).take(max_size)\n",
    "    \n",
    "    return [\n",
    "        make_company_from_rdd(el) for el in res\n",
    "    ]\n",
    "\n",
    "def find_peer_in_result(results, peer):\n",
    "    for i, company in enumerate(results):\n",
    "        if peer == company.id:\n",
    "            return i+1\n",
    "\n",
    "    return -1\n",
    "\n",
    "def add_ranks_in_tops(ranks, counts):\n",
    "    for rank in ranks:\n",
    "        if 0 < rank <= 10:\n",
    "            counts[0] += 1\n",
    "        elif 10 < rank <= 20:\n",
    "            counts[1] += 1\n",
    "        elif 20 < rank <= 50:\n",
    "            counts[2] += 1\n",
    "        elif 50 < rank <= 100:\n",
    "            counts[3] += 1\n",
    "        elif 100 < rank:\n",
    "            counts[4] += 1\n",
    "        else:\n",
    "            counts[5] += 1\n",
    "    return counts"
   ]
  },
  {
   "cell_type": "markdown",
   "metadata": {},
   "source": [
    "### Manual revenue filtering, lemmatized"
   ]
  },
  {
   "cell_type": "code",
   "execution_count": 19,
   "metadata": {},
   "outputs": [
    {
     "data": {
      "text/plain": [
       "FloatProgress(value=0.0, bar_style='info', description='Progress:', layout=Layout(height='25px', width='50%'),…"
      ]
     },
     "metadata": {},
     "output_type": "display_data"
    },
    {
     "name": "stdout",
     "output_type": "stream",
     "text": [
      "['1b3872ba-8913-517f-a253-7e62a525cf55', 21, 5, 13, 2]\n",
      "['7689e398-0970-5c18-ba93-e0b14013ab30', -1, -1, -1]\n",
      "['cb997a23-552a-52b9-acf5-bcdce2d1eea1', -1, -1, -1]\n",
      "['e62877cd-15cd-561d-a77e-8a5bccf9873c', 8, 6]\n",
      "['29f2b914-f655-5a0e-8642-252840119f94', 14, 39, -1]\n",
      "['c655ffcb-391e-57af-9d57-28586381be92', 2, 7, -1]\n",
      "['b01d22f1-2b08-5a1b-937e-bd29be833832', -1, -1, -1, -1, 11, -1, -1, -1, -1, -1]\n",
      "['6a99e295-db08-5598-9746-10848bd2871e', 14, 4, 2]\n",
      "['eb6a1519-3559-5797-ac35-d31505d66961', 2, -1, 54, -1, 3, 7, -1]\n",
      "['94a8555e-9f82-5657-9f32-f44c1844e371', 14, -1, 20, 2, 29]\n",
      "['4dfb3296-c5ab-5d27-bcaa-71a67990dc0f', -1, -1]\n",
      "['3e71b765-5a7c-54b0-8687-fbb479e5ce91', 69, 13, 99, -1, -1, -1]\n",
      "['4b90ea7b-dd01-5114-b2b1-e44f8b0f496c', -1, 27, -1, 31, -1]\n",
      "['0eac306f-7b21-534f-b7eb-2fe3dbf0dcb9', 15, -1, -1, -1, -1, -1]\n",
      "['6d6a0abb-b4fa-5dfa-b44e-35927bff8864', -1, 3, -1, -1, -1, 88]\n",
      "['3f02111a-3779-53cb-b556-ef2b02712eb8', -1, 4, -1, -1, -1]\n",
      "['a2ec645e-4b24-5995-ac16-a91d2fe427d8', -1, 35, 28, 23, 4, 12, 29, 22]\n",
      "['c2ad7853-588c-5dcf-ad06-a295173586eb', 15, -1, -1, 3, -1, -1]\n",
      "['7a93383a-3f64-5d88-b0ca-f25210a26530', -1, -1, 5, 21, -1, 33, 30, 28, -1, 19]\n",
      "['8b881676-4524-54fb-8d04-e9d80a70adc6', -1, 34, 6, -1, -1, -1, -1]\n",
      "['5e6d242e-3a76-5145-9c3d-9cde3e69fd41', -1, -1]\n",
      "['44aba920-f4af-547e-84e6-68db5b56617a', -1, -1, -1, -1, -1]\n",
      "['1ed96474-1404-5a0e-b5b5-34f1c0638989', -1, 13, 25, 8, -1]\n",
      "['87bf6c8a-3ca4-5f9d-b552-8d9f857ebd74', 24, -1, -1, -1, -1, -1, -1, 4, -1]\n",
      "['1c599f2e-4e28-5694-9647-0d06f5896a88', -1, 23, -1, -1]\n",
      "['2a07b0ed-7a52-5641-9e9a-e15e04bd2faa', 16, -1, -1, 27, -1, -1]\n",
      "['27a20afb-730c-5243-bae9-21de6ae9a95d', 49, 51, -1, 46, 44]\n",
      "['4294552e-cc06-5002-a418-5c295e89f1d7', -1, -1, -1, -1, -1]\n",
      "['65c843d5-e8b8-537f-a6c4-3ccb301d09e5', -1, -1, -1, -1, -1, 3, -1, 33, -1, -1]\n",
      "['65418e9d-3d93-505c-94f5-df49bfa49847', -1, -1, 35, -1, -1]\n",
      "['280670b2-7d06-535c-80b7-4438a537a3fc', -1, -1, 94, 87]\n",
      "['b478e741-bb5c-5f1e-ac5c-e58ea15f2358', -1, -1, -1, -1, -1, -1, -1]\n",
      "['87ef73f2-887a-52b0-aa4f-2e1b8d3676cb', -1, -1, -1, -1, -1, -1, -1, -1]\n",
      "['ff46835d-4bb0-592b-9c5f-470b9bdb9d76', 13, 67, 2]\n",
      "['e5e55e0c-98f2-57e6-b252-2acd32197a33', -1, 48, -1, -1]\n",
      "['311b72c3-b538-5a62-b2c8-e340ae014465', -1, 29, 88, 69]\n",
      "['fb7f54de-114b-56e9-9fc5-6c3011e104ab', 6, 51, 18]\n",
      "['35615ff3-9c28-5f4d-96d4-75ee7e861ab4', -1, 99, 93, 19, 58]\n",
      "['fc7226d1-910a-5010-bdb9-2d7865355965', 25, 9, 16, 26, -1, 15, 10, 14, 22]\n",
      "['70b69899-4663-5c84-9a18-e29f38661aea', 62, 57, 75, 40, 24, 39, 52, 77]\n",
      "[25, 19, 32, 19, 0, 120]\n",
      "0.18826423775586454"
     ]
    }
   ],
   "source": [
    "tops = [0] * 6 # top 10, 20, 50, 100, >100, -1\n",
    "\n",
    "mrr = 0\n",
    "count = 0\n",
    "\n",
    "ranks_default = []\n",
    "missed_peers = defaultdict(list)\n",
    "suggested_peers = {}\n",
    "for public_label,peers in public_labels.items():\n",
    "    query_id = public_label\n",
    "    results = obtain_result(companies_smooth, query_id)\n",
    "    ranks = []\n",
    "    \n",
    "    suggested_peers[public_label] = results\n",
    "    \n",
    "#     for peer in results[:4]:\n",
    "#         missed_peer = client.get(index='company', id=peer.id)\n",
    "\n",
    "#         revenue = missed_peer['_source'].get('total_revenue', 0)\n",
    "#         description = missed_peer['_source'].get('business_description', 0)\n",
    "#         name = missed_peer['_source'].get('name', 0)\n",
    "#         print(\"Found peer\")\n",
    "#         print(name)\n",
    "#         print(description)\n",
    "#         print(revenue)\n",
    "\n",
    "    for peer in peers:\n",
    "        peer_location = find_peer_in_result(results, peer)\n",
    "        ranks.append(peer_location)\n",
    "        ranks_default.append(peer_location)\n",
    "        if peer_location == -1:\n",
    "            missed_peers[public_label].append(peer)\n",
    "#             missed_peer = client.get(index='company', id=peer)\n",
    "\n",
    "#             revenue = missed_peer['_source'].get('total_revenue', 0)\n",
    "#             description = missed_peer['_source'].get('business_description', 0)\n",
    "#             name = missed_peer['_source'].get('name', 0)\n",
    "#             print(\"Missed peer\")\n",
    "#             print(name)\n",
    "#             print(description)\n",
    "#             print(revenue)\n",
    "\n",
    "\n",
    "    tops = add_ranks_in_tops(ranks, tops)\n",
    "\n",
    "    mrr += sum([1/rank for rank in ranks if rank > 0])\n",
    "    count += sum(1 for rank in ranks if rank > 0)\n",
    "\n",
    "    ranks.insert(0, query_id)\n",
    "\n",
    "    print(ranks)\n",
    "#     print(\"=\\n\"*10)\n",
    "\n",
    "print(tops)\n",
    "print(np.mean([1/rank for rank in ranks_default if 0 < rank <= 20]))\n",
    "print()"
   ]
  },
  {
   "cell_type": "code",
   "execution_count": 20,
   "metadata": {},
   "outputs": [
    {
     "data": {
      "text/plain": [
       "FloatProgress(value=0.0, bar_style='info', description='Progress:', layout=Layout(height='25px', width='50%'),…"
      ]
     },
     "metadata": {},
     "output_type": "display_data"
    }
   ],
   "source": [
    "def company_to_dict(c):\n",
    "    return {\n",
    "        \"id\": c.id,\n",
    "        \"name\": c.name,\n",
    "        \"country\": c.country,\n",
    "        \"sector\": c.sector,\n",
    "        \"revenue\": c.revenue,\n",
    "        \"ebitda\": c.ebitda,\n",
    "        \"num_employees\": c.num_employees,\n",
    "        \"score\": c.score,\n",
    "        \"region\": c.region,\n",
    "        \"description\": c.description,\n",
    "        \"company_type\": c.company_type,\n",
    "    }"
   ]
  },
  {
   "cell_type": "code",
   "execution_count": 21,
   "metadata": {},
   "outputs": [
    {
     "data": {
      "text/plain": [
       "FloatProgress(value=0.0, bar_style='info', description='Progress:', layout=Layout(height='25px', width='50%'),…"
      ]
     },
     "metadata": {},
     "output_type": "display_data"
    }
   ],
   "source": [
    "with smart_open.open(f\"{model_path}/suggested_peers.pkl\", \"wb\") as f:\n",
    "    pickle.dump({k:[company_to_dict(el) for el in v] for k,v in suggested_peers.items()}, f)"
   ]
  },
  {
   "cell_type": "code",
   "execution_count": null,
   "metadata": {},
   "outputs": [],
   "source": []
  }
 ],
 "metadata": {
  "kernelspec": {
   "display_name": "PySpark",
   "language": "",
   "name": "pysparkkernel"
  },
  "language_info": {
   "codemirror_mode": {
    "name": "python",
    "version": 2
   },
   "mimetype": "text/x-python",
   "name": "pyspark",
   "pygments_lexer": "python2"
  }
 },
 "nbformat": 4,
 "nbformat_minor": 2
}
