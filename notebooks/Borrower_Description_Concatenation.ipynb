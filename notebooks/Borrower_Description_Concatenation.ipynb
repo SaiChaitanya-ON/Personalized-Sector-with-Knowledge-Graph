{
 "cells": [
  {
   "cell_type": "code",
   "execution_count": 37,
   "id": "65167df2",
   "metadata": {},
   "outputs": [],
   "source": [
    "%store -r Final_Data_Set_Nor\n",
    "%store -r Borrower_Emb_Dict\n",
    "%store -r EN_Des\n",
    "%store -r training_labels\n",
    "\n",
    "import dgl\n",
    "import numpy as np\n",
    "import networkx as nx\n",
    "import torch as T\n",
    "import matplotlib.pyplot as plt\n",
    "from sklearn.cluster import KMeans\n",
    "\n",
    "import nbimporter\n",
    "from Proof_of_Concept_KG import Print_Cluster\n",
    "from NDE_Time_Series_Problem import fashion_scatter"
   ]
  },
  {
   "cell_type": "code",
   "execution_count": 38,
   "id": "7cabf76f",
   "metadata": {},
   "outputs": [],
   "source": [
    "F_Embedding = T.tensor([np.ones(773)])\n",
    "for i in Borrower_Emb_Dict.items():\n",
    "    ID,Emb = i\n",
    "    X = T.cat((T.tensor([Emb]),T.tensor(EN_Des[ID]['Description Emb'])),1)\n",
    "    F_Embedding = T.cat((F_Embedding,X),0)\n",
    "    \n",
    "F_Embedding = F_Embedding[1:] \n"
   ]
  },
  {
   "cell_type": "code",
   "execution_count": 40,
   "id": "578c3f6f",
   "metadata": {},
   "outputs": [
    {
     "name": "stdout",
     "output_type": "stream",
     "text": [
      "Cluster  0 of size  136\n",
      "\"2111\" [0.6, 0.6, 0.6, 0.6, 0.5] [0.5, 0.6, 0.6, 0.5, 0] [0, 0, 0, 0, 0.7] [0, 0, 0.32, 0.43, 0.7]\n",
      "\"325412\" [0.5, 0.5, 0.5, 0.4, 0.4] [0.1, 0.3, 0.1, 0, 0] [0, 1.0, 0, 1.0, 1.0] [0, 0, 0, 0, 0]\n",
      "\"325412\" [0.5, 0.5, 0.7, 0.5, 0.5] [0, 0, 0.6, 0, 0] [0, 0, 0, 0, 0] [0.87, 0.71, 0.86, 0, 0]\n",
      "\"511210\" [0.5, 0.4, 0.3, 0.2, 0.2] [0, 0, 0, 0, 0] [0, 1.0, 0, 1.0, 0] [0, 0.37, 0.01, 0.77, 0.94]\n",
      "\"2111\" [0.5, 0.5, 0.4, 0.3, 0.3] [0.5, 0.5, 0.3, 0.3, 0.3] [0, 0.2, 0, 0, 0] [0.06, 0.32, 0.65, 0.16, 0.18]\n",
      "\"2111\" [0.3, 0.3, 0.3, 0.3, 0.3] [0.3, 0.2, 0.2, 0.3, 0.3] [0, 0, 0, 0.2, 0] [0.2, 0.27, 0.42, 0.56, 0.65]\n",
      "\n",
      "\n",
      "Cluster  1 of size  87\n",
      "\"511210\" [0.5, 0.5, 0.5, 0.5, 0.5] [0, 0, 0, 0, 0] [1.0, 0, 0, 0.2, 0] [0.53, 0.88, 0.81, 0, 0.29]\n",
      "\"511210\" [0.1, 0.1, 0.1, 0.1, 0.1] [0.1, 0.1, 0, 0, 0] [0, 0, 0, 1.0, 0] [0, 0, 0, 0, 0]\n",
      "\"325412\" [0.2, 0.2, 0.1, 0.1, 0.1] [0, 0, 0, 0, 0] [0, 0, 0, 0.0, 0] [1.0, 0.99, 0.97, 0.85, 1.0]\n",
      "\"2111\" [0.3, 0.3, 0.3, 0.3, 0.3] [0.1, 0.1, 0.1, 0.1, 0.1] [0, 0, 0, 0.9, 0] [0.93, 0.85, 0.81, 0.8, 1.0]\n",
      "\"325412\" [0.5, 0.5, 0.3, 0.3, 0.3] [0, 0, 0, 0.2, 0.1] [0, 0, 0, 0, 0] [0.1, 0, 0.92, 0.6, 0]\n",
      "\"2111\" [0.1, 0.1, 0.1, 0.1, 0.1] [0.1, 0.1, 0, 0, 0] [0.0, 0, 0, 1.0, 0] [0, 0, 0, 0, 0.89]\n",
      "\n",
      "\n",
      "Cluster  2 of size  98\n",
      "\"511210\" [0.2, 0.4, 0.3, 0.3, 0.1] [0, 0, 0.1, 0, 0] [1.0, 0, 1.0, 0, 0] [0, 0, 0.88, 0.19, 0.55]\n",
      "\"511210\" [0.3, 0.3, 0.3, 0.3, 0.3] [0.1, 0.1, 0.1, 0.2, 0.1] [0, 0, 0, 0, 0] [0, 0, 0, 0, 0]\n",
      "\"325412\" [0.1, 0.1, 0.1, 0.1, 0.1] [0, 0, 0, 0, 0] [0, 1.0, 1.0, 0.6, 0.8] [0, 0, 0, 0, 0]\n",
      "\"325412\" [0.7, 0.7, 0.7, 0.7, 0.7] [0.7, 0.6, 0.6, 0.5, 0.5] [1.0, 1.0, 0.6, 0.1, 0] [0.61, 0.53, 0.45, 0.04, 0.05]\n",
      "\"511210\" [0.7, 0.7, 0.7, 0.7, 0.7] [0.5, 0.5, 0.5, 0.6, 0.6] [0, 0, 0, 0, 0] [0, 0, 0, 0, 0]\n",
      "\"511210\" [0.2, 0.2, 0.2, 0.2, 0.3] [0.1, 0.1, 0.1, 0.1, 0.1] [1.0, 1.0, 0.6, 0, 1.0] [0, 0, 0, 0, 0]\n",
      "\n",
      "\n"
     ]
    }
   ],
   "source": [
    "cluster = np.where(training_labels == 0)[0]\n",
    "\n",
    "kmeans = KMeans(n_clusters=3, random_state=0).fit(F_Embedding.detach().numpy()[cluster])\n",
    "\n",
    "def Print_Cluster(clusters,kmeans_labels):\n",
    "    \n",
    "    for i in range(clusters):\n",
    "\n",
    "        cluster = np.where(kmeans_labels == i)[0]\n",
    "        \n",
    "        N = 0\n",
    "        if len(cluster) < 5:\n",
    "            l_N = len(cluster)\n",
    "        else:\n",
    "            l_N = 5\n",
    "            \n",
    "        n = 0\n",
    "        print(\"Cluster \",i, \"of size \", len(cluster))\n",
    "        for i in Final_Data_Set_Nor.items():\n",
    "            ID,data = i\n",
    "\n",
    "            if (n in cluster) and (N <= l_N):\n",
    "                print(data['Sector'],data['Revenue'],data['EBITDA'],data['NDE'], data['TDE'])\n",
    "                #print(EN_Des[ID]['Description'],\"\\n\")\n",
    "                N += 1\n",
    "            elif N > l_N:\n",
    "                print(\"\\n\")\n",
    "                break\n",
    "            n += 1\n",
    "\n",
    "Print_Cluster(3,kmeans.labels_)"
   ]
  },
  {
   "cell_type": "code",
   "execution_count": null,
   "id": "c76f60b1",
   "metadata": {},
   "outputs": [],
   "source": []
  }
 ],
 "metadata": {
  "kernelspec": {
   "display_name": "Python 3",
   "language": "python",
   "name": "python3"
  },
  "language_info": {
   "codemirror_mode": {
    "name": "ipython",
    "version": 3
   },
   "file_extension": ".py",
   "mimetype": "text/x-python",
   "name": "python",
   "nbconvert_exporter": "python",
   "pygments_lexer": "ipython3",
   "version": "3.7.4"
  }
 },
 "nbformat": 4,
 "nbformat_minor": 5
}
