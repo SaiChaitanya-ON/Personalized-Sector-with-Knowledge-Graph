{
 "cells": [
  {
   "cell_type": "code",
   "execution_count": 1,
   "metadata": {},
   "outputs": [],
   "source": [
    "from flair.models import SequenceTagger\n",
    "\n",
    "from flair.data import Sentence\n",
    "\n",
    "import graphene\n",
    "from elasticsearch import Elasticsearch\n",
    "from elasticsearch.helpers import scan\n",
    "from elasticsearch_dsl import Q, Search\n",
    "import numpy as np\n",
    "import pickle\n",
    "import string\n",
    "import sys\n",
    "import timeit\n",
    "import os\n",
    "import smart_open\n",
    "\n",
    "from itertools import islice\n",
    "from collections import deque, defaultdict, Counter\n",
    "\n",
    "from nltk import ChartParser\n",
    "from nltk.parse.generate import generate\n",
    "from nltk.grammar import CFG, Nonterminal\n",
    "from nltk.tree import Tree\n",
    "from semantic.numbers import NumberService\n",
    "\n",
    "es_index_address = os.environ.get(\"ES_INDEX_ADDRESS\", \"localhost\")\n",
    "\n",
    "HOST = f\"http://{es_index_address}:9200\"\n",
    "INDEX = \"company\"\n",
    "\n",
    "client = Elasticsearch(HOST+\"/\")"
   ]
  },
  {
   "cell_type": "markdown",
   "metadata": {},
   "source": [
    "### Crawl documents for keywords\n",
    "* first get all keywords, lower-case them and collect them into counter\n",
    "* remove keywords that have a frequency below `min_kw_frequency` \n",
    "  or appear in the description of fewer than `min_kw_companies`\n",
    "* create a grammar and pickle it as well as the keywords"
   ]
  },
  {
   "cell_type": "code",
   "execution_count": 2,
   "metadata": {},
   "outputs": [],
   "source": [
    "min_kw_frequency = 5\n",
    "min_kw_companies = 5"
   ]
  },
  {
   "cell_type": "code",
   "execution_count": 3,
   "metadata": {},
   "outputs": [],
   "source": [
    "def get_all_field_values(document_field):\n",
    "    company_types = (\n",
    "        Search(index=INDEX)\n",
    "        .using(client)\n",
    "    )\n",
    "    (company_types\n",
    "     .aggs\n",
    "     .bucket(\"bucket\", \"terms\", field=document_field, size=((1<<31)-1))\n",
    "    )\n",
    "    \n",
    "    resp = company_types.execute()\n",
    "    return {hit.key.lower() for hit in resp.aggregations['bucket']['buckets']}"
   ]
  },
  {
   "cell_type": "code",
   "execution_count": 4,
   "metadata": {},
   "outputs": [],
   "source": [
    "def clean_keyword(kw):\n",
    "    de_punc = str.maketrans(string.punctuation.replace(\"'\",\"\"), ' '*(len(string.punctuation)-1))\n",
    "    kw = kw.translate(de_punc).strip()\n",
    "    \n",
    "    for token in kw.split():\n",
    "        if len(token) > 1:\n",
    "            yield token.lower()"
   ]
  },
  {
   "cell_type": "code",
   "execution_count": 5,
   "metadata": {},
   "outputs": [],
   "source": [
    "industry_types = get_all_field_values(\"industry_class_code_desc.keyword\")"
   ]
  },
  {
   "cell_type": "code",
   "execution_count": 6,
   "metadata": {},
   "outputs": [],
   "source": [
    "company_description_words = Counter()\n",
    "companies_per_words = Counter()\n",
    "ct = 0\n",
    "for hit in scan(query={\"query\":{\"exists\":{\n",
    "                                        \"field\": \"company_description\"\n",
    "                                        }\n",
    "                                      }\n",
    "                            }\n",
    "                , client=client\n",
    "                , index=INDEX\n",
    "               ):\n",
    "    ct += 1\n",
    "    cleaned_kw = [kw for kw in clean_keyword(hit[\"_source\"][\"company_description\"])]\n",
    "    company_description_words.update(cleaned_kw)\n",
    "    # Another company has these keywords, so update the company counter\n",
    "    companies_per_words.update(set(cleaned_kw))"
   ]
  },
  {
   "cell_type": "code",
   "execution_count": 7,
   "metadata": {},
   "outputs": [],
   "source": [
    "industry_keywords = Counter(kw for el in industry_types for kw in clean_keyword(el))"
   ]
  },
  {
   "cell_type": "code",
   "execution_count": 8,
   "metadata": {},
   "outputs": [],
   "source": [
    "company_description_words = Counter({k:v for k,v in company_description_words.items() \n",
    "                                     if v > min_kw_frequency and companies_per_words[k] > min_kw_companies})\n",
    "industry_keywords = industry_keywords + company_description_words"
   ]
  },
  {
   "cell_type": "code",
   "execution_count": 9,
   "metadata": {},
   "outputs": [],
   "source": [
    "with smart_open.open('s3://onai-ml-dev-eu-west-1/query_parsing/industry_kw.csv', 'w') as f:\n",
    "    for word,freq in industry_keywords.items():\n",
    "        f.write(f\"{word},{freq}\\n\")"
   ]
  },
  {
   "cell_type": "code",
   "execution_count": null,
   "metadata": {},
   "outputs": [],
   "source": []
  }
 ],
 "metadata": {
  "kernelspec": {
   "display_name": "Python 3",
   "language": "python",
   "name": "python3"
  },
  "language_info": {
   "codemirror_mode": {
    "name": "ipython",
    "version": 3
   },
   "file_extension": ".py",
   "mimetype": "text/x-python",
   "name": "python",
   "nbconvert_exporter": "python",
   "pygments_lexer": "ipython3",
   "version": "3.7.2"
  }
 },
 "nbformat": 4,
 "nbformat_minor": 2
}
