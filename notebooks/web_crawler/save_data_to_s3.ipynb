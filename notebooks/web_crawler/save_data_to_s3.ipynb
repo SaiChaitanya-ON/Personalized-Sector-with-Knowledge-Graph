{
 "cells": [
  {
   "cell_type": "code",
   "execution_count": 1,
   "metadata": {},
   "outputs": [
    {
     "name": "stdout",
     "output_type": "stream",
     "text": [
      "Starting Spark application\n"
     ]
    },
    {
     "data": {
      "text/html": [
       "<table>\n",
       "<tr><th>ID</th><th>YARN Application ID</th><th>Kind</th><th>State</th><th>Spark UI</th><th>Driver log</th><th>Current session?</th></tr><tr><td>10</td><td>application_1563990975713_0011</td><td>pyspark</td><td>idle</td><td><a target=\"_blank\" href=\"http://ip-10-0-3-9.eu-west-2.compute.internal:20888/proxy/application_1563990975713_0011/\">Link</a></td><td><a target=\"_blank\" href=\"http://ip-10-0-3-137.eu-west-2.compute.internal:8042/node/containerlogs/container_1563990975713_0011_01_000001/livy\">Link</a></td><td>✔</td></tr></table>"
      ],
      "text/plain": [
       "<IPython.core.display.HTML object>"
      ]
     },
     "metadata": {},
     "output_type": "display_data"
    },
    {
     "data": {
      "application/vnd.jupyter.widget-view+json": {
       "model_id": "",
       "version_major": 2,
       "version_minor": 0
      },
      "text/plain": [
       "FloatProgress(value=0.0, bar_style='info', description='Progress:', layout=Layout(height='25px', width='50%'),…"
      ]
     },
     "metadata": {},
     "output_type": "display_data"
    },
    {
     "name": "stdout",
     "output_type": "stream",
     "text": [
      "SparkSession available as 'spark'.\n"
     ]
    },
    {
     "data": {
      "application/vnd.jupyter.widget-view+json": {
       "model_id": "",
       "version_major": 2,
       "version_minor": 0
      },
      "text/plain": [
       "FloatProgress(value=0.0, bar_style='info', description='Progress:', layout=Layout(height='25px', width='50%'),…"
      ]
     },
     "metadata": {},
     "output_type": "display_data"
    }
   ],
   "source": [
    "import pandas as pd\n",
    "import requests\n",
    "from bs4 import BeautifulSoup, SoupStrainer\n",
    "import html2text\n",
    "from smart_open import smart_open\n",
    "from time import time\n",
    "from tqdm import tqdm\n",
    "import concurrent.futures\n",
    "\n",
    "import json\n",
    "\n",
    "from itertools import islice\n",
    "\n",
    "from pyspark.sql import SparkSession\n",
    "import pyspark.sql.functions as F\n",
    "import pyspark.sql.types as T"
   ]
  },
  {
   "cell_type": "code",
   "execution_count": 2,
   "metadata": {},
   "outputs": [
    {
     "data": {
      "application/vnd.jupyter.widget-view+json": {
       "model_id": "",
       "version_major": 2,
       "version_minor": 0
      },
      "text/plain": [
       "FloatProgress(value=0.0, bar_style='info', description='Progress:', layout=Layout(height='25px', width='50%'),…"
      ]
     },
     "metadata": {},
     "output_type": "display_data"
    }
   ],
   "source": [
    "input_file = \"s3://onai-ml-dev-eu-west-1/web_crawler/data/seed_urls/company-urls.csv\"\n",
    "count_total = 0\n",
    "count_200 = 0\n",
    "count_has_about_url = 0\n",
    "count_has_description = 0\n",
    "\n",
    "TIMEOUT = 10\n",
    "STATUS_CODE_OK = 200\n",
    "\n",
    "\n",
    "def send_request(url):\n",
    "    try:\n",
    "        response = requests.get(url, timeout=TIMEOUT)\n",
    "    except requests.exceptions.MissingSchema or requests.exceptions.InvalidSchema:\n",
    "        url = \"http://\" + url\n",
    "        response = requests.get(url, timeout=TIMEOUT)\n",
    "\n",
    "    if response.status_code != STATUS_CODE_OK:\n",
    "        return response.status_code, None\n",
    "    else:\n",
    "        return response.status_code, response\n",
    "\n",
    "\n",
    "def pre_process_text(text):\n",
    "    text = text.replace('\\n', ' ').replace('\\r', ' ').replace('\\t', ' ')\n",
    "    return text\n",
    "\n",
    "\n",
    "def parse_all_links_and_meta_fields(html):\n",
    "    links = set()\n",
    "    metas = []\n",
    "    for line in BeautifulSoup(html, \"html.parser\", parse_only=SoupStrainer(['a', 'meta'])):\n",
    "        if line.name == 'a' and line.has_attr('href'):\n",
    "            link = line['href']\n",
    "            links.add(link)\n",
    "        if line.name == 'meta':\n",
    "            metas.append(line)\n",
    "    return links, metas\n",
    "\n",
    "\n",
    "def extract_about_us_urls(base_url, links):\n",
    "    about_urls = set()\n",
    "    for link in links:\n",
    "        if 'about' in link.lower():\n",
    "            if link.startswith(\"http\"):\n",
    "                about_urls.add(link)\n",
    "            else:\n",
    "                if link.startswith(\"/\"):\n",
    "                    about_urls.add(base_url + link)\n",
    "                else:\n",
    "                    about_urls.add(base_url + '/' + link)\n",
    "\n",
    "    return about_urls\n",
    "\n",
    "\n",
    "def extract_description_from_meta(metas):\n",
    "    description = ''\n",
    "    for meta in metas:\n",
    "        if meta.has_attr('name') and meta['name'] == 'description' and meta.has_attr('content'):\n",
    "            description = pre_process_text(meta['content'])\n",
    "    return description\n",
    "\n",
    "\n",
    "def extract_text_from_about_us_urls(about_urls):\n",
    "    about_text = ''\n",
    "    if len(about_urls) > 0:\n",
    "        about_url = min(list(about_urls), key=len)\n",
    "\n",
    "        about_response_code, about_response = send_request(about_url)\n",
    "        if about_response_code == STATUS_CODE_OK:\n",
    "            about_text = extract_text_from_html(about_response.text)\n",
    "    return about_text\n",
    "\n",
    "\n",
    "def extract_text_from_html(html):\n",
    "    parser = html2text.HTML2Text()\n",
    "    parser.wrap_links = False\n",
    "    parser.skip_internal_links = True\n",
    "    parser.inline_links = True\n",
    "    parser.ignore_anchors = True\n",
    "    parser.ignore_images = True\n",
    "    parser.ignore_emphasis = True\n",
    "    parser.ignore_links = True\n",
    "    return pre_process_text(parser.handle(html))\n",
    "\n",
    "def extract_text_from_url(url):\n",
    "    try:\n",
    "        response_code, response = send_request(url)\n",
    "    except:\n",
    "        response_code, response = -1, None\n",
    "\n",
    "    about_us_text = ''\n",
    "    about_us_url = ''\n",
    "    text = ''\n",
    "    meta_description = ''\n",
    "\n",
    "    if response_code == STATUS_CODE_OK:\n",
    "        return response_code, extract_text_from_html(response.text)\n",
    "    return response_code, None"
   ]
  },
  {
   "cell_type": "code",
   "execution_count": 3,
   "metadata": {},
   "outputs": [
    {
     "data": {
      "application/vnd.jupyter.widget-view+json": {
       "model_id": "",
       "version_major": 2,
       "version_minor": 0
      },
      "text/plain": [
       "FloatProgress(value=0.0, bar_style='info', description='Progress:', layout=Layout(height='25px', width='50%'),…"
      ]
     },
     "metadata": {},
     "output_type": "display_data"
    }
   ],
   "source": [
    "extract_text_from_url_udf = F.udf(extract_text_from_url, T.StructType(\n",
    "    [T.StructField(\"response_code\", T.IntegerType()),\n",
    "     T.StructField(\"response_text\", T.StringType())\n",
    "    ]\n",
    "))"
   ]
  },
  {
   "cell_type": "code",
   "execution_count": 4,
   "metadata": {},
   "outputs": [
    {
     "data": {
      "application/vnd.jupyter.widget-view+json": {
       "model_id": "",
       "version_major": 2,
       "version_minor": 0
      },
      "text/plain": [
       "FloatProgress(value=0.0, bar_style='info', description='Progress:', layout=Layout(height='25px', width='50%'),…"
      ]
     },
     "metadata": {},
     "output_type": "display_data"
    }
   ],
   "source": [
    "pandas_df = pd.read_csv(input_file, header=0, sep='\\t').astype(str)\n",
    "df = spark.createDataFrame(pandas_df).repartition(1000)"
   ]
  },
  {
   "cell_type": "code",
   "execution_count": 5,
   "metadata": {},
   "outputs": [
    {
     "data": {
      "application/vnd.jupyter.widget-view+json": {
       "model_id": "",
       "version_major": 2,
       "version_minor": 0
      },
      "text/plain": [
       "FloatProgress(value=0.0, bar_style='info', description='Progress:', layout=Layout(height='25px', width='50%'),…"
      ]
     },
     "metadata": {},
     "output_type": "display_data"
    }
   ],
   "source": [
    "links_and_meta_df = (df\n",
    "                     .select(\"name\", extract_text_from_url_udf(\"url\").alias(\"request_results\"))\n",
    "                     .select(\"name\",\n",
    "                             F.col(\"request_results.response_code\").alias(\"response_code\"),\n",
    "                             F.col(\"request_results.response_text\").alias(\"response_text\")\n",
    "                            )\n",
    "                    )"
   ]
  },
  {
   "cell_type": "code",
   "execution_count": 6,
   "metadata": {},
   "outputs": [
    {
     "data": {
      "application/vnd.jupyter.widget-view+json": {
       "model_id": "",
       "version_major": 2,
       "version_minor": 0
      },
      "text/plain": [
       "FloatProgress(value=0.0, bar_style='info', description='Progress:', layout=Layout(height='25px', width='50%'),…"
      ]
     },
     "metadata": {},
     "output_type": "display_data"
    }
   ],
   "source": [
    "(links_and_meta_df\n",
    " .repartition(100)\n",
    " .write\n",
    " .parquet(\"s3://onai-ml-dev-eu-west-1/web_crawler/data/raw_links_and_meta\", mode=\"overwrite\")\n",
    ")"
   ]
  },
  {
   "cell_type": "code",
   "execution_count": 23,
   "metadata": {},
   "outputs": [],
   "source": [
    "tst = spark.read.load(\"s3://onai-ml-dev-eu-west-1/web_crawler/data/raw_links_and_meta\")"
   ]
  },
  {
   "cell_type": "code",
   "execution_count": 24,
   "metadata": {},
   "outputs": [
    {
     "name": "stderr",
     "output_type": "stream",
     "text": [
      "IOPub data rate exceeded.\n",
      "The notebook server will temporarily stop sending output\n",
      "to the client in order to avoid crashing it.\n",
      "To change this limit, set the config variable\n",
      "`--NotebookApp.iopub_data_rate_limit`.\n",
      "\n",
      "Current values:\n",
      "NotebookApp.iopub_data_rate_limit=1000000.0 (bytes/sec)\n",
      "NotebookApp.rate_limit_window=3.0 (secs)\n",
      "\n"
     ]
    }
   ],
   "source": [
    "tst.show(20, False)"
   ]
  },
  {
   "cell_type": "code",
   "execution_count": null,
   "metadata": {},
   "outputs": [],
   "source": [
    "tst.count()"
   ]
  },
  {
   "cell_type": "code",
   "execution_count": null,
   "metadata": {},
   "outputs": [],
   "source": []
  }
 ],
 "metadata": {
  "kernelspec": {
   "display_name": "PySpark",
   "language": "",
   "name": "pysparkkernel"
  },
  "language_info": {
   "codemirror_mode": {
    "name": "python",
    "version": 2
   },
   "mimetype": "text/x-python",
   "name": "pyspark",
   "pygments_lexer": "python2"
  }
 },
 "nbformat": 4,
 "nbformat_minor": 2
}
