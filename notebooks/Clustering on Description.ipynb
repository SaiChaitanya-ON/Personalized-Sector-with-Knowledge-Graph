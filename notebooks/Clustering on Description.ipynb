{
 "cells": [
  {
   "cell_type": "code",
   "execution_count": 9,
   "metadata": {},
   "outputs": [],
   "source": [
    "%store -r EN_Des\n",
    "\n",
    "import matplotlib.pyplot as plt\n",
    "import numpy as np\n",
    "from sklearn.cluster import KMeans\n",
    "from sklearn.manifold import TSNE\n",
    "import time\n",
    "import seaborn as sns\n",
    "import matplotlib.patheffects as PathEffects\n",
    "sns.set_style('darkgrid')\n",
    "sns.set_palette('muted')\n",
    "sns.set_context(\"notebook\", font_scale=1.5,rc={\"lines.linewidth\": 2.5})\n",
    "\n",
    "import nbimporter\n",
    "from NDE_Time_Series_Problem import fashion_scatter\n",
    "from Proof_of_Concept_KG import Print_Cluster\n",
    "\n",
    "%store -r Final_Data_Set_Nor\n",
    "%store -r EN_Des"
   ]
  },
  {
   "cell_type": "code",
   "execution_count": 10,
   "metadata": {},
   "outputs": [],
   "source": [
    "#print(list(EN_Des.items())[:1])"
   ]
  },
  {
   "cell_type": "code",
   "execution_count": 11,
   "metadata": {},
   "outputs": [
    {
     "name": "stdout",
     "output_type": "stream",
     "text": [
      "[(0, 'e809884c-8121-52f8-806c-6d1b86adae2e'), (1, 'f09eeed5-ae28-59af-92f8-43b51d392970'), (2, 'f0e6446d-7f66-5425-b4bf-2820c05a069a'), (3, 'f3fc74d2-a9ae-5cfd-8a41-a510086c1781'), (4, 'f43889b6-3216-52a1-8870-0dd5cef34d5b')]\n"
     ]
    }
   ],
   "source": [
    "X = []\n",
    "Dict_X = {}\n",
    "n = 0\n",
    "for i in EN_Des.items():\n",
    "    ID, data = i\n",
    "    X.append(data['Description Emb'].reshape((768)))\n",
    "    Dict_X[n] = ID\n",
    "    n += 1\n",
    "\n",
    "print(list(Dict_X.items())[:5])"
   ]
  },
  {
   "cell_type": "code",
   "execution_count": 12,
   "metadata": {},
   "outputs": [],
   "source": [
    "kmeans = KMeans(n_clusters=3, random_state=0).fit(X)"
   ]
  },
  {
   "cell_type": "code",
   "execution_count": 13,
   "metadata": {},
   "outputs": [],
   "source": [
    "# fashion_tsne = TSNE(random_state=123).fit_transform(X)\n",
    "# fashion_scatter(fashion_tsne, kmeans.labels_)"
   ]
  },
  {
   "cell_type": "code",
   "execution_count": 14,
   "metadata": {},
   "outputs": [
    {
     "name": "stdout",
     "output_type": "stream",
     "text": [
      "Cluster  0\n",
      "Forescout Technologies, Inc. provides device visibility and control solution \n",
      "\n",
      "Nektar Therapeutics operates as a research-based biopharmaceutical company. The company focuses on discovering and developing innovative medicines in areas of high unmet medical nee \n",
      "\n",
      "Incentra Solutions, Inc. provides IT solutions and services to enterprises and managed service providers in North America and Europe. The companys solution includes managed services, professional services, hardware and software products, maintenance contracts, recurring managed services and capital financing solution \n",
      "\n",
      "Epazz, Inc., together with its subsidiaries, designs and sells various software programs to business enterprises, hospitals, and government and post-secondary institutions in the United State \n",
      "\n",
      "indiePub Entertainment, Inc. develops, publishes, and distributes interactive entertainment software in North American and international market \n",
      "\n",
      "MAI Systems Corporation engages in the design, installation, sale, and support of enterprise information management solutions. The company offers its solutions to the hospitality, resort and destination industr \n",
      "\n",
      "\n",
      "\n",
      "Cluster  1\n",
      "Extraction Oil & Gas, Inc. operates as an independent oil and gas compan \n",
      "\n",
      "Allied Energy, Inc., an independent energy development company, engages in the exploration, development, and production of oil and natural gas in the continental United State \n",
      "\n",
      "Rosehill Resources, Inc. operates as an independent oil and natural gas compan \n",
      "\n",
      "Escalera Resources Co., an independent energy company, engages in the exploration, development, production and sale of natural gas and crude oil, primarily in the Rocky Mountain basins of the western United State \n",
      "\n",
      "Alamo Energy Corp. operates as an oil and gas company that focuses on the exploration, production, and development of oil and natural gas within North Americ \n",
      "\n",
      "Berry Corporation operates as an independent upstream energy company with a focus on the development and production of onshore, low geologic risk, long-lived conventional oil reserves primarily located in Californi \n",
      "\n",
      "\n",
      "\n",
      "Cluster  2\n",
      "ISTA Pharmaceuticals, Inc., a multi-specialty pharmaceutical company, engages in developing, marketing, and selling products in the United States (U.S.) and Puerto Rico. The company manufactures its finished good products through third-party contracts, and in-licenses or acquires new products and technologies to add to its internal development activities from time to tim \n",
      "\n",
      "Myogen, Inc., a development stage company, engages in the discovery, development, and sale of therapeutic drugs for the treatment of cardiovascular conditions. The companys research program is focused on creating disease-modifying drugs for chronic heart failure and other cardiovascular disease \n",
      "\n",
      "Sheffield Pharmaceuticals, Inc. does not have significant operations. The company intends to acquire or merger with an operating company. Previously, Sheffield Pharmaceuticals provided pharmaceutical therapies by combining pulmonary drug delivery technologies with therapeutic agents and developed various products to treat respiratory and systemic diseases. The company terminated its business operations in 2003, as a result of the Chapter 7 bankruptcy petitio \n",
      "\n",
      "Cephalon, Inc., a biopharmaceutical company, engages in the discovery, development, and commercialization of products for central nervous system (CNS) disorders, pain, oncology, inflammatory disease, and regenerative medicine. In addition to conducting an active research and development program, the company markets various branded and generic products. It sells approximately 150 products in approximately 100 countrie \n",
      "\n",
      "Carpatsky Petroleum, Inc (Carpatsky or the Company) is organized under the laws of the Province of Alberta, Canada. The Companys principal business is to participate in the development, production and sale of oil, natural gas and natural gas liquids in Ukraine through joint ownership and joint venture arrangement \n",
      "\n",
      "XBOX Technologies, Inc. (XBOX or the Company) incorporated in Minnesota in 1985, and re-incorporated in Delaware in 2000, is a technology holding company and is pursuing a strategy to acquire various companies in the software industry. XBOX currently has one operating subsidiary, Knowledge Mechanics Inc., formerly Knowledgeware Solutions Inc. (Knowledge Mechanics). XBOX acquired Knowledge Mechanics in 1999. Knowledge Mechanics develops technology-based solutions that take a software company's existing information, convert this information into knowledge components and then arrange the components in a manner that will help inform customers, partners, and staf \n",
      "\n",
      "\n",
      "\n"
     ]
    }
   ],
   "source": [
    "def Print_Cluster(clusters,kmeans_labels):\n",
    "    \n",
    "    for i in range(clusters):\n",
    "\n",
    "        cluster = np.where(kmeans_labels == i)[0]\n",
    "\n",
    "        n = 0\n",
    "        N = 0\n",
    "        if len(cluster) < 5:\n",
    "            l_N = len(cluster)\n",
    "        else:\n",
    "            l_N = 5\n",
    "            \n",
    "        print(\"Cluster \",i)\n",
    "        for i in Final_Data_Set_Nor.items():\n",
    "            ID,data = i\n",
    "\n",
    "            if (n in cluster) and (N <= l_N):\n",
    "                print(EN_Des[ID]['Description'],\"\\n\")#,data['Revenue'],data['EBITDA'])#data['NDE'],data['TDE'],'\\n')#EN_Des[ID]['Description'],\"\\n\")\n",
    "                N += 1\n",
    "            elif N > l_N:\n",
    "                print(\"\\n\")\n",
    "                break\n",
    "            n += 1\n",
    "\n",
    "Print_Cluster(3,kmeans.labels_)"
   ]
  },
  {
   "cell_type": "code",
   "execution_count": null,
   "metadata": {},
   "outputs": [],
   "source": []
  }
 ],
 "metadata": {
  "kernelspec": {
   "display_name": "Python 3",
   "language": "python",
   "name": "python3"
  },
  "language_info": {
   "codemirror_mode": {
    "name": "ipython",
    "version": 3
   },
   "file_extension": ".py",
   "mimetype": "text/x-python",
   "name": "python",
   "nbconvert_exporter": "python",
   "pygments_lexer": "ipython3",
   "version": "3.7.4"
  }
 },
 "nbformat": 4,
 "nbformat_minor": 2
}
