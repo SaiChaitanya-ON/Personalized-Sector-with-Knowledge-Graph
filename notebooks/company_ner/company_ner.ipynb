{
 "cells": [
  {
   "cell_type": "code",
   "execution_count": 1,
   "metadata": {},
   "outputs": [
    {
     "data": {
      "text/html": [
       "Current session configs: <tt>{'executorCores': 4, 'executorMemory': '47969M', 'driverMemory': '25000M', 'kind': 'pyspark'}</tt><br>"
      ],
      "text/plain": [
       "<IPython.core.display.HTML object>"
      ]
     },
     "metadata": {},
     "output_type": "display_data"
    },
    {
     "data": {
      "text/html": [
       "No active sessions."
      ],
      "text/plain": [
       "<IPython.core.display.HTML object>"
      ]
     },
     "metadata": {},
     "output_type": "display_data"
    }
   ],
   "source": [
    "%%configure -f\n",
    "{\"executorCores\": 4, \"executorMemory\": \"47969M\", \"driverMemory\": \"25000M\"}"
   ]
  },
  {
   "cell_type": "code",
   "execution_count": 2,
   "metadata": {},
   "outputs": [
    {
     "name": "stdout",
     "output_type": "stream",
     "text": [
      "Starting Spark application\n"
     ]
    },
    {
     "data": {
      "text/html": [
       "<table>\n",
       "<tr><th>ID</th><th>YARN Application ID</th><th>Kind</th><th>State</th><th>Spark UI</th><th>Driver log</th><th>Current session?</th></tr><tr><td>5</td><td>application_1565170755681_0006</td><td>pyspark</td><td>idle</td><td><a target=\"_blank\" href=\"http://ip-10-0-3-136.eu-west-2.compute.internal:20888/proxy/application_1565170755681_0006/\">Link</a></td><td><a target=\"_blank\" href=\"http://ip-10-0-3-69.eu-west-2.compute.internal:8042/node/containerlogs/container_1565170755681_0006_01_000001/livy\">Link</a></td><td>✔</td></tr></table>"
      ],
      "text/plain": [
       "<IPython.core.display.HTML object>"
      ]
     },
     "metadata": {},
     "output_type": "display_data"
    },
    {
     "data": {
      "application/vnd.jupyter.widget-view+json": {
       "model_id": "",
       "version_major": 2,
       "version_minor": 0
      },
      "text/plain": [
       "FloatProgress(value=0.0, bar_style='info', description='Progress:', layout=Layout(height='25px', width='50%'),…"
      ]
     },
     "metadata": {},
     "output_type": "display_data"
    },
    {
     "name": "stdout",
     "output_type": "stream",
     "text": [
      "SparkSession available as 'spark'.\n"
     ]
    },
    {
     "data": {
      "application/vnd.jupyter.widget-view+json": {
       "model_id": "",
       "version_major": 2,
       "version_minor": 0
      },
      "text/plain": [
       "FloatProgress(value=0.0, bar_style='info', description='Progress:', layout=Layout(height='25px', width='50%'),…"
      ]
     },
     "metadata": {},
     "output_type": "display_data"
    }
   ],
   "source": [
    "import pandas as pd\n",
    "import requests\n",
    "from bs4 import BeautifulSoup, SoupStrainer\n",
    "import html2text\n",
    "from smart_open import smart_open\n",
    "from time import time\n",
    "from tqdm import tqdm\n",
    "import concurrent.futures\n",
    "from gensim.utils import tokenize\n",
    "\n",
    "import json\n",
    "\n",
    "from itertools import islice\n",
    "\n",
    "from pyspark.sql import SparkSession\n",
    "import pyspark.sql.functions as F\n",
    "import pyspark.sql.types as T\n",
    "\n",
    "import scrapy\n",
    "from scrapy.linkextractors import LinkExtractor\n",
    "import html2text\n",
    "from urllib.parse import urlparse, ParseResult\n",
    "from scrapy.linkextractors import IGNORED_EXTENSIONS\n",
    "from scrapy.selector import Selector\n",
    "\n",
    "from flair.models import SequenceTagger\n",
    "from flair.data import Sentence\n",
    "from langdetect import detect\n",
    "from segtok.segmenter import split_single\n"
   ]
  },
  {
   "cell_type": "code",
   "execution_count": null,
   "metadata": {},
   "outputs": [],
   "source": [
    "ner_tagger = SequenceTagger.load(\"ner-ontonotes-fast\")\n",
    "pos_tagger = SequenceTagger.load(\"pos-fast\")"
   ]
  },
  {
   "cell_type": "code",
   "execution_count": 5,
   "metadata": {},
   "outputs": [
    {
     "data": {
      "application/vnd.jupyter.widget-view+json": {
       "model_id": "",
       "version_major": 2,
       "version_minor": 0
      },
      "text/plain": [
       "FloatProgress(value=0.0, bar_style='info', description='Progress:', layout=Layout(height='25px', width='50%'),…"
      ]
     },
     "metadata": {},
     "output_type": "display_data"
    }
   ],
   "source": [
    "def extract_ne(text, max_sentences=50, max_sentence_length=50):\n",
    "    text = text.replace(\"\\r\", \" \").replace(\"\\n\", \" \")\n",
    "    sentences = [Sentence(sent, use_tokenizer=True) for sent in split_single(text)]\n",
    "    sentences = list(islice([sent for sent in sentences if len(sent) < max_sentence_length], max_sentences))\n",
    "    ner_tagger.predict(sentences)\n",
    "    \n",
    "    tags = {}\n",
    "    for sentence in sentences:\n",
    "        text = sentence.to_plain_string()\n",
    "        for entity in sentence.to_dict(\"ner\")[\"entities\"]:\n",
    "            start_pos = entity[\"start_pos\"]\n",
    "            end_pos = entity[\"end_pos\"]\n",
    "            tag_type = entity['type'].lower()\n",
    "            if tag_type not in tags:\n",
    "                tags[tag_type] = []\n",
    "\n",
    "            tags[tag_type].append(text[start_pos:end_pos])\n",
    "    \n",
    "    return tags\n",
    "\n",
    "extract_ne_udf = F.udf(extract_ne, T.MapType(T.StringType(), T.ArrayType(T.StringType())))"
   ]
  },
  {
   "cell_type": "code",
   "execution_count": 6,
   "metadata": {},
   "outputs": [
    {
     "data": {
      "application/vnd.jupyter.widget-view+json": {
       "model_id": "",
       "version_major": 2,
       "version_minor": 0
      },
      "text/plain": [
       "FloatProgress(value=0.0, bar_style='info', description='Progress:', layout=Layout(height='25px', width='50%'),…"
      ]
     },
     "metadata": {},
     "output_type": "display_data"
    }
   ],
   "source": [
    "def is_english(text):\n",
    "    try:\n",
    "        lang = detect(text)\n",
    "    except:\n",
    "        return False\n",
    "    return lang == 'en'\n",
    "is_english_udf = F.udf(is_english, T.BooleanType())"
   ]
  },
  {
   "cell_type": "code",
   "execution_count": 7,
   "metadata": {},
   "outputs": [
    {
     "data": {
      "application/vnd.jupyter.widget-view+json": {
       "model_id": "",
       "version_major": 2,
       "version_minor": 0
      },
      "text/plain": [
       "FloatProgress(value=0.0, bar_style='info', description='Progress:', layout=Layout(height='25px', width='50%'),…"
      ]
     },
     "metadata": {},
     "output_type": "display_data"
    }
   ],
   "source": [
    "sentence1 = '''\n",
    "This company was started by Leeroy Jenkins in 2007 and uses nlp and expert knowledge to rush in without a plan.\n",
    "\n",
    "Leeroy Jenkins founded Moar Dots Inc in 2007.\n",
    "\n",
    "Its mission is to help raiders kill welps.\n",
    "\n",
    "* * *  \n",
    "  \n",
    " | WP/ | 2015-06-24 21:29 |  \\- |  \n",
    " | beta/ | 2019-02-25 01:32 |  \\- |  \n",
    " | v2/ | 2019-02-25 01:32 |  \\- |  \n",
    " | v3/ | 2019-02-25 01:32 |  \\- |  \n",
    "  \n",
    "* * *\n",
    "\n",
    "'''\n",
    "\n",
    "sentence2 = '''\n",
    "This company was started by Leeroy Jenkins in 2007 and uses nlp and expert knowledge to rush in without a plan.\n",
    "\n",
    "Leeroy Jenkins founded Flaming Whelps Inc in 2007.\n",
    "\n",
    "Its mission is to help raiders kill whelps.\n",
    "\n",
    "* * *  \n",
    "  \n",
    " | WP/ | 2015-06-24 21:29 |  \\- |  \n",
    " | beta/ | 2019-02-25 01:32 |  \\- |  \n",
    " | v2/ | 2019-02-25 01:32 |  \\- |  \n",
    " | v3/ | 2019-02-25 01:32 |  \\- |  \n",
    "  \n",
    "* * *\n",
    "\n",
    "'''\n",
    "\n",
    "sentence3 = '''\n",
    "This company was started by Leeroy Jenkins in 2007 and uses nlp and expert knowledge to rush in without a plan.\n",
    "\n",
    "Leeroy Jenkins founded Onyxia Wipe Animation Inc in 2007.\n",
    "\n",
    "Its mission is to help raiders kill welps.\n",
    "\n",
    "* * *  \n",
    "  \n",
    " | WP/ | 2015-06-24 21:29 |  \\- |  \n",
    " | beta/ | 2019-02-25 01:32 |  \\- |  \n",
    " | v2/ | 2019-02-25 01:32 |  \\- |  \n",
    " | v3/ | 2019-02-25 01:32 |  \\- |  \n",
    "  \n",
    "* * *\n",
    "\n",
    "'''"
   ]
  },
  {
   "cell_type": "code",
   "execution_count": 8,
   "metadata": {},
   "outputs": [
    {
     "data": {
      "application/vnd.jupyter.widget-view+json": {
       "model_id": "",
       "version_major": 2,
       "version_minor": 0
      },
      "text/plain": [
       "FloatProgress(value=0.0, bar_style='info', description='Progress:', layout=Layout(height='25px', width='50%'),…"
      ]
     },
     "metadata": {},
     "output_type": "display_data"
    },
    {
     "name": "stdout",
     "output_type": "stream",
     "text": [
      "{'person': ['Leeroy Jenkins', 'Leeroy Jenkins'], 'date': ['2007', '2007'], 'org': ['Moar Dots Inc']}"
     ]
    }
   ],
   "source": [
    "extract_ne(sentence1)"
   ]
  },
  {
   "cell_type": "code",
   "execution_count": 21,
   "metadata": {},
   "outputs": [
    {
     "data": {
      "application/vnd.jupyter.widget-view+json": {
       "model_id": "",
       "version_major": 2,
       "version_minor": 0
      },
      "text/plain": [
       "FloatProgress(value=0.0, bar_style='info', description='Progress:', layout=Layout(height='25px', width='50%'),…"
      ]
     },
     "metadata": {},
     "output_type": "display_data"
    }
   ],
   "source": [
    "english_companies = (spark.read.load(\"s3://ai-data-lake-dev-eu-west-1/staging/crawler/capiq/keywords\")\n",
    "       .filter((F.length(\"long_description\") > 0) |\n",
    "               (F.length(\"description\") > 0)\n",
    "              )\n",
    "      )"
   ]
  },
  {
   "cell_type": "code",
   "execution_count": 22,
   "metadata": {},
   "outputs": [
    {
     "data": {
      "application/vnd.jupyter.widget-view+json": {
       "model_id": "",
       "version_major": 2,
       "version_minor": 0
      },
      "text/plain": [
       "FloatProgress(value=0.0, bar_style='info', description='Progress:', layout=Layout(height='25px', width='50%'),…"
      ]
     },
     "metadata": {},
     "output_type": "display_data"
    },
    {
     "name": "stdout",
     "output_type": "stream",
     "text": [
      "root\n",
      " |-- company_id: string (nullable = true)\n",
      " |-- website: string (nullable = true)\n",
      " |-- company_name: string (nullable = true)\n",
      " |-- country: string (nullable = true)\n",
      " |-- description: string (nullable = true)\n",
      " |-- long_description: string (nullable = true)\n",
      " |-- keywords: array (nullable = true)\n",
      " |    |-- element: string (containsNull = true)"
     ]
    }
   ],
   "source": [
    "english_companies.printSchema()"
   ]
  },
  {
   "cell_type": "code",
   "execution_count": 14,
   "metadata": {},
   "outputs": [
    {
     "data": {
      "application/vnd.jupyter.widget-view+json": {
       "model_id": "",
       "version_major": 2,
       "version_minor": 0
      },
      "text/plain": [
       "FloatProgress(value=0.0, bar_style='info', description='Progress:', layout=Layout(height='25px', width='50%'),…"
      ]
     },
     "metadata": {},
     "output_type": "display_data"
    },
    {
     "name": "stdout",
     "output_type": "stream",
     "text": [
      "132580"
     ]
    }
   ],
   "source": [
    "english_companies.count()"
   ]
  },
  {
   "cell_type": "code",
   "execution_count": 23,
   "metadata": {},
   "outputs": [
    {
     "data": {
      "application/vnd.jupyter.widget-view+json": {
       "model_id": "",
       "version_major": 2,
       "version_minor": 0
      },
      "text/plain": [
       "FloatProgress(value=0.0, bar_style='info', description='Progress:', layout=Layout(height='25px', width='50%'),…"
      ]
     },
     "metadata": {},
     "output_type": "display_data"
    }
   ],
   "source": [
    "english_companies.write.parquet(\"s3://onai-ml-dev-eu-west-1/web_crawler/data/english_urls_and_content\", \n",
    "                                mode=\"overwrite\"\n",
    "                               )"
   ]
  },
  {
   "cell_type": "code",
   "execution_count": 24,
   "metadata": {},
   "outputs": [
    {
     "data": {
      "application/vnd.jupyter.widget-view+json": {
       "model_id": "",
       "version_major": 2,
       "version_minor": 0
      },
      "text/plain": [
       "FloatProgress(value=0.0, bar_style='info', description='Progress:', layout=Layout(height='25px', width='50%'),…"
      ]
     },
     "metadata": {},
     "output_type": "display_data"
    }
   ],
   "source": [
    "english_companies = spark.read.load(\"s3://onai-ml-dev-eu-west-1/web_crawler/data/english_urls_and_content\")"
   ]
  },
  {
   "cell_type": "code",
   "execution_count": 25,
   "metadata": {},
   "outputs": [
    {
     "data": {
      "application/vnd.jupyter.widget-view+json": {
       "model_id": "",
       "version_major": 2,
       "version_minor": 0
      },
      "text/plain": [
       "FloatProgress(value=0.0, bar_style='info', description='Progress:', layout=Layout(height='25px', width='50%'),…"
      ]
     },
     "metadata": {},
     "output_type": "display_data"
    },
    {
     "name": "stdout",
     "output_type": "stream",
     "text": [
      "root\n",
      " |-- company_id: string (nullable = true)\n",
      " |-- website: string (nullable = true)\n",
      " |-- company_name: string (nullable = true)\n",
      " |-- country: string (nullable = true)\n",
      " |-- description: string (nullable = true)\n",
      " |-- long_description: string (nullable = true)\n",
      " |-- keywords: array (nullable = true)\n",
      " |    |-- element: string (containsNull = true)"
     ]
    }
   ],
   "source": [
    "english_companies.printSchema()"
   ]
  },
  {
   "cell_type": "code",
   "execution_count": 26,
   "metadata": {},
   "outputs": [
    {
     "data": {
      "application/vnd.jupyter.widget-view+json": {
       "model_id": "",
       "version_major": 2,
       "version_minor": 0
      },
      "text/plain": [
       "FloatProgress(value=0.0, bar_style='info', description='Progress:', layout=Layout(height='25px', width='50%'),…"
      ]
     },
     "metadata": {},
     "output_type": "display_data"
    }
   ],
   "source": [
    "def merge_maps(long_ners, ners):\n",
    "    ret = {}\n",
    "    for k,v in long_ners.items():\n",
    "        if k not in ret:\n",
    "            ret[k] = set()\n",
    "        ret[k].update(v)\n",
    "    for k,v in ners.items():\n",
    "        if k not in ret:\n",
    "            ret[k] = set()\n",
    "        ret[k].update(v)\n",
    "    return {k:list(v) for k,v in ret.items()}\n",
    "\n",
    "merge_maps_udf = F.udf(merge_maps, T.MapType(T.StringType(), T.ArrayType(T.StringType())))"
   ]
  },
  {
   "cell_type": "code",
   "execution_count": 27,
   "metadata": {},
   "outputs": [
    {
     "data": {
      "application/vnd.jupyter.widget-view+json": {
       "model_id": "",
       "version_major": 2,
       "version_minor": 0
      },
      "text/plain": [
       "FloatProgress(value=0.0, bar_style='info', description='Progress:', layout=Layout(height='25px', width='50%'),…"
      ]
     },
     "metadata": {},
     "output_type": "display_data"
    }
   ],
   "source": [
    "english_ner = (english_companies\n",
    "               .repartition(1000)\n",
    "               .select(\"company_id\",\n",
    "                       \"company_name\", \n",
    "                       \"website\", \n",
    "                       \"description\", \n",
    "                       \"long_description\", \n",
    "                       extract_ne_udf(\"long_description\").alias(\"long_description_ners\"),\n",
    "                       extract_ne_udf(\"description\").alias(\"description_ners\")\n",
    "                      )\n",
    "               .select(\"company_id\",\n",
    "                       \"company_name\", \n",
    "                       \"website\", \n",
    "                       \"description\", \n",
    "                       \"long_description\",\n",
    "                       merge_maps_udf(\"long_description_ners\", \"description_ners\").alias(\"ners\")\n",
    "                      )\n",
    "              )"
   ]
  },
  {
   "cell_type": "code",
   "execution_count": 29,
   "metadata": {},
   "outputs": [
    {
     "data": {
      "application/vnd.jupyter.widget-view+json": {
       "model_id": "",
       "version_major": 2,
       "version_minor": 0
      },
      "text/plain": [
       "FloatProgress(value=0.0, bar_style='info', description='Progress:', layout=Layout(height='25px', width='50%'),…"
      ]
     },
     "metadata": {},
     "output_type": "display_data"
    },
    {
     "name": "stdout",
     "output_type": "stream",
     "text": [
      "+----------+------------------------------------+---------------------------------------+--------------------------------------------------------------------------------------------------------------------------------------------------------------------------------------------------------------------------------------------------------------------------------------------------------------------------------------------------------------------------------------------------------------------------------------------------------------------------------------------------------------------------------------------------------------------------------------------------------------------------------------------------------------------------------------------------------------+---------------------------------------------------------------------------------------------------------------------------------------------------------------------------------------------------------------------------------------------------------------------------------------------------------------------------------------------------------------------------------------------------------------------------------------------------------------------------------------------------------+-------------------------------------------------------------------------------------------------------------------+\n",
      "|company_id|company_name                        |website                                |description                                                                                                                                                                                                                                                                                                                                                                                                                                                                                                                                                                                                                                                                                                   |long_description                                                                                                                                                                                                                                                                                                                                                                                                                                                                                         |ners                                                                                                               |\n",
      "+----------+------------------------------------+---------------------------------------+--------------------------------------------------------------------------------------------------------------------------------------------------------------------------------------------------------------------------------------------------------------------------------------------------------------------------------------------------------------------------------------------------------------------------------------------------------------------------------------------------------------------------------------------------------------------------------------------------------------------------------------------------------------------------------------------------------------+---------------------------------------------------------------------------------------------------------------------------------------------------------------------------------------------------------------------------------------------------------------------------------------------------------------------------------------------------------------------------------------------------------------------------------------------------------------------------------------------------------+-------------------------------------------------------------------------------------------------------------------+\n",
      "|533588464 |Todd Elder & Company                |http://www.t-elder.com                 |Kansas City based executive search firm that represents companies in finding management & senior-level talent.  801 West 47th Street, Suite 201, Kansas City, MO. 64112 t: 816-931-3302 f: 816-531-7095                                                                                                                                                                                                                                                                                                                                                                                                                                                                                                       |                                                                                                                                                                                                                                                                                                                                                                                                                                                                                                         |[fac -> [801 West 47th Street], cardinal -> [201], gpe -> [MO, Suite, Kansas City]]                                |\n",
      "|368290346 |Nocturne Capital                    |http://www.nocturnecapital.com         |Investment management rooted in the science of behavioral finance.                                                                                                                                                                                                                                                                                                                                                                                                                                                                                                                                                                                                                                            |                                                                                                                                                                                                                                                                                                                                                                                                                                                                                                         |[]                                                                                                                 |\n",
      "|242063081 |Benson, Blevins & Associates Pllc   |http://www.bensonblevins.com           |Our mission is to help clients maintain financial viability in the present, while taking a proactive approach to achieve future goals. This requires open communication to reach an understanding of our clients' needs through research and sound analysis. Benson, Blevins & Associates, P.L.L.C.                                                                                                                                                                                                                                                                                                                                                                                                           |                                                                                                                                                                                                                                                                                                                                                                                                                                                                                                         |[org -> [P.L.L.C, Benson, Blevins & Associates]]                                                                   |\n",
      "|238790379 |iTrans Technologies(India) Pvt. Ltd.|http://www.itransglobal.com            |Usage Based Insurance reduce the policy premium and reduce claims cost to insurance companies,studies the driving pattern behaviour of the driver creating a digital signature This information will prove useful to insurance companies who can then customize insurance policies based on the driving pattern of drivers. Insurance companies attempt to differentiate and reward safe drivers, giving them lower premiums. Our solution will also provide savings tips based on the driving behaviours and use this information to rank drivers of fleet operators based on capability helping reduce accident rates. Even the resale value of a vehicle can be determined with insights from this solution|One thing is common around the world today uncertainty of sorts. With the advent of Telematics, and solutions that have come off Automotive Telematics in particular,one can hope to plug a significant amount of uncertainty. Using a telematics system,one can integrate an automobiles GPS navigation system with wireless telecommunications and computing systems to track vehicles, and derive benefits that spawn from it.iTrans Global Technologies Private Limited in insurance analytics space.|[org -> [Automotive Telematics, Global Technologies Private Limited], cardinal -> [One]]                           |\n",
      "|272949935 |Bright Solar Limited                |http://www.brightsolar.in              |Since 2010, Bright Solar has been producing solar pumps with cutting edge technology, while also providing a host of consulting services in the field of solar energy.                                                                                                                                                                                                                                                                                                                                                                                                                                                                                                                                        |                                                                                                                                                                                                                                                                                                                                                                                                                                                                                                         |[date -> [2010], org -> [Bright Solar]]                                                                            |\n",
      "|309157901 |Steri-Plas Pty Ltd                  |http://www.steri-plas.com.au           |Manufacturer of plastic bottles, pharmaceutical bottles, personal care bottles, jars, injection blow moulding, tamper evident bottles and more.                                                                                                                                                                                                                                                                                                                                                                                                                                                                                                                                                               |Steri-Plas' commercial and manufacturing operations are located in Moorebank, NSW. Our site operates 24 hours per day 5 days per week.                                                                                                                                                                                                                                                                                                                                                                   |[date -> [5 days], time -> [24 hours], org -> [Steri-Plas'], gpe -> [Moorebank, NSW]]                              |\n",
      "|321954792 |Steadfast Financial Consulting Ltd. |http://www.steadfastfinancial.ie       |Client Centre What our clients say about us. Technical Info Code of Ethics Service Issues                                                                                                                                                                                                                                                                                                                                                                                                                                                                                                                                                                                                                     |                                                                                                                                                                                                                                                                                                                                                                                                                                                                                                         |[]                                                                                                                 |\n",
      "|113390188 |International Container Co LLC      |http://www.internationalcontainerco.com|We manufacture all types of containers for the solid waste industry including Front and Rear Load Container, Roll-Off and Hook-Lift Containers, Self-Contained and Stationary Compoctors, Breakaway Boxes, as well as all types of special application containers including Recycling Containers, Rolling Roofs, Gravel Bodies, Flat Beds, Chip/Leaf Boxes, and all types of custom bodies to suit all applications. We also distribute IPL-Plastics Curbside Carts.                                                                                                                                                                                                                                          |                                                                                                                                                                                                                                                                                                                                                                                                                                                                                                         |[org -> [IPL-Plastics Curbside Carts]]                                                                             |\n",
      "|554355636 |Konsultbyran Fredag AB              |http://www.kbfredag.se                 |We are true IT professionals, that means business. We deliver results that you and your boss will approve. We rather don't talk bits and bytes and we don't see IT as a religion and paint ourself in a corner.                                                                                                                                                                                                                                                                                                                                                                                                                                                                                               |                                                                                                                                                                                                                                                                                                                                                                                                                                                                                                         |[]                                                                                                                 |\n",
      "|107485689 |Export International Inc.           |http://www.producegiant.com            |Export International exports and imports produce from around the world, including onions, potatoes, beans, avocados and Hawaiian tropicals.                                                                                                                                                                                                                                                                                                                                                                                                                                                                                                                                                                   |We are a broker/shipper based in Gresham, Oregon. Our company is owned and operated by 4th and 5th generation Oregonians. But for us, the trail never stopped in Oregon.                                                                                                                                                                                                                                                                                                                                 |[norp -> [Hawaiian, Oregonians], gpe -> [Oregon, Gresham], ordinal -> [4th, 5th]]                                  |\n",
      "|46479673  |Archer Mechanical, Inc.             |http://www.archermech.com              |Utah Mechanical Contractors and Plumbing Contractors - Archer Mechanical Inc, provides cost effective commercial mechanical and plumbing services in Salt lake City, Utah.                                                                                                                                                                                                                                                                                                                                                                                                                                                                                                                                    |                                                                                                                                                                                                                                                                                                                                                                                                                                                                                                         |[org -> [Utah Mechanical Contractors, Plumbing Contractors - Archer Mechanical Inc], gpe -> [Salt lake City, Utah]]|\n",
      "|145359942 |The Mcclure Corporation             |http://www.mcclureeng.com              |McClure Engineering provides innovative solutions in building and campus systems, data management, acoustic and lighting design, and energy challenges.                                                                                                                                                                                                                                                                                                                                                                                                                                                                                                                                                       |Every client and each project at McClure Engineering deserves a tailored design that is effective, efficient and easy to operate and maintain. As stewards of the built and natural environment, we are committed to turning complex engineering problems into simple solutions.                                                                                                                                                                                                                         |[org -> [McClure Engineering]]                                                                                     |\n",
      "|41355419  |WFS Services, Inc.                  |http://www.wfsservicesinc.com          |We are serving through our partnership with MTBC and offering our customers end-to-end medical billing, practice management and EHR solutions                                                                                                                                                                                                                                                                                                                                                                                                                                                                                                                                                                 |                                                                                                                                                                                                                                                                                                                                                                                                                                                                                                         |[org -> [MTBC]]                                                                                                    |\n",
      "|139365299 |Fore Golf Partners, LLC             |http://www.foregolfpartners.com        |Fore Golf Partners was formed for the purpose of acquiring or leasing private clubs and daily fee golf courses located throughout the United States.                                                                                                                                                                                                                                                                                                                                                                                                                                                                                                                                                          |                                                                                                                                                                                                                                                                                                                                                                                                                                                                                                         |[date -> [daily], org -> [Fore Golf Partners], gpe -> [the United States]]                                         |\n",
      "|118317867 |Bayside Insulation, Inc.            |http://www.baysideinsulation.com       |Bayside Insulation, Inc. is an experienced mechanical insulation contractor serving the Bay Area and greater northern California.                                                                                                                                                                                                                                                                                                                                                                                                                                                                                                                                                                             |                                                                                                                                                                                                                                                                                                                                                                                                                                                                                                         |[loc -> [the Bay Area], org -> [Bayside Insulation, Inc.], gpe -> [California]]                                    |\n",
      "|54686489  |Bengalla Mining Company Pty Limited |http://www.bengalla.com.au             |Bengalla Mining Company, located four kilometres south west of …                                                                                                                                                                                                                                                                                                                                                                                                                                                                                                                                                                                                                                              |                                                                                                                                                                                                                                                                                                                                                                                                                                                                                                         |[org -> [Bengalla Mining Company], quantity -> [four kilometres]]                                                  |\n",
      "|116118080 |Pacific Oil Products, Inc.          |http://www.pacificoilproducts.com      |Our core business began selling oil presses. We have sold presses to the leading algae and jatropha producers in the world. Extracting oil from feedstock requires experience and practice.                                                                                                                                                                                                                                                                                                                                                                                                                                                                                                                   |                                                                                                                                                                                                                                                                                                                                                                                                                                                                                                         |[]                                                                                                                 |\n",
      "|39389172  |Ettore Zanon S.p.A.                 |http://www.zanon.com                   |Convention and Nuclear Energy, Research Istitute, Vacuum and Ultra High Vacuum Industry                                                                                                                                                                                                                                                                                                                                                                                                                                                                                                                                                                                                                       |                                                                                                                                                                                                                                                                                                                                                                                                                                                                                                         |[org -> [Research Istitute, Nuclear Energy]]                                                                       |\n",
      "|51871103  |Beltram South, Inc.                 |http://www.beltram.com                 |Beltram South, Inc. This facility is strategically located in Ft.                                                                                                                                                                                                                                                                                                                                                                                                                                                                                                                                                                                                                                             |                                                                                                                                                                                                                                                                                                                                                                                                                                                                                                         |[org -> [Beltram South, Inc], gpe -> [Ft]]                                                                         |\n",
      "|144820187 |Vearsa Limited                      |http://www.vearsa.com                  |Vearsa excels in publishing technologies and provides the best ebook platform to its clients. It extends its support to them as ebook distributor and takes other roles as well.                                                                                                                                                                                                                                                                                                                                                                                                                                                                                                                              |                                                                                                                                                                                                                                                                                                                                                                                                                                                                                                         |[org -> [Vearsa]]                                                                                                  |\n",
      "+----------+------------------------------------+---------------------------------------+--------------------------------------------------------------------------------------------------------------------------------------------------------------------------------------------------------------------------------------------------------------------------------------------------------------------------------------------------------------------------------------------------------------------------------------------------------------------------------------------------------------------------------------------------------------------------------------------------------------------------------------------------------------------------------------------------------------+---------------------------------------------------------------------------------------------------------------------------------------------------------------------------------------------------------------------------------------------------------------------------------------------------------------------------------------------------------------------------------------------------------------------------------------------------------------------------------------------------------+-------------------------------------------------------------------------------------------------------------------+\n",
      "only showing top 20 rows"
     ]
    }
   ],
   "source": [
    "english_ner.show(20, False)"
   ]
  },
  {
   "cell_type": "code",
   "execution_count": 30,
   "metadata": {},
   "outputs": [
    {
     "data": {
      "application/vnd.jupyter.widget-view+json": {
       "model_id": "",
       "version_major": 2,
       "version_minor": 0
      },
      "text/plain": [
       "FloatProgress(value=0.0, bar_style='info', description='Progress:', layout=Layout(height='25px', width='50%'),…"
      ]
     },
     "metadata": {},
     "output_type": "display_data"
    }
   ],
   "source": [
    "english_ner.write.parquet(\"s3://onai-ml-dev-eu-west-1/web_crawler/data/english_ner\", mode=\"overwrite\")"
   ]
  },
  {
   "cell_type": "code",
   "execution_count": null,
   "metadata": {},
   "outputs": [
    {
     "name": "stdout",
     "output_type": "stream",
     "text": [
      "Starting Spark application\n"
     ]
    }
   ],
   "source": [
    "tst = spark.read.load(\"s3://onai-ml-dev-eu-west-1/web_crawler/data/english_ner\")"
   ]
  },
  {
   "cell_type": "code",
   "execution_count": null,
   "metadata": {},
   "outputs": [],
   "source": [
    "tst.printSchema()"
   ]
  },
  {
   "cell_type": "code",
   "execution_count": null,
   "metadata": {},
   "outputs": [],
   "source": [
    "tst.filter(F.size(\"ners\") > 0).select(\"company_name\", \"ners\").show(20, False)"
   ]
  },
  {
   "cell_type": "code",
   "execution_count": null,
   "metadata": {},
   "outputs": [],
   "source": []
  }
 ],
 "metadata": {
  "kernelspec": {
   "display_name": "PySpark",
   "language": "",
   "name": "pysparkkernel"
  },
  "language_info": {
   "codemirror_mode": {
    "name": "python",
    "version": 2
   },
   "mimetype": "text/x-python",
   "name": "pyspark",
   "pygments_lexer": "python2"
  }
 },
 "nbformat": 4,
 "nbformat_minor": 2
}
